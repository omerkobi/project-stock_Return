{
 "cells": [
  {
   "cell_type": "code",
   "execution_count": 16,
   "id": "f3558dcc",
   "metadata": {},
   "outputs": [],
   "source": [
    "import yfinance as yf\n",
    "import numpy as np\n",
    "import pandas as pd\n",
    "import matplotlib.pyplot as plt\n",
    "from sklearn.preprocessing import MinMaxScaler\n",
    "from tensorflow.keras.models import Sequential\n",
    "from tensorflow.keras.layers import Dense, LSTM, GRU\n",
    "from sklearn.metrics import mean_squared_error,r2_score"
   ]
  },
  {
   "cell_type": "code",
   "execution_count": 152,
   "id": "26271d6e",
   "metadata": {},
   "outputs": [
    {
     "name": "stderr",
     "output_type": "stream",
     "text": [
      "[*********************100%***********************]  1 of 1 completed\n",
      "\n",
      "1 Failed download:\n",
      "['SPY']: YFRateLimitError('Too Many Requests. Rate limited. Try after a while.')\n"
     ]
    }
   ],
   "source": [
    "ticker = 'SPY'\n",
    "df = yf.download(ticker, start='2010-01-01', end='2025-05-10')\n",
    "df = df[['Close']].dropna()              # נשמור רק את עמודת הסגירה\n",
    "df.rename(columns={'Close': 'Price'}, inplace=True)"
   ]
  },
  {
   "cell_type": "code",
   "execution_count": null,
   "id": "520d1839",
   "metadata": {},
   "outputs": [],
   "source": []
  },
  {
   "cell_type": "code",
   "execution_count": 176,
   "id": "050a97be",
   "metadata": {},
   "outputs": [
    {
     "name": "stdout",
     "output_type": "stream",
     "text": [
      "<class 'pandas.core.frame.DataFrame'>\n",
      "RangeIndex: 2071 entries, 0 to 2070\n",
      "Data columns (total 47 columns):\n",
      " #   Column           Non-Null Count  Dtype         \n",
      "---  ------           --------------  -----         \n",
      " 0   QQQ_Close        2071 non-null   float64       \n",
      " 1   ^RUT             2071 non-null   float64       \n",
      " 2   ^VIX             2071 non-null   float64       \n",
      " 3   EMA_20           2071 non-null   float64       \n",
      " 4   ^GDAXI           2071 non-null   float64       \n",
      " 5   MSFT             2071 non-null   float64       \n",
      " 6   stdev_5          2071 non-null   float64       \n",
      " 7   ^FTSE            2071 non-null   float64       \n",
      " 8   GOOG             2071 non-null   float64       \n",
      " 9   AAPL             2071 non-null   float64       \n",
      " 10  high-low         2071 non-null   float64       \n",
      " 11  avgreturn5d      2071 non-null   float64       \n",
      " 12  abs_yield_curve  2071 non-null   float64       \n",
      " 13  std_price        2071 non-null   float64       \n",
      " 14  UNG              2071 non-null   float64       \n",
      " 15  abs_vix          2071 non-null   float64       \n",
      " 16  SLV              2071 non-null   float64       \n",
      " 17  stdev            2071 non-null   float64       \n",
      " 18  BTC-USD          2071 non-null   float64       \n",
      " 19  EMA_50           2071 non-null   float64       \n",
      " 20  EMA_200          2071 non-null   float64       \n",
      " 21  ^TNX             2071 non-null   float64       \n",
      " 22  USO              2071 non-null   float64       \n",
      " 23  IWM_avg5d        2071 non-null   float64       \n",
      " 24  shiler pe        2071 non-null   float64       \n",
      " 25  JPY=X            2071 non-null   float64       \n",
      " 26  GLD              2071 non-null   float64       \n",
      " 27  SPY_AbsChange    2071 non-null   float64       \n",
      " 28  SPY_Volume       2071 non-null   float64       \n",
      " 29  ^N225            2071 non-null   float64       \n",
      " 30  CPER             2071 non-null   float64       \n",
      " 31  CNYUSD=X         2071 non-null   float64       \n",
      " 32  before_high-low  2071 non-null   float64       \n",
      " 33  abs_vol          2071 non-null   int64         \n",
      " 34  IWM_std_5d       2071 non-null   float64       \n",
      " 35  yield_curve      2071 non-null   float64       \n",
      " 36  IEI              2071 non-null   float64       \n",
      " 37  DX-Y.NYB         2071 non-null   float64       \n",
      " 38  EUR=X            2071 non-null   float64       \n",
      " 39  avgreturn10d     2071 non-null   float64       \n",
      " 40  2Y_Yield         2071 non-null   float64       \n",
      " 41  EUR              2071 non-null   float64       \n",
      " 42  SPY_RSI          2071 non-null   float64       \n",
      " 43  DXY              2071 non-null   float64       \n",
      " 44  JPY              2071 non-null   float64       \n",
      " 45  ds               2071 non-null   datetime64[ns]\n",
      " 46  SPY_return       2071 non-null   float64       \n",
      "dtypes: datetime64[ns](1), float64(45), int64(1)\n",
      "memory usage: 760.6 KB\n"
     ]
    }
   ],
   "source": [
    "return_data = pd.read_pickle('df_with_QQQ.pkl')\n",
    "return_data.info()"
   ]
  },
  {
   "cell_type": "code",
   "execution_count": 167,
   "id": "122baa38",
   "metadata": {},
   "outputs": [
    {
     "name": "stdout",
     "output_type": "stream",
     "text": [
      "<class 'pandas.core.frame.DataFrame'>\n",
      "DatetimeIndex: 2084 entries, 2017-01-03 to 2025-04-16\n",
      "Data columns (total 38 columns):\n",
      " #   Column               Non-Null Count  Dtype  \n",
      "---  ------               --------------  -----  \n",
      " 0   SPY_Close            2084 non-null   float64\n",
      " 1   SPY_Volume           2084 non-null   int64  \n",
      " 2   AAPL                 2084 non-null   float64\n",
      " 3   MSFT                 2084 non-null   float64\n",
      " 4   GOOG                 2084 non-null   float64\n",
      " 5   GLD                  2084 non-null   float64\n",
      " 6   SLV                  2084 non-null   float64\n",
      " 7   ^TNX                 2084 non-null   float64\n",
      " 8   DX-Y.NYB             2084 non-null   float64\n",
      " 9   JPY=X                2084 non-null   float64\n",
      " 10  EUR=X                2084 non-null   float64\n",
      " 11  USO                  2084 non-null   float64\n",
      " 12  UNG                  2084 non-null   float64\n",
      " 13  BTC-USD              2084 non-null   float64\n",
      " 14  CPER                 2084 non-null   float64\n",
      " 15  ^VIX                 2084 non-null   float64\n",
      " 16  ^GDAXI               2084 non-null   float64\n",
      " 17  ^FTSE                2084 non-null   float64\n",
      " 18  ^RUT                 2084 non-null   float64\n",
      " 19  ^N225                2083 non-null   float64\n",
      " 20  IEI                  2084 non-null   float64\n",
      " 21  CNYUSD=X             2084 non-null   float64\n",
      " 22  2Y_Yield             2084 non-null   float64\n",
      " 23  yield_curve          2084 non-null   float64\n",
      " 24  market_closed_count  2084 non-null   int64  \n",
      " 25  yield_curve_term     2084 non-null   float64\n",
      " 26  high-low             2084 non-null   float64\n",
      " 27  before_high-low      2083 non-null   float64\n",
      " 28  SPY_RSI              2071 non-null   float64\n",
      " 29  RSI_rank             2071 non-null   float64\n",
      " 30  RSI_rank_2           2084 non-null   int64  \n",
      " 31  EMA_20               2084 non-null   float64\n",
      " 32  EMA_50               2084 non-null   float64\n",
      " 33  EMA_200              2084 non-null   float64\n",
      " 34  EMA_20_50            2084 non-null   int64  \n",
      " 35  EMA_50_200           2084 non-null   int64  \n",
      " 36  EMA_50_diff          2084 non-null   float64\n",
      " 37  EMA_200_diff         2084 non-null   float64\n",
      "dtypes: float64(33), int64(5)\n",
      "memory usage: 635.0 KB\n"
     ]
    }
   ],
   "source": [
    "spy_only = pd.read_pickle('combined_cleaned_add.pkl')\n",
    "spy_only.info()\n",
    "#spy_only = spy_only[ 'SPY_Close']"
   ]
  },
  {
   "cell_type": "code",
   "execution_count": 25,
   "id": "6b134483",
   "metadata": {},
   "outputs": [
    {
     "name": "stdout",
     "output_type": "stream",
     "text": [
      "<class 'pandas.core.frame.DataFrame'>\n",
      "DatetimeIndex: 2084 entries, 2017-01-03 to 2025-04-16\n",
      "Data columns (total 1 columns):\n",
      " #   Column     Non-Null Count  Dtype  \n",
      "---  ------     --------------  -----  \n",
      " 0   SPY_Close  2084 non-null   float64\n",
      "dtypes: float64(1)\n",
      "memory usage: 97.1 KB\n"
     ]
    }
   ],
   "source": [
    "spy_only = spy_only.to_frame()\n",
    "spy_only.info()"
   ]
  },
  {
   "cell_type": "markdown",
   "id": "e76d6c65",
   "metadata": {},
   "source": [
    "# Return data:\n"
   ]
  },
  {
   "cell_type": "code",
   "execution_count": null,
   "id": "8fc6e6c7",
   "metadata": {},
   "outputs": [],
   "source": []
  },
  {
   "cell_type": "code",
   "execution_count": 140,
   "id": "a3954f16",
   "metadata": {},
   "outputs": [],
   "source": [
    "spy_only = spy_only.iloc[:,:2]"
   ]
  },
  {
   "cell_type": "code",
   "execution_count": 168,
   "id": "be254532",
   "metadata": {},
   "outputs": [],
   "source": [
    "X = spy_only.drop(columns=['SPY_Close'])\n",
    "y = spy_only['SPY_Close']"
   ]
  },
  {
   "cell_type": "code",
   "execution_count": 156,
   "id": "dd8f2fc5",
   "metadata": {},
   "outputs": [],
   "source": [
    "x1 = return_data.drop(columns=['SPY_return','ds'])\n",
    "y1 = return_data['SPY_return']\n",
    "scale1 = MinMaxScaler()\n",
    "X_scaled1 = scale1.fit_transform(x1)\n",
    "y_scaled1 = scale1.fit_transform(y1.values.reshape(-1, 1))"
   ]
  },
  {
   "cell_type": "code",
   "execution_count": 169,
   "id": "a1ce23f1",
   "metadata": {},
   "outputs": [],
   "source": [
    "scale = MinMaxScaler()\n",
    "X_scaled = scale.fit_transform(X)\n",
    "y_scaled = scale.fit_transform(y.values.reshape(-1, 1))"
   ]
  },
  {
   "cell_type": "code",
   "execution_count": 158,
   "id": "7d15811e",
   "metadata": {},
   "outputs": [],
   "source": [
    "split = int(0.8 * len(X))\n",
    "X_train, X_test = X_scaled1[:split], X_scaled1[split:]\n",
    "y_train, y_test = y_scaled1[:split], y_scaled1[split:]\n"
   ]
  },
  {
   "cell_type": "markdown",
   "id": "2288a860",
   "metadata": {},
   "source": [
    "# Normilize"
   ]
  },
  {
   "cell_type": "code",
   "execution_count": 163,
   "id": "fe851a75",
   "metadata": {},
   "outputs": [
    {
     "name": "stdout",
     "output_type": "stream",
     "text": [
      "The model will get 2 features for each timestep\n"
     ]
    }
   ],
   "source": [
    "#features = ['Price', 'Rolling Mean 5', 'Rolling Mean 30', 'Rolling Std 5', 'Rolling Std 30']\n",
    "scaler = MinMaxScaler()\n",
    "#arr = spy_only.values.reshape(-1, 1) \n",
    "\n",
    "scaled_data = scaler.fit_transform(spy_only)\n",
    "#scaled_data = scaler.fit_transform(spy_only['SPY_Close'].values.reshape(-1, 1))\n",
    "print(f\"The model will get {scaled_data.shape[1]} features for each timestep\")"
   ]
  },
  {
   "cell_type": "code",
   "execution_count": 142,
   "id": "30211e3c",
   "metadata": {},
   "outputs": [
    {
     "name": "stdout",
     "output_type": "stream",
     "text": [
      "[[0.00522946 0.28530908]\n",
      " [0.00853653 0.28483443]\n",
      " [0.00808859 0.28669964]\n",
      " ...\n",
      " [0.81105019 0.43028967]\n",
      " [0.80865937 0.34799349]\n",
      " [0.77770533 0.3814774 ]]\n"
     ]
    }
   ],
   "source": [
    "print(scaled_data)"
   ]
  },
  {
   "cell_type": "markdown",
   "id": "0a68d443",
   "metadata": {},
   "source": [
    "# Creat sequence"
   ]
  },
  {
   "cell_type": "code",
   "execution_count": 170,
   "id": "ce51d530",
   "metadata": {},
   "outputs": [],
   "source": [
    "def create_sequences_multifeature(data, window_size):\n",
    "    X, y = [], []\n",
    "    for i in range(window_size, len(data)):\n",
    "        X.append(data[i - window_size:i])\n",
    "        y.append(data[i, 0])  # תחזית רק למחיר\n",
    "    return np.array(X), np.array(y)\n",
    "\n",
    "window_size = 1\n",
    "X, y = create_sequences_multifeature(scaled_data, window_size)"
   ]
  },
  {
   "cell_type": "code",
   "execution_count": 89,
   "id": "b723885b",
   "metadata": {},
   "outputs": [
    {
     "name": "stdout",
     "output_type": "stream",
     "text": [
      "[0.00806297 0.00970632 0.00845717 ... 0.81105019 0.80865937 0.77770533]\n"
     ]
    }
   ],
   "source": [
    "print(y)"
   ]
  },
  {
   "cell_type": "code",
   "execution_count": null,
   "id": "71c18633",
   "metadata": {},
   "outputs": [],
   "source": []
  },
  {
   "cell_type": "code",
   "execution_count": 171,
   "id": "f05b8d81",
   "metadata": {},
   "outputs": [
    {
     "name": "stdout",
     "output_type": "stream",
     "text": [
      "2\n"
     ]
    }
   ],
   "source": [
    "split = int(0.8 * len(X))\n",
    "X_train, X_test = X[:split], X[split:]\n",
    "y_train, y_test = y[:split], y[split:]\n",
    "print(X.shape[2])"
   ]
  },
  {
   "cell_type": "code",
   "execution_count": 133,
   "id": "dfc6c040",
   "metadata": {},
   "outputs": [
    {
     "name": "stdout",
     "output_type": "stream",
     "text": [
      "[[[5.22945563e-03 2.85309084e-01 1.29646954e-04 ... 0.00000000e+00\n",
      "   7.78583410e-01 7.22996087e-01]\n",
      "  [8.53653232e-03 2.84834430e-01 0.00000000e+00 ... 1.00000000e+00\n",
      "   7.91861610e-01 7.34661905e-01]\n",
      "  [8.08858966e-03 2.86699639e-01 5.88416060e-04 ... 1.00000000e+00\n",
      "   7.89550820e-01 7.32973385e-01]\n",
      "  [1.01312032e-02 2.35662714e-01 1.88490205e-03 ... 1.00000000e+00\n",
      "   7.97262628e-01 7.40025159e-01]\n",
      "  [8.06296794e-03 2.21567076e-01 2.96195133e-03 ... 1.00000000e+00\n",
      "   7.88283106e-01 7.32614042e-01]]\n",
      "\n",
      " [[8.53653232e-03 2.84834430e-01 0.00000000e+00 ... 1.00000000e+00\n",
      "   7.91861610e-01 7.34661905e-01]\n",
      "  [8.08858966e-03 2.86699639e-01 5.88416060e-04 ... 1.00000000e+00\n",
      "   7.89550820e-01 7.32973385e-01]\n",
      "  [1.01312032e-02 2.35662714e-01 1.88490205e-03 ... 1.00000000e+00\n",
      "   7.97262628e-01 7.40025159e-01]\n",
      "  [8.06296794e-03 2.21567076e-01 2.96195133e-03 ... 1.00000000e+00\n",
      "   7.88283106e-01 7.32614042e-01]\n",
      "  [8.06296794e-03 2.70049850e-01 3.08161342e-03 ... 1.00000000e+00\n",
      "   7.87902726e-01 7.32518341e-01]]\n",
      "\n",
      " [[8.08858966e-03 2.86699639e-01 5.88416060e-04 ... 1.00000000e+00\n",
      "   7.89550820e-01 7.32973385e-01]\n",
      "  [1.01312032e-02 2.35662714e-01 1.88490205e-03 ... 1.00000000e+00\n",
      "   7.97262628e-01 7.40025159e-01]\n",
      "  [8.06296794e-03 2.21567076e-01 2.96195133e-03 ... 1.00000000e+00\n",
      "   7.88283106e-01 7.32614042e-01]\n",
      "  [8.06296794e-03 2.70049850e-01 3.08161342e-03 ... 1.00000000e+00\n",
      "   7.87902726e-01 7.32518341e-01]\n",
      "  [9.70632009e-03 2.68266438e-01 3.71986332e-03 ... 1.00000000e+00\n",
      "   7.94096947e-01 7.38182325e-01]]\n",
      "\n",
      " ...\n",
      "\n",
      " [[5.70886302e-01 2.88775678e-01 6.46056760e-01 ... 1.00000000e+00\n",
      "   8.01530324e-01 8.47320679e-01]\n",
      "  [5.71173015e-01 3.69567246e-01 6.45116242e-01 ... 1.00000000e+00\n",
      "   8.01209868e-01 8.46566684e-01]\n",
      "  [5.69949421e-01 2.83037192e-01 6.45373118e-01 ... 1.00000000e+00\n",
      "   7.97846800e-01 8.43272558e-01]\n",
      "  [5.76520205e-01 2.99525691e-01 6.52522082e-01 ... 1.00000000e+00\n",
      "   8.10328819e-01 8.53117912e-01]\n",
      "  [5.63245655e-01 2.92133977e-01 6.43917598e-01 ... 1.00000000e+00\n",
      "   7.82168733e-01 8.29368643e-01]]\n",
      "\n",
      " [[5.71173015e-01 3.69567246e-01 6.45116242e-01 ... 1.00000000e+00\n",
      "   8.01209868e-01 8.46566684e-01]\n",
      "  [5.69949421e-01 2.83037192e-01 6.45373118e-01 ... 1.00000000e+00\n",
      "   7.97846800e-01 8.43272558e-01]\n",
      "  [5.76520205e-01 2.99525691e-01 6.52522082e-01 ... 1.00000000e+00\n",
      "   8.10328819e-01 8.53117912e-01]\n",
      "  [5.63245655e-01 2.92133977e-01 6.43917598e-01 ... 1.00000000e+00\n",
      "   7.82168733e-01 8.29368643e-01]\n",
      "  [5.54663128e-01 2.83108621e-01 6.40150590e-01 ... 1.00000000e+00\n",
      "   7.64287951e-01 8.13502940e-01]]\n",
      "\n",
      " [[5.69949421e-01 2.83037192e-01 6.45373118e-01 ... 1.00000000e+00\n",
      "   7.97846800e-01 8.43272558e-01]\n",
      "  [5.76520205e-01 2.99525691e-01 6.52522082e-01 ... 1.00000000e+00\n",
      "   8.10328819e-01 8.53117912e-01]\n",
      "  [5.63245655e-01 2.92133977e-01 6.43917598e-01 ... 1.00000000e+00\n",
      "   7.82168733e-01 8.29368643e-01]\n",
      "  [5.54663128e-01 2.83108621e-01 6.40150590e-01 ... 1.00000000e+00\n",
      "   7.64287951e-01 8.13502940e-01]\n",
      "  [5.45967866e-01 3.04973854e-01 6.29148948e-01 ... 1.00000000e+00\n",
      "   7.46602113e-01 7.97361902e-01]]]\n"
     ]
    }
   ],
   "source": [
    "print(X_train)"
   ]
  },
  {
   "cell_type": "markdown",
   "id": "54512827",
   "metadata": {},
   "source": [
    "# LSTM model"
   ]
  },
  {
   "cell_type": "code",
   "execution_count": 145,
   "id": "4d72adc2",
   "metadata": {},
   "outputs": [
    {
     "name": "stderr",
     "output_type": "stream",
     "text": [
      "c:\\Users\\OMER\\PycharmProjects\\Project\\.venv\\lib\\site-packages\\keras\\src\\layers\\rnn\\rnn.py:200: UserWarning: Do not pass an `input_shape`/`input_dim` argument to a layer. When using Sequential models, prefer using an `Input(shape)` object as the first layer in the model instead.\n",
      "  super().__init__(**kwargs)\n"
     ]
    }
   ],
   "source": [
    "model_lstm = Sequential([\n",
    "    LSTM(128, return_sequences=True, input_shape=(window_size, X.shape[2])),\n",
    "    LSTM(64, return_sequences=True),\n",
    "    LSTM(32, return_sequences=True),\n",
    "    LSTM(16, return_sequences=False),\n",
    "    Dense(10, activation='relu'),\n",
    "    Dense(1)\n",
    "])\n",
    "model_lstm.compile(optimizer='adam', loss='mse')\n",
    "history_lstm = model_lstm.fit(X_train, y_train, epochs=10, batch_size=32, verbose=0)"
   ]
  },
  {
   "cell_type": "markdown",
   "id": "3e456fff",
   "metadata": {},
   "source": [
    "# GRU model:"
   ]
  },
  {
   "cell_type": "code",
   "execution_count": 64,
   "id": "6eb8e085",
   "metadata": {},
   "outputs": [
    {
     "name": "stderr",
     "output_type": "stream",
     "text": [
      "c:\\Users\\OMER\\PycharmProjects\\Project\\.venv\\lib\\site-packages\\keras\\src\\layers\\rnn\\rnn.py:200: UserWarning: Do not pass an `input_shape`/`input_dim` argument to a layer. When using Sequential models, prefer using an `Input(shape)` object as the first layer in the model instead.\n",
      "  super().__init__(**kwargs)\n"
     ]
    }
   ],
   "source": [
    "model_gru = Sequential([\n",
    "    GRU(50, return_sequences=True, input_shape=(window_size, X.shape[2])),\n",
    "    GRU(44),\n",
    "    Dense(32, activation='relu'),\n",
    "    Dense(1)\n",
    "])\n",
    "model_gru.compile(optimizer='adam', loss='mse')\n",
    "history_gru = model_gru.fit(X_train, y_train, epochs=10, batch_size=32, verbose=0)"
   ]
  },
  {
   "cell_type": "code",
   "execution_count": 173,
   "id": "70f9e5e7",
   "metadata": {},
   "outputs": [
    {
     "name": "stderr",
     "output_type": "stream",
     "text": [
      "c:\\Users\\OMER\\PycharmProjects\\Project\\.venv\\lib\\site-packages\\keras\\src\\layers\\rnn\\rnn.py:200: UserWarning: Do not pass an `input_shape`/`input_dim` argument to a layer. When using Sequential models, prefer using an `Input(shape)` object as the first layer in the model instead.\n",
      "  super().__init__(**kwargs)\n"
     ]
    }
   ],
   "source": [
    "model_gru = Sequential([\n",
    "    GRU(256, return_sequences=True, input_shape=(window_size, X.shape[2])),\n",
    "    GRU(128, return_sequences=True),\n",
    "    GRU(98, return_sequences=True),\n",
    "    GRU(64, return_sequences=True),\n",
    "    GRU(32, return_sequences=False),\n",
    "    Dense(10, activation='relu'),\n",
    "    Dense(1)\n",
    "])\n",
    "model_gru.compile(optimizer='adam', loss='mse')\n",
    "history_gru = model_gru.fit(X_train, y_train, epochs=40, batch_size=32, verbose=0)"
   ]
  },
  {
   "cell_type": "code",
   "execution_count": 174,
   "id": "4c96e328",
   "metadata": {},
   "outputs": [
    {
     "name": "stdout",
     "output_type": "stream",
     "text": [
      "\u001b[1m14/14\u001b[0m \u001b[32m━━━━━━━━━━━━━━━━━━━━\u001b[0m\u001b[37m\u001b[0m \u001b[1m0s\u001b[0m 2ms/step  \n",
      "\u001b[1m14/14\u001b[0m \u001b[32m━━━━━━━━━━━━━━━━━━━━\u001b[0m\u001b[37m\u001b[0m \u001b[1m1s\u001b[0m 31ms/step\n"
     ]
    }
   ],
   "source": [
    "pred_lstm = model_lstm.predict(X_test)\n",
    "pred_gru = model_gru.predict(X_test)\n",
    "\n",
    "# reset the scaler to the original price range\n",
    "price_scaler = MinMaxScaler()\n",
    "price_scaler.min_, price_scaler.scale_ = scaler.min_[0], scaler.scale_[0]\n",
    "pred_lstm = price_scaler.inverse_transform(pred_lstm)\n",
    "pred_gru = price_scaler.inverse_transform(pred_gru)\n",
    "y_test_actual = price_scaler.inverse_transform(y_test.reshape(-1, 1))"
   ]
  },
  {
   "cell_type": "code",
   "execution_count": 35,
   "id": "0d705055",
   "metadata": {},
   "outputs": [],
   "source": [
    "dates = spy_only.index[window_size + split:]"
   ]
  },
  {
   "cell_type": "code",
   "execution_count": 36,
   "id": "bb347790",
   "metadata": {},
   "outputs": [
    {
     "data": {
      "image/png": "[encoded data removed]",
      "text/plain": [
       "<Figure size 1400x600 with 1 Axes>"
      ]
     },
     "metadata": {},
     "output_type": "display_data"
    }
   ],
   "source": [
    "plt.figure(figsize=(14,6))\n",
    "plt.plot(dates, y_test_actual, label='Actual', color='black')\n",
    "plt.plot(dates, pred_lstm, label='LSTM Prediction', alpha=0.7)\n",
    "plt.plot(dates, pred_gru, label='GRU Prediction', alpha=0.7)\n",
    "plt.title(f'Actual vs Predicted - {ticker} (LSTM vs GRU)')\n",
    "plt.xlabel('Date')\n",
    "plt.ylabel('Price')\n",
    "plt.legend()\n",
    "plt.grid(False)\n",
    "plt.show()"
   ]
  },
  {
   "cell_type": "code",
   "execution_count": 175,
   "id": "32f1f065",
   "metadata": {},
   "outputs": [
    {
     "name": "stdout",
     "output_type": "stream",
     "text": [
      "LSTM - MSE: 8808723.0540, R²: -26.9813\n",
      "GRU  - MSE: 12934.3399, R²: 0.9589\n"
     ]
    }
   ],
   "source": [
    "mse_lstm = mean_squared_error(y_test_actual, pred_lstm)\n",
    "mse_gru = mean_squared_error(y_test_actual, pred_gru)\n",
    "\n",
    "r2_lstm = r2_score(y_test_actual, pred_lstm)\n",
    "r2_gru = r2_score(y_test_actual, pred_gru)\n",
    "\n",
    "print(f'LSTM - MSE: {mse_lstm:.4f}, R²: {r2_lstm:.4f}')\n",
    "print(f'GRU  - MSE: {mse_gru:.4f}, R²: {r2_gru:.4f}')"
   ]
  },
  {
   "cell_type": "markdown",
   "id": "884b98de",
   "metadata": {},
   "source": [
    "# put spt_return as index number 1"
   ]
  },
  {
   "cell_type": "code",
   "execution_count": 186,
   "id": "252eec1f",
   "metadata": {},
   "outputs": [],
   "source": [
    "return_data = return_data.reindex(columns=[\"SPY_return\"] + list(return_data.columns.drop(\"SPY_return\")))"
   ]
  },
  {
   "cell_type": "code",
   "execution_count": null,
   "id": "71019462",
   "metadata": {},
   "outputs": [
    {
     "name": "stdout",
     "output_type": "stream",
     "text": [
      "Features used in the model: ['SPY_return', 'QQQ_Close', '^RUT', '^VIX', 'EMA_20', '^GDAXI', 'MSFT', 'stdev_5', '^FTSE', 'GOOG', 'AAPL', 'high-low', 'avgreturn5d', 'abs_yield_curve', 'std_price', 'UNG', 'abs_vix', 'SLV', 'stdev', 'BTC-USD', 'EMA_50', 'EMA_200', '^TNX', 'USO', 'IWM_avg5d', 'shiler pe', 'JPY=X', 'GLD', 'SPY_AbsChange', 'SPY_Volume', '^N225', 'CPER', 'CNYUSD=X', 'before_high-low', 'abs_vol', 'IWM_std_5d', 'yield_curve', 'IEI', 'DX-Y.NYB', 'EUR=X', 'avgreturn10d', '2Y_Yield', 'EUR', 'SPY_RSI', 'DXY', 'JPY', 'ds']\n"
     ]
    }
   ],
   "source": [
    "n = return_data.columns.to_list()\n",
    "print(f\"Features used in the model: {n}\")\n"
   ]
  },
  {
   "cell_type": "markdown",
   "id": "f971b517",
   "metadata": {},
   "source": [
    "# Return data"
   ]
  },
  {
   "cell_type": "code",
   "execution_count": 227,
   "id": "90d4f600",
   "metadata": {},
   "outputs": [],
   "source": [
    "#x1 = return_data.drop(columns=['SPY_return','ds'])\n",
    "#y1 = return_data['SPY_return']\n",
    "cols = ['SPY_return', 'QQQ_Close', '^RUT', 'abs_vix','MSFT', 'stdev_5', '^FTSE', 'GOOG', 'AAPL', 'high-low', 'avgreturn5d']#, 'abs_yield_curve', 'std_price','abs_vix','SPY_AbsChange','abs_vol','2Y_Yield','EUR', 'SPY_RSI', 'DXY', 'JPY' ]\n",
    "scale1 = MinMaxScaler()\n",
    "return_data_cleaned = return_data.drop(columns=['ds'])\n",
    "return_data_cleaned = return_data_cleaned[cols]\n",
    "return_data_scaled = scale1.fit_transform(return_data_cleaned)"
   ]
  },
  {
   "cell_type": "code",
   "execution_count": 228,
   "id": "4fdac9f0",
   "metadata": {},
   "outputs": [
    {
     "data": {
      "text/html": [
       "<div>\n",
       "<style scoped>\n",
       "    .dataframe tbody tr th:only-of-type {\n",
       "        vertical-align: middle;\n",
       "    }\n",
       "\n",
       "    .dataframe tbody tr th {\n",
       "        vertical-align: top;\n",
       "    }\n",
       "\n",
       "    .dataframe thead th {\n",
       "        text-align: right;\n",
       "    }\n",
       "</style>\n",
       "<table border=\"1\" class=\"dataframe\">\n",
       "  <thead>\n",
       "    <tr style=\"text-align: right;\">\n",
       "      <th></th>\n",
       "      <th>SPY_return</th>\n",
       "      <th>QQQ_Close</th>\n",
       "      <th>^RUT</th>\n",
       "      <th>abs_vix</th>\n",
       "      <th>MSFT</th>\n",
       "      <th>stdev_5</th>\n",
       "      <th>^FTSE</th>\n",
       "      <th>GOOG</th>\n",
       "      <th>AAPL</th>\n",
       "      <th>high-low</th>\n",
       "      <th>avgreturn5d</th>\n",
       "    </tr>\n",
       "  </thead>\n",
       "  <tbody>\n",
       "    <tr>\n",
       "      <th>0</th>\n",
       "      <td>-0.269012</td>\n",
       "      <td>-0.043024</td>\n",
       "      <td>-0.296631</td>\n",
       "      <td>11.77</td>\n",
       "      <td>0.350635</td>\n",
       "      <td>0.316581</td>\n",
       "      <td>-0.655697</td>\n",
       "      <td>1.775112</td>\n",
       "      <td>0.066658</td>\n",
       "      <td>14.760010</td>\n",
       "      <td>-0.082739</td>\n",
       "    </tr>\n",
       "    <tr>\n",
       "      <th>1</th>\n",
       "      <td>0.656459</td>\n",
       "      <td>0.864767</td>\n",
       "      <td>1.585499</td>\n",
       "      <td>11.07</td>\n",
       "      <td>0.889458</td>\n",
       "      <td>0.424201</td>\n",
       "      <td>-0.012591</td>\n",
       "      <td>0.556575</td>\n",
       "      <td>-0.091620</td>\n",
       "      <td>17.949951</td>\n",
       "      <td>0.107903</td>\n",
       "    </tr>\n",
       "    <tr>\n",
       "      <th>2</th>\n",
       "      <td>0.802609</td>\n",
       "      <td>0.988757</td>\n",
       "      <td>0.966249</td>\n",
       "      <td>10.81</td>\n",
       "      <td>0.251904</td>\n",
       "      <td>0.528980</td>\n",
       "      <td>0.197196</td>\n",
       "      <td>1.432266</td>\n",
       "      <td>1.592078</td>\n",
       "      <td>10.670166</td>\n",
       "      <td>0.233150</td>\n",
       "    </tr>\n",
       "    <tr>\n",
       "      <th>3</th>\n",
       "      <td>-0.073538</td>\n",
       "      <td>-0.020502</td>\n",
       "      <td>-0.494775</td>\n",
       "      <td>10.63</td>\n",
       "      <td>0.926479</td>\n",
       "      <td>0.459317</td>\n",
       "      <td>-0.040477</td>\n",
       "      <td>-0.421220</td>\n",
       "      <td>0.049234</td>\n",
       "      <td>6.909912</td>\n",
       "      <td>0.290628</td>\n",
       "    </tr>\n",
       "    <tr>\n",
       "      <th>4</th>\n",
       "      <td>-0.086646</td>\n",
       "      <td>0.099017</td>\n",
       "      <td>-0.356210</td>\n",
       "      <td>10.58</td>\n",
       "      <td>2.349481</td>\n",
       "      <td>0.486897</td>\n",
       "      <td>0.321162</td>\n",
       "      <td>-1.062304</td>\n",
       "      <td>0.008170</td>\n",
       "      <td>7.399902</td>\n",
       "      <td>0.205974</td>\n",
       "    </tr>\n",
       "  </tbody>\n",
       "</table>\n",
       "</div>"
      ],
      "text/plain": [
       "   SPY_return  QQQ_Close      ^RUT  abs_vix      MSFT   stdev_5     ^FTSE  \\\n",
       "0   -0.269012  -0.043024 -0.296631    11.77  0.350635  0.316581 -0.655697   \n",
       "1    0.656459   0.864767  1.585499    11.07  0.889458  0.424201 -0.012591   \n",
       "2    0.802609   0.988757  0.966249    10.81  0.251904  0.528980  0.197196   \n",
       "3   -0.073538  -0.020502 -0.494775    10.63  0.926479  0.459317 -0.040477   \n",
       "4   -0.086646   0.099017 -0.356210    10.58  2.349481  0.486897  0.321162   \n",
       "\n",
       "       GOOG      AAPL   high-low  avgreturn5d  \n",
       "0  1.775112  0.066658  14.760010    -0.082739  \n",
       "1  0.556575 -0.091620  17.949951     0.107903  \n",
       "2  1.432266  1.592078  10.670166     0.233150  \n",
       "3 -0.421220  0.049234   6.909912     0.290628  \n",
       "4 -1.062304  0.008170   7.399902     0.205974  "
      ]
     },
     "execution_count": 228,
     "metadata": {},
     "output_type": "execute_result"
    }
   ],
   "source": [
    "return_data_cleaned.head()"
   ]
  },
  {
   "cell_type": "code",
   "execution_count": 229,
   "id": "d60930c2",
   "metadata": {},
   "outputs": [],
   "source": [
    "window = 5\n",
    "x1, y1 = create_sequences_multifeature(return_data_scaled, window)"
   ]
  },
  {
   "cell_type": "code",
   "execution_count": 230,
   "id": "2077084b",
   "metadata": {},
   "outputs": [
    {
     "name": "stdout",
     "output_type": "stream",
     "text": [
      "11\n"
     ]
    }
   ],
   "source": [
    "split = int(0.8 * len(x1))\n",
    "X_train, X_test = x1[:split], x1[split:]\n",
    "y_train, y_test = y1[:split], y1[split:]\n",
    "print(x1.shape[2])"
   ]
  },
  {
   "cell_type": "code",
   "execution_count": 231,
   "id": "f619d141",
   "metadata": {},
   "outputs": [
    {
     "name": "stderr",
     "output_type": "stream",
     "text": [
      "c:\\Users\\OMER\\PycharmProjects\\Project\\.venv\\lib\\site-packages\\keras\\src\\layers\\rnn\\rnn.py:200: UserWarning: Do not pass an `input_shape`/`input_dim` argument to a layer. When using Sequential models, prefer using an `Input(shape)` object as the first layer in the model instead.\n",
      "  super().__init__(**kwargs)\n"
     ]
    }
   ],
   "source": [
    "model_gru = Sequential([\n",
    "    GRU(256, return_sequences=True, input_shape=(window, x1.shape[2])),\n",
    "    GRU(128, return_sequences=True),\n",
    "    GRU(98, return_sequences=True),\n",
    "    GRU(64, return_sequences=True),\n",
    "    GRU(32, return_sequences=False),\n",
    "    Dense(10, activation='relu'),\n",
    "    Dense(1)\n",
    "])\n",
    "model_gru.compile(optimizer='adam', loss='mse')\n",
    "history_gru = model_gru.fit(X_train, y_train, epochs=10, batch_size=32, verbose=0)"
   ]
  },
  {
   "cell_type": "code",
   "execution_count": 232,
   "id": "e1d622fe",
   "metadata": {},
   "outputs": [
    {
     "name": "stdout",
     "output_type": "stream",
     "text": [
      "\u001b[1m13/13\u001b[0m \u001b[32m━━━━━━━━━━━━━━━━━━━━\u001b[0m\u001b[37m\u001b[0m \u001b[1m1s\u001b[0m 34ms/step\n"
     ]
    }
   ],
   "source": [
    "#pred_lstm = model_lstm.predict(X_test)\n",
    "pred_gru = model_gru.predict(X_test)\n",
    "\n",
    "# reset the scaler to the original price range\n",
    "price_scaler = MinMaxScaler()\n",
    "price_scaler.min_, price_scaler.scale_ = scale1.min_[0], scale1.scale_[0]\n",
    "#pred_lstm = price_scaler.inverse_transform(pred_lstm)\n",
    "pred_gru = price_scaler.inverse_transform(pred_gru)\n",
    "y_test_actual = price_scaler.inverse_transform(y_test.reshape(-1, 1))"
   ]
  },
  {
   "cell_type": "code",
   "execution_count": 233,
   "id": "2c3cd72f",
   "metadata": {},
   "outputs": [
    {
     "name": "stdout",
     "output_type": "stream",
     "text": [
      "LSTM - MSE: 8808723.0540, R²: -26.9813\n",
      "GRU  - MSE: 1.1427, R²: -0.0474\n"
     ]
    }
   ],
   "source": [
    "#mse_lstm = mean_squared_error(y_test_actual, pred_lstm)\n",
    "mse_gru = mean_squared_error(y_test_actual, pred_gru)\n",
    "\n",
    "#r2_lstm = r2_score(y_test_actual, pred_lstm)\n",
    "r2_gru = r2_score(y_test_actual, pred_gru)\n",
    "\n",
    "print(f'LSTM - MSE: {mse_lstm:.4f}, R²: {r2_lstm:.4f}')\n",
    "print(f'GRU  - MSE: {mse_gru:.4f}, R²: {r2_gru:.4f}')"
   ]
  }
 ],
 "metadata": {
  "kernelspec": {
   "display_name": ".venv",
   "language": "python",
   "name": "python3"
  },
  "language_info": {
   "codemirror_mode": {
    "name": "ipython",
    "version": 3
   },
   "file_extension": ".py",
   "mimetype": "text/x-python",
   "name": "python",
   "nbconvert_exporter": "python",
   "pygments_lexer": "ipython3",
   "version": "3.10.2"
  }
 },
 "nbformat": 4,
 "nbformat_minor": 5
}
