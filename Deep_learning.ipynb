{
 "cells": [
  {
   "cell_type": "code",
   "execution_count": 2,
   "id": "f3558dcc",
   "metadata": {},
   "outputs": [],
   "source": [
    "import yfinance as yf\n",
    "import numpy as np\n",
    "import pandas as pd\n",
    "import matplotlib.pyplot as plt\n",
    "from sklearn.preprocessing import MinMaxScaler ,RobustScaler\n",
    "from tensorflow.keras.models import Sequential\n",
    "from tensorflow.keras.layers import Dense, LSTM, GRU\n",
    "from sklearn.metrics import mean_squared_error,r2_score"
   ]
  },
  {
   "cell_type": "code",
   "execution_count": 152,
   "id": "26271d6e",
   "metadata": {},
   "outputs": [
    {
     "name": "stderr",
     "output_type": "stream",
     "text": [
      "[*********************100%***********************]  1 of 1 completed\n",
      "\n",
      "1 Failed download:\n",
      "['SPY']: YFRateLimitError('Too Many Requests. Rate limited. Try after a while.')\n"
     ]
    }
   ],
   "source": [
    "ticker = 'SPY'\n",
    "df = yf.download(ticker, start='2010-01-01', end='2025-05-10')\n",
    "df = df[['Close']].dropna()              # נשמור רק את עמודת הסגירה\n",
    "df.rename(columns={'Close': 'Price'}, inplace=True)"
   ]
  },
  {
   "cell_type": "markdown",
   "id": "88c4dd79",
   "metadata": {},
   "source": [
    "# Add treasury yields "
   ]
  },
  {
   "cell_type": "code",
   "execution_count": 502,
   "id": "520d1839",
   "metadata": {},
   "outputs": [
    {
     "name": "stdout",
     "output_type": "stream",
     "text": [
      "Sheet names: ['20year_auction', '10year_auction', '2year_auction']\n"
     ]
    }
   ],
   "source": [
    "import openpyxl\n",
    "sheets_dict = pd.read_excel('treasury_auctions.xlsx', sheet_name=None)\n",
    "# Extract each sheet into separate DataFrames\n",
    "df1 = sheets_dict[list(sheets_dict.keys())[0]]\n",
    "df2 = sheets_dict[list(sheets_dict.keys())[1]]\n",
    "df3 = sheets_dict[list(sheets_dict.keys())[2]]\n",
    "\n",
    "# Optional: print sheet names to verify\n",
    "print(\"Sheet names:\", list(sheets_dict.keys()))"
   ]
  },
  {
   "cell_type": "code",
   "execution_count": 503,
   "id": "acc72753",
   "metadata": {},
   "outputs": [
    {
     "data": {
      "text/html": [
       "<div>\n",
       "<style scoped>\n",
       "    .dataframe tbody tr th:only-of-type {\n",
       "        vertical-align: middle;\n",
       "    }\n",
       "\n",
       "    .dataframe tbody tr th {\n",
       "        vertical-align: top;\n",
       "    }\n",
       "\n",
       "    .dataframe thead th {\n",
       "        text-align: right;\n",
       "    }\n",
       "</style>\n",
       "<table border=\"1\" class=\"dataframe\">\n",
       "  <thead>\n",
       "    <tr style=\"text-align: right;\">\n",
       "      <th></th>\n",
       "      <th>Release Date</th>\n",
       "      <th>Actual</th>\n",
       "      <th>Previous</th>\n",
       "    </tr>\n",
       "  </thead>\n",
       "  <tbody>\n",
       "    <tr>\n",
       "      <th>0</th>\n",
       "      <td>May 27, 2025</td>\n",
       "      <td>0.03955</td>\n",
       "      <td>0.03795</td>\n",
       "    </tr>\n",
       "    <tr>\n",
       "      <th>1</th>\n",
       "      <td>Apr 22, 2025</td>\n",
       "      <td>0.03795</td>\n",
       "      <td>0.03984</td>\n",
       "    </tr>\n",
       "    <tr>\n",
       "      <th>2</th>\n",
       "      <td>Mar 25, 2025</td>\n",
       "      <td>0.03984</td>\n",
       "      <td>0.04169</td>\n",
       "    </tr>\n",
       "    <tr>\n",
       "      <th>3</th>\n",
       "      <td>Feb 24, 2025</td>\n",
       "      <td>0.04169</td>\n",
       "      <td>0.04211</td>\n",
       "    </tr>\n",
       "    <tr>\n",
       "      <th>4</th>\n",
       "      <td>Jan 27, 2025</td>\n",
       "      <td>0.04211</td>\n",
       "      <td>0.04335</td>\n",
       "    </tr>\n",
       "  </tbody>\n",
       "</table>\n",
       "</div>"
      ],
      "text/plain": [
       "   Release Date   Actual  Previous\n",
       "0  May 27, 2025  0.03955   0.03795\n",
       "1  Apr 22, 2025  0.03795   0.03984\n",
       "2  Mar 25, 2025  0.03984   0.04169\n",
       "3  Feb 24, 2025  0.04169   0.04211\n",
       "4  Jan 27, 2025  0.04211   0.04335"
      ]
     },
     "execution_count": 503,
     "metadata": {},
     "output_type": "execute_result"
    }
   ],
   "source": [
    "df3.head()"
   ]
  },
  {
   "cell_type": "code",
   "execution_count": 504,
   "id": "62b4f8ab",
   "metadata": {},
   "outputs": [
    {
     "name": "stdout",
     "output_type": "stream",
     "text": [
      "<class 'pandas.core.frame.DataFrame'>\n",
      "RangeIndex: 60 entries, 0 to 59\n",
      "Data columns (total 3 columns):\n",
      " #   Column    Non-Null Count  Dtype  \n",
      "---  ------    --------------  -----  \n",
      " 0   ds        60 non-null     object \n",
      " 1   Actual    60 non-null     float64\n",
      " 2   Previous  60 non-null     float64\n",
      "dtypes: float64(2), object(1)\n",
      "memory usage: 1.5+ KB\n"
     ]
    }
   ],
   "source": [
    "for df in [df1, df2, df3]:\n",
    "    #df = df.drop('Time', axis=1)\n",
    "    # 1) Make the first row into the header\n",
    "    #df.columns = df.iloc[0]\n",
    "    # 2) Remove that row from the body of the DataFrame\n",
    "    #df = df.iloc[1:].reset_index(drop=True)\n",
    "    df['Release Date'] = df['Release Date'].str.replace(r\"\\s*\\(.*\\)\", \"\", regex=True)  # remove (anything)\n",
    "    df['Release Date'] = pd.to_datetime(df['Release Date'], format='%b %d, %Y')\n",
    "    df['Release Date'] = df['Release Date'].dt.date\n",
    "    df.rename(columns={'Release Date': 'ds'}, inplace=True)  # rename for consistency\n",
    "\n",
    "df1.info()"
   ]
  },
  {
   "cell_type": "markdown",
   "id": "dcdf1912",
   "metadata": {},
   "source": [
    "## Creating gap from auction price "
   ]
  },
  {
   "cell_type": "code",
   "execution_count": 508,
   "id": "c9b60970",
   "metadata": {},
   "outputs": [
    {
     "name": "stdout",
     "output_type": "stream",
     "text": [
      "<class 'pandas.core.frame.DataFrame'>\n",
      "RangeIndex: 60 entries, 0 to 59\n",
      "Data columns (total 4 columns):\n",
      " #   Column         Non-Null Count  Dtype         \n",
      "---  ------         --------------  -----         \n",
      " 0   ds             60 non-null     datetime64[ns]\n",
      " 1   Actual_20year  60 non-null     float64       \n",
      " 2   Previous       60 non-null     float64       \n",
      " 3   20year_gap     60 non-null     float64       \n",
      "dtypes: datetime64[ns](1), float64(3)\n",
      "memory usage: 2.0 KB\n"
     ]
    }
   ],
   "source": [
    "lst = [(df1,'20year'), (df2,'10year'), (df3,'2year')]\n",
    "def auction_gap(lst):\n",
    "    for df, label in lst:\n",
    "        df['ds'] = df['ds'].astype('datetime64[ns]')\n",
    "        df[f'{label}_gap'] = df['Actual'] - df['Previous']\n",
    "        df[f'{label}_gap'] = df[f'{label}_gap'].fillna(0)\n",
    "        df.rename(columns={'Actual': f'Actual_{label}'}, inplace=True)\n",
    "\n",
    "    return df1, df2, df3\n",
    "df1, df2, df3 = auction_gap(lst)\n",
    "df1.info()"
   ]
  },
  {
   "cell_type": "code",
   "execution_count": 509,
   "id": "c132b74c",
   "metadata": {},
   "outputs": [
    {
     "name": "stdout",
     "output_type": "stream",
     "text": [
      "<class 'pandas.core.frame.DataFrame'>\n",
      "RangeIndex: 174 entries, 0 to 173\n",
      "Data columns (total 3 columns):\n",
      " #   Column         Non-Null Count  Dtype         \n",
      "---  ------         --------------  -----         \n",
      " 0   ds             174 non-null    datetime64[ns]\n",
      " 1   Actual_10year  174 non-null    float64       \n",
      " 2   10year_gap     174 non-null    float64       \n",
      "dtypes: datetime64[ns](1), float64(2)\n",
      "memory usage: 4.2 KB\n"
     ]
    }
   ],
   "source": [
    "for df in [df1, df2, df3]:\n",
    "    df.drop(columns=['Previous'], inplace=True, errors='ignore')\n",
    "\n",
    "df2.info()"
   ]
  },
  {
   "cell_type": "code",
   "execution_count": 578,
   "id": "83937f94",
   "metadata": {},
   "outputs": [
    {
     "name": "stdout",
     "output_type": "stream",
     "text": [
      "<class 'pandas.core.frame.DataFrame'>\n",
      "RangeIndex: 165 entries, 0 to 164\n",
      "Data columns (total 3 columns):\n",
      " #   Column        Non-Null Count  Dtype         \n",
      "---  ------        --------------  -----         \n",
      " 0   ds            165 non-null    datetime64[ns]\n",
      " 1   Actual_2year  165 non-null    float64       \n",
      " 2   2year_gap     165 non-null    float64       \n",
      "dtypes: datetime64[ns](1), float64(2)\n",
      "memory usage: 4.0 KB\n"
     ]
    }
   ],
   "source": [
    "df3.info()"
   ]
  },
  {
   "cell_type": "markdown",
   "id": "157fc539",
   "metadata": {},
   "source": [
    "# The return data:"
   ]
  },
  {
   "cell_type": "code",
   "execution_count": 4,
   "id": "050a97be",
   "metadata": {},
   "outputs": [
    {
     "name": "stdout",
     "output_type": "stream",
     "text": [
      "<class 'pandas.core.frame.DataFrame'>\n",
      "RangeIndex: 2071 entries, 0 to 2070\n",
      "Data columns (total 47 columns):\n",
      " #   Column           Non-Null Count  Dtype         \n",
      "---  ------           --------------  -----         \n",
      " 0   QQQ_Close        2071 non-null   float64       \n",
      " 1   ^RUT             2071 non-null   float64       \n",
      " 2   ^VIX             2071 non-null   float64       \n",
      " 3   EMA_20           2071 non-null   float64       \n",
      " 4   ^GDAXI           2071 non-null   float64       \n",
      " 5   MSFT             2071 non-null   float64       \n",
      " 6   stdev_5          2071 non-null   float64       \n",
      " 7   ^FTSE            2071 non-null   float64       \n",
      " 8   GOOG             2071 non-null   float64       \n",
      " 9   AAPL             2071 non-null   float64       \n",
      " 10  high-low         2071 non-null   float64       \n",
      " 11  avgreturn5d      2071 non-null   float64       \n",
      " 12  abs_yield_curve  2071 non-null   float64       \n",
      " 13  std_price        2071 non-null   float64       \n",
      " 14  UNG              2071 non-null   float64       \n",
      " 15  abs_vix          2071 non-null   float64       \n",
      " 16  SLV              2071 non-null   float64       \n",
      " 17  stdev            2071 non-null   float64       \n",
      " 18  BTC-USD          2071 non-null   float64       \n",
      " 19  EMA_50           2071 non-null   float64       \n",
      " 20  EMA_200          2071 non-null   float64       \n",
      " 21  ^TNX             2071 non-null   float64       \n",
      " 22  USO              2071 non-null   float64       \n",
      " 23  IWM_avg5d        2071 non-null   float64       \n",
      " 24  shiler pe        2071 non-null   float64       \n",
      " 25  JPY=X            2071 non-null   float64       \n",
      " 26  GLD              2071 non-null   float64       \n",
      " 27  SPY_AbsChange    2071 non-null   float64       \n",
      " 28  SPY_Volume       2071 non-null   float64       \n",
      " 29  ^N225            2071 non-null   float64       \n",
      " 30  CPER             2071 non-null   float64       \n",
      " 31  CNYUSD=X         2071 non-null   float64       \n",
      " 32  before_high-low  2071 non-null   float64       \n",
      " 33  abs_vol          2071 non-null   int64         \n",
      " 34  IWM_std_5d       2071 non-null   float64       \n",
      " 35  yield_curve      2071 non-null   float64       \n",
      " 36  IEI              2071 non-null   float64       \n",
      " 37  DX-Y.NYB         2071 non-null   float64       \n",
      " 38  EUR=X            2071 non-null   float64       \n",
      " 39  avgreturn10d     2071 non-null   float64       \n",
      " 40  2Y_Yield         2071 non-null   float64       \n",
      " 41  EUR              2071 non-null   float64       \n",
      " 42  SPY_RSI          2071 non-null   float64       \n",
      " 43  DXY              2071 non-null   float64       \n",
      " 44  JPY              2071 non-null   float64       \n",
      " 45  ds               2071 non-null   datetime64[ns]\n",
      " 46  SPY_return       2071 non-null   float64       \n",
      "dtypes: datetime64[ns](1), float64(45), int64(1)\n",
      "memory usage: 760.6 KB\n"
     ]
    }
   ],
   "source": [
    "return_data = pd.read_pickle('df_with_QQQ.pkl')\n",
    "return_data.info()"
   ]
  },
  {
   "cell_type": "code",
   "execution_count": 1161,
   "id": "d162c842",
   "metadata": {},
   "outputs": [
    {
     "name": "stdout",
     "output_type": "stream",
     "text": [
      "<class 'pandas.core.frame.DataFrame'>\n",
      "RangeIndex: 2084 entries, 0 to 2083\n",
      "Data columns (total 6 columns):\n",
      " #   Column      Non-Null Count  Dtype         \n",
      "---  ------      --------------  -----         \n",
      " 0   ds          2084 non-null   datetime64[ns]\n",
      " 1   QQQ_Close   2084 non-null   float64       \n",
      " 2   Open        2084 non-null   float64       \n",
      " 3   High        2084 non-null   float64       \n",
      " 4   Low         2084 non-null   float64       \n",
      " 5   QQQ_Volume  2084 non-null   int64         \n",
      "dtypes: datetime64[ns](1), float64(4), int64(1)\n",
      "memory usage: 97.8 KB\n"
     ]
    }
   ],
   "source": [
    "QQQ_ = pd.read_pickle('QQQ')\n",
    "QQQ_.reset_index(inplace=True)\n",
    "QQQ_.rename(columns={'Close': 'QQQ_Close', 'Volume': 'QQQ_Volume','Date':'ds'}, inplace=True)\n",
    "QQQ_['ds'] = pd.to_datetime(QQQ_['ds']).dt.date\n",
    "QQQ_['ds'] = QQQ_['ds'].astype('datetime64[ns]')\n",
    "QQQ_.info()\n",
    "qqq = QQQ_[['ds', 'QQQ_Close', 'QQQ_Volume']].copy()\n",
    "qqq['qqq_std'] = qqq['QQQ_Close'].rolling(window=5).std()\n",
    "qqq['qqq_mean'] = qqq['QQQ_Close'].rolling(window=5).mean()"
   ]
  },
  {
   "cell_type": "code",
   "execution_count": null,
   "id": "122baa38",
   "metadata": {},
   "outputs": [
    {
     "name": "stdout",
     "output_type": "stream",
     "text": [
      "<class 'pandas.core.frame.DataFrame'>\n",
      "DatetimeIndex: 2084 entries, 2017-01-03 to 2025-04-16\n",
      "Data columns (total 38 columns):\n",
      " #   Column               Non-Null Count  Dtype  \n",
      "---  ------               --------------  -----  \n",
      " 0   SPY_Close            2084 non-null   float64\n",
      " 1   SPY_Volume           2084 non-null   int64  \n",
      " 2   AAPL                 2084 non-null   float64\n",
      " 3   MSFT                 2084 non-null   float64\n",
      " 4   GOOG                 2084 non-null   float64\n",
      " 5   GLD                  2084 non-null   float64\n",
      " 6   SLV                  2084 non-null   float64\n",
      " 7   ^TNX                 2084 non-null   float64\n",
      " 8   DX-Y.NYB             2084 non-null   float64\n",
      " 9   JPY=X                2084 non-null   float64\n",
      " 10  EUR=X                2084 non-null   float64\n",
      " 11  USO                  2084 non-null   float64\n",
      " 12  UNG                  2084 non-null   float64\n",
      " 13  BTC-USD              2084 non-null   float64\n",
      " 14  CPER                 2084 non-null   float64\n",
      " 15  ^VIX                 2084 non-null   float64\n",
      " 16  ^GDAXI               2084 non-null   float64\n",
      " 17  ^FTSE                2084 non-null   float64\n",
      " 18  ^RUT                 2084 non-null   float64\n",
      " 19  ^N225                2083 non-null   float64\n",
      " 20  IEI                  2084 non-null   float64\n",
      " 21  CNYUSD=X             2084 non-null   float64\n",
      " 22  2Y_Yield             2084 non-null   float64\n",
      " 23  yield_curve          2084 non-null   float64\n",
      " 24  market_closed_count  2084 non-null   int64  \n",
      " 25  yield_curve_term     2084 non-null   float64\n",
      " 26  high-low             2084 non-null   float64\n",
      " 27  before_high-low      2083 non-null   float64\n",
      " 28  SPY_RSI              2071 non-null   float64\n",
      " 29  RSI_rank             2071 non-null   float64\n",
      " 30  RSI_rank_2           2084 non-null   int64  \n",
      " 31  EMA_20               2084 non-null   float64\n",
      " 32  EMA_50               2084 non-null   float64\n",
      " 33  EMA_200              2084 non-null   float64\n",
      " 34  EMA_20_50            2084 non-null   int64  \n",
      " 35  EMA_50_200           2084 non-null   int64  \n",
      " 36  EMA_50_diff          2084 non-null   float64\n",
      " 37  EMA_200_diff         2084 non-null   float64\n",
      "dtypes: float64(33), int64(5)\n",
      "memory usage: 635.0 KB\n",
      "<class 'pandas.core.frame.DataFrame'>\n",
      "DatetimeIndex: 2055 entries, 2017-02-14 to 2025-04-16\n",
      "Data columns (total 10 columns):\n",
      " #   Column      Non-Null Count  Dtype  \n",
      "---  ------      --------------  -----  \n",
      " 0   SPY_Close   2055 non-null   float64\n",
      " 1   SPY_Volume  2055 non-null   int64  \n",
      " 2   SPY_RSI     2055 non-null   float64\n",
      " 3   ^VIX        2055 non-null   float64\n",
      " 4   MSFT        2055 non-null   float64\n",
      " 5   ^TNX        2055 non-null   float64\n",
      " 6   SPY_std     2055 non-null   float64\n",
      " 7   SPY_mean    2055 non-null   float64\n",
      " 8   SPY_30      2055 non-null   float64\n",
      " 9   DX-Y.NYB    2055 non-null   float64\n",
      "dtypes: float64(9), int64(1)\n",
      "memory usage: 176.6 KB\n"
     ]
    }
   ],
   "source": [
    "spy_only = pd.read_pickle('combined_cleaned_add.pkl')\n",
    "spy_only.info()\n",
    "#spy_only = spy_only.merge(qqq, how='left', on='ds')\n",
    "spy_only['SPY_std'] = spy_only['SPY_Close'].rolling(window=5).std()\n",
    "spy_only['SPY_mean'] = spy_only['SPY_Close'].rolling(window=5).mean()\n",
    "spy_only['SPY_30'] = spy_only['SPY_Close'].rolling(window=30).mean()\n",
    "#spy_only['qqq_std'] = spy_only['QQQ_Close'].rolling(window=5).std()\n",
    "#spy_only['qqq_mean'] = spy_only['QQQ_Close'].rolling(window=5).mean()\n",
    "spy_only = spy_only.dropna()\n",
    "\n",
    "for_model = spy_only[['SPY_Close', 'SPY_Volume', 'SPY_RSI', '^VIX','MSFT','^TNX','SPY_std','SPY_mean','SPY_30','DX-Y.NYB']].dropna()\n",
    "#for_model = spy_only[['SPY_Close', 'SPY_Volume', 'SPY_RSI', '^VIX','MSFT','^TNX']].dropna()\n",
    "#spy_only = spy_only[ 'SPY_Close']\n",
    "for_model.info()"
   ]
  },
  {
   "cell_type": "markdown",
   "id": "6205c367",
   "metadata": {},
   "source": [
    "# Merge with QQQ"
   ]
  },
  {
   "cell_type": "code",
   "execution_count": 1163,
   "id": "bf9c27af",
   "metadata": {},
   "outputs": [
    {
     "name": "stdout",
     "output_type": "stream",
     "text": [
      "<class 'pandas.core.frame.DataFrame'>\n",
      "RangeIndex: 2055 entries, 0 to 2054\n",
      "Data columns (total 15 columns):\n",
      " #   Column      Non-Null Count  Dtype         \n",
      "---  ------      --------------  -----         \n",
      " 0   ds          2055 non-null   datetime64[ns]\n",
      " 1   SPY_Close   2055 non-null   float64       \n",
      " 2   SPY_Volume  2055 non-null   int64         \n",
      " 3   SPY_RSI     2055 non-null   float64       \n",
      " 4   ^VIX        2055 non-null   float64       \n",
      " 5   MSFT        2055 non-null   float64       \n",
      " 6   ^TNX        2055 non-null   float64       \n",
      " 7   SPY_std     2055 non-null   float64       \n",
      " 8   SPY_mean    2055 non-null   float64       \n",
      " 9   SPY_30      2055 non-null   float64       \n",
      " 10  DX-Y.NYB    2055 non-null   float64       \n",
      " 11  QQQ_Close   2055 non-null   float64       \n",
      " 12  QQQ_Volume  2055 non-null   int64         \n",
      " 13  qqq_std     2055 non-null   float64       \n",
      " 14  qqq_mean    2055 non-null   float64       \n",
      "dtypes: datetime64[ns](1), float64(12), int64(2)\n",
      "memory usage: 240.9 KB\n"
     ]
    }
   ],
   "source": [
    "for_model.reset_index(inplace=True)\n",
    "for_model.rename(columns={'Date': 'ds'}, inplace=True)\n",
    "for_model = for_model.merge(qqq, how='left', on='ds')\n",
    "#for_model = for_model.join(qqq, how='left')\n",
    "for_model.info()\n"
   ]
  },
  {
   "cell_type": "code",
   "execution_count": 999,
   "id": "45853b10",
   "metadata": {},
   "outputs": [
    {
     "name": "stdout",
     "output_type": "stream",
     "text": [
      "<class 'pandas.core.frame.DataFrame'>\n",
      "RangeIndex: 2055 entries, 0 to 2054\n",
      "Data columns (total 46 columns):\n",
      " #   Column               Non-Null Count  Dtype         \n",
      "---  ------               --------------  -----         \n",
      " 0   ds                   2055 non-null   datetime64[ns]\n",
      " 1   SPY_Close            2055 non-null   float64       \n",
      " 2   SPY_Volume           2055 non-null   int64         \n",
      " 3   AAPL                 2055 non-null   float64       \n",
      " 4   MSFT                 2055 non-null   float64       \n",
      " 5   GOOG                 2055 non-null   float64       \n",
      " 6   GLD                  2055 non-null   float64       \n",
      " 7   SLV                  2055 non-null   float64       \n",
      " 8   ^TNX                 2055 non-null   float64       \n",
      " 9   DX-Y.NYB             2055 non-null   float64       \n",
      " 10  JPY=X                2055 non-null   float64       \n",
      " 11  EUR=X                2055 non-null   float64       \n",
      " 12  USO                  2055 non-null   float64       \n",
      " 13  UNG                  2055 non-null   float64       \n",
      " 14  BTC-USD              2055 non-null   float64       \n",
      " 15  CPER                 2055 non-null   float64       \n",
      " 16  ^VIX                 2055 non-null   float64       \n",
      " 17  ^GDAXI               2055 non-null   float64       \n",
      " 18  ^FTSE                2055 non-null   float64       \n",
      " 19  ^RUT                 2055 non-null   float64       \n",
      " 20  ^N225                2055 non-null   float64       \n",
      " 21  IEI                  2055 non-null   float64       \n",
      " 22  CNYUSD=X             2055 non-null   float64       \n",
      " 23  2Y_Yield             2055 non-null   float64       \n",
      " 24  yield_curve          2055 non-null   float64       \n",
      " 25  market_closed_count  2055 non-null   int64         \n",
      " 26  yield_curve_term     2055 non-null   float64       \n",
      " 27  high-low             2055 non-null   float64       \n",
      " 28  before_high-low      2055 non-null   float64       \n",
      " 29  SPY_RSI              2055 non-null   float64       \n",
      " 30  RSI_rank             2055 non-null   float64       \n",
      " 31  RSI_rank_2           2055 non-null   int64         \n",
      " 32  EMA_20               2055 non-null   float64       \n",
      " 33  EMA_50               2055 non-null   float64       \n",
      " 34  EMA_200              2055 non-null   float64       \n",
      " 35  EMA_20_50            2055 non-null   int64         \n",
      " 36  EMA_50_200           2055 non-null   int64         \n",
      " 37  EMA_50_diff          2055 non-null   float64       \n",
      " 38  EMA_200_diff         2055 non-null   float64       \n",
      " 39  SPY_std              2055 non-null   float64       \n",
      " 40  SPY_mean             2055 non-null   float64       \n",
      " 41  SPY_30               2055 non-null   float64       \n",
      " 42  QQQ_Close            2055 non-null   float64       \n",
      " 43  QQQ_Volume           2055 non-null   int64         \n",
      " 44  qqq_std              2055 non-null   float64       \n",
      " 45  qqq_mean             2055 non-null   float64       \n",
      "dtypes: datetime64[ns](1), float64(39), int64(6)\n",
      "memory usage: 738.6 KB\n"
     ]
    }
   ],
   "source": [
    "# merge the big df with QQQ to export to pickle :\n",
    "spy = spy_only\n",
    "\n",
    "spy.reset_index(inplace=True)\n",
    "spy.rename(columns={'Date': 'ds'}, inplace=True)\n",
    "\n",
    "DF = spy.merge(qqq, how='left', on='ds')\n",
    "\n",
    "DF.info()\n",
    "DF.to_pickle('combined_cleaned_add_with_QQQ.pkl')"
   ]
  },
  {
   "cell_type": "code",
   "execution_count": 1479,
   "id": "3b854c54",
   "metadata": {},
   "outputs": [
    {
     "name": "stdout",
     "output_type": "stream",
     "text": [
      "<class 'pandas.core.frame.DataFrame'>\n",
      "RangeIndex: 2055 entries, 0 to 2054\n",
      "Data columns (total 45 columns):\n",
      " #   Column               Non-Null Count  Dtype  \n",
      "---  ------               --------------  -----  \n",
      " 0   SPY_Close            2055 non-null   float64\n",
      " 1   SPY_Volume           2055 non-null   int64  \n",
      " 2   AAPL                 2055 non-null   float64\n",
      " 3   MSFT                 2055 non-null   float64\n",
      " 4   GOOG                 2055 non-null   float64\n",
      " 5   GLD                  2055 non-null   float64\n",
      " 6   SLV                  2055 non-null   float64\n",
      " 7   ^TNX                 2055 non-null   float64\n",
      " 8   DX-Y.NYB             2055 non-null   float64\n",
      " 9   JPY=X                2055 non-null   float64\n",
      " 10  EUR=X                2055 non-null   float64\n",
      " 11  USO                  2055 non-null   float64\n",
      " 12  UNG                  2055 non-null   float64\n",
      " 13  BTC-USD              2055 non-null   float64\n",
      " 14  CPER                 2055 non-null   float64\n",
      " 15  ^VIX                 2055 non-null   float64\n",
      " 16  ^GDAXI               2055 non-null   float64\n",
      " 17  ^FTSE                2055 non-null   float64\n",
      " 18  ^RUT                 2055 non-null   float64\n",
      " 19  ^N225                2055 non-null   float64\n",
      " 20  IEI                  2055 non-null   float64\n",
      " 21  CNYUSD=X             2055 non-null   float64\n",
      " 22  2Y_Yield             2055 non-null   float64\n",
      " 23  yield_curve          2055 non-null   float64\n",
      " 24  market_closed_count  2055 non-null   int64  \n",
      " 25  yield_curve_term     2055 non-null   float64\n",
      " 26  high-low             2055 non-null   float64\n",
      " 27  before_high-low      2055 non-null   float64\n",
      " 28  SPY_RSI              2055 non-null   float64\n",
      " 29  RSI_rank             2055 non-null   float64\n",
      " 30  RSI_rank_2           2055 non-null   int64  \n",
      " 31  EMA_20               2055 non-null   float64\n",
      " 32  EMA_50               2055 non-null   float64\n",
      " 33  EMA_200              2055 non-null   float64\n",
      " 34  EMA_20_50            2055 non-null   int64  \n",
      " 35  EMA_50_200           2055 non-null   int64  \n",
      " 36  EMA_50_diff          2055 non-null   float64\n",
      " 37  EMA_200_diff         2055 non-null   float64\n",
      " 38  SPY_std              2055 non-null   float64\n",
      " 39  SPY_mean             2055 non-null   float64\n",
      " 40  SPY_30               2055 non-null   float64\n",
      " 41  QQQ_Close            2055 non-null   float64\n",
      " 42  QQQ_Volume           2055 non-null   int64  \n",
      " 43  qqq_std              2055 non-null   float64\n",
      " 44  qqq_mean             2055 non-null   float64\n",
      "dtypes: float64(39), int64(6)\n",
      "memory usage: 722.6 KB\n"
     ]
    }
   ],
   "source": [
    "model2_df = DF.copy()\n",
    "model2_df.drop('ds',axis=1, inplace=True)\n",
    "model2_df.info()"
   ]
  },
  {
   "cell_type": "markdown",
   "id": "a3832e47",
   "metadata": {},
   "source": [
    "# just to check , dont need to add:"
   ]
  },
  {
   "cell_type": "code",
   "execution_count": 605,
   "id": "3e5727ba",
   "metadata": {},
   "outputs": [
    {
     "name": "stdout",
     "output_type": "stream",
     "text": [
      "<class 'pandas.core.frame.DataFrame'>\n",
      "RangeIndex: 2071 entries, 0 to 2070\n",
      "Data columns (total 15 columns):\n",
      " #   Column         Non-Null Count  Dtype         \n",
      "---  ------         --------------  -----         \n",
      " 0   ds             2071 non-null   datetime64[ns]\n",
      " 1   SPY_Close      2071 non-null   float64       \n",
      " 2   SPY_Volume     2071 non-null   int64         \n",
      " 3   SPY_RSI        2071 non-null   float64       \n",
      " 4   ^VIX           2071 non-null   float64       \n",
      " 5   MSFT           2071 non-null   float64       \n",
      " 6   ^TNX           2071 non-null   float64       \n",
      " 7   QQQ_Close      2071 non-null   float64       \n",
      " 8   QQQ_Volume     2071 non-null   int64         \n",
      " 9   Actual_20year  1215 non-null   float64       \n",
      " 10  20year_gap     2071 non-null   float64       \n",
      " 11  Actual_10year  2059 non-null   float64       \n",
      " 12  10year_gap     2071 non-null   float64       \n",
      " 13  Actual_2year   2070 non-null   float64       \n",
      " 14  2year_gap      2071 non-null   float64       \n",
      "dtypes: datetime64[ns](1), float64(12), int64(2)\n",
      "memory usage: 242.8 KB\n"
     ]
    },
    {
     "name": "stderr",
     "output_type": "stream",
     "text": [
      "C:\\Users\\OMER\\AppData\\Local\\Temp\\ipykernel_28684\\683455931.py:6: FutureWarning: Series.fillna with 'method' is deprecated and will raise in a future version. Use obj.ffill() or obj.bfill() instead.\n",
      "  main[f'Actual_{lable}'] = main[f'Actual_{lable}'].fillna(method='ffill')\n",
      "C:\\Users\\OMER\\AppData\\Local\\Temp\\ipykernel_28684\\683455931.py:6: FutureWarning: Series.fillna with 'method' is deprecated and will raise in a future version. Use obj.ffill() or obj.bfill() instead.\n",
      "  main[f'Actual_{lable}'] = main[f'Actual_{lable}'].fillna(method='ffill')\n",
      "C:\\Users\\OMER\\AppData\\Local\\Temp\\ipykernel_28684\\683455931.py:6: FutureWarning: Series.fillna with 'method' is deprecated and will raise in a future version. Use obj.ffill() or obj.bfill() instead.\n",
      "  main[f'Actual_{lable}'] = main[f'Actual_{lable}'].fillna(method='ffill')\n"
     ]
    }
   ],
   "source": [
    "# add the treasury data :\n",
    "lst = [(df1,'20year'), (df2,'10year'), (df3,'2year')]\n",
    "def add_data(main,lst1):\n",
    "    for df,lable in lst:\n",
    "        main = main.merge(df, on='ds', how='left')\n",
    "        main[f'Actual_{lable}'] = main[f'Actual_{lable}'].fillna(method='ffill')\n",
    "        main[f'{lable}_gap'] = main[f'{lable}_gap'].fillna(-5)\n",
    "        main[f'{lable}_gap'] = main[f'{lable}_gap'].astype(float)\n",
    "    return main\n",
    "for_model = add_data(for_model, lst)\n",
    "for_model.info()"
   ]
  },
  {
   "cell_type": "markdown",
   "id": "4870a886",
   "metadata": {},
   "source": [
    "# Add some fetures"
   ]
  },
  {
   "cell_type": "code",
   "execution_count": null,
   "id": "27feadce",
   "metadata": {},
   "outputs": [
    {
     "name": "stdout",
     "output_type": "stream",
     "text": [
      "<class 'pandas.core.frame.DataFrame'>\n",
      "Index: 2042 entries, 29 to 2070\n",
      "Data columns (total 14 columns):\n",
      " #   Column      Non-Null Count  Dtype         \n",
      "---  ------      --------------  -----         \n",
      " 0   ds          2042 non-null   datetime64[ns]\n",
      " 1   SPY_Close   2042 non-null   float64       \n",
      " 2   SPY_Volume  2042 non-null   int64         \n",
      " 3   SPY_RSI     2042 non-null   float64       \n",
      " 4   ^VIX        2042 non-null   float64       \n",
      " 5   MSFT        2042 non-null   float64       \n",
      " 6   ^TNX        2042 non-null   float64       \n",
      " 7   QQQ_Close   2042 non-null   float64       \n",
      " 8   QQQ_Volume  2042 non-null   int64         \n",
      " 9   SPY_std     2042 non-null   float64       \n",
      " 10  SPY_mean    2042 non-null   float64       \n",
      " 11  SPY_30      2042 non-null   float64       \n",
      " 12  qqq_std     2042 non-null   float64       \n",
      " 13  qqq_mean    2042 non-null   float64       \n",
      "dtypes: datetime64[ns](1), float64(11), int64(2)\n",
      "memory usage: 239.3 KB\n"
     ]
    }
   ],
   "source": [
    "#for_model['SPY_std'] = for_model['SPY_Close'].rolling(window=5).std()\n",
    "#for_model['SPY_mean'] = for_model['SPY_Close'].rolling(window=5).mean()\n",
    "#for_model['SPY_30'] = for_model['SPY_Close'].rolling(window=30).mean()\n",
    "#for_model['qqq_std'] = for_model['QQQ_Close'].rolling(window=5).std()\n",
    "#for_model['qqq_mean'] = for_model['QQQ_Close'].rolling(window=5).mean()\n",
    "#for_model = for_model.dropna()\n",
    "#for_model.info()"
   ]
  },
  {
   "cell_type": "code",
   "execution_count": 25,
   "id": "6b134483",
   "metadata": {},
   "outputs": [
    {
     "name": "stdout",
     "output_type": "stream",
     "text": [
      "<class 'pandas.core.frame.DataFrame'>\n",
      "DatetimeIndex: 2084 entries, 2017-01-03 to 2025-04-16\n",
      "Data columns (total 1 columns):\n",
      " #   Column     Non-Null Count  Dtype  \n",
      "---  ------     --------------  -----  \n",
      " 0   SPY_Close  2084 non-null   float64\n",
      "dtypes: float64(1)\n",
      "memory usage: 97.1 KB\n"
     ]
    }
   ],
   "source": [
    "spy_only = spy_only.to_frame()\n",
    "spy_only.info()"
   ]
  },
  {
   "cell_type": "code",
   "execution_count": 140,
   "id": "a3954f16",
   "metadata": {},
   "outputs": [],
   "source": [
    "spy_only = spy_only.iloc[:,:2]"
   ]
  },
  {
   "cell_type": "code",
   "execution_count": null,
   "id": "dd8f2fc5",
   "metadata": {},
   "outputs": [],
   "source": [
    "#x1 = return_data.drop(columns=['SPY_return','ds'])\n",
    "#y1 = return_data['SPY_return']\n",
    "#scale1 = MinMaxScaler()\n",
    "#X_scaled1 = scale1.fit_transform(x1)\n",
    "#y_scaled1 = scale1.fit_transform(y1.values.reshape(-1, 1))"
   ]
  },
  {
   "cell_type": "markdown",
   "id": "2288a860",
   "metadata": {},
   "source": [
    "# Normilize"
   ]
  },
  {
   "cell_type": "code",
   "execution_count": 1164,
   "id": "fe851a75",
   "metadata": {},
   "outputs": [
    {
     "name": "stdout",
     "output_type": "stream",
     "text": [
      "The model will get 14 features for each timestep\n"
     ]
    }
   ],
   "source": [
    "for_model = for_model.drop(columns=['ds'])\n",
    "#features = ['Price', 'Rolling Mean 5', 'Rolling Mean 30', 'Rolling Std 5', 'Rolling Std 30']\n",
    "scaler = MinMaxScaler()\n",
    "#arr = spy_only.values.reshape(-1, 1) \n",
    "\n",
    "scaled_data = scaler.fit_transform(for_model)\n",
    "#scaled_data = scaler.fit_transform(spy_only['SPY_Close'].values.reshape(-1, 1))\n",
    "print(f\"The model will get {scaled_data.shape[1]} features for each timestep\")"
   ]
  },
  {
   "cell_type": "markdown",
   "id": "0a68d443",
   "metadata": {},
   "source": [
    "# Creat sequence"
   ]
  },
  {
   "cell_type": "code",
   "execution_count": 1227,
   "id": "ce51d530",
   "metadata": {},
   "outputs": [],
   "source": [
    "def create_sequences_multifeature(data, window_size):\n",
    "    X, y = [], []\n",
    "    for i in range(window_size, len(data)):\n",
    "        X.append(data[i - window_size:i])\n",
    "        y.append(data[i, 0])  # תחזית רק למחיר\n",
    "    return np.array(X), np.array(y)\n",
    "\n",
    "window_size = 22\n",
    "X, y = create_sequences_multifeature(scaled_data, window_size)"
   ]
  },
  {
   "cell_type": "code",
   "execution_count": 533,
   "id": "b723885b",
   "metadata": {},
   "outputs": [
    {
     "name": "stdout",
     "output_type": "stream",
     "text": [
      "[0.01113457 0.01061502 0.01078906 ... 0.81105019 0.80865937 0.77770533]\n"
     ]
    }
   ],
   "source": [
    "print(y)"
   ]
  },
  {
   "cell_type": "code",
   "execution_count": null,
   "id": "f05b8d81",
   "metadata": {},
   "outputs": [
    {
     "name": "stdout",
     "output_type": "stream",
     "text": [
      "14\n"
     ]
    }
   ],
   "source": [
    "split = int(0.8 * len(X))\n",
    "X_train, X_test = X[:split], X[split:]\n",
    "y_train, y_test = y[:split], y[split:]\n",
    "print(X.shape[2])"
   ]
  },
  {
   "cell_type": "markdown",
   "id": "675d6116",
   "metadata": {},
   "source": [
    "### A function to prepare the data "
   ]
  },
  {
   "cell_type": "code",
   "execution_count": 1480,
   "id": "116c213d",
   "metadata": {},
   "outputs": [],
   "source": [
    "def prepare_RNN_data(data,window_size,split_ratio=0.8):\n",
    "    scaler = MinMaxScaler()\n",
    "    scaled_data = scaler.fit_transform(data)\n",
    "\n",
    "    X, y = create_sequences_multifeature(scaled_data, window_size)\n",
    "    split = int(split_ratio * len(X))\n",
    "    X_train, X_test = X[:split], X[split:]\n",
    "    y_train, y_test = y[:split], y[split:]\n",
    "    return X_train, X_test, y_train, y_test"
   ]
  },
  {
   "cell_type": "code",
   "execution_count": 1482,
   "id": "93e379a2",
   "metadata": {},
   "outputs": [],
   "source": [
    "window_size = 30\n",
    "X_train, X_test, y_train, y_test = prepare_RNN_data(model2_df, 30) # for sequence length of 30"
   ]
  },
  {
   "cell_type": "markdown",
   "id": "be2980dc",
   "metadata": {},
   "source": [
    "# Loop to pick the best layers :"
   ]
  },
  {
   "cell_type": "markdown",
   "id": "bbda90a3",
   "metadata": {},
   "source": [
    "### 4 layers :"
   ]
  },
  {
   "cell_type": "code",
   "execution_count": 972,
   "id": "2eb031e8",
   "metadata": {},
   "outputs": [
    {
     "name": "stderr",
     "output_type": "stream",
     "text": [
      "c:\\Users\\OMER\\PycharmProjects\\Project\\.venv\\lib\\site-packages\\keras\\src\\layers\\rnn\\rnn.py:200: UserWarning: Do not pass an `input_shape`/`input_dim` argument to a layer. When using Sequential models, prefer using an `Input(shape)` object as the first layer in the model instead.\n",
      "  super().__init__(**kwargs)\n"
     ]
    },
    {
     "name": "stdout",
     "output_type": "stream",
     "text": [
      "Best validation loss 0.0004690174828283489 with (1, (98,))\n"
     ]
    }
   ],
   "source": [
    "import itertools\n",
    "import tensorflow as tf\n",
    "\n",
    "best_val = float(\"inf\")\n",
    "best_config = None\n",
    "for n_layers in [1,2,3,4]:\n",
    "    for units_combo in itertools.product([32,64,98,128], repeat=n_layers):\n",
    "        # manually build a model with n_layers and units_combo\n",
    "        model = Sequential()\n",
    "        for i, u in enumerate(units_combo):\n",
    "            ret_seq = (i < n_layers - 1)\n",
    "            if i == 0:\n",
    "                model.add(GRU(u, return_sequences=ret_seq,\n",
    "                              input_shape=(window_size, X_train.shape[2])))\n",
    "            else:\n",
    "                model.add(GRU(u, return_sequences=ret_seq))\n",
    "        model.add(Dense(32,activation='relu')) # this I added to improve performance\n",
    "        model.add(Dense(1))\n",
    "        model.compile(optimizer=\"adam\", loss=\"mse\")\n",
    "        history = model.fit(\n",
    "            X_train, y_train,\n",
    "            epochs=20, batch_size=32,\n",
    "            validation_data=(X_test, y_test),\n",
    "            callbacks=[tf.keras.callbacks.EarlyStopping(patience=3, monitor=\"val_loss\")],\n",
    "            verbose=0\n",
    "        )\n",
    "        val_loss = min(history.history[\"val_loss\"])\n",
    "        if val_loss < best_val:\n",
    "            best_val = val_loss\n",
    "            best_config = (n_layers, units_combo)\n",
    "\n",
    "print(\"Best validation loss\", best_val, \"with\", best_config)\n"
   ]
  },
  {
   "cell_type": "markdown",
   "id": "a5831cd6",
   "metadata": {},
   "source": [
    "### 3 layers :"
   ]
  },
  {
   "cell_type": "code",
   "execution_count": 1012,
   "id": "3957f07b",
   "metadata": {},
   "outputs": [
    {
     "name": "stderr",
     "output_type": "stream",
     "text": [
      "c:\\Users\\OMER\\PycharmProjects\\Project\\.venv\\lib\\site-packages\\keras\\src\\layers\\rnn\\rnn.py:200: UserWarning: Do not pass an `input_shape`/`input_dim` argument to a layer. When using Sequential models, prefer using an `Input(shape)` object as the first layer in the model instead.\n",
      "  super().__init__(**kwargs)\n"
     ]
    },
    {
     "name": "stdout",
     "output_type": "stream",
     "text": [
      "Best validation loss 0.00042345275869593024 with (2, (98, 98))\n"
     ]
    }
   ],
   "source": [
    "import itertools\n",
    "import tensorflow as tf\n",
    "\n",
    "best_val = float(\"inf\")\n",
    "best_config = None\n",
    "for n_layers in [1,2,3]:\n",
    "    for units_combo in itertools.product([32,64,98], repeat=n_layers):\n",
    "        # manually build a model with n_layers and units_combo\n",
    "        model = Sequential()\n",
    "        for i, u in enumerate(units_combo):\n",
    "            ret_seq = (i < n_layers - 1)\n",
    "            if i == 0:\n",
    "                model.add(GRU(u, return_sequences=ret_seq,\n",
    "                              input_shape=(window_size, X_train.shape[2])))\n",
    "            else:\n",
    "                model.add(GRU(u, return_sequences=ret_seq))\n",
    "        #model.add(Dense(16,activation='relu')) # this I added to improve performance\n",
    "        model.add(Dense(1))\n",
    "        model.compile(optimizer=\"adam\", loss=\"mse\")\n",
    "        history = model.fit(\n",
    "            X_train, y_train,\n",
    "            epochs=20, batch_size=32,\n",
    "            validation_data=(X_test, y_test),\n",
    "            callbacks=[tf.keras.callbacks.EarlyStopping(patience=3, monitor=\"val_loss\")],\n",
    "            verbose=0\n",
    "        )\n",
    "        val_loss = min(history.history[\"val_loss\"])\n",
    "        if val_loss < best_val:\n",
    "            best_val = val_loss\n",
    "            best_config = (n_layers, units_combo)\n",
    "\n",
    "print(\"Best validation loss\", best_val, \"with\", best_config)\n"
   ]
  },
  {
   "cell_type": "markdown",
   "id": "cb89eff9",
   "metadata": {},
   "source": [
    "# To identify rhe nest hyperparameters (Big program):"
   ]
  },
  {
   "cell_type": "code",
   "execution_count": null,
   "id": "e4545b72",
   "metadata": {},
   "outputs": [],
   "source": [
    "import tensorflow as tf\n",
    "from tensorflow.keras.models import Sequential\n",
    "from tensorflow.keras.layers import GRU, Dense, Dropout\n",
    "import kerastuner as kt   # or `import keras_tuner as kt` depending on your version\n",
    "\n",
    "def build_model(hp):\n",
    "    \"\"\"\n",
    "    This function returns a compiled Keras model whose architecture\n",
    "    depends on hyperparameters chosen by KerasTuner.\n",
    "    \"\"\"\n",
    "    model = Sequential()\n",
    "    # Input shape = (timesteps, n_features)\n",
    "    # We will assume window_size and n_features are known globally or passed in somehow:\n",
    "    window_size = 5\n",
    "    n_features = X_train.shape[2]\n",
    "\n",
    "    # 1) Choose how many GRU layers to stack (from 1 to 4).\n",
    "    n_layers = hp.Int(\"n_gru_layers\", min_value=1, max_value=4, step=1)\n",
    "\n",
    "    for i in range(n_layers):\n",
    "        # 2) For each layer, choose a unit size from {16, 32, 64, 128, 256}\n",
    "        units = hp.Choice(f\"gru_units_{i}\", [16, 32, 64, 128, 256])\n",
    "\n",
    "        # 3) If it's the **last** GRU layer in the stack, we do NOT return sequences;\n",
    "        #    otherwise, set return_sequences=True so the next GRU can read a full 3D tensor.\n",
    "        return_seq = True if (i < n_layers - 1) else False\n",
    "\n",
    "        if i == 0:\n",
    "            # First GRU needs input_shape\n",
    "            model.add(\n",
    "                GRU(\n",
    "                    units,\n",
    "                    return_sequences=return_seq,\n",
    "                    input_shape=(window_size, n_features)\n",
    "                )\n",
    "            )\n",
    "        else:\n",
    "            # Subsequent GRUs pick up from the previous layer’s output\n",
    "            model.add(GRU(units, return_sequences=return_seq))\n",
    "\n",
    "        # 4) Optionally tune a dropout rate after each GRU\n",
    "        if hp.Boolean(f\"use_dropout_after_gru_{i}\"):\n",
    "            rate = hp.Float(f\"dropout_rate_{i}\",  min_value=0.0, max_value=0.5, step=0.1)\n",
    "            model.add(Dropout(rate))\n",
    "\n",
    "    # 5) Now stack one or two Dense layers before the final output.\n",
    "    n_dense_layers = hp.Int(\"n_dense_layers\", min_value=0, max_value=2, step=1)\n",
    "    for j in range(n_dense_layers):\n",
    "        dense_units = hp.Choice(f\"dense_units_{j}\", [16, 32, 64, 128])\n",
    "        model.add(Dense(dense_units, activation=\"relu\"))\n",
    "\n",
    "    # 6) Final output is a single number (e.g. regression)\n",
    "    model.add(Dense(1, activation=\"linear\"))\n",
    "\n",
    "    # 7) Choose optimizer and learning rate\n",
    "    lr = hp.Float(\"learning_rate\", min_value=1e-4, max_value=1e-2, sampling=\"log\")\n",
    "    model.compile(\n",
    "        optimizer=tf.keras.optimizers.Adam(learning_rate=lr),\n",
    "        loss=\"mse\",\n",
    "        metrics=[\"mae\"]\n",
    "    )\n",
    "    return model\n"
   ]
  },
  {
   "cell_type": "code",
   "execution_count": null,
   "id": "a5d2e36d",
   "metadata": {},
   "outputs": [],
   "source": [
    "from kerastuner import RandomSearch\n",
    "\n",
    "tuner = RandomSearch(\n",
    "    build_model,\n",
    "    objective=\"val_mae\",        # Or \"val_loss\", whatever you want to minimize\n",
    "    max_trials=20,              # how many different hyperparameter combos to try\n",
    "    executions_per_trial=1,     # how many times to train each model (averaging results)\n",
    "    directory=\"my_tuner_dir\",\n",
    "    project_name=\"gru_architecture_search\"\n",
    ")\n",
    "\n",
    "# Display search space summary:\n",
    "tuner.search_space_summary()\n",
    "\n",
    "# Now run the search. Supply your training data + a validation split or separate (X_val, y_val).\n",
    "tuner.search(\n",
    "    X_train,        # shape = (n_samples, window_size, n_features)\n",
    "    y_train,        # shape = (n_samples, )\n",
    "    epochs=50,\n",
    "    batch_size=32,\n",
    "    validation_data=(X_val, y_val),\n",
    "    callbacks=[tf.keras.callbacks.EarlyStopping(monitor=\"val_loss\", patience=5)]\n",
    ")\n"
   ]
  },
  {
   "cell_type": "markdown",
   "id": "38dcc137",
   "metadata": {},
   "source": [
    "### Pick the best Parameters"
   ]
  },
  {
   "cell_type": "code",
   "execution_count": null,
   "id": "2fef86a1",
   "metadata": {},
   "outputs": [],
   "source": [
    "# Show a summary of the best hyperparameters found\n",
    "tuner.results_summary()\n",
    "\n",
    "# Retrieve the best hyperparameters\n",
    "best_hps = tuner.get_best_hyperparameters(num_trials=1)[0]\n",
    "print(\"Best # GRU layers:\",\n",
    "      best_hps.get(\"n_gru_layers\"))\n",
    "for i in range(best_hps.get(\"n_gru_layers\")):\n",
    "    print(\" GRU units in layer\", i, \"→\", best_hps.get(f\"gru_units_{i}\"))\n",
    "    print(\" Use dropout after GRU layer\", i, \"=\", best_hps.get(f\"use_dropout_after_gru_{i}\"))\n",
    "    if best_hps.get(f\"use_dropout_after_gru_{i}\"):\n",
    "        print(\"  Dropout rate:\", best_hps.get(f\"dropout_rate_{i}\"))\n",
    "\n",
    "print(\"Best # Dense layers:\", best_hps.get(\"n_dense_layers\"))\n",
    "for j in range(best_hps.get(\"n_dense_layers\")):\n",
    "    print(\" Dense units in layer\", j, \"→\", best_hps.get(f\"dense_units_{j}\"))\n",
    "\n",
    "print(\"Best learning rate:\", best_hps.get(\"learning_rate\"))\n",
    "\n",
    "# Retrieve a compiled model using those hyperparameters, then train it to convergence:\n",
    "model = tuner.hypermodel.build(best_hps)\n",
    "history = model.fit(\n",
    "    X_train, y_train,\n",
    "    epochs=100,\n",
    "    batch_size=32,\n",
    "    validation_data=(X_val, y_val),\n",
    "    callbacks=[tf.keras.callbacks.EarlyStopping(monitor=\"val_loss\", patience=10)]\n",
    ")\n"
   ]
  },
  {
   "cell_type": "markdown",
   "id": "9ff7fce4",
   "metadata": {},
   "source": [
    "# Training functions:"
   ]
  },
  {
   "cell_type": "code",
   "execution_count": 1532,
   "id": "aed63be3",
   "metadata": {},
   "outputs": [],
   "source": [
    "\n",
    "from tensorflow.keras.callbacks import EarlyStopping, ModelCheckpoint\n",
    "\n",
    "def train_lstm(\n",
    "    X_train, y_train,\n",
    "    learning_rate=0.001,\n",
    "    epochs=20,\n",
    "    num_layers=1,\n",
    "    units=(64,),\n",
    "    window_size=None,\n",
    "    batch_size=32,\n",
    "    validation_split=0.2,\n",
    "    patience=3,\n",
    "    checkpoint_path='best_lstm.h5',\n",
    "    dense_units=None,\n",
    "    dense_activation='relu'\n",
    "):\n",
    "    \"\"\"\n",
    "    Builds, compiles, and trains a multi-layer LSTM model, with optional intermediate Dense layer.\n",
    "\n",
    "    Parameters:\n",
    "    - X_train, y_train: training data arrays\n",
    "    - learning_rate: float, optimizer learning rate\n",
    "    - epochs: int, max training epochs\n",
    "    - num_layers: int, number of LSTM layers\n",
    "    - units: tuple of ints, units per LSTM layer (length must equal num_layers)\n",
    "    - window_size: int, sequence length (timesteps)\n",
    "    - batch_size: int\n",
    "    - validation_split: float\n",
    "    - patience: int, early stopping patience\n",
    "    - checkpoint_path: str, filepath to save best model\n",
    "    - dense_units: int or None, if specified adds Dense(dense_units, activation=dense_activation)\n",
    "    - dense_activation: str, activation for the optional Dense layer\n",
    "\n",
    "    Returns:\n",
    "    - model: trained Keras model\n",
    "    - history: training history\n",
    "    \"\"\"\n",
    "    if num_layers != len(units):\n",
    "        raise ValueError(f\"num_layers ({num_layers}) must equal length of units tuple ({len(units)})\")\n",
    "    \n",
    "    opt = Adam(learning_rate=learning_rate)\n",
    "    model = Sequential()\n",
    "    \n",
    "    # Add LSTM layers\n",
    "    for i, u in enumerate(units):\n",
    "        return_seq = (i < num_layers - 1)\n",
    "        if i == 0:\n",
    "            model.add(LSTM(u, return_sequences=return_seq, input_shape=(window_size, X_train.shape[2])))\n",
    "        else:\n",
    "            model.add(LSTM(u, return_sequences=return_seq))\n",
    "    \n",
    "    # Optional Dense layer\n",
    "    if dense_units is not None:\n",
    "        model.add(Dense(dense_units, activation=dense_activation))\n",
    "    # Output layer\n",
    "    model.add(Dense(1))\n",
    "    \n",
    "    model.compile(optimizer=opt, loss='mse')\n",
    "    \n",
    "    es = EarlyStopping(monitor='val_loss', patience=patience, restore_best_weights=True)\n",
    "    chk = ModelCheckpoint(filepath=checkpoint_path, monitor='val_loss',\n",
    "                          save_best_only=True, verbose=1)\n",
    "    \n",
    "    history = model.fit(\n",
    "        X_train, y_train,\n",
    "        epochs=epochs,\n",
    "        batch_size=batch_size,\n",
    "        validation_split=validation_split,\n",
    "        callbacks=[es, chk],\n",
    "        verbose=1\n",
    "    )\n",
    "    return model, history\n",
    "\n",
    "def train_gru(\n",
    "    X_train, y_train,\n",
    "    learning_rate=0.001,\n",
    "    epochs=20,\n",
    "    num_layers=1,\n",
    "    units=(64,),\n",
    "    window_size=None,\n",
    "    batch_size=32,\n",
    "    validation_split=0.2,\n",
    "    patience=3,\n",
    "    checkpoint_path='best_gru.h5',\n",
    "    dense_units=None,\n",
    "    dense_activation='relu'\n",
    "):\n",
    "    \"\"\"\n",
    "    Builds, compiles, and trains a multi-layer GRU model (on GPU if available), with optional Dense layer.\n",
    "\n",
    "    Parameters: same as train_lstm.\n",
    "    \"\"\"\n",
    "    if num_layers != len(units):\n",
    "        raise ValueError(f\"num_layers ({num_layers}) must equal length of units tuple ({len(units)})\")\n",
    "    \n",
    "    # Choose device\n",
    "    device = '/GPU:0' if tf.config.list_physical_devices('GPU') else '/CPU:0'\n",
    "    with tf.device(device):\n",
    "        opt = Adam(learning_rate=learning_rate)\n",
    "        model = Sequential()\n",
    "        # Add GRU layers\n",
    "        for i, u in enumerate(units):\n",
    "            return_seq = (i < num_layers - 1)\n",
    "            if i == 0:\n",
    "                model.add(GRU(u, return_sequences=return_seq, input_shape=(window_size, X_train.shape[2])))\n",
    "            else:\n",
    "                model.add(GRU(u, return_sequences=return_seq))\n",
    "        # Optional Dense layer\n",
    "        if dense_units is not None:\n",
    "            model.add(Dense(dense_units, activation=dense_activation))\n",
    "        # Output layer\n",
    "        model.add(Dense(1))\n",
    "        model.compile(optimizer=opt, loss='mse')\n",
    "    \n",
    "    es = EarlyStopping(monitor='val_loss', patience=patience, restore_best_weights=True)\n",
    "    chk = ModelCheckpoint(filepath=checkpoint_path, monitor='val_loss',\n",
    "                          save_best_only=True, verbose=1)\n",
    "    \n",
    "    history = model.fit(\n",
    "        X_train, y_train,\n",
    "        epochs=epochs,\n",
    "        batch_size=batch_size,\n",
    "        validation_split=validation_split,\n",
    "        callbacks=[es, chk],\n",
    "        verbose=1\n",
    "    )\n",
    "    return model, history\n"
   ]
  },
  {
   "cell_type": "code",
   "execution_count": 1543,
   "id": "f7d56cb0",
   "metadata": {},
   "outputs": [
    {
     "name": "stdout",
     "output_type": "stream",
     "text": [
      "Epoch 1/30\n",
      "\u001b[1m41/41\u001b[0m \u001b[32m━━━━━━━━━━━━━━━━━━━━\u001b[0m\u001b[37m\u001b[0m \u001b[1m0s\u001b[0m 158ms/step - loss: 0.0574\n",
      "Epoch 1: val_loss improved from inf to 0.01312, saving model to best_lstm.h5\n"
     ]
    },
    {
     "name": "stderr",
     "output_type": "stream",
     "text": [
      "WARNING:absl:You are saving your model as an HDF5 file via `model.save()` or `keras.saving.save_model(model)`. This file format is considered legacy. We recommend using instead the native Keras format, e.g. `model.save('my_model.keras')` or `keras.saving.save_model(model, 'my_model.keras')`. \n"
     ]
    },
    {
     "name": "stdout",
     "output_type": "stream",
     "text": [
      "\u001b[1m41/41\u001b[0m \u001b[32m━━━━━━━━━━━━━━━━━━━━\u001b[0m\u001b[37m\u001b[0m \u001b[1m10s\u001b[0m 181ms/step - loss: 0.0567 - val_loss: 0.0131\n",
      "Epoch 2/30\n",
      "\u001b[1m41/41\u001b[0m \u001b[32m━━━━━━━━━━━━━━━━━━━━\u001b[0m\u001b[37m\u001b[0m \u001b[1m0s\u001b[0m 157ms/step - loss: 0.0011\n",
      "Epoch 2: val_loss improved from 0.01312 to 0.00256, saving model to best_lstm.h5\n"
     ]
    },
    {
     "name": "stderr",
     "output_type": "stream",
     "text": [
      "WARNING:absl:You are saving your model as an HDF5 file via `model.save()` or `keras.saving.save_model(model)`. This file format is considered legacy. We recommend using instead the native Keras format, e.g. `model.save('my_model.keras')` or `keras.saving.save_model(model, 'my_model.keras')`. \n"
     ]
    },
    {
     "name": "stdout",
     "output_type": "stream",
     "text": [
      "\u001b[1m41/41\u001b[0m \u001b[32m━━━━━━━━━━━━━━━━━━━━\u001b[0m\u001b[37m\u001b[0m \u001b[1m7s\u001b[0m 172ms/step - loss: 0.0011 - val_loss: 0.0026\n",
      "Epoch 3/30\n",
      "\u001b[1m41/41\u001b[0m \u001b[32m━━━━━━━━━━━━━━━━━━━━\u001b[0m\u001b[37m\u001b[0m \u001b[1m0s\u001b[0m 156ms/step - loss: 7.0630e-04\n",
      "Epoch 3: val_loss improved from 0.00256 to 0.00168, saving model to best_lstm.h5\n"
     ]
    },
    {
     "name": "stderr",
     "output_type": "stream",
     "text": [
      "WARNING:absl:You are saving your model as an HDF5 file via `model.save()` or `keras.saving.save_model(model)`. This file format is considered legacy. We recommend using instead the native Keras format, e.g. `model.save('my_model.keras')` or `keras.saving.save_model(model, 'my_model.keras')`. \n"
     ]
    },
    {
     "name": "stdout",
     "output_type": "stream",
     "text": [
      "\u001b[1m41/41\u001b[0m \u001b[32m━━━━━━━━━━━━━━━━━━━━\u001b[0m\u001b[37m\u001b[0m \u001b[1m7s\u001b[0m 171ms/step - loss: 7.0632e-04 - val_loss: 0.0017\n",
      "Epoch 4/30\n",
      "\u001b[1m41/41\u001b[0m \u001b[32m━━━━━━━━━━━━━━━━━━━━\u001b[0m\u001b[37m\u001b[0m \u001b[1m0s\u001b[0m 154ms/step - loss: 4.1158e-04\n",
      "Epoch 4: val_loss improved from 0.00168 to 0.00157, saving model to best_lstm.h5\n"
     ]
    },
    {
     "name": "stderr",
     "output_type": "stream",
     "text": [
      "WARNING:absl:You are saving your model as an HDF5 file via `model.save()` or `keras.saving.save_model(model)`. This file format is considered legacy. We recommend using instead the native Keras format, e.g. `model.save('my_model.keras')` or `keras.saving.save_model(model, 'my_model.keras')`. \n"
     ]
    },
    {
     "name": "stdout",
     "output_type": "stream",
     "text": [
      "\u001b[1m41/41\u001b[0m \u001b[32m━━━━━━━━━━━━━━━━━━━━\u001b[0m\u001b[37m\u001b[0m \u001b[1m7s\u001b[0m 169ms/step - loss: 4.1346e-04 - val_loss: 0.0016\n",
      "Epoch 5/30\n",
      "\u001b[1m41/41\u001b[0m \u001b[32m━━━━━━━━━━━━━━━━━━━━\u001b[0m\u001b[37m\u001b[0m \u001b[1m0s\u001b[0m 156ms/step - loss: 4.0641e-04\n",
      "Epoch 5: val_loss did not improve from 0.00157\n",
      "\u001b[1m41/41\u001b[0m \u001b[32m━━━━━━━━━━━━━━━━━━━━\u001b[0m\u001b[37m\u001b[0m \u001b[1m7s\u001b[0m 170ms/step - loss: 4.0648e-04 - val_loss: 0.0031\n",
      "Epoch 6/30\n",
      "\u001b[1m41/41\u001b[0m \u001b[32m━━━━━━━━━━━━━━━━━━━━\u001b[0m\u001b[37m\u001b[0m \u001b[1m0s\u001b[0m 157ms/step - loss: 4.5550e-04\n",
      "Epoch 6: val_loss did not improve from 0.00157\n",
      "\u001b[1m41/41\u001b[0m \u001b[32m━━━━━━━━━━━━━━━━━━━━\u001b[0m\u001b[37m\u001b[0m \u001b[1m7s\u001b[0m 170ms/step - loss: 4.5604e-04 - val_loss: 0.0033\n",
      "Epoch 7/30\n",
      "\u001b[1m41/41\u001b[0m \u001b[32m━━━━━━━━━━━━━━━━━━━━\u001b[0m\u001b[37m\u001b[0m \u001b[1m0s\u001b[0m 155ms/step - loss: 4.9223e-04\n",
      "Epoch 7: val_loss did not improve from 0.00157\n",
      "\u001b[1m41/41\u001b[0m \u001b[32m━━━━━━━━━━━━━━━━━━━━\u001b[0m\u001b[37m\u001b[0m \u001b[1m7s\u001b[0m 169ms/step - loss: 4.9222e-04 - val_loss: 0.0016\n",
      "Epoch 8/30\n",
      "\u001b[1m41/41\u001b[0m \u001b[32m━━━━━━━━━━━━━━━━━━━━\u001b[0m\u001b[37m\u001b[0m \u001b[1m0s\u001b[0m 157ms/step - loss: 3.6889e-04\n",
      "Epoch 8: val_loss did not improve from 0.00157\n",
      "\u001b[1m41/41\u001b[0m \u001b[32m━━━━━━━━━━━━━━━━━━━━\u001b[0m\u001b[37m\u001b[0m \u001b[1m7s\u001b[0m 170ms/step - loss: 3.6975e-04 - val_loss: 0.0035\n",
      "Epoch 9/30\n",
      "\u001b[1m41/41\u001b[0m \u001b[32m━━━━━━━━━━━━━━━━━━━━\u001b[0m\u001b[37m\u001b[0m \u001b[1m0s\u001b[0m 156ms/step - loss: 3.7415e-04\n",
      "Epoch 9: val_loss improved from 0.00157 to 0.00126, saving model to best_lstm.h5\n"
     ]
    },
    {
     "name": "stderr",
     "output_type": "stream",
     "text": [
      "WARNING:absl:You are saving your model as an HDF5 file via `model.save()` or `keras.saving.save_model(model)`. This file format is considered legacy. We recommend using instead the native Keras format, e.g. `model.save('my_model.keras')` or `keras.saving.save_model(model, 'my_model.keras')`. \n"
     ]
    },
    {
     "name": "stdout",
     "output_type": "stream",
     "text": [
      "\u001b[1m41/41\u001b[0m \u001b[32m━━━━━━━━━━━━━━━━━━━━\u001b[0m\u001b[37m\u001b[0m \u001b[1m7s\u001b[0m 171ms/step - loss: 3.7349e-04 - val_loss: 0.0013\n",
      "Epoch 10/30\n",
      "\u001b[1m41/41\u001b[0m \u001b[32m━━━━━━━━━━━━━━━━━━━━\u001b[0m\u001b[37m\u001b[0m \u001b[1m0s\u001b[0m 159ms/step - loss: 2.9043e-04\n",
      "Epoch 10: val_loss did not improve from 0.00126\n",
      "\u001b[1m41/41\u001b[0m \u001b[32m━━━━━━━━━━━━━━━━━━━━\u001b[0m\u001b[37m\u001b[0m \u001b[1m7s\u001b[0m 172ms/step - loss: 2.9107e-04 - val_loss: 0.0030\n",
      "Epoch 11/30\n",
      "\u001b[1m41/41\u001b[0m \u001b[32m━━━━━━━━━━━━━━━━━━━━\u001b[0m\u001b[37m\u001b[0m \u001b[1m0s\u001b[0m 157ms/step - loss: 3.2391e-04\n",
      "Epoch 11: val_loss did not improve from 0.00126\n",
      "\u001b[1m41/41\u001b[0m \u001b[32m━━━━━━━━━━━━━━━━━━━━\u001b[0m\u001b[37m\u001b[0m \u001b[1m7s\u001b[0m 171ms/step - loss: 3.2397e-04 - val_loss: 0.0029\n",
      "Epoch 12/30\n",
      "\u001b[1m41/41\u001b[0m \u001b[32m━━━━━━━━━━━━━━━━━━━━\u001b[0m\u001b[37m\u001b[0m \u001b[1m0s\u001b[0m 157ms/step - loss: 3.0944e-04\n",
      "Epoch 12: val_loss did not improve from 0.00126\n",
      "\u001b[1m41/41\u001b[0m \u001b[32m━━━━━━━━━━━━━━━━━━━━\u001b[0m\u001b[37m\u001b[0m \u001b[1m7s\u001b[0m 171ms/step - loss: 3.0971e-04 - val_loss: 0.0016\n",
      "Epoch 13/30\n",
      "\u001b[1m41/41\u001b[0m \u001b[32m━━━━━━━━━━━━━━━━━━━━\u001b[0m\u001b[37m\u001b[0m \u001b[1m0s\u001b[0m 156ms/step - loss: 3.0434e-04\n",
      "Epoch 13: val_loss did not improve from 0.00126\n",
      "\u001b[1m41/41\u001b[0m \u001b[32m━━━━━━━━━━━━━━━━━━━━\u001b[0m\u001b[37m\u001b[0m \u001b[1m7s\u001b[0m 169ms/step - loss: 3.0354e-04 - val_loss: 0.0041\n",
      "Epoch 14/30\n",
      "\u001b[1m41/41\u001b[0m \u001b[32m━━━━━━━━━━━━━━━━━━━━\u001b[0m\u001b[37m\u001b[0m \u001b[1m0s\u001b[0m 155ms/step - loss: 5.0612e-04\n",
      "Epoch 14: val_loss improved from 0.00126 to 0.00078, saving model to best_lstm.h5\n"
     ]
    },
    {
     "name": "stderr",
     "output_type": "stream",
     "text": [
      "WARNING:absl:You are saving your model as an HDF5 file via `model.save()` or `keras.saving.save_model(model)`. This file format is considered legacy. We recommend using instead the native Keras format, e.g. `model.save('my_model.keras')` or `keras.saving.save_model(model, 'my_model.keras')`. \n"
     ]
    },
    {
     "name": "stdout",
     "output_type": "stream",
     "text": [
      "\u001b[1m41/41\u001b[0m \u001b[32m━━━━━━━━━━━━━━━━━━━━\u001b[0m\u001b[37m\u001b[0m \u001b[1m7s\u001b[0m 170ms/step - loss: 5.0740e-04 - val_loss: 7.7873e-04\n",
      "Epoch 15/30\n",
      "\u001b[1m41/41\u001b[0m \u001b[32m━━━━━━━━━━━━━━━━━━━━\u001b[0m\u001b[37m\u001b[0m \u001b[1m0s\u001b[0m 157ms/step - loss: 3.2876e-04\n",
      "Epoch 15: val_loss improved from 0.00078 to 0.00071, saving model to best_lstm.h5\n"
     ]
    },
    {
     "name": "stderr",
     "output_type": "stream",
     "text": [
      "WARNING:absl:You are saving your model as an HDF5 file via `model.save()` or `keras.saving.save_model(model)`. This file format is considered legacy. We recommend using instead the native Keras format, e.g. `model.save('my_model.keras')` or `keras.saving.save_model(model, 'my_model.keras')`. \n"
     ]
    },
    {
     "name": "stdout",
     "output_type": "stream",
     "text": [
      "\u001b[1m41/41\u001b[0m \u001b[32m━━━━━━━━━━━━━━━━━━━━\u001b[0m\u001b[37m\u001b[0m \u001b[1m7s\u001b[0m 172ms/step - loss: 3.2905e-04 - val_loss: 7.1246e-04\n",
      "Epoch 16/30\n",
      "\u001b[1m41/41\u001b[0m \u001b[32m━━━━━━━━━━━━━━━━━━━━\u001b[0m\u001b[37m\u001b[0m \u001b[1m0s\u001b[0m 156ms/step - loss: 3.5183e-04\n",
      "Epoch 16: val_loss did not improve from 0.00071\n",
      "\u001b[1m41/41\u001b[0m \u001b[32m━━━━━━━━━━━━━━━━━━━━\u001b[0m\u001b[37m\u001b[0m \u001b[1m7s\u001b[0m 171ms/step - loss: 3.5196e-04 - val_loss: 7.5395e-04\n",
      "Epoch 17/30\n",
      "\u001b[1m41/41\u001b[0m \u001b[32m━━━━━━━━━━━━━━━━━━━━\u001b[0m\u001b[37m\u001b[0m \u001b[1m0s\u001b[0m 154ms/step - loss: 2.7388e-04\n",
      "Epoch 17: val_loss did not improve from 0.00071\n",
      "\u001b[1m41/41\u001b[0m \u001b[32m━━━━━━━━━━━━━━━━━━━━\u001b[0m\u001b[37m\u001b[0m \u001b[1m7s\u001b[0m 168ms/step - loss: 2.7395e-04 - val_loss: 0.0011\n",
      "Epoch 18/30\n",
      "\u001b[1m41/41\u001b[0m \u001b[32m━━━━━━━━━━━━━━━━━━━━\u001b[0m\u001b[37m\u001b[0m \u001b[1m0s\u001b[0m 153ms/step - loss: 2.4727e-04\n",
      "Epoch 18: val_loss did not improve from 0.00071\n",
      "\u001b[1m41/41\u001b[0m \u001b[32m━━━━━━━━━━━━━━━━━━━━\u001b[0m\u001b[37m\u001b[0m \u001b[1m7s\u001b[0m 166ms/step - loss: 2.4796e-04 - val_loss: 0.0027\n",
      "Epoch 19/30\n",
      "\u001b[1m41/41\u001b[0m \u001b[32m━━━━━━━━━━━━━━━━━━━━\u001b[0m\u001b[37m\u001b[0m \u001b[1m0s\u001b[0m 154ms/step - loss: 3.3375e-04\n",
      "Epoch 19: val_loss did not improve from 0.00071\n",
      "\u001b[1m41/41\u001b[0m \u001b[32m━━━━━━━━━━━━━━━━━━━━\u001b[0m\u001b[37m\u001b[0m \u001b[1m7s\u001b[0m 168ms/step - loss: 3.3308e-04 - val_loss: 0.0011\n",
      "Epoch 20/30\n",
      "\u001b[1m41/41\u001b[0m \u001b[32m━━━━━━━━━━━━━━━━━━━━\u001b[0m\u001b[37m\u001b[0m \u001b[1m0s\u001b[0m 162ms/step - loss: 1.9177e-04\n",
      "Epoch 20: val_loss did not improve from 0.00071\n",
      "\u001b[1m41/41\u001b[0m \u001b[32m━━━━━━━━━━━━━━━━━━━━\u001b[0m\u001b[37m\u001b[0m \u001b[1m7s\u001b[0m 175ms/step - loss: 1.9203e-04 - val_loss: 0.0012\n"
     ]
    }
   ],
   "source": [
    "model_lstm = train_lstm(\n",
    "    X_train, y_train,\n",
    "    learning_rate=0.005,\n",
    "    epochs=30,\n",
    "    num_layers=3,\n",
    "    units=(94, 92, 90),\n",
    "    window_size=30,\n",
    "    batch_size=32,\n",
    "    validation_split=0.2,\n",
    "    patience=5,\n",
    "    checkpoint_path='best_lstm.h5',\n",
    "    dense_units=16,\n",
    "    dense_activation='relu'\n",
    ")[0]"
   ]
  },
  {
   "cell_type": "code",
   "execution_count": null,
   "id": "72e2f418",
   "metadata": {},
   "outputs": [
    {
     "name": "stdout",
     "output_type": "stream",
     "text": [
      "Epoch 1/30\n"
     ]
    },
    {
     "name": "stderr",
     "output_type": "stream",
     "text": [
      "c:\\Users\\OMER\\PycharmProjects\\Project\\.venv\\lib\\site-packages\\keras\\src\\layers\\rnn\\rnn.py:200: UserWarning: Do not pass an `input_shape`/`input_dim` argument to a layer. When using Sequential models, prefer using an `Input(shape)` object as the first layer in the model instead.\n",
      "  super().__init__(**kwargs)\n"
     ]
    },
    {
     "name": "stdout",
     "output_type": "stream",
     "text": [
      "\u001b[1m40/41\u001b[0m \u001b[32m━━━━━━━━━━━━━━━━━━━\u001b[0m\u001b[37m━\u001b[0m \u001b[1m0s\u001b[0m 18ms/step - loss: 0.3003\n",
      "Epoch 1: val_loss improved from inf to 0.00338, saving model to best_gru.h5\n"
     ]
    },
    {
     "name": "stderr",
     "output_type": "stream",
     "text": [
      "WARNING:absl:You are saving your model as an HDF5 file via `model.save()` or `keras.saving.save_model(model)`. This file format is considered legacy. We recommend using instead the native Keras format, e.g. `model.save('my_model.keras')` or `keras.saving.save_model(model, 'my_model.keras')`. \n"
     ]
    },
    {
     "name": "stdout",
     "output_type": "stream",
     "text": [
      "\u001b[1m41/41\u001b[0m \u001b[32m━━━━━━━━━━━━━━━━━━━━\u001b[0m\u001b[37m\u001b[0m \u001b[1m2s\u001b[0m 25ms/step - loss: 0.2920 - val_loss: 0.0034\n",
      "Epoch 2/30\n",
      "\u001b[1m40/41\u001b[0m \u001b[32m━━━━━━━━━━━━━━━━━━━\u001b[0m\u001b[37m━\u001b[0m \u001b[1m0s\u001b[0m 18ms/step - loss: 0.0024\n",
      "Epoch 2: val_loss improved from 0.00338 to 0.00327, saving model to best_gru.h5\n"
     ]
    },
    {
     "name": "stderr",
     "output_type": "stream",
     "text": [
      "WARNING:absl:You are saving your model as an HDF5 file via `model.save()` or `keras.saving.save_model(model)`. This file format is considered legacy. We recommend using instead the native Keras format, e.g. `model.save('my_model.keras')` or `keras.saving.save_model(model, 'my_model.keras')`. \n"
     ]
    },
    {
     "name": "stdout",
     "output_type": "stream",
     "text": [
      "\u001b[1m41/41\u001b[0m \u001b[32m━━━━━━━━━━━━━━━━━━━━\u001b[0m\u001b[37m\u001b[0m \u001b[1m1s\u001b[0m 22ms/step - loss: 0.0023 - val_loss: 0.0033\n",
      "Epoch 3/30\n",
      "\u001b[1m40/41\u001b[0m \u001b[32m━━━━━━━━━━━━━━━━━━━\u001b[0m\u001b[37m━\u001b[0m \u001b[1m0s\u001b[0m 18ms/step - loss: 4.4042e-04\n",
      "Epoch 3: val_loss improved from 0.00327 to 0.00289, saving model to best_gru.h5\n"
     ]
    },
    {
     "name": "stderr",
     "output_type": "stream",
     "text": [
      "WARNING:absl:You are saving your model as an HDF5 file via `model.save()` or `keras.saving.save_model(model)`. This file format is considered legacy. We recommend using instead the native Keras format, e.g. `model.save('my_model.keras')` or `keras.saving.save_model(model, 'my_model.keras')`. \n"
     ]
    },
    {
     "name": "stdout",
     "output_type": "stream",
     "text": [
      "\u001b[1m41/41\u001b[0m \u001b[32m━━━━━━━━━━━━━━━━━━━━\u001b[0m\u001b[37m\u001b[0m \u001b[1m1s\u001b[0m 21ms/step - loss: 4.3885e-04 - val_loss: 0.0029\n",
      "Epoch 4/30\n",
      "\u001b[1m40/41\u001b[0m \u001b[32m━━━━━━━━━━━━━━━━━━━\u001b[0m\u001b[37m━\u001b[0m \u001b[1m0s\u001b[0m 17ms/step - loss: 3.2042e-04\n",
      "Epoch 4: val_loss improved from 0.00289 to 0.00279, saving model to best_gru.h5\n"
     ]
    },
    {
     "name": "stderr",
     "output_type": "stream",
     "text": [
      "WARNING:absl:You are saving your model as an HDF5 file via `model.save()` or `keras.saving.save_model(model)`. This file format is considered legacy. We recommend using instead the native Keras format, e.g. `model.save('my_model.keras')` or `keras.saving.save_model(model, 'my_model.keras')`. \n"
     ]
    },
    {
     "name": "stdout",
     "output_type": "stream",
     "text": [
      "\u001b[1m41/41\u001b[0m \u001b[32m━━━━━━━━━━━━━━━━━━━━\u001b[0m\u001b[37m\u001b[0m \u001b[1m1s\u001b[0m 21ms/step - loss: 3.2020e-04 - val_loss: 0.0028\n",
      "Epoch 5/30\n",
      "\u001b[1m40/41\u001b[0m \u001b[32m━━━━━━━━━━━━━━━━━━━\u001b[0m\u001b[37m━\u001b[0m \u001b[1m0s\u001b[0m 18ms/step - loss: 2.6893e-04\n",
      "Epoch 5: val_loss improved from 0.00279 to 0.00240, saving model to best_gru.h5\n"
     ]
    },
    {
     "name": "stderr",
     "output_type": "stream",
     "text": [
      "WARNING:absl:You are saving your model as an HDF5 file via `model.save()` or `keras.saving.save_model(model)`. This file format is considered legacy. We recommend using instead the native Keras format, e.g. `model.save('my_model.keras')` or `keras.saving.save_model(model, 'my_model.keras')`. \n"
     ]
    },
    {
     "name": "stdout",
     "output_type": "stream",
     "text": [
      "\u001b[1m41/41\u001b[0m \u001b[32m━━━━━━━━━━━━━━━━━━━━\u001b[0m\u001b[37m\u001b[0m \u001b[1m1s\u001b[0m 21ms/step - loss: 2.6845e-04 - val_loss: 0.0024\n",
      "Epoch 6/30\n",
      "\u001b[1m40/41\u001b[0m \u001b[32m━━━━━━━━━━━━━━━━━━━\u001b[0m\u001b[37m━\u001b[0m \u001b[1m0s\u001b[0m 18ms/step - loss: 2.1467e-04\n",
      "Epoch 6: val_loss improved from 0.00240 to 0.00215, saving model to best_gru.h5\n"
     ]
    },
    {
     "name": "stderr",
     "output_type": "stream",
     "text": [
      "WARNING:absl:You are saving your model as an HDF5 file via `model.save()` or `keras.saving.save_model(model)`. This file format is considered legacy. We recommend using instead the native Keras format, e.g. `model.save('my_model.keras')` or `keras.saving.save_model(model, 'my_model.keras')`. \n"
     ]
    },
    {
     "name": "stdout",
     "output_type": "stream",
     "text": [
      "\u001b[1m41/41\u001b[0m \u001b[32m━━━━━━━━━━━━━━━━━━━━\u001b[0m\u001b[37m\u001b[0m \u001b[1m1s\u001b[0m 21ms/step - loss: 2.1497e-04 - val_loss: 0.0021\n",
      "Epoch 7/30\n",
      "\u001b[1m40/41\u001b[0m \u001b[32m━━━━━━━━━━━━━━━━━━━\u001b[0m\u001b[37m━\u001b[0m \u001b[1m0s\u001b[0m 17ms/step - loss: 1.7178e-04\n",
      "Epoch 7: val_loss did not improve from 0.00215\n",
      "\u001b[1m41/41\u001b[0m \u001b[32m━━━━━━━━━━━━━━━━━━━━\u001b[0m\u001b[37m\u001b[0m \u001b[1m1s\u001b[0m 20ms/step - loss: 1.7211e-04 - val_loss: 0.0026\n",
      "Epoch 8/30\n",
      "\u001b[1m40/41\u001b[0m \u001b[32m━━━━━━━━━━━━━━━━━━━\u001b[0m\u001b[37m━\u001b[0m \u001b[1m0s\u001b[0m 19ms/step - loss: 1.5278e-04\n",
      "Epoch 8: val_loss did not improve from 0.00215\n",
      "\u001b[1m41/41\u001b[0m \u001b[32m━━━━━━━━━━━━━━━━━━━━\u001b[0m\u001b[37m\u001b[0m \u001b[1m1s\u001b[0m 21ms/step - loss: 1.5303e-04 - val_loss: 0.0025\n",
      "Epoch 9/30\n",
      "\u001b[1m40/41\u001b[0m \u001b[32m━━━━━━━━━━━━━━━━━━━\u001b[0m\u001b[37m━\u001b[0m \u001b[1m0s\u001b[0m 18ms/step - loss: 1.5713e-04\n",
      "Epoch 9: val_loss did not improve from 0.00215\n",
      "\u001b[1m41/41\u001b[0m \u001b[32m━━━━━━━━━━━━━━━━━━━━\u001b[0m\u001b[37m\u001b[0m \u001b[1m1s\u001b[0m 20ms/step - loss: 1.5713e-04 - val_loss: 0.0022\n",
      "Epoch 10/30\n",
      "\u001b[1m40/41\u001b[0m \u001b[32m━━━━━━━━━━━━━━━━━━━\u001b[0m\u001b[37m━\u001b[0m \u001b[1m0s\u001b[0m 17ms/step - loss: 1.3425e-04\n",
      "Epoch 10: val_loss did not improve from 0.00215\n",
      "\u001b[1m41/41\u001b[0m \u001b[32m━━━━━━━━━━━━━━━━━━━━\u001b[0m\u001b[37m\u001b[0m \u001b[1m1s\u001b[0m 20ms/step - loss: 1.3454e-04 - val_loss: 0.0025\n",
      "Epoch 11/30\n",
      "\u001b[1m40/41\u001b[0m \u001b[32m━━━━━━━━━━━━━━━━━━━\u001b[0m\u001b[37m━\u001b[0m \u001b[1m0s\u001b[0m 18ms/step - loss: 1.3923e-04\n",
      "Epoch 11: val_loss improved from 0.00215 to 0.00207, saving model to best_gru.h5\n"
     ]
    },
    {
     "name": "stderr",
     "output_type": "stream",
     "text": [
      "WARNING:absl:You are saving your model as an HDF5 file via `model.save()` or `keras.saving.save_model(model)`. This file format is considered legacy. We recommend using instead the native Keras format, e.g. `model.save('my_model.keras')` or `keras.saving.save_model(model, 'my_model.keras')`. \n"
     ]
    },
    {
     "name": "stdout",
     "output_type": "stream",
     "text": [
      "\u001b[1m41/41\u001b[0m \u001b[32m━━━━━━━━━━━━━━━━━━━━\u001b[0m\u001b[37m\u001b[0m \u001b[1m1s\u001b[0m 21ms/step - loss: 1.3953e-04 - val_loss: 0.0021\n",
      "Epoch 12/30\n",
      "\u001b[1m40/41\u001b[0m \u001b[32m━━━━━━━━━━━━━━━━━━━\u001b[0m\u001b[37m━\u001b[0m \u001b[1m0s\u001b[0m 17ms/step - loss: 1.3327e-04\n",
      "Epoch 12: val_loss did not improve from 0.00207\n",
      "\u001b[1m41/41\u001b[0m \u001b[32m━━━━━━━━━━━━━━━━━━━━\u001b[0m\u001b[37m\u001b[0m \u001b[1m1s\u001b[0m 20ms/step - loss: 1.3306e-04 - val_loss: 0.0022\n",
      "Epoch 13/30\n",
      "\u001b[1m40/41\u001b[0m \u001b[32m━━━━━━━━━━━━━━━━━━━\u001b[0m\u001b[37m━\u001b[0m \u001b[1m0s\u001b[0m 18ms/step - loss: 1.0797e-04\n",
      "Epoch 13: val_loss did not improve from 0.00207\n",
      "\u001b[1m41/41\u001b[0m \u001b[32m━━━━━━━━━━━━━━━━━━━━\u001b[0m\u001b[37m\u001b[0m \u001b[1m1s\u001b[0m 20ms/step - loss: 1.0866e-04 - val_loss: 0.0024\n",
      "Epoch 14/30\n",
      "\u001b[1m40/41\u001b[0m \u001b[32m━━━━━━━━━━━━━━━━━━━\u001b[0m\u001b[37m━\u001b[0m \u001b[1m0s\u001b[0m 18ms/step - loss: 1.3114e-04\n",
      "Epoch 14: val_loss improved from 0.00207 to 0.00184, saving model to best_gru.h5\n"
     ]
    },
    {
     "name": "stderr",
     "output_type": "stream",
     "text": [
      "WARNING:absl:You are saving your model as an HDF5 file via `model.save()` or `keras.saving.save_model(model)`. This file format is considered legacy. We recommend using instead the native Keras format, e.g. `model.save('my_model.keras')` or `keras.saving.save_model(model, 'my_model.keras')`. \n"
     ]
    },
    {
     "name": "stdout",
     "output_type": "stream",
     "text": [
      "\u001b[1m41/41\u001b[0m \u001b[32m━━━━━━━━━━━━━━━━━━━━\u001b[0m\u001b[37m\u001b[0m \u001b[1m1s\u001b[0m 21ms/step - loss: 1.3074e-04 - val_loss: 0.0018\n",
      "Epoch 15/30\n",
      "\u001b[1m40/41\u001b[0m \u001b[32m━━━━━━━━━━━━━━━━━━━\u001b[0m\u001b[37m━\u001b[0m \u001b[1m0s\u001b[0m 18ms/step - loss: 1.4297e-04\n",
      "Epoch 15: val_loss did not improve from 0.00184\n",
      "\u001b[1m41/41\u001b[0m \u001b[32m━━━━━━━━━━━━━━━━━━━━\u001b[0m\u001b[37m\u001b[0m \u001b[1m1s\u001b[0m 21ms/step - loss: 1.4201e-04 - val_loss: 0.0021\n",
      "Epoch 16/30\n",
      "\u001b[1m40/41\u001b[0m \u001b[32m━━━━━━━━━━━━━━━━━━━\u001b[0m\u001b[37m━\u001b[0m \u001b[1m0s\u001b[0m 17ms/step - loss: 1.0887e-04\n",
      "Epoch 16: val_loss did not improve from 0.00184\n",
      "\u001b[1m41/41\u001b[0m \u001b[32m━━━━━━━━━━━━━━━━━━━━\u001b[0m\u001b[37m\u001b[0m \u001b[1m1s\u001b[0m 20ms/step - loss: 1.0932e-04 - val_loss: 0.0024\n",
      "Epoch 17/30\n",
      "\u001b[1m40/41\u001b[0m \u001b[32m━━━━━━━━━━━━━━━━━━━\u001b[0m\u001b[37m━\u001b[0m \u001b[1m0s\u001b[0m 18ms/step - loss: 1.2295e-04\n",
      "Epoch 17: val_loss improved from 0.00184 to 0.00171, saving model to best_gru.h5\n"
     ]
    },
    {
     "name": "stderr",
     "output_type": "stream",
     "text": [
      "WARNING:absl:You are saving your model as an HDF5 file via `model.save()` or `keras.saving.save_model(model)`. This file format is considered legacy. We recommend using instead the native Keras format, e.g. `model.save('my_model.keras')` or `keras.saving.save_model(model, 'my_model.keras')`. \n"
     ]
    },
    {
     "name": "stdout",
     "output_type": "stream",
     "text": [
      "\u001b[1m41/41\u001b[0m \u001b[32m━━━━━━━━━━━━━━━━━━━━\u001b[0m\u001b[37m\u001b[0m \u001b[1m1s\u001b[0m 21ms/step - loss: 1.2368e-04 - val_loss: 0.0017\n",
      "Epoch 18/30\n",
      "\u001b[1m40/41\u001b[0m \u001b[32m━━━━━━━━━━━━━━━━━━━\u001b[0m\u001b[37m━\u001b[0m \u001b[1m0s\u001b[0m 17ms/step - loss: 1.4497e-04\n",
      "Epoch 18: val_loss improved from 0.00171 to 0.00140, saving model to best_gru.h5\n"
     ]
    },
    {
     "name": "stderr",
     "output_type": "stream",
     "text": [
      "WARNING:absl:You are saving your model as an HDF5 file via `model.save()` or `keras.saving.save_model(model)`. This file format is considered legacy. We recommend using instead the native Keras format, e.g. `model.save('my_model.keras')` or `keras.saving.save_model(model, 'my_model.keras')`. \n"
     ]
    },
    {
     "name": "stdout",
     "output_type": "stream",
     "text": [
      "\u001b[1m41/41\u001b[0m \u001b[32m━━━━━━━━━━━━━━━━━━━━\u001b[0m\u001b[37m\u001b[0m \u001b[1m1s\u001b[0m 20ms/step - loss: 1.4512e-04 - val_loss: 0.0014\n",
      "Epoch 19/30\n",
      "\u001b[1m40/41\u001b[0m \u001b[32m━━━━━━━━━━━━━━━━━━━\u001b[0m\u001b[37m━\u001b[0m \u001b[1m0s\u001b[0m 17ms/step - loss: 1.3652e-04\n",
      "Epoch 19: val_loss did not improve from 0.00140\n",
      "\u001b[1m41/41\u001b[0m \u001b[32m━━━━━━━━━━━━━━━━━━━━\u001b[0m\u001b[37m\u001b[0m \u001b[1m1s\u001b[0m 20ms/step - loss: 1.3574e-04 - val_loss: 0.0022\n",
      "Epoch 20/30\n",
      "\u001b[1m40/41\u001b[0m \u001b[32m━━━━━━━━━━━━━━━━━━━\u001b[0m\u001b[37m━\u001b[0m \u001b[1m0s\u001b[0m 18ms/step - loss: 1.1504e-04\n",
      "Epoch 20: val_loss did not improve from 0.00140\n",
      "\u001b[1m41/41\u001b[0m \u001b[32m━━━━━━━━━━━━━━━━━━━━\u001b[0m\u001b[37m\u001b[0m \u001b[1m1s\u001b[0m 20ms/step - loss: 1.1526e-04 - val_loss: 0.0023\n",
      "Epoch 21/30\n",
      "\u001b[1m40/41\u001b[0m \u001b[32m━━━━━━━━━━━━━━━━━━━\u001b[0m\u001b[37m━\u001b[0m \u001b[1m0s\u001b[0m 17ms/step - loss: 1.1519e-04\n",
      "Epoch 21: val_loss did not improve from 0.00140\n",
      "\u001b[1m41/41\u001b[0m \u001b[32m━━━━━━━━━━━━━━━━━━━━\u001b[0m\u001b[37m\u001b[0m \u001b[1m1s\u001b[0m 20ms/step - loss: 1.1514e-04 - val_loss: 0.0015\n",
      "Epoch 22/30\n",
      "\u001b[1m40/41\u001b[0m \u001b[32m━━━━━━━━━━━━━━━━━━━\u001b[0m\u001b[37m━\u001b[0m \u001b[1m0s\u001b[0m 17ms/step - loss: 1.4615e-04\n",
      "Epoch 22: val_loss improved from 0.00140 to 0.00139, saving model to best_gru.h5\n"
     ]
    },
    {
     "name": "stderr",
     "output_type": "stream",
     "text": [
      "WARNING:absl:You are saving your model as an HDF5 file via `model.save()` or `keras.saving.save_model(model)`. This file format is considered legacy. We recommend using instead the native Keras format, e.g. `model.save('my_model.keras')` or `keras.saving.save_model(model, 'my_model.keras')`. \n"
     ]
    },
    {
     "name": "stdout",
     "output_type": "stream",
     "text": [
      "\u001b[1m41/41\u001b[0m \u001b[32m━━━━━━━━━━━━━━━━━━━━\u001b[0m\u001b[37m\u001b[0m \u001b[1m1s\u001b[0m 21ms/step - loss: 1.4513e-04 - val_loss: 0.0014\n",
      "Epoch 23/30\n",
      "\u001b[1m40/41\u001b[0m \u001b[32m━━━━━━━━━━━━━━━━━━━\u001b[0m\u001b[37m━\u001b[0m \u001b[1m0s\u001b[0m 18ms/step - loss: 1.3029e-04\n",
      "Epoch 23: val_loss did not improve from 0.00139\n",
      "\u001b[1m41/41\u001b[0m \u001b[32m━━━━━━━━━━━━━━━━━━━━\u001b[0m\u001b[37m\u001b[0m \u001b[1m1s\u001b[0m 20ms/step - loss: 1.2991e-04 - val_loss: 0.0016\n",
      "Epoch 24/30\n",
      "\u001b[1m40/41\u001b[0m \u001b[32m━━━━━━━━━━━━━━━━━━━\u001b[0m\u001b[37m━\u001b[0m \u001b[1m0s\u001b[0m 17ms/step - loss: 9.1667e-05\n",
      "Epoch 24: val_loss did not improve from 0.00139\n",
      "\u001b[1m41/41\u001b[0m \u001b[32m━━━━━━━━━━━━━━━━━━━━\u001b[0m\u001b[37m\u001b[0m \u001b[1m1s\u001b[0m 20ms/step - loss: 9.1917e-05 - val_loss: 0.0018\n",
      "Epoch 25/30\n",
      "\u001b[1m40/41\u001b[0m \u001b[32m━━━━━━━━━━━━━━━━━━━\u001b[0m\u001b[37m━\u001b[0m \u001b[1m0s\u001b[0m 18ms/step - loss: 9.5131e-05\n",
      "Epoch 25: val_loss did not improve from 0.00139\n",
      "\u001b[1m41/41\u001b[0m \u001b[32m━━━━━━━━━━━━━━━━━━━━\u001b[0m\u001b[37m\u001b[0m \u001b[1m1s\u001b[0m 20ms/step - loss: 9.5456e-05 - val_loss: 0.0015\n",
      "Epoch 26/30\n",
      "\u001b[1m40/41\u001b[0m \u001b[32m━━━━━━━━━━━━━━━━━━━\u001b[0m\u001b[37m━\u001b[0m \u001b[1m0s\u001b[0m 17ms/step - loss: 1.0041e-04\n",
      "Epoch 26: val_loss improved from 0.00139 to 0.00124, saving model to best_gru.h5\n"
     ]
    },
    {
     "name": "stderr",
     "output_type": "stream",
     "text": [
      "WARNING:absl:You are saving your model as an HDF5 file via `model.save()` or `keras.saving.save_model(model)`. This file format is considered legacy. We recommend using instead the native Keras format, e.g. `model.save('my_model.keras')` or `keras.saving.save_model(model, 'my_model.keras')`. \n"
     ]
    },
    {
     "name": "stdout",
     "output_type": "stream",
     "text": [
      "\u001b[1m41/41\u001b[0m \u001b[32m━━━━━━━━━━━━━━━━━━━━\u001b[0m\u001b[37m\u001b[0m \u001b[1m1s\u001b[0m 21ms/step - loss: 1.0090e-04 - val_loss: 0.0012\n",
      "Epoch 27/30\n",
      "\u001b[1m40/41\u001b[0m \u001b[32m━━━━━━━━━━━━━━━━━━━\u001b[0m\u001b[37m━\u001b[0m \u001b[1m0s\u001b[0m 17ms/step - loss: 1.3061e-04\n",
      "Epoch 27: val_loss did not improve from 0.00124\n",
      "\u001b[1m41/41\u001b[0m \u001b[32m━━━━━━━━━━━━━━━━━━━━\u001b[0m\u001b[37m\u001b[0m \u001b[1m1s\u001b[0m 20ms/step - loss: 1.3094e-04 - val_loss: 0.0015\n",
      "Epoch 28/30\n",
      "\u001b[1m40/41\u001b[0m \u001b[32m━━━━━━━━━━━━━━━━━━━\u001b[0m\u001b[37m━\u001b[0m \u001b[1m0s\u001b[0m 17ms/step - loss: 9.0566e-05\n",
      "Epoch 28: val_loss did not improve from 0.00124\n",
      "\u001b[1m41/41\u001b[0m \u001b[32m━━━━━━━━━━━━━━━━━━━━\u001b[0m\u001b[37m\u001b[0m \u001b[1m1s\u001b[0m 20ms/step - loss: 9.0801e-05 - val_loss: 0.0016\n",
      "Epoch 29/30\n",
      "\u001b[1m40/41\u001b[0m \u001b[32m━━━━━━━━━━━━━━━━━━━\u001b[0m\u001b[37m━\u001b[0m \u001b[1m0s\u001b[0m 18ms/step - loss: 8.8160e-05\n",
      "Epoch 29: val_loss improved from 0.00124 to 0.00072, saving model to best_gru.h5\n"
     ]
    },
    {
     "name": "stderr",
     "output_type": "stream",
     "text": [
      "WARNING:absl:You are saving your model as an HDF5 file via `model.save()` or `keras.saving.save_model(model)`. This file format is considered legacy. We recommend using instead the native Keras format, e.g. `model.save('my_model.keras')` or `keras.saving.save_model(model, 'my_model.keras')`. \n"
     ]
    },
    {
     "name": "stdout",
     "output_type": "stream",
     "text": [
      "\u001b[1m41/41\u001b[0m \u001b[32m━━━━━━━━━━━━━━━━━━━━\u001b[0m\u001b[37m\u001b[0m \u001b[1m1s\u001b[0m 20ms/step - loss: 8.8789e-05 - val_loss: 7.2061e-04\n",
      "Epoch 30/30\n",
      "\u001b[1m40/41\u001b[0m \u001b[32m━━━━━━━━━━━━━━━━━━━\u001b[0m\u001b[37m━\u001b[0m \u001b[1m0s\u001b[0m 17ms/step - loss: 9.1857e-05\n",
      "Epoch 30: val_loss improved from 0.00072 to 0.00060, saving model to best_gru.h5\n"
     ]
    },
    {
     "name": "stderr",
     "output_type": "stream",
     "text": [
      "WARNING:absl:You are saving your model as an HDF5 file via `model.save()` or `keras.saving.save_model(model)`. This file format is considered legacy. We recommend using instead the native Keras format, e.g. `model.save('my_model.keras')` or `keras.saving.save_model(model, 'my_model.keras')`. \n"
     ]
    },
    {
     "name": "stdout",
     "output_type": "stream",
     "text": [
      "\u001b[1m41/41\u001b[0m \u001b[32m━━━━━━━━━━━━━━━━━━━━\u001b[0m\u001b[37m\u001b[0m \u001b[1m1s\u001b[0m 21ms/step - loss: 9.2166e-05 - val_loss: 5.9771e-04\n"
     ]
    }
   ],
   "source": [
    "model_gru = train_gru(\n",
    "    X_train, y_train,\n",
    "    learning_rate=0.005,\n",
    "    epochs=30,\n",
    "    num_layers=1,\n",
    "    units=(94,),\n",
    "    window_size=30,\n",
    "    batch_size=32,\n",
    "    validation_split=0.2,\n",
    "    patience=5,\n",
    "    checkpoint_path='best_gru.h5',\n",
    "    dense_units=None,\n",
    "    dense_activation='relu'\n",
    ")[0]"
   ]
  },
  {
   "cell_type": "markdown",
   "id": "54512827",
   "metadata": {},
   "source": [
    "# LSTM model"
   ]
  },
  {
   "cell_type": "code",
   "execution_count": null,
   "id": "4d72adc2",
   "metadata": {},
   "outputs": [
    {
     "name": "stderr",
     "output_type": "stream",
     "text": [
      "c:\\Users\\OMER\\PycharmProjects\\Project\\.venv\\lib\\site-packages\\keras\\src\\layers\\rnn\\rnn.py:200: UserWarning: Do not pass an `input_shape`/`input_dim` argument to a layer. When using Sequential models, prefer using an `Input(shape)` object as the first layer in the model instead.\n",
      "  super().__init__(**kwargs)\n"
     ]
    }
   ],
   "source": [
    "from tensorflow.keras.optimizers import Adam\n",
    "\n",
    "opt = Adam(learning_rate=0.005)\n",
    "model_lstm = Sequential([\n",
    "    LSTM(96, return_sequences=False, input_shape=(window_size, X_train.shape[2])),\n",
    "    #LSTM(98, return_sequences=False),\n",
    "    #Dense(16, activation='relu'),\n",
    "    #Dense(10, activation='relu'),\n",
    "    Dense(1)\n",
    "])\n",
    "model_lstm.compile(optimizer=opt, loss='mse')\n",
    "history_lstm = model_lstm.fit(X_train, y_train, epochs=20, batch_size=32, verbose=0)"
   ]
  },
  {
   "cell_type": "code",
   "execution_count": 1416,
   "id": "513080ad",
   "metadata": {},
   "outputs": [
    {
     "name": "stderr",
     "output_type": "stream",
     "text": [
      "c:\\Users\\OMER\\PycharmProjects\\Project\\.venv\\lib\\site-packages\\keras\\src\\layers\\rnn\\rnn.py:200: UserWarning: Do not pass an `input_shape`/`input_dim` argument to a layer. When using Sequential models, prefer using an `Input(shape)` object as the first layer in the model instead.\n",
      "  super().__init__(**kwargs)\n"
     ]
    }
   ],
   "source": [
    "\n",
    "opt = Adam(learning_rate=0.0025)\n",
    "model_lstm = Sequential([\n",
    "    LSTM(96, return_sequences=False, input_shape=(window_size, X_train.shape[2])),\n",
    "    #LSTM(96, return_sequences=False),\n",
    "    #Dense(16, activation='relu'),\n",
    "    #Dense(1, activation='relu'),\n",
    "    #Dense(16),\n",
    "    #Dense(4),\n",
    "    Dense(1)\n",
    "])\n",
    "model_lstm.compile(optimizer=opt, loss='mse')\n",
    "history_lstm = model_lstm.fit(X_train, y_train, epochs=20, batch_size=32, verbose=0)"
   ]
  },
  {
   "cell_type": "code",
   "execution_count": 1440,
   "id": "528437cb",
   "metadata": {},
   "outputs": [
    {
     "name": "stdout",
     "output_type": "stream",
     "text": [
      "Epoch 1/30\n"
     ]
    },
    {
     "name": "stderr",
     "output_type": "stream",
     "text": [
      "c:\\Users\\OMER\\PycharmProjects\\Project\\.venv\\lib\\site-packages\\keras\\src\\layers\\rnn\\rnn.py:200: UserWarning: Do not pass an `input_shape`/`input_dim` argument to a layer. When using Sequential models, prefer using an `Input(shape)` object as the first layer in the model instead.\n",
      "  super().__init__(**kwargs)\n"
     ]
    },
    {
     "name": "stdout",
     "output_type": "stream",
     "text": [
      "\u001b[1m41/41\u001b[0m \u001b[32m━━━━━━━━━━━━━━━━━━━━\u001b[0m\u001b[37m\u001b[0m \u001b[1m2s\u001b[0m 19ms/step - loss: 0.0364 - val_loss: 8.5508e-04\n",
      "Epoch 2/30\n",
      "\u001b[1m41/41\u001b[0m \u001b[32m━━━━━━━━━━━━━━━━━━━━\u001b[0m\u001b[37m\u001b[0m \u001b[1m1s\u001b[0m 16ms/step - loss: 4.4731e-04 - val_loss: 8.5138e-04\n",
      "Epoch 3/30\n",
      "\u001b[1m41/41\u001b[0m \u001b[32m━━━━━━━━━━━━━━━━━━━━\u001b[0m\u001b[37m\u001b[0m \u001b[1m1s\u001b[0m 16ms/step - loss: 2.6353e-04 - val_loss: 6.4607e-04\n",
      "Epoch 4/30\n",
      "\u001b[1m41/41\u001b[0m \u001b[32m━━━━━━━━━━━━━━━━━━━━\u001b[0m\u001b[37m\u001b[0m \u001b[1m1s\u001b[0m 17ms/step - loss: 2.2805e-04 - val_loss: 6.9456e-04\n",
      "Epoch 5/30\n",
      "\u001b[1m41/41\u001b[0m \u001b[32m━━━━━━━━━━━━━━━━━━━━\u001b[0m\u001b[37m\u001b[0m \u001b[1m1s\u001b[0m 17ms/step - loss: 2.0686e-04 - val_loss: 5.8935e-04\n",
      "Epoch 6/30\n",
      "\u001b[1m41/41\u001b[0m \u001b[32m━━━━━━━━━━━━━━━━━━━━\u001b[0m\u001b[37m\u001b[0m \u001b[1m1s\u001b[0m 16ms/step - loss: 2.2409e-04 - val_loss: 5.3736e-04\n",
      "Epoch 7/30\n",
      "\u001b[1m41/41\u001b[0m \u001b[32m━━━━━━━━━━━━━━━━━━━━\u001b[0m\u001b[37m\u001b[0m \u001b[1m1s\u001b[0m 16ms/step - loss: 2.0045e-04 - val_loss: 5.3065e-04\n",
      "Epoch 8/30\n",
      "\u001b[1m41/41\u001b[0m \u001b[32m━━━━━━━━━━━━━━━━━━━━\u001b[0m\u001b[37m\u001b[0m \u001b[1m1s\u001b[0m 16ms/step - loss: 1.6333e-04 - val_loss: 5.7166e-04\n",
      "Epoch 9/30\n",
      "\u001b[1m41/41\u001b[0m \u001b[32m━━━━━━━━━━━━━━━━━━━━\u001b[0m\u001b[37m\u001b[0m \u001b[1m1s\u001b[0m 17ms/step - loss: 1.6592e-04 - val_loss: 5.5772e-04\n",
      "Epoch 10/30\n",
      "\u001b[1m41/41\u001b[0m \u001b[32m━━━━━━━━━━━━━━━━━━━━\u001b[0m\u001b[37m\u001b[0m \u001b[1m1s\u001b[0m 16ms/step - loss: 1.5609e-04 - val_loss: 4.9630e-04\n",
      "Epoch 11/30\n",
      "\u001b[1m41/41\u001b[0m \u001b[32m━━━━━━━━━━━━━━━━━━━━\u001b[0m\u001b[37m\u001b[0m \u001b[1m1s\u001b[0m 17ms/step - loss: 1.3441e-04 - val_loss: 6.1317e-04\n",
      "Epoch 12/30\n",
      "\u001b[1m41/41\u001b[0m \u001b[32m━━━━━━━━━━━━━━━━━━━━\u001b[0m\u001b[37m\u001b[0m \u001b[1m1s\u001b[0m 16ms/step - loss: 1.6148e-04 - val_loss: 4.9553e-04\n",
      "Epoch 13/30\n",
      "\u001b[1m41/41\u001b[0m \u001b[32m━━━━━━━━━━━━━━━━━━━━\u001b[0m\u001b[37m\u001b[0m \u001b[1m1s\u001b[0m 16ms/step - loss: 1.6781e-04 - val_loss: 4.6669e-04\n",
      "Epoch 14/30\n",
      "\u001b[1m41/41\u001b[0m \u001b[32m━━━━━━━━━━━━━━━━━━━━\u001b[0m\u001b[37m\u001b[0m \u001b[1m1s\u001b[0m 17ms/step - loss: 1.3449e-04 - val_loss: 4.7323e-04\n",
      "Epoch 15/30\n",
      "\u001b[1m41/41\u001b[0m \u001b[32m━━━━━━━━━━━━━━━━━━━━\u001b[0m\u001b[37m\u001b[0m \u001b[1m1s\u001b[0m 16ms/step - loss: 1.4019e-04 - val_loss: 4.3369e-04\n",
      "Epoch 16/30\n",
      "\u001b[1m41/41\u001b[0m \u001b[32m━━━━━━━━━━━━━━━━━━━━\u001b[0m\u001b[37m\u001b[0m \u001b[1m1s\u001b[0m 16ms/step - loss: 1.2303e-04 - val_loss: 5.7273e-04\n",
      "Epoch 17/30\n",
      "\u001b[1m41/41\u001b[0m \u001b[32m━━━━━━━━━━━━━━━━━━━━\u001b[0m\u001b[37m\u001b[0m \u001b[1m1s\u001b[0m 16ms/step - loss: 1.3426e-04 - val_loss: 4.8048e-04\n",
      "Epoch 18/30\n",
      "\u001b[1m41/41\u001b[0m \u001b[32m━━━━━━━━━━━━━━━━━━━━\u001b[0m\u001b[37m\u001b[0m \u001b[1m1s\u001b[0m 16ms/step - loss: 1.3071e-04 - val_loss: 4.1419e-04\n",
      "Epoch 19/30\n",
      "\u001b[1m41/41\u001b[0m \u001b[32m━━━━━━━━━━━━━━━━━━━━\u001b[0m\u001b[37m\u001b[0m \u001b[1m1s\u001b[0m 16ms/step - loss: 1.5626e-04 - val_loss: 5.0560e-04\n",
      "Epoch 20/30\n",
      "\u001b[1m41/41\u001b[0m \u001b[32m━━━━━━━━━━━━━━━━━━━━\u001b[0m\u001b[37m\u001b[0m \u001b[1m1s\u001b[0m 16ms/step - loss: 1.3294e-04 - val_loss: 5.3050e-04\n",
      "Epoch 21/30\n",
      "\u001b[1m41/41\u001b[0m \u001b[32m━━━━━━━━━━━━━━━━━━━━\u001b[0m\u001b[37m\u001b[0m \u001b[1m1s\u001b[0m 16ms/step - loss: 1.7248e-04 - val_loss: 4.0975e-04\n",
      "Epoch 22/30\n",
      "\u001b[1m41/41\u001b[0m \u001b[32m━━━━━━━━━━━━━━━━━━━━\u001b[0m\u001b[37m\u001b[0m \u001b[1m1s\u001b[0m 17ms/step - loss: 1.3123e-04 - val_loss: 3.9813e-04\n",
      "Epoch 23/30\n",
      "\u001b[1m41/41\u001b[0m \u001b[32m━━━━━━━━━━━━━━━━━━━━\u001b[0m\u001b[37m\u001b[0m \u001b[1m1s\u001b[0m 16ms/step - loss: 1.1861e-04 - val_loss: 3.9372e-04\n",
      "Epoch 24/30\n",
      "\u001b[1m41/41\u001b[0m \u001b[32m━━━━━━━━━━━━━━━━━━━━\u001b[0m\u001b[37m\u001b[0m \u001b[1m1s\u001b[0m 16ms/step - loss: 1.1603e-04 - val_loss: 4.3023e-04\n",
      "Epoch 25/30\n",
      "\u001b[1m41/41\u001b[0m \u001b[32m━━━━━━━━━━━━━━━━━━━━\u001b[0m\u001b[37m\u001b[0m \u001b[1m1s\u001b[0m 16ms/step - loss: 1.1401e-04 - val_loss: 4.7102e-04\n",
      "Epoch 26/30\n",
      "\u001b[1m41/41\u001b[0m \u001b[32m━━━━━━━━━━━━━━━━━━━━\u001b[0m\u001b[37m\u001b[0m \u001b[1m1s\u001b[0m 17ms/step - loss: 1.3295e-04 - val_loss: 5.0825e-04\n"
     ]
    }
   ],
   "source": [
    "from tensorflow.keras.callbacks import EarlyStopping , ModelCheckpoint\n",
    "\n",
    "# 1) Define optimizer as before\n",
    "opt = Adam(learning_rate=0.0025)\n",
    "\n",
    "# 2) Build your model\n",
    "model_lstm = Sequential([\n",
    "    LSTM(96, return_sequences=False, input_shape=(window_size, X_train.shape[2])),\n",
    "    #Dense(10, activation='relu'),  # optional hidden layer\n",
    "    Dense(1)\n",
    "])\n",
    "\n",
    "# 3) Compile\n",
    "model_lstm.compile(optimizer=opt, loss='mse')\n",
    "\n",
    "# 4) Create an EarlyStopping callback\n",
    "es = EarlyStopping(\n",
    "    monitor='val_loss',        # watch validation loss\n",
    "    patience=3,                # stop after 3 epochs with no improvement\n",
    "    restore_best_weights=True  # roll back to the best weights observed\n",
    ")\n",
    "chkpt = ModelCheckpoint(\n",
    "    filepath='best_model.h5',     # where to save\n",
    "    monitor='val_loss',           # what metric to watch\n",
    "    verbose=1,                    # print a message when saving\n",
    "    save_best_only=True,          # only keep the best version\n",
    "    save_weights_only=False,      # save the full model (architecture+weights)\n",
    "    mode='auto',                  # infer direction from the monitored metric\n",
    "    save_freq='epoch'             # check after every epoch\n",
    ")\n",
    "\n",
    "# 5) Fit with a validation split (or use validation_data=(X_test, y_test))\n",
    "history_lstm = model_lstm.fit(\n",
    "    X_train,\n",
    "    y_train,\n",
    "    epochs=30,\n",
    "    batch_size=32,\n",
    "    validation_split=0.2,      # or validation_data=(X_test, y_test)\n",
    "    callbacks=[es],\n",
    "    verbose=1\n",
    ")\n"
   ]
  },
  {
   "cell_type": "markdown",
   "id": "3e456fff",
   "metadata": {},
   "source": [
    "# GRU model:"
   ]
  },
  {
   "cell_type": "code",
   "execution_count": null,
   "id": "6eb8e085",
   "metadata": {},
   "outputs": [
    {
     "name": "stderr",
     "output_type": "stream",
     "text": [
      "c:\\Users\\OMER\\PycharmProjects\\Project\\.venv\\lib\\site-packages\\keras\\src\\layers\\rnn\\rnn.py:200: UserWarning: Do not pass an `input_shape`/`input_dim` argument to a layer. When using Sequential models, prefer using an `Input(shape)` object as the first layer in the model instead.\n",
      "  super().__init__(**kwargs)\n"
     ]
    }
   ],
   "source": [
    "model_gru = Sequential([\n",
    "    GRU(98, return_sequences=True, input_shape=(window_size, X_train.shape[2])),\n",
    "    GRU(64, return_sequences=True),\n",
    "    GRU(44),\n",
    "    Dense(32, activation='relu'),\n",
    "    Dense(16),\n",
    "    Dense(1)\n",
    "])\n",
    "model_gru.compile(optimizer='adam', loss='mse')\n",
    "history_gru = model_gru.fit(X_train, y_train, epochs=20, batch_size=32, verbose=0)"
   ]
  },
  {
   "cell_type": "code",
   "execution_count": 1041,
   "id": "70f9e5e7",
   "metadata": {},
   "outputs": [
    {
     "name": "stderr",
     "output_type": "stream",
     "text": [
      "c:\\Users\\OMER\\PycharmProjects\\Project\\.venv\\lib\\site-packages\\keras\\src\\layers\\rnn\\rnn.py:200: UserWarning: Do not pass an `input_shape`/`input_dim` argument to a layer. When using Sequential models, prefer using an `Input(shape)` object as the first layer in the model instead.\n",
      "  super().__init__(**kwargs)\n"
     ]
    }
   ],
   "source": [
    "model_gru = Sequential([\n",
    "    GRU(128, return_sequences=True, input_shape=(window_size, X_train.shape[2])),\n",
    "    GRU(98, return_sequences=True),\n",
    "    GRU(64, return_sequences=True),\n",
    "    GRU(44, return_sequences=False),\n",
    "    Dense(32, activation='relu'),\n",
    "    Dense(16,),\n",
    "    Dense(1)\n",
    "])\n",
    "model_gru.compile(optimizer='adam', loss='mse')\n",
    "history_gru = model_gru.fit(X_train, y_train, epochs=10, batch_size=32, verbose=0)"
   ]
  },
  {
   "cell_type": "code",
   "execution_count": 847,
   "id": "0dc8ad44",
   "metadata": {},
   "outputs": [
    {
     "name": "stderr",
     "output_type": "stream",
     "text": [
      "c:\\Users\\OMER\\PycharmProjects\\Project\\.venv\\lib\\site-packages\\keras\\src\\layers\\rnn\\rnn.py:200: UserWarning: Do not pass an `input_shape`/`input_dim` argument to a layer. When using Sequential models, prefer using an `Input(shape)` object as the first layer in the model instead.\n",
      "  super().__init__(**kwargs)\n"
     ]
    }
   ],
   "source": [
    "model_gru = Sequential([\n",
    "    GRU(98, return_sequences=True, input_shape=(window_size, X_train.shape[2])),\n",
    "    GRU(64, return_sequences=True),\n",
    "    GRU(32, return_sequences=False),\n",
    "    Dense(32, activation='relu'),\n",
    "    Dense(16),\n",
    "    Dense(1)\n",
    "])\n",
    "model_gru.compile(optimizer='adam', loss='mse')\n",
    "history_gru = model_gru.fit(X_train, y_train, epochs=20, batch_size=32, verbose=0)"
   ]
  },
  {
   "cell_type": "code",
   "execution_count": 968,
   "id": "9d30c1d4",
   "metadata": {},
   "outputs": [],
   "source": [
    "model_gru = Sequential([\n",
    "    GRU(128, return_sequences=True, input_shape=(window_size, X_train.shape[2])),\n",
    "    GRU(128, return_sequences=False),\n",
    "    Dense(1)\n",
    "])\n",
    "model_gru.compile(optimizer='adam', loss='mse')\n",
    "history_gru = model_gru.fit(X_train, y_train, epochs=20, batch_size=32, verbose=0)"
   ]
  },
  {
   "cell_type": "code",
   "execution_count": 1175,
   "id": "29807fb5",
   "metadata": {},
   "outputs": [],
   "source": [
    "model_gru = Sequential([\n",
    "    GRU(98, return_sequences=True, input_shape=(window_size, X_train.shape[2])),\n",
    "    GRU(98, return_sequences=False),\n",
    "    #Dense(16, activation='relu'),\n",
    "    #Dense(16, activation='relu'),\n",
    "    Dense(1)\n",
    "])\n",
    "model_gru.compile(optimizer='adam', loss='mse')\n",
    "history_gru = model_gru.fit(X_train, y_train, epochs=20, batch_size=32, verbose=0)"
   ]
  },
  {
   "cell_type": "markdown",
   "id": "2b8c8f71",
   "metadata": {},
   "source": [
    "# Inverse the scale"
   ]
  },
  {
   "cell_type": "code",
   "execution_count": 1534,
   "id": "4c96e328",
   "metadata": {},
   "outputs": [
    {
     "name": "stdout",
     "output_type": "stream",
     "text": [
      "\u001b[1m13/13\u001b[0m \u001b[32m━━━━━━━━━━━━━━━━━━━━\u001b[0m\u001b[37m\u001b[0m \u001b[1m0s\u001b[0m 26ms/step\n",
      "\u001b[1m13/13\u001b[0m \u001b[32m━━━━━━━━━━━━━━━━━━━━\u001b[0m\u001b[37m\u001b[0m \u001b[1m0s\u001b[0m 17ms/step\n"
     ]
    }
   ],
   "source": [
    "pred_lstm = model_lstm.predict(X_test)\n",
    "pred_gru = model_gru.predict(X_test)\n",
    "\n",
    "# reset the scaler to the original price range\n",
    "price_scaler = MinMaxScaler()\n",
    "price_scaler.min_, price_scaler.scale_ = scaler.min_[0], scaler.scale_[0]\n",
    "pred_lstm = price_scaler.inverse_transform(pred_lstm)\n",
    "pred_gru = price_scaler.inverse_transform(pred_gru)\n",
    "y_test_actual = price_scaler.inverse_transform(y_test.reshape(-1, 1))\n",
    "#y_test_actual = price_scaler.inverse_transform(y_test)"
   ]
  },
  {
   "cell_type": "code",
   "execution_count": 1444,
   "id": "0d705055",
   "metadata": {},
   "outputs": [],
   "source": [
    "#dates = spy_only.index[window_size + split:]\n",
    "dates = for_model.index[window_size + split:]\n",
    "#dates = y_test_actual[window_size + split:]\n"
   ]
  },
  {
   "cell_type": "code",
   "execution_count": 1445,
   "id": "bb347790",
   "metadata": {},
   "outputs": [
    {
     "data": {
      "image/png": "[encoded data removed]",
      "text/plain": [
       "<Figure size 1400x600 with 1 Axes>"
      ]
     },
     "metadata": {},
     "output_type": "display_data"
    }
   ],
   "source": [
    "plt.figure(figsize=(14,6))\n",
    "plt.plot(dates, y_test_actual, label='Actual', color='black')\n",
    "plt.plot(dates, pred_lstm, label='LSTM Prediction', alpha=0.7)\n",
    "plt.plot(dates, pred_gru, label='GRU Prediction', alpha=0.7)\n",
    "plt.title(f'Actual vs Predicted - {ticker} (LSTM vs GRU)')\n",
    "plt.xlabel('Date')\n",
    "plt.ylabel('Price')\n",
    "plt.legend()\n",
    "plt.grid(False)\n",
    "plt.show()"
   ]
  },
  {
   "cell_type": "code",
   "execution_count": 1535,
   "id": "32f1f065",
   "metadata": {},
   "outputs": [
    {
     "name": "stdout",
     "output_type": "stream",
     "text": [
      "LSTM - MSE: 141236.6232, R²: 0.5340\n",
      "GRU  - MSE: 4851.6563, R²: 0.9840\n"
     ]
    }
   ],
   "source": [
    "mse_lstm = mean_squared_error(y_test_actual, pred_lstm)\n",
    "mse_gru = mean_squared_error(y_test_actual, pred_gru)\n",
    "\n",
    "r2_lstm = r2_score(y_test_actual, pred_lstm)\n",
    "r2_gru = r2_score(y_test_actual, pred_gru)\n",
    "\n",
    "print(f'LSTM - MSE: {mse_lstm:.4f}, R²: {r2_lstm:.4f}')\n",
    "print(f'GRU  - MSE: {mse_gru:.4f}, R²: {r2_gru:.4f}')"
   ]
  },
  {
   "cell_type": "markdown",
   "id": "884b98de",
   "metadata": {},
   "source": [
    "# put spy_return as index number 1"
   ]
  },
  {
   "cell_type": "code",
   "execution_count": 37,
   "id": "252eec1f",
   "metadata": {},
   "outputs": [],
   "source": [
    "return_data = return_data.reindex(columns=[\"SPY_return\"] + list(return_data.columns.drop(\"SPY_return\")))"
   ]
  },
  {
   "cell_type": "code",
   "execution_count": 38,
   "id": "71019462",
   "metadata": {},
   "outputs": [
    {
     "name": "stdout",
     "output_type": "stream",
     "text": [
      "Features used in the model: ['SPY_return', 'QQQ_Close', '^RUT', '^VIX', 'EMA_20', '^GDAXI', 'MSFT', 'stdev_5', '^FTSE', 'GOOG', 'AAPL', 'high-low', 'avgreturn5d', 'abs_yield_curve', 'std_price', 'UNG', 'abs_vix', 'SLV', 'stdev', 'BTC-USD', 'EMA_50', 'EMA_200', '^TNX', 'USO', 'IWM_avg5d', 'shiler pe', 'JPY=X', 'GLD', 'SPY_AbsChange', 'SPY_Volume', '^N225', 'CPER', 'CNYUSD=X', 'before_high-low', 'abs_vol', 'IWM_std_5d', 'yield_curve', 'IEI', 'DX-Y.NYB', 'EUR=X', 'avgreturn10d', '2Y_Yield', 'EUR', 'SPY_RSI', 'DXY', 'JPY', 'ds']\n"
     ]
    }
   ],
   "source": [
    "n = return_data.columns.to_list()\n",
    "print(f\"Features used in the model: {n}\")\n"
   ]
  },
  {
   "cell_type": "markdown",
   "id": "f971b517",
   "metadata": {},
   "source": [
    "# Return data"
   ]
  },
  {
   "cell_type": "code",
   "execution_count": 26,
   "id": "90d4f600",
   "metadata": {},
   "outputs": [],
   "source": [
    "#x1 = return_data.drop(columns=['SPY_return','ds'])\n",
    "#y1 = return_data['SPY_return']\n",
    "cols = ['SPY_return', 'QQQ_Close', '^RUT', 'abs_vix','MSFT', 'stdev_5', '^FTSE', 'GOOG', 'AAPL', 'high-low', 'avgreturn5d', 'abs_yield_curve', 'std_price','SPY_AbsChange','abs_vol','2Y_Yield','EUR', 'SPY_RSI', 'DXY', 'JPY' ]\n",
    "scale1 = MinMaxScaler()\n",
    "return_data_cleaned = return_data.drop(columns=['ds'])\n",
    "return_data_cleaned = return_data_cleaned[cols]\n",
    "return_data_scaled = scale1.fit_transform(return_data_cleaned)"
   ]
  },
  {
   "cell_type": "code",
   "execution_count": 28,
   "id": "4fdac9f0",
   "metadata": {},
   "outputs": [
    {
     "data": {
      "text/html": [
       "<div>\n",
       "<style scoped>\n",
       "    .dataframe tbody tr th:only-of-type {\n",
       "        vertical-align: middle;\n",
       "    }\n",
       "\n",
       "    .dataframe tbody tr th {\n",
       "        vertical-align: top;\n",
       "    }\n",
       "\n",
       "    .dataframe thead th {\n",
       "        text-align: right;\n",
       "    }\n",
       "</style>\n",
       "<table border=\"1\" class=\"dataframe\">\n",
       "  <thead>\n",
       "    <tr style=\"text-align: right;\">\n",
       "      <th></th>\n",
       "      <th>SPY_return</th>\n",
       "      <th>QQQ_Close</th>\n",
       "      <th>^RUT</th>\n",
       "      <th>abs_vix</th>\n",
       "      <th>MSFT</th>\n",
       "      <th>stdev_5</th>\n",
       "      <th>^FTSE</th>\n",
       "      <th>GOOG</th>\n",
       "      <th>AAPL</th>\n",
       "      <th>high-low</th>\n",
       "      <th>avgreturn5d</th>\n",
       "      <th>abs_yield_curve</th>\n",
       "      <th>std_price</th>\n",
       "      <th>SPY_AbsChange</th>\n",
       "      <th>abs_vol</th>\n",
       "      <th>2Y_Yield</th>\n",
       "      <th>EUR</th>\n",
       "      <th>SPY_RSI</th>\n",
       "      <th>DXY</th>\n",
       "      <th>JPY</th>\n",
       "    </tr>\n",
       "  </thead>\n",
       "  <tbody>\n",
       "    <tr>\n",
       "      <th>0</th>\n",
       "      <td>-0.269012</td>\n",
       "      <td>-0.043024</td>\n",
       "      <td>-0.296631</td>\n",
       "      <td>11.77</td>\n",
       "      <td>0.350635</td>\n",
       "      <td>0.316581</td>\n",
       "      <td>-0.655697</td>\n",
       "      <td>1.775112</td>\n",
       "      <td>0.066658</td>\n",
       "      <td>14.760010</td>\n",
       "      <td>-0.082739</td>\n",
       "      <td>1.243</td>\n",
       "      <td>3.722485</td>\n",
       "      <td>0.336624</td>\n",
       "      <td>3155240000</td>\n",
       "      <td>-3.333333</td>\n",
       "      <td>0.93338</td>\n",
       "      <td>54.669773</td>\n",
       "      <td>100.160004</td>\n",
       "      <td>113.809998</td>\n",
       "    </tr>\n",
       "    <tr>\n",
       "      <th>1</th>\n",
       "      <td>0.656459</td>\n",
       "      <td>0.864767</td>\n",
       "      <td>1.585499</td>\n",
       "      <td>11.07</td>\n",
       "      <td>0.889458</td>\n",
       "      <td>0.424201</td>\n",
       "      <td>-0.012591</td>\n",
       "      <td>0.556575</td>\n",
       "      <td>-0.091620</td>\n",
       "      <td>17.949951</td>\n",
       "      <td>0.107903</td>\n",
       "      <td>1.261</td>\n",
       "      <td>4.904624</td>\n",
       "      <td>-0.269012</td>\n",
       "      <td>3816950000</td>\n",
       "      <td>4.310345</td>\n",
       "      <td>0.92930</td>\n",
       "      <td>61.857468</td>\n",
       "      <td>100.349998</td>\n",
       "      <td>112.779999</td>\n",
       "    </tr>\n",
       "    <tr>\n",
       "      <th>2</th>\n",
       "      <td>0.802609</td>\n",
       "      <td>0.988757</td>\n",
       "      <td>0.966249</td>\n",
       "      <td>10.81</td>\n",
       "      <td>0.251904</td>\n",
       "      <td>0.528980</td>\n",
       "      <td>0.197196</td>\n",
       "      <td>1.432266</td>\n",
       "      <td>1.592078</td>\n",
       "      <td>10.670166</td>\n",
       "      <td>0.233150</td>\n",
       "      <td>1.293</td>\n",
       "      <td>9.878119</td>\n",
       "      <td>0.656459</td>\n",
       "      <td>3849340000</td>\n",
       "      <td>1.652893</td>\n",
       "      <td>0.93208</td>\n",
       "      <td>63.926955</td>\n",
       "      <td>100.029999</td>\n",
       "      <td>113.839996</td>\n",
       "    </tr>\n",
       "    <tr>\n",
       "      <th>3</th>\n",
       "      <td>-0.073538</td>\n",
       "      <td>-0.020502</td>\n",
       "      <td>-0.494775</td>\n",
       "      <td>10.63</td>\n",
       "      <td>0.926479</td>\n",
       "      <td>0.459317</td>\n",
       "      <td>-0.040477</td>\n",
       "      <td>-0.421220</td>\n",
       "      <td>0.049234</td>\n",
       "      <td>6.909912</td>\n",
       "      <td>0.290628</td>\n",
       "      <td>1.298</td>\n",
       "      <td>12.248578</td>\n",
       "      <td>1.464337</td>\n",
       "      <td>3611510000</td>\n",
       "      <td>-1.626016</td>\n",
       "      <td>0.93006</td>\n",
       "      <td>63.965540</td>\n",
       "      <td>100.379997</td>\n",
       "      <td>113.292999</td>\n",
       "    </tr>\n",
       "    <tr>\n",
       "      <th>4</th>\n",
       "      <td>-0.086646</td>\n",
       "      <td>0.099017</td>\n",
       "      <td>-0.356210</td>\n",
       "      <td>10.58</td>\n",
       "      <td>2.349481</td>\n",
       "      <td>0.486897</td>\n",
       "      <td>0.321162</td>\n",
       "      <td>-1.062304</td>\n",
       "      <td>0.008170</td>\n",
       "      <td>7.399902</td>\n",
       "      <td>0.205974</td>\n",
       "      <td>1.261</td>\n",
       "      <td>13.370660</td>\n",
       "      <td>-0.073538</td>\n",
       "      <td>3137420000</td>\n",
       "      <td>0.826446</td>\n",
       "      <td>0.93607</td>\n",
       "      <td>59.510150</td>\n",
       "      <td>100.529999</td>\n",
       "      <td>114.455002</td>\n",
       "    </tr>\n",
       "  </tbody>\n",
       "</table>\n",
       "</div>"
      ],
      "text/plain": [
       "   SPY_return  QQQ_Close      ^RUT  abs_vix      MSFT   stdev_5     ^FTSE  \\\n",
       "0   -0.269012  -0.043024 -0.296631    11.77  0.350635  0.316581 -0.655697   \n",
       "1    0.656459   0.864767  1.585499    11.07  0.889458  0.424201 -0.012591   \n",
       "2    0.802609   0.988757  0.966249    10.81  0.251904  0.528980  0.197196   \n",
       "3   -0.073538  -0.020502 -0.494775    10.63  0.926479  0.459317 -0.040477   \n",
       "4   -0.086646   0.099017 -0.356210    10.58  2.349481  0.486897  0.321162   \n",
       "\n",
       "       GOOG      AAPL   high-low  avgreturn5d  abs_yield_curve  std_price  \\\n",
       "0  1.775112  0.066658  14.760010    -0.082739            1.243   3.722485   \n",
       "1  0.556575 -0.091620  17.949951     0.107903            1.261   4.904624   \n",
       "2  1.432266  1.592078  10.670166     0.233150            1.293   9.878119   \n",
       "3 -0.421220  0.049234   6.909912     0.290628            1.298  12.248578   \n",
       "4 -1.062304  0.008170   7.399902     0.205974            1.261  13.370660   \n",
       "\n",
       "   SPY_AbsChange     abs_vol  2Y_Yield      EUR    SPY_RSI         DXY  \\\n",
       "0       0.336624  3155240000 -3.333333  0.93338  54.669773  100.160004   \n",
       "1      -0.269012  3816950000  4.310345  0.92930  61.857468  100.349998   \n",
       "2       0.656459  3849340000  1.652893  0.93208  63.926955  100.029999   \n",
       "3       1.464337  3611510000 -1.626016  0.93006  63.965540  100.379997   \n",
       "4      -0.073538  3137420000  0.826446  0.93607  59.510150  100.529999   \n",
       "\n",
       "          JPY  \n",
       "0  113.809998  \n",
       "1  112.779999  \n",
       "2  113.839996  \n",
       "3  113.292999  \n",
       "4  114.455002  "
      ]
     },
     "execution_count": 28,
     "metadata": {},
     "output_type": "execute_result"
    }
   ],
   "source": [
    "return_data_cleaned.head()"
   ]
  },
  {
   "cell_type": "code",
   "execution_count": 27,
   "id": "e0ff511d",
   "metadata": {},
   "outputs": [],
   "source": [
    "return_1  =  return_data_cleaned\n",
    "\n"
   ]
  },
  {
   "cell_type": "code",
   "execution_count": 29,
   "id": "14d5f9e4",
   "metadata": {},
   "outputs": [
    {
     "data": {
      "text/html": [
       "<div>\n",
       "<style scoped>\n",
       "    .dataframe tbody tr th:only-of-type {\n",
       "        vertical-align: middle;\n",
       "    }\n",
       "\n",
       "    .dataframe tbody tr th {\n",
       "        vertical-align: top;\n",
       "    }\n",
       "\n",
       "    .dataframe thead th {\n",
       "        text-align: right;\n",
       "    }\n",
       "</style>\n",
       "<table border=\"1\" class=\"dataframe\">\n",
       "  <thead>\n",
       "    <tr style=\"text-align: right;\">\n",
       "      <th></th>\n",
       "      <th>SPY_return</th>\n",
       "      <th>QQQ_Close</th>\n",
       "      <th>^RUT</th>\n",
       "      <th>abs_vix</th>\n",
       "      <th>MSFT</th>\n",
       "      <th>stdev_5</th>\n",
       "      <th>^FTSE</th>\n",
       "      <th>GOOG</th>\n",
       "      <th>AAPL</th>\n",
       "      <th>high-low</th>\n",
       "      <th>avgreturn5d</th>\n",
       "      <th>abs_yield_curve</th>\n",
       "      <th>std_price</th>\n",
       "      <th>SPY_AbsChange</th>\n",
       "      <th>abs_vol</th>\n",
       "      <th>2Y_Yield</th>\n",
       "      <th>EUR</th>\n",
       "      <th>SPY_RSI</th>\n",
       "      <th>DXY</th>\n",
       "      <th>JPY</th>\n",
       "    </tr>\n",
       "  </thead>\n",
       "  <tbody>\n",
       "    <tr>\n",
       "      <th>0</th>\n",
       "      <td>-0.269012</td>\n",
       "      <td>-0.043024</td>\n",
       "      <td>-0.296631</td>\n",
       "      <td>11.77</td>\n",
       "      <td>0.350635</td>\n",
       "      <td>0.316581</td>\n",
       "      <td>-0.655697</td>\n",
       "      <td>1.775112</td>\n",
       "      <td>0.066658</td>\n",
       "      <td>14.760010</td>\n",
       "      <td>-0.082739</td>\n",
       "      <td>1.243</td>\n",
       "      <td>3.722485</td>\n",
       "      <td>0.336624</td>\n",
       "      <td>3155240000</td>\n",
       "      <td>-3.333333</td>\n",
       "      <td>0.93338</td>\n",
       "      <td>54.669773</td>\n",
       "      <td>100.160004</td>\n",
       "      <td>113.809998</td>\n",
       "    </tr>\n",
       "    <tr>\n",
       "      <th>1</th>\n",
       "      <td>0.656459</td>\n",
       "      <td>0.864767</td>\n",
       "      <td>1.585499</td>\n",
       "      <td>11.07</td>\n",
       "      <td>0.889458</td>\n",
       "      <td>0.424201</td>\n",
       "      <td>-0.012591</td>\n",
       "      <td>0.556575</td>\n",
       "      <td>-0.091620</td>\n",
       "      <td>17.949951</td>\n",
       "      <td>0.107903</td>\n",
       "      <td>1.261</td>\n",
       "      <td>4.904624</td>\n",
       "      <td>-0.269012</td>\n",
       "      <td>3816950000</td>\n",
       "      <td>4.310345</td>\n",
       "      <td>0.92930</td>\n",
       "      <td>61.857468</td>\n",
       "      <td>100.349998</td>\n",
       "      <td>112.779999</td>\n",
       "    </tr>\n",
       "    <tr>\n",
       "      <th>2</th>\n",
       "      <td>0.802609</td>\n",
       "      <td>0.988757</td>\n",
       "      <td>0.966249</td>\n",
       "      <td>10.81</td>\n",
       "      <td>0.251904</td>\n",
       "      <td>0.528980</td>\n",
       "      <td>0.197196</td>\n",
       "      <td>1.432266</td>\n",
       "      <td>1.592078</td>\n",
       "      <td>10.670166</td>\n",
       "      <td>0.233150</td>\n",
       "      <td>1.293</td>\n",
       "      <td>9.878119</td>\n",
       "      <td>0.656459</td>\n",
       "      <td>3849340000</td>\n",
       "      <td>1.652893</td>\n",
       "      <td>0.93208</td>\n",
       "      <td>63.926955</td>\n",
       "      <td>100.029999</td>\n",
       "      <td>113.839996</td>\n",
       "    </tr>\n",
       "    <tr>\n",
       "      <th>3</th>\n",
       "      <td>-0.073538</td>\n",
       "      <td>-0.020502</td>\n",
       "      <td>-0.494775</td>\n",
       "      <td>10.63</td>\n",
       "      <td>0.926479</td>\n",
       "      <td>0.459317</td>\n",
       "      <td>-0.040477</td>\n",
       "      <td>-0.421220</td>\n",
       "      <td>0.049234</td>\n",
       "      <td>6.909912</td>\n",
       "      <td>0.290628</td>\n",
       "      <td>1.298</td>\n",
       "      <td>12.248578</td>\n",
       "      <td>1.464337</td>\n",
       "      <td>3611510000</td>\n",
       "      <td>-1.626016</td>\n",
       "      <td>0.93006</td>\n",
       "      <td>63.965540</td>\n",
       "      <td>100.379997</td>\n",
       "      <td>113.292999</td>\n",
       "    </tr>\n",
       "    <tr>\n",
       "      <th>4</th>\n",
       "      <td>-0.086646</td>\n",
       "      <td>0.099017</td>\n",
       "      <td>-0.356210</td>\n",
       "      <td>10.58</td>\n",
       "      <td>2.349481</td>\n",
       "      <td>0.486897</td>\n",
       "      <td>0.321162</td>\n",
       "      <td>-1.062304</td>\n",
       "      <td>0.008170</td>\n",
       "      <td>7.399902</td>\n",
       "      <td>0.205974</td>\n",
       "      <td>1.261</td>\n",
       "      <td>13.370660</td>\n",
       "      <td>-0.073538</td>\n",
       "      <td>3137420000</td>\n",
       "      <td>0.826446</td>\n",
       "      <td>0.93607</td>\n",
       "      <td>59.510150</td>\n",
       "      <td>100.529999</td>\n",
       "      <td>114.455002</td>\n",
       "    </tr>\n",
       "  </tbody>\n",
       "</table>\n",
       "</div>"
      ],
      "text/plain": [
       "   SPY_return  QQQ_Close      ^RUT  abs_vix      MSFT   stdev_5     ^FTSE  \\\n",
       "0   -0.269012  -0.043024 -0.296631    11.77  0.350635  0.316581 -0.655697   \n",
       "1    0.656459   0.864767  1.585499    11.07  0.889458  0.424201 -0.012591   \n",
       "2    0.802609   0.988757  0.966249    10.81  0.251904  0.528980  0.197196   \n",
       "3   -0.073538  -0.020502 -0.494775    10.63  0.926479  0.459317 -0.040477   \n",
       "4   -0.086646   0.099017 -0.356210    10.58  2.349481  0.486897  0.321162   \n",
       "\n",
       "       GOOG      AAPL   high-low  avgreturn5d  abs_yield_curve  std_price  \\\n",
       "0  1.775112  0.066658  14.760010    -0.082739            1.243   3.722485   \n",
       "1  0.556575 -0.091620  17.949951     0.107903            1.261   4.904624   \n",
       "2  1.432266  1.592078  10.670166     0.233150            1.293   9.878119   \n",
       "3 -0.421220  0.049234   6.909912     0.290628            1.298  12.248578   \n",
       "4 -1.062304  0.008170   7.399902     0.205974            1.261  13.370660   \n",
       "\n",
       "   SPY_AbsChange     abs_vol  2Y_Yield      EUR    SPY_RSI         DXY  \\\n",
       "0       0.336624  3155240000 -3.333333  0.93338  54.669773  100.160004   \n",
       "1      -0.269012  3816950000  4.310345  0.92930  61.857468  100.349998   \n",
       "2       0.656459  3849340000  1.652893  0.93208  63.926955  100.029999   \n",
       "3       1.464337  3611510000 -1.626016  0.93006  63.965540  100.379997   \n",
       "4      -0.073538  3137420000  0.826446  0.93607  59.510150  100.529999   \n",
       "\n",
       "          JPY  \n",
       "0  113.809998  \n",
       "1  112.779999  \n",
       "2  113.839996  \n",
       "3  113.292999  \n",
       "4  114.455002  "
      ]
     },
     "execution_count": 29,
     "metadata": {},
     "output_type": "execute_result"
    }
   ],
   "source": [
    "return_1.head()"
   ]
  },
  {
   "cell_type": "code",
   "execution_count": 439,
   "id": "d8572020",
   "metadata": {},
   "outputs": [
    {
     "name": "stdout",
     "output_type": "stream",
     "text": [
      "(2071, 46)\n"
     ]
    }
   ],
   "source": [
    "print(return_1.shape)"
   ]
  },
  {
   "cell_type": "code",
   "execution_count": 295,
   "id": "d60930c2",
   "metadata": {},
   "outputs": [
    {
     "ename": "KeyError",
     "evalue": "(5, 0)",
     "output_type": "error",
     "traceback": [
      "\u001b[1;31m---------------------------------------------------------------------------\u001b[0m",
      "\u001b[1;31mKeyError\u001b[0m                                  Traceback (most recent call last)",
      "File \u001b[1;32mc:\\Users\\OMER\\PycharmProjects\\Project\\.venv\\lib\\site-packages\\pandas\\core\\indexes\\base.py:3805\u001b[0m, in \u001b[0;36mIndex.get_loc\u001b[1;34m(self, key)\u001b[0m\n\u001b[0;32m   3804\u001b[0m \u001b[38;5;28;01mtry\u001b[39;00m:\n\u001b[1;32m-> 3805\u001b[0m     \u001b[38;5;28;01mreturn\u001b[39;00m \u001b[38;5;28;43mself\u001b[39;49m\u001b[38;5;241;43m.\u001b[39;49m\u001b[43m_engine\u001b[49m\u001b[38;5;241;43m.\u001b[39;49m\u001b[43mget_loc\u001b[49m\u001b[43m(\u001b[49m\u001b[43mcasted_key\u001b[49m\u001b[43m)\u001b[49m\n\u001b[0;32m   3806\u001b[0m \u001b[38;5;28;01mexcept\u001b[39;00m \u001b[38;5;167;01mKeyError\u001b[39;00m \u001b[38;5;28;01mas\u001b[39;00m err:\n",
      "File \u001b[1;32mindex.pyx:167\u001b[0m, in \u001b[0;36mpandas._libs.index.IndexEngine.get_loc\u001b[1;34m()\u001b[0m\n",
      "File \u001b[1;32mindex.pyx:196\u001b[0m, in \u001b[0;36mpandas._libs.index.IndexEngine.get_loc\u001b[1;34m()\u001b[0m\n",
      "File \u001b[1;32mpandas\\\\_libs\\\\hashtable_class_helper.pxi:7081\u001b[0m, in \u001b[0;36mpandas._libs.hashtable.PyObjectHashTable.get_item\u001b[1;34m()\u001b[0m\n",
      "File \u001b[1;32mpandas\\\\_libs\\\\hashtable_class_helper.pxi:7089\u001b[0m, in \u001b[0;36mpandas._libs.hashtable.PyObjectHashTable.get_item\u001b[1;34m()\u001b[0m\n",
      "\u001b[1;31mKeyError\u001b[0m: (5, 0)",
      "\nThe above exception was the direct cause of the following exception:\n",
      "\u001b[1;31mKeyError\u001b[0m                                  Traceback (most recent call last)",
      "Cell \u001b[1;32mIn[295], line 2\u001b[0m\n\u001b[0;32m      1\u001b[0m window \u001b[38;5;241m=\u001b[39m \u001b[38;5;241m5\u001b[39m\n\u001b[1;32m----> 2\u001b[0m x1, y1 \u001b[38;5;241m=\u001b[39m \u001b[43mcreate_sequences_multifeature\u001b[49m\u001b[43m(\u001b[49m\u001b[43mreturn_1\u001b[49m\u001b[43m,\u001b[49m\u001b[43m \u001b[49m\u001b[43mwindow\u001b[49m\u001b[43m)\u001b[49m\n",
      "Cell \u001b[1;32mIn[271], line 5\u001b[0m, in \u001b[0;36mcreate_sequences_multifeature\u001b[1;34m(data, window_size)\u001b[0m\n\u001b[0;32m      3\u001b[0m \u001b[38;5;28;01mfor\u001b[39;00m i \u001b[38;5;129;01min\u001b[39;00m \u001b[38;5;28mrange\u001b[39m(window_size, \u001b[38;5;28mlen\u001b[39m(data)):\n\u001b[0;32m      4\u001b[0m     X\u001b[38;5;241m.\u001b[39mappend(data[i \u001b[38;5;241m-\u001b[39m window_size:i])\n\u001b[1;32m----> 5\u001b[0m     y\u001b[38;5;241m.\u001b[39mappend(\u001b[43mdata\u001b[49m\u001b[43m[\u001b[49m\u001b[43mi\u001b[49m\u001b[43m,\u001b[49m\u001b[43m \u001b[49m\u001b[38;5;241;43m0\u001b[39;49m\u001b[43m]\u001b[49m)  \u001b[38;5;66;03m# תחזית רק למחיר\u001b[39;00m\n\u001b[0;32m      6\u001b[0m \u001b[38;5;28;01mreturn\u001b[39;00m np\u001b[38;5;241m.\u001b[39marray(X), np\u001b[38;5;241m.\u001b[39marray(y)\n",
      "File \u001b[1;32mc:\\Users\\OMER\\PycharmProjects\\Project\\.venv\\lib\\site-packages\\pandas\\core\\frame.py:4102\u001b[0m, in \u001b[0;36mDataFrame.__getitem__\u001b[1;34m(self, key)\u001b[0m\n\u001b[0;32m   4100\u001b[0m \u001b[38;5;28;01mif\u001b[39;00m \u001b[38;5;28mself\u001b[39m\u001b[38;5;241m.\u001b[39mcolumns\u001b[38;5;241m.\u001b[39mnlevels \u001b[38;5;241m>\u001b[39m \u001b[38;5;241m1\u001b[39m:\n\u001b[0;32m   4101\u001b[0m     \u001b[38;5;28;01mreturn\u001b[39;00m \u001b[38;5;28mself\u001b[39m\u001b[38;5;241m.\u001b[39m_getitem_multilevel(key)\n\u001b[1;32m-> 4102\u001b[0m indexer \u001b[38;5;241m=\u001b[39m \u001b[38;5;28;43mself\u001b[39;49m\u001b[38;5;241;43m.\u001b[39;49m\u001b[43mcolumns\u001b[49m\u001b[38;5;241;43m.\u001b[39;49m\u001b[43mget_loc\u001b[49m\u001b[43m(\u001b[49m\u001b[43mkey\u001b[49m\u001b[43m)\u001b[49m\n\u001b[0;32m   4103\u001b[0m \u001b[38;5;28;01mif\u001b[39;00m is_integer(indexer):\n\u001b[0;32m   4104\u001b[0m     indexer \u001b[38;5;241m=\u001b[39m [indexer]\n",
      "File \u001b[1;32mc:\\Users\\OMER\\PycharmProjects\\Project\\.venv\\lib\\site-packages\\pandas\\core\\indexes\\base.py:3812\u001b[0m, in \u001b[0;36mIndex.get_loc\u001b[1;34m(self, key)\u001b[0m\n\u001b[0;32m   3807\u001b[0m     \u001b[38;5;28;01mif\u001b[39;00m \u001b[38;5;28misinstance\u001b[39m(casted_key, \u001b[38;5;28mslice\u001b[39m) \u001b[38;5;129;01mor\u001b[39;00m (\n\u001b[0;32m   3808\u001b[0m         \u001b[38;5;28misinstance\u001b[39m(casted_key, abc\u001b[38;5;241m.\u001b[39mIterable)\n\u001b[0;32m   3809\u001b[0m         \u001b[38;5;129;01mand\u001b[39;00m \u001b[38;5;28many\u001b[39m(\u001b[38;5;28misinstance\u001b[39m(x, \u001b[38;5;28mslice\u001b[39m) \u001b[38;5;28;01mfor\u001b[39;00m x \u001b[38;5;129;01min\u001b[39;00m casted_key)\n\u001b[0;32m   3810\u001b[0m     ):\n\u001b[0;32m   3811\u001b[0m         \u001b[38;5;28;01mraise\u001b[39;00m InvalidIndexError(key)\n\u001b[1;32m-> 3812\u001b[0m     \u001b[38;5;28;01mraise\u001b[39;00m \u001b[38;5;167;01mKeyError\u001b[39;00m(key) \u001b[38;5;28;01mfrom\u001b[39;00m\u001b[38;5;250m \u001b[39m\u001b[38;5;21;01merr\u001b[39;00m\n\u001b[0;32m   3813\u001b[0m \u001b[38;5;28;01mexcept\u001b[39;00m \u001b[38;5;167;01mTypeError\u001b[39;00m:\n\u001b[0;32m   3814\u001b[0m     \u001b[38;5;66;03m# If we have a listlike key, _check_indexing_error will raise\u001b[39;00m\n\u001b[0;32m   3815\u001b[0m     \u001b[38;5;66;03m#  InvalidIndexError. Otherwise we fall through and re-raise\u001b[39;00m\n\u001b[0;32m   3816\u001b[0m     \u001b[38;5;66;03m#  the TypeError.\u001b[39;00m\n\u001b[0;32m   3817\u001b[0m     \u001b[38;5;28mself\u001b[39m\u001b[38;5;241m.\u001b[39m_check_indexing_error(key)\n",
      "\u001b[1;31mKeyError\u001b[0m: (5, 0)"
     ]
    }
   ],
   "source": [
    "window = 5\n",
    "x1, y1 = create_sequences_multifeature(return_1, window)"
   ]
  },
  {
   "cell_type": "code",
   "execution_count": 247,
   "id": "2077084b",
   "metadata": {},
   "outputs": [
    {
     "name": "stdout",
     "output_type": "stream",
     "text": [
      "1\n"
     ]
    }
   ],
   "source": [
    "split = int(0.8 * len(x1))\n",
    "X_train, X_test = x1[:split], x1[split:]\n",
    "y_train, y_test = y1[:split], y1[split:]\n",
    "print(x1.shape[2])"
   ]
  },
  {
   "cell_type": "code",
   "execution_count": 24,
   "id": "b2f43ea9",
   "metadata": {},
   "outputs": [
    {
     "data": {
      "text/html": [
       "<div>\n",
       "<style scoped>\n",
       "    .dataframe tbody tr th:only-of-type {\n",
       "        vertical-align: middle;\n",
       "    }\n",
       "\n",
       "    .dataframe tbody tr th {\n",
       "        vertical-align: top;\n",
       "    }\n",
       "\n",
       "    .dataframe thead th {\n",
       "        text-align: right;\n",
       "    }\n",
       "</style>\n",
       "<table border=\"1\" class=\"dataframe\">\n",
       "  <thead>\n",
       "    <tr style=\"text-align: right;\">\n",
       "      <th></th>\n",
       "      <th>SPY_return</th>\n",
       "      <th>QQQ_Close</th>\n",
       "      <th>^RUT</th>\n",
       "      <th>abs_vix</th>\n",
       "      <th>MSFT</th>\n",
       "      <th>stdev_5</th>\n",
       "      <th>^FTSE</th>\n",
       "      <th>GOOG</th>\n",
       "      <th>AAPL</th>\n",
       "      <th>high-low</th>\n",
       "      <th>...</th>\n",
       "      <th>2Y_Yield</th>\n",
       "      <th>EUR</th>\n",
       "      <th>SPY_RSI</th>\n",
       "      <th>DXY</th>\n",
       "      <th>JPY</th>\n",
       "      <th>SPY_return_lag_1</th>\n",
       "      <th>SPY_return_lag_2</th>\n",
       "      <th>SPY_return_lag_3</th>\n",
       "      <th>SPY_return_lag_4</th>\n",
       "      <th>SPY_return_lag_5</th>\n",
       "    </tr>\n",
       "  </thead>\n",
       "  <tbody>\n",
       "    <tr>\n",
       "      <th>5</th>\n",
       "      <td>-0.600954</td>\n",
       "      <td>-0.831508</td>\n",
       "      <td>-1.340191</td>\n",
       "      <td>11.88</td>\n",
       "      <td>-0.988134</td>\n",
       "      <td>0.581326</td>\n",
       "      <td>-0.918644</td>\n",
       "      <td>-2.549482</td>\n",
       "      <td>-0.262374</td>\n",
       "      <td>17.969971</td>\n",
       "      <td>...</td>\n",
       "      <td>0.000000</td>\n",
       "      <td>0.93336</td>\n",
       "      <td>56.071596</td>\n",
       "      <td>100.430000</td>\n",
       "      <td>114.667999</td>\n",
       "      <td>-0.086646</td>\n",
       "      <td>-0.073538</td>\n",
       "      <td>0.802609</td>\n",
       "      <td>0.656459</td>\n",
       "      <td>-0.269012</td>\n",
       "    </tr>\n",
       "    <tr>\n",
       "      <th>6</th>\n",
       "      <td>-0.088991</td>\n",
       "      <td>0.019240</td>\n",
       "      <td>0.701751</td>\n",
       "      <td>11.99</td>\n",
       "      <td>-0.736991</td>\n",
       "      <td>0.506387</td>\n",
       "      <td>-0.271122</td>\n",
       "      <td>-0.689241</td>\n",
       "      <td>-0.230199</td>\n",
       "      <td>11.880127</td>\n",
       "      <td>...</td>\n",
       "      <td>-2.459016</td>\n",
       "      <td>0.93383</td>\n",
       "      <td>54.943062</td>\n",
       "      <td>99.510002</td>\n",
       "      <td>113.650002</td>\n",
       "      <td>-0.600954</td>\n",
       "      <td>-0.086646</td>\n",
       "      <td>-0.073538</td>\n",
       "      <td>0.802609</td>\n",
       "      <td>0.656459</td>\n",
       "    </tr>\n",
       "    <tr>\n",
       "      <th>7</th>\n",
       "      <td>0.029836</td>\n",
       "      <td>0.496187</td>\n",
       "      <td>-0.043322</td>\n",
       "      <td>11.81</td>\n",
       "      <td>-1.655074</td>\n",
       "      <td>0.249146</td>\n",
       "      <td>0.119732</td>\n",
       "      <td>-0.137429</td>\n",
       "      <td>6.098040</td>\n",
       "      <td>16.699951</td>\n",
       "      <td>...</td>\n",
       "      <td>2.521008</td>\n",
       "      <td>0.92560</td>\n",
       "      <td>52.223722</td>\n",
       "      <td>99.639999</td>\n",
       "      <td>112.742996</td>\n",
       "      <td>-0.088991</td>\n",
       "      <td>-0.600954</td>\n",
       "      <td>-0.086646</td>\n",
       "      <td>-0.073538</td>\n",
       "      <td>0.802609</td>\n",
       "    </tr>\n",
       "    <tr>\n",
       "      <th>8</th>\n",
       "      <td>0.057031</td>\n",
       "      <td>-0.114303</td>\n",
       "      <td>-0.279154</td>\n",
       "      <td>11.93</td>\n",
       "      <td>-0.644847</td>\n",
       "      <td>0.267195</td>\n",
       "      <td>0.465687</td>\n",
       "      <td>0.356295</td>\n",
       "      <td>-0.170875</td>\n",
       "      <td>12.320068</td>\n",
       "      <td>...</td>\n",
       "      <td>-0.819672</td>\n",
       "      <td>0.92873</td>\n",
       "      <td>55.686728</td>\n",
       "      <td>99.849998</td>\n",
       "      <td>113.310997</td>\n",
       "      <td>0.029836</td>\n",
       "      <td>-0.088991</td>\n",
       "      <td>-0.600954</td>\n",
       "      <td>-0.086646</td>\n",
       "      <td>-0.073538</td>\n",
       "    </tr>\n",
       "    <tr>\n",
       "      <th>9</th>\n",
       "      <td>0.726476</td>\n",
       "      <td>0.542384</td>\n",
       "      <td>1.503570</td>\n",
       "      <td>10.97</td>\n",
       "      <td>0.807349</td>\n",
       "      <td>0.473796</td>\n",
       "      <td>0.665192</td>\n",
       "      <td>0.370687</td>\n",
       "      <td>0.427937</td>\n",
       "      <td>10.430176</td>\n",
       "      <td>...</td>\n",
       "      <td>0.000000</td>\n",
       "      <td>0.92922</td>\n",
       "      <td>60.962463</td>\n",
       "      <td>99.870003</td>\n",
       "      <td>112.789001</td>\n",
       "      <td>0.057031</td>\n",
       "      <td>0.029836</td>\n",
       "      <td>-0.088991</td>\n",
       "      <td>-0.600954</td>\n",
       "      <td>-0.086646</td>\n",
       "    </tr>\n",
       "  </tbody>\n",
       "</table>\n",
       "<p>5 rows × 25 columns</p>\n",
       "</div>"
      ],
      "text/plain": [
       "   SPY_return  QQQ_Close      ^RUT  abs_vix      MSFT   stdev_5     ^FTSE  \\\n",
       "5   -0.600954  -0.831508 -1.340191    11.88 -0.988134  0.581326 -0.918644   \n",
       "6   -0.088991   0.019240  0.701751    11.99 -0.736991  0.506387 -0.271122   \n",
       "7    0.029836   0.496187 -0.043322    11.81 -1.655074  0.249146  0.119732   \n",
       "8    0.057031  -0.114303 -0.279154    11.93 -0.644847  0.267195  0.465687   \n",
       "9    0.726476   0.542384  1.503570    10.97  0.807349  0.473796  0.665192   \n",
       "\n",
       "       GOOG      AAPL   high-low  ...  2Y_Yield      EUR    SPY_RSI  \\\n",
       "5 -2.549482 -0.262374  17.969971  ...  0.000000  0.93336  56.071596   \n",
       "6 -0.689241 -0.230199  11.880127  ... -2.459016  0.93383  54.943062   \n",
       "7 -0.137429  6.098040  16.699951  ...  2.521008  0.92560  52.223722   \n",
       "8  0.356295 -0.170875  12.320068  ... -0.819672  0.92873  55.686728   \n",
       "9  0.370687  0.427937  10.430176  ...  0.000000  0.92922  60.962463   \n",
       "\n",
       "          DXY         JPY  SPY_return_lag_1  SPY_return_lag_2  \\\n",
       "5  100.430000  114.667999         -0.086646         -0.073538   \n",
       "6   99.510002  113.650002         -0.600954         -0.086646   \n",
       "7   99.639999  112.742996         -0.088991         -0.600954   \n",
       "8   99.849998  113.310997          0.029836         -0.088991   \n",
       "9   99.870003  112.789001          0.057031          0.029836   \n",
       "\n",
       "   SPY_return_lag_3  SPY_return_lag_4  SPY_return_lag_5  \n",
       "5          0.802609          0.656459         -0.269012  \n",
       "6         -0.073538          0.802609          0.656459  \n",
       "7         -0.086646         -0.073538          0.802609  \n",
       "8         -0.600954         -0.086646         -0.073538  \n",
       "9         -0.088991         -0.600954         -0.086646  \n",
       "\n",
       "[5 rows x 25 columns]"
      ]
     },
     "execution_count": 24,
     "metadata": {},
     "output_type": "execute_result"
    }
   ],
   "source": [
    "return_1.head()"
   ]
  },
  {
   "cell_type": "code",
   "execution_count": 39,
   "id": "cd77471f",
   "metadata": {},
   "outputs": [
    {
     "name": "stderr",
     "output_type": "stream",
     "text": [
      "C:\\Users\\OMER\\AppData\\Local\\Temp\\ipykernel_23536\\1457904763.py:3: SettingWithCopyWarning: \n",
      "A value is trying to be set on a copy of a slice from a DataFrame.\n",
      "Try using .loc[row_indexer,col_indexer] = value instead\n",
      "\n",
      "See the caveats in the documentation: https://pandas.pydata.org/pandas-docs/stable/user_guide/indexing.html#returning-a-view-versus-a-copy\n",
      "  data[f'{col}_lag_{i}'] = data[col].shift(i)\n"
     ]
    }
   ],
   "source": [
    "def for_sequence(data, window_size,col):\n",
    "    for i in range(1,window_size+1):\n",
    "        data[f'{col}_lag_{i}'] = data[col].shift(i)\n",
    "    return data\n",
    "return_1 = for_sequence(return_1, 5, 'SPY_return')\n",
    "return_1 = return_1.dropna()\n"
   ]
  },
  {
   "cell_type": "code",
   "execution_count": 40,
   "id": "5609cd70",
   "metadata": {},
   "outputs": [],
   "source": [
    "\n",
    "#return_1 = return_1[cols]\n",
    "x1 = return_1.drop(columns=['SPY_return'])\n",
    "y1 = return_1['SPY_return']"
   ]
  },
  {
   "cell_type": "markdown",
   "id": "c026fe6f",
   "metadata": {},
   "source": [
    "# for no sequence (best resault so far, using shift[5])"
   ]
  },
  {
   "cell_type": "markdown",
   "id": "ad7d0641",
   "metadata": {},
   "source": [
    "### 1"
   ]
  },
  {
   "cell_type": "code",
   "execution_count": 33,
   "id": "ba72cab1",
   "metadata": {},
   "outputs": [],
   "source": [
    "# Scaling\n",
    "scaler_X, scaler_y = RobustScaler(), RobustScaler()\n",
    "X_scaled = scaler_X.fit_transform(x1)\n",
    "y_scaled = scaler_y.fit_transform(y1.values.reshape(-1, 1))\n",
    "X_scaled = X_scaled.reshape(X_scaled.shape[0], 1, X_scaled.shape[1])\n",
    "\n",
    "# Split data\n",
    "split_index = int(0.9 * len(X_scaled))\n",
    "X_train, X_test = X_scaled[:split_index], X_scaled[split_index:]\n",
    "y_train, y_test = y_scaled[:split_index], y_scaled[split_index:]\n",
    "#train_dates, test_dates = dates[:split_index], dates[split_index:]"
   ]
  },
  {
   "cell_type": "code",
   "execution_count": null,
   "id": "938b9101",
   "metadata": {},
   "outputs": [
    {
     "name": "stdout",
     "output_type": "stream",
     "text": [
      "76\n"
     ]
    }
   ],
   "source": [
    "window_size = 5\n",
    "# Scaling the data for the model\n",
    "scaler_1 = RobustScaler()\n",
    "scaled_data_ = scaler_1.fit_transform(return_1)\n",
    "X, y = create_sequences_multifeature(scaled_data_, window_size)\n",
    "#scaler_y = scaler_1.fit(y.reshape(-1, 1))\n",
    "# Scaling the data for the model\n",
    "\n",
    "split = int(0.9 * len(X))\n",
    "X_train, X_test = X[:split], X[split:]\n",
    "y_train, y_test = y[:split], y[split:]\n",
    "print(X.shape[2])"
   ]
  },
  {
   "cell_type": "code",
   "execution_count": 428,
   "id": "96364238",
   "metadata": {},
   "outputs": [
    {
     "name": "stdout",
     "output_type": "stream",
     "text": [
      "X_train.shape: (1827, 5, 75)\n",
      "y_train.shape: (1827,)\n"
     ]
    }
   ],
   "source": [
    "\n",
    "\n",
    "# 1) Your raw arrays x1 (shape: [n_samples, n_features]) and y1 ([n_samples,])\n",
    "window = 5\n",
    "\n",
    "# 2) Scale features and target\n",
    "scaler_X = RobustScaler().fit(x1)\n",
    "scaler_y = RobustScaler().fit(y1.values.reshape(-1,1))\n",
    "\n",
    "Xs = scaler_X.transform(x1)              # → (n_samples, n_features)\n",
    "ys = scaler_y.transform(y1.values.reshape(-1,1))  # → (n_samples, 1)\n",
    "\n",
    "# 3) Build sequences of length=window\n",
    "def create_sequences_multifeature(data, targets, window_size):\n",
    "    X_seq, y_seq = [], []\n",
    "    for i in range(window_size, len(data)):\n",
    "        X_seq.append(data[i-window_size:i, :])  # (window_size, n_features)\n",
    "        y_seq.append(targets[i, 0])             # the scaled return at t=i\n",
    "    return np.array(X_seq), np.array(y_seq)\n",
    "\n",
    "X_seq, y_seq = create_sequences_multifeature(Xs, ys, window)\n",
    "\n",
    "# 4) Split into train/test\n",
    "split_index = int(0.9 * len(X_seq))\n",
    "X_train, X_test = X_seq[:split_index], X_seq[split_index:]\n",
    "y_train, y_test = y_seq[:split_index], y_seq[split_index:]\n",
    "\n",
    "print(\"X_train.shape:\", X_train.shape)  # → (n_train, window, n_features)\n",
    "print(\"y_train.shape:\", y_train.shape)  # → (n_train,)\n",
    "\n",
    "\n",
    "\n",
    "\n"
   ]
  },
  {
   "cell_type": "code",
   "execution_count": 429,
   "id": "f619d141",
   "metadata": {},
   "outputs": [
    {
     "name": "stderr",
     "output_type": "stream",
     "text": [
      "c:\\Users\\OMER\\PycharmProjects\\Project\\.venv\\lib\\site-packages\\keras\\src\\layers\\rnn\\rnn.py:200: UserWarning: Do not pass an `input_shape`/`input_dim` argument to a layer. When using Sequential models, prefer using an `Input(shape)` object as the first layer in the model instead.\n",
      "  super().__init__(**kwargs)\n"
     ]
    }
   ],
   "source": [
    "model_gru = Sequential([\n",
    "    GRU(256, return_sequences=True, input_shape=(window_size, X_train.shape[2])),\n",
    "    GRU(128, return_sequences=True),\n",
    "    GRU(98, return_sequences=True),\n",
    "    GRU(64, return_sequences=True),\n",
    "    GRU(32, return_sequences=False),\n",
    "    Dense(10, activation='relu'),\n",
    "    Dense(1)\n",
    "])\n",
    "model_gru.compile(optimizer='adam', loss='mse')\n",
    "history_gru = model_gru.fit(X_train, y_train, epochs=10, batch_size=32, verbose=0)"
   ]
  },
  {
   "cell_type": "markdown",
   "id": "911206e0",
   "metadata": {},
   "source": [
    "### 2"
   ]
  },
  {
   "cell_type": "code",
   "execution_count": 34,
   "id": "892a9cb0",
   "metadata": {},
   "outputs": [
    {
     "name": "stderr",
     "output_type": "stream",
     "text": [
      "c:\\Users\\OMER\\PycharmProjects\\Project\\.venv\\lib\\site-packages\\keras\\src\\layers\\rnn\\rnn.py:199: UserWarning: Do not pass an `input_shape`/`input_dim` argument to a layer. When using Sequential models, prefer using an `Input(shape)` object as the first layer in the model instead.\n",
      "  super().__init__(**kwargs)\n"
     ]
    }
   ],
   "source": [
    "model_gru = Sequential([\n",
    "    GRU(256, return_sequences=True, input_shape=(X_train.shape[1], X_train.shape[2])),\n",
    "    GRU(128, return_sequences=True),\n",
    "    GRU(98, return_sequences=True),\n",
    "    GRU(64, return_sequences=True),\n",
    "    GRU(32, return_sequences=False),\n",
    "    Dense(10, activation='relu'),\n",
    "    Dense(1)\n",
    "])\n",
    "model_gru.compile(optimizer='adam', loss='mse')\n",
    "history_gru = model_gru.fit(X_train, y_train, epochs=10, batch_size=32, verbose=0)"
   ]
  },
  {
   "cell_type": "code",
   "execution_count": null,
   "id": "29e608b3",
   "metadata": {},
   "outputs": [
    {
     "name": "stderr",
     "output_type": "stream",
     "text": [
      "c:\\Users\\OMER\\PycharmProjects\\Project\\.venv\\lib\\site-packages\\keras\\src\\layers\\rnn\\rnn.py:200: UserWarning: Do not pass an `input_shape`/`input_dim` argument to a layer. When using Sequential models, prefer using an `Input(shape)` object as the first layer in the model instead.\n",
      "  super().__init__(**kwargs)\n"
     ]
    }
   ],
   "source": [
    "model_gru = Sequential([\n",
    "    GRU(50, return_sequences=True, input_shape=(x1.shape[0], x1.shape[1])),\n",
    "    GRU(44),\n",
    "    Dense(32, activation='relu'),\n",
    "    Dense(1)\n",
    "])\n",
    "model_gru.compile(optimizer='adam', loss='mse')\n",
    "history_gru = model_gru.fit(X_train, y_train, epochs=10, batch_size=32, verbose=0)"
   ]
  },
  {
   "cell_type": "markdown",
   "id": "c5d91f36",
   "metadata": {},
   "source": [
    "### 3"
   ]
  },
  {
   "cell_type": "code",
   "execution_count": 35,
   "id": "b6f4b5eb",
   "metadata": {},
   "outputs": [
    {
     "name": "stdout",
     "output_type": "stream",
     "text": [
      "\u001b[1m7/7\u001b[0m \u001b[32m━━━━━━━━━━━━━━━━━━━━\u001b[0m\u001b[37m\u001b[0m \u001b[1m1s\u001b[0m 66ms/step\n"
     ]
    }
   ],
   "source": [
    "pred_gru = model_gru.predict(X_test)\n",
    "y_pred_inverse = scaler_y.inverse_transform(pred_gru)\n",
    "#y_test_reshaped   = y_test.reshape(-1, 1)\n",
    "#y_test_inverse    = scaler_y.inverse_transform(y_test_reshaped).flatten()\n",
    "y_test_inverse = scaler_y.inverse_transform(y_test)"
   ]
  },
  {
   "cell_type": "code",
   "execution_count": 420,
   "id": "e1d622fe",
   "metadata": {},
   "outputs": [
    {
     "name": "stdout",
     "output_type": "stream",
     "text": [
      "\u001b[1m7/7\u001b[0m \u001b[32m━━━━━━━━━━━━━━━━━━━━\u001b[0m\u001b[37m\u001b[0m \u001b[1m0s\u001b[0m 5ms/step \n"
     ]
    },
    {
     "ename": "AttributeError",
     "evalue": "'RobustScaler' object has no attribute 'center_'",
     "output_type": "error",
     "traceback": [
      "\u001b[1;31m---------------------------------------------------------------------------\u001b[0m",
      "\u001b[1;31mAttributeError\u001b[0m                            Traceback (most recent call last)",
      "Cell \u001b[1;32mIn[420], line 9\u001b[0m\n\u001b[0;32m      7\u001b[0m price_scaler\u001b[38;5;241m.\u001b[39mmin_, price_scaler\u001b[38;5;241m.\u001b[39mscale_ \u001b[38;5;241m=\u001b[39m scale1\u001b[38;5;241m.\u001b[39mmin_[\u001b[38;5;241m0\u001b[39m], scale1\u001b[38;5;241m.\u001b[39mscale_[\u001b[38;5;241m0\u001b[39m]\n\u001b[0;32m      8\u001b[0m \u001b[38;5;66;03m#pred_lstm = price_scaler.inverse_transform(pred_lstm)\u001b[39;00m\n\u001b[1;32m----> 9\u001b[0m pred_gru \u001b[38;5;241m=\u001b[39m \u001b[43mprice_scaler\u001b[49m\u001b[38;5;241;43m.\u001b[39;49m\u001b[43minverse_transform\u001b[49m\u001b[43m(\u001b[49m\u001b[43mpred_gru\u001b[49m\u001b[43m)\u001b[49m\n\u001b[0;32m     10\u001b[0m y_test_actual \u001b[38;5;241m=\u001b[39m price_scaler\u001b[38;5;241m.\u001b[39minverse_transform(y_test\u001b[38;5;241m.\u001b[39mreshape(\u001b[38;5;241m-\u001b[39m\u001b[38;5;241m1\u001b[39m, \u001b[38;5;241m1\u001b[39m))\n",
      "File \u001b[1;32mc:\\Users\\OMER\\PycharmProjects\\Project\\.venv\\lib\\site-packages\\sklearn\\preprocessing\\_data.py:1737\u001b[0m, in \u001b[0;36mRobustScaler.inverse_transform\u001b[1;34m(self, X)\u001b[0m\n\u001b[0;32m   1735\u001b[0m         X \u001b[38;5;241m*\u001b[39m\u001b[38;5;241m=\u001b[39m \u001b[38;5;28mself\u001b[39m\u001b[38;5;241m.\u001b[39mscale_\n\u001b[0;32m   1736\u001b[0m     \u001b[38;5;28;01mif\u001b[39;00m \u001b[38;5;28mself\u001b[39m\u001b[38;5;241m.\u001b[39mwith_centering:\n\u001b[1;32m-> 1737\u001b[0m         X \u001b[38;5;241m+\u001b[39m\u001b[38;5;241m=\u001b[39m \u001b[38;5;28;43mself\u001b[39;49m\u001b[38;5;241;43m.\u001b[39;49m\u001b[43mcenter_\u001b[49m\n\u001b[0;32m   1738\u001b[0m \u001b[38;5;28;01mreturn\u001b[39;00m X\n",
      "\u001b[1;31mAttributeError\u001b[0m: 'RobustScaler' object has no attribute 'center_'"
     ]
    }
   ],
   "source": [
    "#pred_lstm = model_lstm.predict(X_test)\n",
    "pred_gru = model_gru.predict(X_test)\n",
    "\n",
    "# reset the scaler to the original price range\n",
    "#price_scaler = MinMaxScaler()\n",
    "price_scaler = RobustScaler()\n",
    "price_scaler.min_, price_scaler.scale_ = scale1.min_[0], scale1.scale_[0]\n",
    "#pred_lstm = price_scaler.inverse_transform(pred_lstm)\n",
    "pred_gru = price_scaler.inverse_transform(pred_gru)\n",
    "y_test_actual = price_scaler.inverse_transform(y_test.reshape(-1, 1))"
   ]
  },
  {
   "cell_type": "code",
   "execution_count": 290,
   "id": "2c3cd72f",
   "metadata": {},
   "outputs": [
    {
     "name": "stdout",
     "output_type": "stream",
     "text": [
      "LSTM - MSE: 8808723.0540, R²: -26.9813\n",
      "GRU  - MSE: 63.1383, R²: 0.9159\n"
     ]
    }
   ],
   "source": [
    "#mse_lstm = mean_squared_error(y_test_actual, pred_lstm)\n",
    "mse_gru = mean_squared_error(y_test_actual, pred_gru)\n",
    "\n",
    "#r2_lstm = r2_score(y_test_actual, pred_lstm)\n",
    "r2_gru = r2_score(y_test_actual, pred_gru)\n",
    "\n",
    "print(f'LSTM - MSE: {mse_lstm:.4f}, R²: {r2_lstm:.4f}')\n",
    "print(f'GRU  - MSE: {mse_gru:.4f}, R²: {r2_gru:.4f}')"
   ]
  },
  {
   "cell_type": "code",
   "execution_count": 36,
   "id": "a740f43d",
   "metadata": {},
   "outputs": [
    {
     "name": "stdout",
     "output_type": "stream",
     "text": [
      "GRU  - MSE: 0.0719, R²: 0.9564\n"
     ]
    }
   ],
   "source": [
    "\n",
    "mse_gru = mean_squared_error(y_test_inverse, y_pred_inverse)\n",
    "\n",
    "    \n",
    "r2_gru = r2_score(y_test_inverse, y_pred_inverse)\n",
    "\n",
    "\n",
    "print(f'GRU  - MSE: {mse_gru:.4f}, R²: {r2_gru:.4f}')"
   ]
  },
  {
   "cell_type": "markdown",
   "id": "b642c708",
   "metadata": {},
   "source": [
    "GRU  - MSE: 0.0717, R²: 0.9565\n"
   ]
  },
  {
   "cell_type": "code",
   "execution_count": 19,
   "id": "9226d719",
   "metadata": {},
   "outputs": [
    {
     "data": {
      "text/html": [
       "<div>\n",
       "<style scoped>\n",
       "    .dataframe tbody tr th:only-of-type {\n",
       "        vertical-align: middle;\n",
       "    }\n",
       "\n",
       "    .dataframe tbody tr th {\n",
       "        vertical-align: top;\n",
       "    }\n",
       "\n",
       "    .dataframe thead th {\n",
       "        text-align: right;\n",
       "    }\n",
       "</style>\n",
       "<table border=\"1\" class=\"dataframe\">\n",
       "  <thead>\n",
       "    <tr style=\"text-align: right;\">\n",
       "      <th></th>\n",
       "      <th>Actual</th>\n",
       "      <th>Predicted</th>\n",
       "    </tr>\n",
       "  </thead>\n",
       "  <tbody>\n",
       "    <tr>\n",
       "      <th>197</th>\n",
       "      <td>-4.839563</td>\n",
       "      <td>-5.006712</td>\n",
       "    </tr>\n",
       "    <tr>\n",
       "      <th>198</th>\n",
       "      <td>-5.974961</td>\n",
       "      <td>-6.026467</td>\n",
       "    </tr>\n",
       "    <tr>\n",
       "      <th>199</th>\n",
       "      <td>-0.233147</td>\n",
       "      <td>-0.671777</td>\n",
       "    </tr>\n",
       "    <tr>\n",
       "      <th>200</th>\n",
       "      <td>-1.570052</td>\n",
       "      <td>-1.443027</td>\n",
       "    </tr>\n",
       "    <tr>\n",
       "      <th>201</th>\n",
       "      <td>9.515388</td>\n",
       "      <td>7.866687</td>\n",
       "    </tr>\n",
       "    <tr>\n",
       "      <th>202</th>\n",
       "      <td>-3.460758</td>\n",
       "      <td>-2.602765</td>\n",
       "    </tr>\n",
       "    <tr>\n",
       "      <th>203</th>\n",
       "      <td>1.809210</td>\n",
       "      <td>2.029879</td>\n",
       "    </tr>\n",
       "    <tr>\n",
       "      <th>204</th>\n",
       "      <td>0.794471</td>\n",
       "      <td>0.441792</td>\n",
       "    </tr>\n",
       "    <tr>\n",
       "      <th>205</th>\n",
       "      <td>-0.172778</td>\n",
       "      <td>-0.578989</td>\n",
       "    </tr>\n",
       "    <tr>\n",
       "      <th>206</th>\n",
       "      <td>-2.240837</td>\n",
       "      <td>-1.928620</td>\n",
       "    </tr>\n",
       "  </tbody>\n",
       "</table>\n",
       "</div>"
      ],
      "text/plain": [
       "       Actual  Predicted\n",
       "197 -4.839563  -5.006712\n",
       "198 -5.974961  -6.026467\n",
       "199 -0.233147  -0.671777\n",
       "200 -1.570052  -1.443027\n",
       "201  9.515388   7.866687\n",
       "202 -3.460758  -2.602765\n",
       "203  1.809210   2.029879\n",
       "204  0.794471   0.441792\n",
       "205 -0.172778  -0.578989\n",
       "206 -2.240837  -1.928620"
      ]
     },
     "execution_count": 19,
     "metadata": {},
     "output_type": "execute_result"
    }
   ],
   "source": [
    "# y_test is shape (n_test,1), y_pred_inverse is (n_test,1)\n",
    "actual = y_test_inverse.flatten()          # → 1-D array\n",
    "pred   = y_pred_inverse.flatten()  # → 1-D array\n",
    "\n",
    "check_df = pd.DataFrame({\n",
    "    \"Actual\":    actual,\n",
    "    \"Predicted\": pred\n",
    "})\n",
    "\n",
    "check_df.tail(10)"
   ]
  },
  {
   "cell_type": "code",
   "execution_count": 20,
   "id": "bfb6bfd8",
   "metadata": {},
   "outputs": [
    {
     "data": {
      "text/plain": [
       "187    0\n",
       "188    1\n",
       "189    1\n",
       "190    0\n",
       "191    0\n",
       "192    0\n",
       "193    1\n",
       "194    1\n",
       "195    0\n",
       "196    1\n",
       "197    1\n",
       "198    0\n",
       "199    1\n",
       "200    1\n",
       "201    1\n",
       "202    1\n",
       "203    1\n",
       "204    1\n",
       "205    1\n",
       "206    1\n",
       "Name: above_mean, dtype: int64"
      ]
     },
     "execution_count": 20,
     "metadata": {},
     "output_type": "execute_result"
    }
   ],
   "source": [
    "check_df.head(20)\n",
    "check_df['gp_present']= np.abs(check_df['Actual'] - check_df['Predicted'])\n",
    "check_df['mean_10'] = check_df['gp_present'].mean()\n",
    "check_df['above_mean'] = (check_df['gp_present'] > check_df['mean_10']).astype(int)\n",
    "check_df['diffrent_sign'] = (check_df['Actual'] * check_df['Predicted'] < 0).astype(int)\n",
    "check_df['above_mean'].tail(20)"
   ]
  },
  {
   "cell_type": "code",
   "execution_count": 21,
   "id": "ca302b3b",
   "metadata": {},
   "outputs": [
    {
     "name": "stdout",
     "output_type": "stream",
     "text": [
      "      Actual  Predicted  above_mean  diffrent_sign\n",
      "0  -0.252593  -0.318111           0              0\n",
      "1  -0.156213  -0.217744           0              0\n",
      "2  -0.306517  -0.419926           1              0\n",
      "3   0.393359   0.252137           1              0\n",
      "4   0.157243  -0.017622           1              1\n",
      "5   0.090732  -0.022392           1              1\n",
      "6  -0.408365  -0.397962           0              0\n",
      "7   0.267556   0.072653           1              0\n",
      "8   0.619532   0.388920           1              0\n",
      "9   0.508444   0.387732           1              0\n",
      "10  0.544877   0.401192           1              0\n",
      "11  0.101670   0.012962           0              0\n",
      "12  0.074107  -0.081984           1              1\n",
      "13  1.020807   0.823043           1              0\n",
      "14 -0.876303  -0.675483           1              0\n",
      "15  0.551703   0.540285           0              0\n",
      "16  0.282620   0.149337           1              0\n",
      "17  0.638938   0.507873           1              0\n",
      "18 -1.392754  -1.255632           1              0\n",
      "19 -0.781640  -0.718117           0              0\n",
      "20 -0.714027  -0.717457           0              0\n",
      "21  1.079204   0.984740           0              0\n",
      "22 -0.155810  -0.099765           0              0\n",
      "23 -2.314909  -2.183175           1              0\n",
      "24 -0.514262  -0.395998           1              0\n"
     ]
    }
   ],
   "source": [
    "print(check_df[['Actual','Predicted','above_mean','diffrent_sign']].head(25))\n",
    "check_df['price_actual'] = 300 * (1 + check_df['Actual'] / 100).cumprod()\n",
    "check_df['price_predicted'] = 300 * (1 + check_df['Predicted'] / 100).cumprod()"
   ]
  },
  {
   "cell_type": "code",
   "execution_count": 22,
   "id": "c848ac51",
   "metadata": {},
   "outputs": [
    {
     "data": {
      "image/png": "[encoded data removed]",
      "text/plain": [
       "<Figure size 1000x500 with 1 Axes>"
      ]
     },
     "metadata": {},
     "output_type": "display_data"
    }
   ],
   "source": [
    "plt.figure(figsize=(10, 5))\n",
    "plt.plot(check_df['price_actual'], label='Actual Price')\n",
    "plt.plot(check_df['price_predicted'], label='Predicted Price')\n",
    "plt.legend()\n",
    "plt.title('Actual vs Predicted Price')\n",
    "plt.xlabel('Time')\n",
    "plt.ylabel('Price')\n",
    "plt.show()"
   ]
  }
 ],
 "metadata": {
  "kernelspec": {
   "display_name": "project-py3.10",
   "language": "python",
   "name": "python3"
  },
  "language_info": {
   "codemirror_mode": {
    "name": "ipython",
    "version": 3
   },
   "file_extension": ".py",
   "mimetype": "text/x-python",
   "name": "python",
   "nbconvert_exporter": "python",
   "pygments_lexer": "ipython3",
   "version": "3.10.2"
  }
 },
 "nbformat": 4,
 "nbformat_minor": 5
}
