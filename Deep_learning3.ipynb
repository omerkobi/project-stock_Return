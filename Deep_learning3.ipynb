{
 "cells": [
  {
   "cell_type": "code",
   "execution_count": 16,
   "id": "0ad10146",
   "metadata": {},
   "outputs": [],
   "source": [
    "import pandas as pd\n",
    "import numpy as np\n",
    "import tensorflow as tf\n",
    "from tensorflow.keras import Sequential\n",
    "from tensorflow.keras.layers import LSTM, GRU, Dense,Dropout\n",
    "from tensorflow.keras.optimizers import Adam\n",
    "from tensorflow.keras.callbacks import EarlyStopping, ModelCheckpoint\n",
    "import matplotlib.pyplot as plt\n",
    "from sklearn.preprocessing import MinMaxScaler ,RobustScaler\n",
    "from sklearn.metrics import mean_squared_error,r2_score\n",
    "import random\n",
    "import yfinance as yf"
   ]
  },
  {
   "cell_type": "code",
   "execution_count": 17,
   "id": "b89e84fd",
   "metadata": {},
   "outputs": [],
   "source": [
    "start = \"2017-01-01\"\n",
    "end = \"2025-04-17\" #04"
   ]
  },
  {
   "cell_type": "code",
   "execution_count": 19,
   "id": "fd657d26",
   "metadata": {},
   "outputs": [
    {
     "name": "stderr",
     "output_type": "stream",
     "text": [
      "C:\\Users\\OMER\\AppData\\Local\\Temp\\ipykernel_33052\\221333963.py:1: FutureWarning: YF.download() has changed argument auto_adjust default to True\n",
      "  SPY1 = yf.download(\"^GSPC\", start=start, end=end)[['Close', 'Volume','High','Low']]\n",
      "[*********************100%***********************]  1 of 1 completed"
     ]
    },
    {
     "name": "stdout",
     "output_type": "stream",
     "text": [
      "              SPY_Close  SPY_Volume     SPY_High      SPY_Low\n",
      "Date                                                         \n",
      "2025-04-10  5268.049805  6677140000  5353.149902  5115.270020\n",
      "2025-04-11  5363.359863  5602550000  5381.459961  5220.770020\n",
      "2025-04-14  5405.970215  5031440000  5459.459961  5358.020020\n",
      "2025-04-15  5396.629883  4317110000  5450.410156  5386.439941\n",
      "2025-04-16  5275.700195  4607750000  5367.240234  5220.790039\n"
     ]
    },
    {
     "name": "stderr",
     "output_type": "stream",
     "text": [
      "\n"
     ]
    }
   ],
   "source": [
    "SPY1 = yf.download(\"^GSPC\", start=start, end=end)[['Close', 'Volume','High','Low']]\n",
    "  \n",
    "\n",
    "SPY1.columns = ['SPY_Close', 'SPY_Volume', 'SPY_High', 'SPY_Low']\n",
    "print(SPY1.tail())"
   ]
  },
  {
   "cell_type": "markdown",
   "id": "4d86b5bb",
   "metadata": {},
   "source": [
    "**Creat false break/breach indicator**"
   ]
  },
  {
   "cell_type": "code",
   "execution_count": 23,
   "id": "df60c2b6",
   "metadata": {},
   "outputs": [],
   "source": [
    "SPY1['LowFalse'] = (\n",
    "    (SPY1['SPY_Low'] < SPY1['SPY_Low'].shift(1)) &\n",
    "    (SPY1['SPY_Close'] > SPY1['SPY_Low'].shift(1))\n",
    ").astype(int)\n",
    "\n",
    "SPY1['HighFalse'] = ((SPY1['SPY_High']> SPY1['SPY_High'].shift(1)) & (SPY1['SPY_Close'] < SPY1['SPY_High'].shift(1))).astype(int)\n",
    "\n",
    "#Now on weekly basis\n",
    "\n",
    "# Step 1: Assign a 'week' label to each row\n",
    "SPY1['Week'] = SPY1.index.to_period('W')\n",
    "\n",
    "# Step 2: Aggregate weekly data (low and close)\n",
    "weekly_data = SPY1.groupby('Week').agg(\n",
    "    Weekly_Low=('SPY_Low', 'min'),\n",
    "    Weekly_Close=('SPY_Close', 'last')\n",
    ")\n",
    "\n",
    "# Step 3: Shift to get T−1 and T−2 values\n",
    "weekly_data['Prev_1_Low'] = weekly_data['Weekly_Low'].shift(1)\n",
    "weekly_data['Prev_2_Low'] = weekly_data['Weekly_Low'].shift(2)\n",
    "weekly_data['Prev_1_Close'] = weekly_data['Weekly_Close'].shift(1)\n",
    "\n",
    "# Step 4: Compute the condition for week T\n",
    "weekly_data['LowBreakUp_Weekly'] = (\n",
    "    (weekly_data['Prev_1_Low'] < weekly_data['Prev_2_Low']) &\n",
    "    (weekly_data['Prev_1_Close'] > weekly_data['Prev_2_Low'])\n",
    ").astype(int)\n",
    "\n",
    "# Step 5: Map the weekly result back to the original daily DataFrame\n",
    "SPY1['LowBreakUp_Weekly'] = SPY1['Week'].map(weekly_data['LowBreakUp_Weekly'])\n",
    "\n",
    "\n",
    "# Now for high:\n",
    "\n",
    "\n",
    "# Step 1: (If not already done) Label each row with its trading week\n",
    "SPY1['Week'] = SPY1.index.to_period('W')\n",
    "\n",
    "# Step 2: Aggregate weekly highs and closes\n",
    "weekly_data = SPY1.groupby('Week').agg(\n",
    "    Weekly_High=('SPY_High', 'max'),\n",
    "    Weekly_Close=('SPY_Close', 'last')\n",
    ")\n",
    "\n",
    "# Step 3: Create shifted values for T−1 and T−2\n",
    "weekly_data['Prev_1_High'] = weekly_data['Weekly_High'].shift(1)\n",
    "weekly_data['Prev_2_High'] = weekly_data['Weekly_High'].shift(2)\n",
    "weekly_data['Prev_1_Close'] = weekly_data['Weekly_Close'].shift(1)\n",
    "\n",
    "# Step 4: Calculate the condition\n",
    "weekly_data['HighBreakDown_Weekly'] = (\n",
    "    (weekly_data['Prev_1_High'] > weekly_data['Prev_2_High']) &\n",
    "    (weekly_data['Prev_1_Close'] < weekly_data['Prev_2_High'])\n",
    ").astype(int)\n",
    "\n",
    "# Step 5: Map the result back to the daily DataFrame\n",
    "SPY1['HighBreakDown_Weekly'] = SPY1['Week'].map(weekly_data['HighBreakDown_Weekly'])\n"
   ]
  },
  {
   "cell_type": "code",
   "execution_count": 30,
   "id": "aea5ae06",
   "metadata": {},
   "outputs": [
    {
     "name": "stdout",
     "output_type": "stream",
     "text": [
      "<class 'pandas.core.frame.DataFrame'>\n",
      "DatetimeIndex: 2084 entries, 2017-01-03 to 2025-04-16\n",
      "Data columns (total 9 columns):\n",
      " #   Column                Non-Null Count  Dtype        \n",
      "---  ------                --------------  -----        \n",
      " 0   SPY_Close             2084 non-null   float64      \n",
      " 1   SPY_Volume            2084 non-null   int64        \n",
      " 2   SPY_High              2084 non-null   float64      \n",
      " 3   SPY_Low               2084 non-null   float64      \n",
      " 4   LowFalse              2084 non-null   int32        \n",
      " 5   HighFalse             2084 non-null   int32        \n",
      " 6   Week                  2084 non-null   period[W-SUN]\n",
      " 7   LowBreakUp_Weekly     2084 non-null   int32        \n",
      " 8   HighBreakDown_Weekly  2084 non-null   int32        \n",
      "dtypes: float64(3), int32(4), int64(1), period[W-SUN](1)\n",
      "memory usage: 130.2 KB\n"
     ]
    }
   ],
   "source": [
    "SPY1.info()"
   ]
  },
  {
   "cell_type": "code",
   "execution_count": 31,
   "id": "30a9e116",
   "metadata": {},
   "outputs": [
    {
     "name": "stdout",
     "output_type": "stream",
     "text": [
      "<class 'pandas.core.frame.DataFrame'>\n",
      "RangeIndex: 2055 entries, 0 to 2054\n",
      "Data columns (total 46 columns):\n",
      " #   Column               Non-Null Count  Dtype         \n",
      "---  ------               --------------  -----         \n",
      " 0   ds                   2055 non-null   datetime64[ns]\n",
      " 1   SPY_Close            2055 non-null   float64       \n",
      " 2   SPY_Volume           2055 non-null   int64         \n",
      " 3   AAPL                 2055 non-null   float64       \n",
      " 4   MSFT                 2055 non-null   float64       \n",
      " 5   GOOG                 2055 non-null   float64       \n",
      " 6   GLD                  2055 non-null   float64       \n",
      " 7   SLV                  2055 non-null   float64       \n",
      " 8   ^TNX                 2055 non-null   float64       \n",
      " 9   DX-Y.NYB             2055 non-null   float64       \n",
      " 10  JPY=X                2055 non-null   float64       \n",
      " 11  EUR=X                2055 non-null   float64       \n",
      " 12  USO                  2055 non-null   float64       \n",
      " 13  UNG                  2055 non-null   float64       \n",
      " 14  BTC-USD              2055 non-null   float64       \n",
      " 15  CPER                 2055 non-null   float64       \n",
      " 16  ^VIX                 2055 non-null   float64       \n",
      " 17  ^GDAXI               2055 non-null   float64       \n",
      " 18  ^FTSE                2055 non-null   float64       \n",
      " 19  ^RUT                 2055 non-null   float64       \n",
      " 20  ^N225                2055 non-null   float64       \n",
      " 21  IEI                  2055 non-null   float64       \n",
      " 22  CNYUSD=X             2055 non-null   float64       \n",
      " 23  2Y_Yield             2055 non-null   float64       \n",
      " 24  yield_curve          2055 non-null   float64       \n",
      " 25  market_closed_count  2055 non-null   int64         \n",
      " 26  yield_curve_term     2055 non-null   float64       \n",
      " 27  high-low             2055 non-null   float64       \n",
      " 28  before_high-low      2055 non-null   float64       \n",
      " 29  SPY_RSI              2055 non-null   float64       \n",
      " 30  RSI_rank             2055 non-null   float64       \n",
      " 31  RSI_rank_2           2055 non-null   int64         \n",
      " 32  EMA_20               2055 non-null   float64       \n",
      " 33  EMA_50               2055 non-null   float64       \n",
      " 34  EMA_200              2055 non-null   float64       \n",
      " 35  EMA_20_50            2055 non-null   int64         \n",
      " 36  EMA_50_200           2055 non-null   int64         \n",
      " 37  EMA_50_diff          2055 non-null   float64       \n",
      " 38  EMA_200_diff         2055 non-null   float64       \n",
      " 39  SPY_std              2055 non-null   float64       \n",
      " 40  SPY_mean             2055 non-null   float64       \n",
      " 41  SPY_30               2055 non-null   float64       \n",
      " 42  QQQ_Close            2055 non-null   float64       \n",
      " 43  QQQ_Volume           2055 non-null   int64         \n",
      " 44  qqq_std              2055 non-null   float64       \n",
      " 45  qqq_mean             2055 non-null   float64       \n",
      "dtypes: datetime64[ns](1), float64(39), int64(6)\n",
      "memory usage: 738.6 KB\n"
     ]
    }
   ],
   "source": [
    "directory = 'raw_files'\n",
    "\n",
    "import sys\n",
    "import numpy.core.numeric as new_numeric\n",
    "\n",
    "# Create a fake module under the old name\n",
    "sys.modules['numpy._core.numeric'] = new_numeric\n",
    "\n",
    "SPY = pd.read_pickle(r'raw_files\\combined_cleaned_add_with_QQQ.pkl')\n",
    "SPY.info()"
   ]
  },
  {
   "cell_type": "markdown",
   "id": "57f666c4",
   "metadata": {},
   "source": [
    "# Add support and resistence areas:"
   ]
  },
  {
   "cell_type": "code",
   "execution_count": 32,
   "id": "1613f6e7",
   "metadata": {},
   "outputs": [],
   "source": [
    "from scipy.signal import argrelextrema\n",
    "spy_zones = SPY.copy()\n",
    "\n",
    "# Use N = window size to define \"local\"\n",
    "N = 10\n",
    "\n",
    "# Find local maxima (resistance) and minima (support)\n",
    "spy_zones['local_max'] = spy_zones['SPY_Close'].iloc[argrelextrema(spy_zones['SPY_Close'].values, np.greater_equal, order=N)[0]]\n",
    "spy_zones['local_min'] = spy_zones['SPY_Close'].iloc[argrelextrema(spy_zones['SPY_Close'].values, np.less_equal, order=N)[0]]\n",
    "\n",
    "\n",
    "# Define zone precision (e.g., $100 buckets)\n",
    "zone_precision = 100\n",
    "support_levels = spy_zones['local_min'].dropna().round(-int(np.log10(zone_precision)))\n",
    "resistance_levels = spy_zones['local_max'].dropna().round(-int(np.log10(zone_precision)))\n",
    "\n",
    "support_zones = support_levels.value_counts().loc[lambda x: x > 1].index.tolist()\n",
    "resistance_zones = resistance_levels.value_counts().loc[lambda x: x > 1].index.tolist()"
   ]
  },
  {
   "cell_type": "code",
   "execution_count": 33,
   "id": "e3539252",
   "metadata": {},
   "outputs": [
    {
     "name": "stdout",
     "output_type": "stream",
     "text": [
      "        SPY_Close  SUPPORT_Signal  RESISTANCE_Signal\n",
      "1995  6086.370117               0                 -1\n",
      "1996  6118.709961               0                  0\n",
      "1997  6101.240234               0                  0\n",
      "1998  6012.279785               0                  0\n",
      "1999  6067.700195               0                 -1\n",
      "2000  6039.310059               0                  0\n",
      "2001  6071.169922               0                 -1\n",
      "2002  6040.529785               0                  0\n",
      "2003  5994.569824               0                  0\n",
      "2004  6037.879883               0                  0\n",
      "2005  6061.479980               0                 -1\n",
      "2006  6083.569824               0                 -1\n",
      "2007  6025.990234               0                  0\n",
      "2008  6066.439941               0                 -1\n",
      "2009  6068.500000               0                 -1\n",
      "2010  6051.970215               0                 -1\n",
      "2011  6115.069824               0                  0\n",
      "2012  6114.629883               0                  0\n",
      "2013  6129.580078               0                  0\n",
      "2014  6144.149902               0                  0\n",
      "2015  6117.520020               0                  0\n",
      "2016  6013.129883               0                  0\n",
      "2017  5983.250000               0                  0\n",
      "2018  5955.250000               0                  0\n",
      "2019  5956.060059               0                  0\n",
      "2020  5861.569824               0                  0\n",
      "2021  5954.500000               0                  0\n",
      "2022  5849.720215               0                  0\n",
      "2023  5778.149902               0                  0\n",
      "2024  5842.629883               0                  0\n",
      "2025  5738.520020               1                  0\n",
      "2026  5770.200195               0                  0\n",
      "2027  5614.560059               0                  0\n",
      "2028  5572.069824               0                  0\n",
      "2029  5599.299805               0                  0\n",
      "2030  5521.520020               0                  0\n",
      "2031  5638.939941               0                  0\n",
      "2032  5675.120117               0                  0\n",
      "2033  5614.660156               0                  0\n",
      "2034  5675.290039               0                  0\n",
      "2035  5662.890137               0                  0\n",
      "2036  5667.560059               0                  0\n",
      "2037  5767.569824               0                  0\n",
      "2038  5776.649902               0                  0\n",
      "2039  5712.200195               1                  0\n",
      "2040  5693.310059               0                  0\n",
      "2041  5580.939941               0                  0\n",
      "2042  5611.850098               0                  0\n",
      "2043  5633.069824               0                  0\n",
      "2044  5670.970215               0                  0\n",
      "2045  5396.520020               0                  0\n",
      "2046  5074.080078               0                  0\n",
      "2047  5062.250000               0                  0\n",
      "2048  4982.770020               0                  0\n",
      "2049  5456.899902               0                  0\n",
      "2050  5268.049805               0                  0\n",
      "2051  5363.359863               0                  0\n",
      "2052  5405.970215               0                  0\n",
      "2053  5396.629883               0                  0\n",
      "2054  5275.700195               0                  0\n"
     ]
    }
   ],
   "source": [
    "# define your margins\n",
    "margin_sup = 50.0    # dollars above support to trigger 1\n",
    "margin_res = 50.0    # dollars below resistance to trigger -1\n",
    "\n",
    "def support_signal(price):\n",
    "    # compute (distance, support) for only those supports below or equal to price\n",
    "    diffs = [(price - s, s) for s in support_zones if s <= price]\n",
    "    if not diffs:\n",
    "        return 0\n",
    "    # pick the smallest positive distance\n",
    "    nearest_diff, nearest_sup = min(diffs, key=lambda x: x[0])\n",
    "    return 1 if nearest_diff <= margin_sup else 0\n",
    "\n",
    "def resistance_signal(price):\n",
    "    # compute (distance, resistance) for only those resistances above or equal to price\n",
    "    diffs = [(r - price, r) for r in resistance_zones if r >= price]\n",
    "    if not diffs:\n",
    "        return 0\n",
    "    nearest_diff, nearest_res = min(diffs, key=lambda x: x[0])\n",
    "    return -1 if nearest_diff <= margin_res else 0\n",
    "\n",
    "# apply to your DataFrame\n",
    "spy_zones['SUPPORT_Signal']    = spy_zones['SPY_Close'].apply(support_signal)\n",
    "spy_zones['RESISTANCE_Signal'] = spy_zones['SPY_Close'].apply(resistance_signal)\n",
    "\n",
    "# quick check\n",
    "print(spy_zones[['SPY_Close','SUPPORT_Signal','RESISTANCE_Signal']].tail(60))\n"
   ]
  },
  {
   "cell_type": "code",
   "execution_count": 34,
   "id": "39bdadc7",
   "metadata": {},
   "outputs": [
    {
     "name": "stdout",
     "output_type": "stream",
     "text": [
      "<class 'pandas.core.frame.DataFrame'>\n",
      "RangeIndex: 2055 entries, 0 to 2054\n",
      "Data columns (total 50 columns):\n",
      " #   Column               Non-Null Count  Dtype         \n",
      "---  ------               --------------  -----         \n",
      " 0   ds                   2055 non-null   datetime64[ns]\n",
      " 1   SPY_Close            2055 non-null   float64       \n",
      " 2   SPY_Volume           2055 non-null   int64         \n",
      " 3   AAPL                 2055 non-null   float64       \n",
      " 4   MSFT                 2055 non-null   float64       \n",
      " 5   GOOG                 2055 non-null   float64       \n",
      " 6   GLD                  2055 non-null   float64       \n",
      " 7   SLV                  2055 non-null   float64       \n",
      " 8   ^TNX                 2055 non-null   float64       \n",
      " 9   DX-Y.NYB             2055 non-null   float64       \n",
      " 10  JPY=X                2055 non-null   float64       \n",
      " 11  EUR=X                2055 non-null   float64       \n",
      " 12  USO                  2055 non-null   float64       \n",
      " 13  UNG                  2055 non-null   float64       \n",
      " 14  BTC-USD              2055 non-null   float64       \n",
      " 15  CPER                 2055 non-null   float64       \n",
      " 16  ^VIX                 2055 non-null   float64       \n",
      " 17  ^GDAXI               2055 non-null   float64       \n",
      " 18  ^FTSE                2055 non-null   float64       \n",
      " 19  ^RUT                 2055 non-null   float64       \n",
      " 20  ^N225                2055 non-null   float64       \n",
      " 21  IEI                  2055 non-null   float64       \n",
      " 22  CNYUSD=X             2055 non-null   float64       \n",
      " 23  2Y_Yield             2055 non-null   float64       \n",
      " 24  yield_curve          2055 non-null   float64       \n",
      " 25  market_closed_count  2055 non-null   int64         \n",
      " 26  yield_curve_term     2055 non-null   float64       \n",
      " 27  high-low             2055 non-null   float64       \n",
      " 28  before_high-low      2055 non-null   float64       \n",
      " 29  SPY_RSI              2055 non-null   float64       \n",
      " 30  RSI_rank             2055 non-null   float64       \n",
      " 31  RSI_rank_2           2055 non-null   int64         \n",
      " 32  EMA_20               2055 non-null   float64       \n",
      " 33  EMA_50               2055 non-null   float64       \n",
      " 34  EMA_200              2055 non-null   float64       \n",
      " 35  EMA_20_50            2055 non-null   int64         \n",
      " 36  EMA_50_200           2055 non-null   int64         \n",
      " 37  EMA_50_diff          2055 non-null   float64       \n",
      " 38  EMA_200_diff         2055 non-null   float64       \n",
      " 39  SPY_std              2055 non-null   float64       \n",
      " 40  SPY_mean             2055 non-null   float64       \n",
      " 41  SPY_30               2055 non-null   float64       \n",
      " 42  QQQ_Close            2055 non-null   float64       \n",
      " 43  QQQ_Volume           2055 non-null   int64         \n",
      " 44  qqq_std              2055 non-null   float64       \n",
      " 45  qqq_mean             2055 non-null   float64       \n",
      " 46  local_max            45 non-null     float64       \n",
      " 47  local_min            61 non-null     float64       \n",
      " 48  SUPPORT_Signal       2055 non-null   int64         \n",
      " 49  RESISTANCE_Signal    2055 non-null   int64         \n",
      "dtypes: datetime64[ns](1), float64(41), int64(8)\n",
      "memory usage: 802.9 KB\n"
     ]
    }
   ],
   "source": [
    "spy_zones.info()"
   ]
  },
  {
   "cell_type": "code",
   "execution_count": 35,
   "id": "a1a57978",
   "metadata": {},
   "outputs": [
    {
     "name": "stdout",
     "output_type": "stream",
     "text": [
      "['ds', 'SPY_Close', 'SPY_Volume', 'AAPL', 'MSFT', 'GOOG', 'GLD', 'SLV', '^TNX', 'DX-Y.NYB', 'JPY=X', 'EUR=X', 'USO', 'UNG', 'BTC-USD', 'CPER', '^VIX', '^GDAXI', '^FTSE', '^RUT', '^N225', 'IEI', 'CNYUSD=X', '2Y_Yield', 'yield_curve', 'market_closed_count', 'yield_curve_term', 'high-low', 'before_high-low', 'SPY_RSI', 'RSI_rank', 'RSI_rank_2', 'EMA_20', 'EMA_50', 'EMA_200', 'EMA_20_50', 'EMA_50_200', 'EMA_50_diff', 'EMA_200_diff', 'SPY_std', 'SPY_mean', 'SPY_30', 'QQQ_Close', 'QQQ_Volume', 'qqq_std', 'qqq_mean']\n"
     ]
    }
   ],
   "source": [
    "print(SPY.columns.to_list())"
   ]
  },
  {
   "cell_type": "code",
   "execution_count": 36,
   "id": "ce8dff17",
   "metadata": {},
   "outputs": [
    {
     "data": {
      "text/plain": [
       "0     1\n",
       "1     1\n",
       "2     1\n",
       "3     1\n",
       "4     1\n",
       "5     1\n",
       "6     1\n",
       "7     1\n",
       "8     1\n",
       "9     1\n",
       "10    1\n",
       "11    1\n",
       "12    1\n",
       "13    1\n",
       "14    1\n",
       "15    1\n",
       "16    1\n",
       "17    1\n",
       "18    1\n",
       "19    1\n",
       "20    1\n",
       "21    1\n",
       "22    1\n",
       "23    1\n",
       "24    1\n",
       "25    1\n",
       "26    1\n",
       "27    1\n",
       "28    1\n",
       "29    1\n",
       "Name: EMA_20_50, dtype: int64"
      ]
     },
     "execution_count": 36,
     "metadata": {},
     "output_type": "execute_result"
    }
   ],
   "source": [
    "SPY['EMA_20_50'].head(30)"
   ]
  },
  {
   "cell_type": "markdown",
   "id": "c9f8a494",
   "metadata": {},
   "source": [
    "### Add RSI & MACD "
   ]
  },
  {
   "cell_type": "code",
   "execution_count": 39,
   "id": "6b89e012",
   "metadata": {},
   "outputs": [],
   "source": [
    "def calculate_rsi(prices, period=14):\n",
    "    prices = pd.to_numeric(prices, errors='coerce')\n",
    "    delta  = prices.diff()\n",
    "    gain = (delta.where(delta > 0, 0)).rolling(window=period).mean()\n",
    "    loss = (-delta.where(delta < 0, 0)).rolling(window=period).mean()\n",
    "    rs = gain / loss\n",
    "    return 100 - (100 / (1 + rs))\n",
    "\n",
    "  # MACD Calculation\n",
    "def calculate_macd(prices, fast=12, slow=26):\n",
    "    prices = pd.Series(prices).astype(float).dropna()\n",
    "    exp1 = prices.ewm(span=fast, adjust=False).mean()\n",
    "    exp2 = prices.ewm(span=slow, adjust=False).mean()\n",
    "    return exp1 - exp2\n",
    "\n",
    "# number of consecative up/down days     \n",
    "def calculate_consecutive_streak(close_series: pd.Series) -> pd.Series:\n",
    "    \"\"\"\n",
    "    Calculate the consecutive up/down streaks for a close price series.\n",
    "    - If today's close > yesterday's, streak = previous_streak + 1 (or 1 if previous_streak <= 0)\n",
    "    - If today's close < yesterday's, streak = previous_streak - 1 (or -1 if previous_streak >= 0)\n",
    "    - If equal, streak = 0\n",
    "    \"\"\"\n",
    "    streak = [0] * len(close_series)\n",
    "    for i in range(1, len(close_series)):\n",
    "        if close_series.iat[i] > close_series.iat[i - 1]:\n",
    "            streak[i] = streak[i - 1] + 1 if streak[i - 1] > 0 else 1\n",
    "        elif close_series.iat[i] < close_series.iat[i - 1]:\n",
    "            streak[i] = streak[i - 1] - 1 if streak[i - 1] < 0 else -1\n",
    "        else:\n",
    "            streak[i] = 0\n",
    "    return pd.Series(streak, index=close_series.index, name='consecutive_streak')\n",
    "\n",
    "# Add some internal features \n",
    "#\n",
    "def model_own_features(\n",
    "    data: pd.DataFrame,\n",
    "    column: str,\n",
    "    keep_columns = None\n",
    ") -> pd.DataFrame:\n",
    "    \"\"\"\n",
    "    Add RSI, MACD, rolling means, std, and consecutive streak for `column`.\n",
    "    Optionally preserve only keep_columns + new features.\n",
    "    \"\"\"\n",
    "    df = data.copy()\n",
    "    # Ensure numeric\n",
    "    df[column] = pd.to_numeric(df[column], errors='coerce')\n",
    "    \n",
    "    # 1) RSI\n",
    "    df['RSI_14'] = calculate_rsi(df[column], period=14)\n",
    "    \n",
    "    # 2) MACD\n",
    "    #macd_df = calculate_macd(df[column])\n",
    "    #df = df.join(macd_df)\n",
    "    df['MACD'] = calculate_macd(df[column])\n",
    "    # 3) Rolling stats\n",
    "    #df['20d_mean'] = df[column].rolling(20).mean()\n",
    "    df['5d_mean']  = df[column].rolling(5).mean()\n",
    "    df['5d_std']   = df[column].rolling(5).std()\n",
    "    \n",
    "    # 4) Consecutive streak\n",
    "    df['streak'] = calculate_consecutive_streak(df[column])\n",
    "    \n",
    "    # 5) Select output columns\n",
    "    if keep_columns is not None:\n",
    "        # always include the new features\n",
    "        new_feats = ['RSI_14', 'MACD', '5d_mean', '5d_std', 'streak']\n",
    "        df = df[ keep_columns + new_feats ]\n",
    "\n",
    "    df = df.dropna()\n",
    "\n",
    "    return df\n"
   ]
  },
  {
   "cell_type": "code",
   "execution_count": 40,
   "id": "10cb7918",
   "metadata": {},
   "outputs": [],
   "source": [
    "# calculate the cosecative returns\n",
    "def calculate_consecutive_return(close_series: pd.Series, streak_series: pd.Series) -> pd.Series:\n",
    "    \"\"\"\n",
    "    Calculate the percentage change over the span of the consecutive streak.\n",
    "    - If streak == 0: 0\n",
    "    - Else: (close_today / close_n_days_ago - 1) * 100, where n = abs(streak)\n",
    "    \"\"\"\n",
    "    returns = []\n",
    "    prices = close_series.values\n",
    "    streaks = streak_series.values.astype(int)\n",
    "    for i, (price, streak) in enumerate(zip(prices, streaks)):\n",
    "        n = abs(streak)\n",
    "        if n > 0 and i - n >= 0:\n",
    "            prev_price = prices[i - n]\n",
    "            returns.append((price / prev_price - 1) * 100)\n",
    "        else:\n",
    "            returns.append(0.0)\n",
    "    return pd.Series(returns, index=close_series.index, name='abs_consecutive_change')\n",
    "\n",
    "def date_features(df):\n",
    "    df['month'] = df['ds'].dt.month\n",
    "    df['day_of_week'] = df['ds'].dt.dayofweek\n",
    "    df['day_of_week'] = df['day_of_week'] + 2\n",
    "    return df"
   ]
  },
  {
   "cell_type": "code",
   "execution_count": 43,
   "id": "5e876d5e",
   "metadata": {},
   "outputs": [
    {
     "name": "stdout",
     "output_type": "stream",
     "text": [
      "<class 'pandas.core.frame.DataFrame'>\n",
      "Index: 2042 entries, 13 to 2054\n",
      "Data columns (total 17 columns):\n",
      " #   Column                  Non-Null Count  Dtype  \n",
      "---  ------                  --------------  -----  \n",
      " 0   EMA_20                  2042 non-null   float64\n",
      " 1   EMA_50                  2042 non-null   float64\n",
      " 2   EMA_200                 2042 non-null   float64\n",
      " 3   EMA_50_diff             2042 non-null   float64\n",
      " 4   EMA_200_diff            2042 non-null   float64\n",
      " 5   SPY_Volume              2042 non-null   int64  \n",
      " 6   high-low                2042 non-null   float64\n",
      " 7   before_high-low         2042 non-null   float64\n",
      " 8   SPY_Close               2042 non-null   float64\n",
      " 9   RSI_14                  2042 non-null   float64\n",
      " 10  MACD                    2042 non-null   float64\n",
      " 11  5d_mean                 2042 non-null   float64\n",
      " 12  5d_std                  2042 non-null   float64\n",
      " 13  streak                  2042 non-null   int64  \n",
      " 14  abs_consecutive_change  2042 non-null   float64\n",
      " 15  month                   2042 non-null   int32  \n",
      " 16  day_of_week             2042 non-null   int32  \n",
      "dtypes: float64(13), int32(2), int64(2)\n",
      "memory usage: 271.2 KB\n"
     ]
    }
   ],
   "source": [
    "#initiating the df for modelling\n",
    "cols_to_keep = ['EMA_20', 'EMA_50', 'EMA_200', 'EMA_50_diff', 'EMA_200_diff','SPY_Volume','high-low','before_high-low','ds','SPY_Close']\n",
    "result = model_own_features(\n",
    "    data=SPY,\n",
    "    column='SPY_Close',\n",
    "    keep_columns= cols_to_keep\n",
    ")\n",
    "\n",
    "result['abs_consecutive_change'] = calculate_consecutive_return(result['SPY_Close'], result['streak'])\n",
    "result = date_features(result) # to add date features\n",
    "result = result.drop('ds',axis=1) # drop the date column\n",
    "result.info()"
   ]
  },
  {
   "cell_type": "markdown",
   "id": "73b83b46",
   "metadata": {},
   "source": [
    "# Add the advance features :"
   ]
  },
  {
   "cell_type": "code",
   "execution_count": 45,
   "id": "476722c2",
   "metadata": {},
   "outputs": [
    {
     "name": "stdout",
     "output_type": "stream",
     "text": [
      "<class 'pandas.core.frame.DataFrame'>\n",
      "RangeIndex: 2084 entries, 0 to 2083\n",
      "Data columns (total 10 columns):\n",
      " #   Column                Non-Null Count  Dtype         \n",
      "---  ------                --------------  -----         \n",
      " 0   Date                  2084 non-null   datetime64[ns]\n",
      " 1   SPY_Close             2084 non-null   float64       \n",
      " 2   SPY_Volume            2084 non-null   int64         \n",
      " 3   SPY_High              2084 non-null   float64       \n",
      " 4   SPY_Low               2084 non-null   float64       \n",
      " 5   LowFalse              2084 non-null   int32         \n",
      " 6   HighFalse             2084 non-null   int32         \n",
      " 7   Week                  2084 non-null   period[W-SUN] \n",
      " 8   LowBreakUp_Weekly     2084 non-null   int32         \n",
      " 9   HighBreakDown_Weekly  2084 non-null   int32         \n",
      "dtypes: datetime64[ns](1), float64(3), int32(4), int64(1), period[W-SUN](1)\n",
      "memory usage: 130.4 KB\n"
     ]
    }
   ],
   "source": [
    "#SPY1.info()\n",
    "SPY1.reset_index(inplace = True)\n",
    "SPY1.info()"
   ]
  },
  {
   "cell_type": "code",
   "execution_count": 46,
   "id": "32e658a5",
   "metadata": {},
   "outputs": [
    {
     "name": "stdout",
     "output_type": "stream",
     "text": [
      "<class 'pandas.core.frame.DataFrame'>\n",
      "RangeIndex: 2084 entries, 0 to 2083\n",
      "Data columns (total 10 columns):\n",
      " #   Column                Non-Null Count  Dtype         \n",
      "---  ------                --------------  -----         \n",
      " 0   ds                    2084 non-null   datetime64[ns]\n",
      " 1   SPY_Close             2084 non-null   float64       \n",
      " 2   SPY_Volume            2084 non-null   int64         \n",
      " 3   SPY_High              2084 non-null   float64       \n",
      " 4   SPY_Low               2084 non-null   float64       \n",
      " 5   LowFalse              2084 non-null   int32         \n",
      " 6   HighFalse             2084 non-null   int32         \n",
      " 7   Week                  2084 non-null   period[W-SUN] \n",
      " 8   LowBreakUp_Weekly     2084 non-null   int32         \n",
      " 9   HighBreakDown_Weekly  2084 non-null   int32         \n",
      "dtypes: datetime64[ns](1), float64(3), int32(4), int64(1), period[W-SUN](1)\n",
      "memory usage: 130.4 KB\n"
     ]
    }
   ],
   "source": [
    "SPY1.rename(columns = {'Date': 'ds'}, inplace =True)\n",
    "SPY1.info()"
   ]
  },
  {
   "cell_type": "markdown",
   "id": "65b8fbdb",
   "metadata": {},
   "source": [
    "**Merge:**"
   ]
  },
  {
   "cell_type": "code",
   "execution_count": 50,
   "id": "7ef13ce6",
   "metadata": {},
   "outputs": [
    {
     "ename": "KeyError",
     "evalue": "'ds'",
     "output_type": "error",
     "traceback": [
      "\u001b[1;31m---------------------------------------------------------------------------\u001b[0m",
      "\u001b[1;31mKeyError\u001b[0m                                  Traceback (most recent call last)",
      "\u001b[1;32m~\\AppData\\Local\\Temp\\ipykernel_33052\\95385323.py\u001b[0m in \u001b[0;36m?\u001b[1;34m()\u001b[0m\n\u001b[1;32m----> 1\u001b[1;33m \u001b[0mresult_final\u001b[0m \u001b[1;33m=\u001b[0m \u001b[0mresult\u001b[0m\u001b[1;33m.\u001b[0m\u001b[0mmerge\u001b[0m\u001b[1;33m(\u001b[0m\u001b[0mSPY1\u001b[0m\u001b[1;33m[\u001b[0m\u001b[1;33m[\u001b[0m\u001b[1;34m'LowFalse'\u001b[0m\u001b[1;33m,\u001b[0m\u001b[1;34m'HighFalse'\u001b[0m\u001b[1;33m,\u001b[0m\u001b[1;34m'LowBreakUp_Weekly'\u001b[0m\u001b[1;33m,\u001b[0m\u001b[1;34m'HighBreakDown_Weekly'\u001b[0m\u001b[1;33m,\u001b[0m\u001b[1;34m'ds'\u001b[0m\u001b[1;33m]\u001b[0m\u001b[1;33m]\u001b[0m\u001b[1;33m,\u001b[0m \u001b[0mon\u001b[0m\u001b[1;33m=\u001b[0m\u001b[1;34m'ds'\u001b[0m\u001b[1;33m,\u001b[0m \u001b[0mhow\u001b[0m\u001b[1;33m=\u001b[0m\u001b[1;34m'Left'\u001b[0m\u001b[1;33m)\u001b[0m\u001b[1;33m\u001b[0m\u001b[1;33m\u001b[0m\u001b[0m\n\u001b[0m\u001b[0;32m      2\u001b[0m \u001b[0mresult_final\u001b[0m\u001b[1;33m.\u001b[0m\u001b[0minfo\u001b[0m\u001b[1;33m(\u001b[0m\u001b[1;33m)\u001b[0m\u001b[1;33m\u001b[0m\u001b[1;33m\u001b[0m\u001b[0m\n",
      "\u001b[1;32mc:\\Users\\OMER\\PycharmProjects\\Project\\.venv\\lib\\site-packages\\pandas\\core\\frame.py\u001b[0m in \u001b[0;36m?\u001b[1;34m(self, right, how, on, left_on, right_on, left_index, right_index, sort, suffixes, copy, indicator, validate)\u001b[0m\n\u001b[0;32m  10835\u001b[0m         \u001b[0mvalidate\u001b[0m\u001b[1;33m:\u001b[0m \u001b[0mMergeValidate\u001b[0m \u001b[1;33m|\u001b[0m \u001b[1;32mNone\u001b[0m \u001b[1;33m=\u001b[0m \u001b[1;32mNone\u001b[0m\u001b[1;33m,\u001b[0m\u001b[1;33m\u001b[0m\u001b[1;33m\u001b[0m\u001b[0m\n\u001b[0;32m  10836\u001b[0m     ) -> DataFrame:\n\u001b[0;32m  10837\u001b[0m         \u001b[1;32mfrom\u001b[0m \u001b[0mpandas\u001b[0m\u001b[1;33m.\u001b[0m\u001b[0mcore\u001b[0m\u001b[1;33m.\u001b[0m\u001b[0mreshape\u001b[0m\u001b[1;33m.\u001b[0m\u001b[0mmerge\u001b[0m \u001b[1;32mimport\u001b[0m \u001b[0mmerge\u001b[0m\u001b[1;33m\u001b[0m\u001b[1;33m\u001b[0m\u001b[0m\n\u001b[0;32m  10838\u001b[0m \u001b[1;33m\u001b[0m\u001b[0m\n\u001b[1;32m> 10839\u001b[1;33m         return merge(\n\u001b[0m\u001b[0;32m  10840\u001b[0m             \u001b[0mself\u001b[0m\u001b[1;33m,\u001b[0m\u001b[1;33m\u001b[0m\u001b[1;33m\u001b[0m\u001b[0m\n\u001b[0;32m  10841\u001b[0m             \u001b[0mright\u001b[0m\u001b[1;33m,\u001b[0m\u001b[1;33m\u001b[0m\u001b[1;33m\u001b[0m\u001b[0m\n\u001b[0;32m  10842\u001b[0m             \u001b[0mhow\u001b[0m\u001b[1;33m=\u001b[0m\u001b[0mhow\u001b[0m\u001b[1;33m,\u001b[0m\u001b[1;33m\u001b[0m\u001b[1;33m\u001b[0m\u001b[0m\n",
      "\u001b[1;32mc:\\Users\\OMER\\PycharmProjects\\Project\\.venv\\lib\\site-packages\\pandas\\core\\reshape\\merge.py\u001b[0m in \u001b[0;36m?\u001b[1;34m(left, right, how, on, left_on, right_on, left_index, right_index, sort, suffixes, copy, indicator, validate)\u001b[0m\n\u001b[0;32m    166\u001b[0m             \u001b[0mvalidate\u001b[0m\u001b[1;33m=\u001b[0m\u001b[0mvalidate\u001b[0m\u001b[1;33m,\u001b[0m\u001b[1;33m\u001b[0m\u001b[1;33m\u001b[0m\u001b[0m\n\u001b[0;32m    167\u001b[0m             \u001b[0mcopy\u001b[0m\u001b[1;33m=\u001b[0m\u001b[0mcopy\u001b[0m\u001b[1;33m,\u001b[0m\u001b[1;33m\u001b[0m\u001b[1;33m\u001b[0m\u001b[0m\n\u001b[0;32m    168\u001b[0m         )\n\u001b[0;32m    169\u001b[0m     \u001b[1;32melse\u001b[0m\u001b[1;33m:\u001b[0m\u001b[1;33m\u001b[0m\u001b[1;33m\u001b[0m\u001b[0m\n\u001b[1;32m--> 170\u001b[1;33m         op = _MergeOperation(\n\u001b[0m\u001b[0;32m    171\u001b[0m             \u001b[0mleft_df\u001b[0m\u001b[1;33m,\u001b[0m\u001b[1;33m\u001b[0m\u001b[1;33m\u001b[0m\u001b[0m\n\u001b[0;32m    172\u001b[0m             \u001b[0mright_df\u001b[0m\u001b[1;33m,\u001b[0m\u001b[1;33m\u001b[0m\u001b[1;33m\u001b[0m\u001b[0m\n\u001b[0;32m    173\u001b[0m             \u001b[0mhow\u001b[0m\u001b[1;33m=\u001b[0m\u001b[0mhow\u001b[0m\u001b[1;33m,\u001b[0m\u001b[1;33m\u001b[0m\u001b[1;33m\u001b[0m\u001b[0m\n",
      "\u001b[1;32mc:\\Users\\OMER\\PycharmProjects\\Project\\.venv\\lib\\site-packages\\pandas\\core\\reshape\\merge.py\u001b[0m in \u001b[0;36m?\u001b[1;34m(self, left, right, how, on, left_on, right_on, left_index, right_index, sort, suffixes, indicator, validate)\u001b[0m\n\u001b[0;32m    790\u001b[0m             \u001b[0mself\u001b[0m\u001b[1;33m.\u001b[0m\u001b[0mright_join_keys\u001b[0m\u001b[1;33m,\u001b[0m\u001b[1;33m\u001b[0m\u001b[1;33m\u001b[0m\u001b[0m\n\u001b[0;32m    791\u001b[0m             \u001b[0mself\u001b[0m\u001b[1;33m.\u001b[0m\u001b[0mjoin_names\u001b[0m\u001b[1;33m,\u001b[0m\u001b[1;33m\u001b[0m\u001b[1;33m\u001b[0m\u001b[0m\n\u001b[0;32m    792\u001b[0m             \u001b[0mleft_drop\u001b[0m\u001b[1;33m,\u001b[0m\u001b[1;33m\u001b[0m\u001b[1;33m\u001b[0m\u001b[0m\n\u001b[0;32m    793\u001b[0m             \u001b[0mright_drop\u001b[0m\u001b[1;33m,\u001b[0m\u001b[1;33m\u001b[0m\u001b[1;33m\u001b[0m\u001b[0m\n\u001b[1;32m--> 794\u001b[1;33m         ) = self._get_merge_keys()\n\u001b[0m\u001b[0;32m    795\u001b[0m \u001b[1;33m\u001b[0m\u001b[0m\n\u001b[0;32m    796\u001b[0m         \u001b[1;32mif\u001b[0m \u001b[0mleft_drop\u001b[0m\u001b[1;33m:\u001b[0m\u001b[1;33m\u001b[0m\u001b[1;33m\u001b[0m\u001b[0m\n\u001b[0;32m    797\u001b[0m             \u001b[0mself\u001b[0m\u001b[1;33m.\u001b[0m\u001b[0mleft\u001b[0m \u001b[1;33m=\u001b[0m \u001b[0mself\u001b[0m\u001b[1;33m.\u001b[0m\u001b[0mleft\u001b[0m\u001b[1;33m.\u001b[0m\u001b[0m_drop_labels_or_levels\u001b[0m\u001b[1;33m(\u001b[0m\u001b[0mleft_drop\u001b[0m\u001b[1;33m)\u001b[0m\u001b[1;33m\u001b[0m\u001b[1;33m\u001b[0m\u001b[0m\n",
      "\u001b[1;32mc:\\Users\\OMER\\PycharmProjects\\Project\\.venv\\lib\\site-packages\\pandas\\core\\reshape\\merge.py\u001b[0m in \u001b[0;36m?\u001b[1;34m(self)\u001b[0m\n\u001b[0;32m   1306\u001b[0m                     \u001b[1;32mif\u001b[0m \u001b[0mlk\u001b[0m \u001b[1;32mis\u001b[0m \u001b[1;32mnot\u001b[0m \u001b[1;32mNone\u001b[0m\u001b[1;33m:\u001b[0m\u001b[1;33m\u001b[0m\u001b[1;33m\u001b[0m\u001b[0m\n\u001b[0;32m   1307\u001b[0m                         \u001b[1;31m# Then we're either Hashable or a wrong-length arraylike,\u001b[0m\u001b[1;33m\u001b[0m\u001b[1;33m\u001b[0m\u001b[0m\n\u001b[0;32m   1308\u001b[0m                         \u001b[1;31m#  the latter of which will raise\u001b[0m\u001b[1;33m\u001b[0m\u001b[1;33m\u001b[0m\u001b[0m\n\u001b[0;32m   1309\u001b[0m                         \u001b[0mlk\u001b[0m \u001b[1;33m=\u001b[0m \u001b[0mcast\u001b[0m\u001b[1;33m(\u001b[0m\u001b[0mHashable\u001b[0m\u001b[1;33m,\u001b[0m \u001b[0mlk\u001b[0m\u001b[1;33m)\u001b[0m\u001b[1;33m\u001b[0m\u001b[1;33m\u001b[0m\u001b[0m\n\u001b[1;32m-> 1310\u001b[1;33m                         \u001b[0mleft_keys\u001b[0m\u001b[1;33m.\u001b[0m\u001b[0mappend\u001b[0m\u001b[1;33m(\u001b[0m\u001b[0mleft\u001b[0m\u001b[1;33m.\u001b[0m\u001b[0m_get_label_or_level_values\u001b[0m\u001b[1;33m(\u001b[0m\u001b[0mlk\u001b[0m\u001b[1;33m)\u001b[0m\u001b[1;33m)\u001b[0m\u001b[1;33m\u001b[0m\u001b[1;33m\u001b[0m\u001b[0m\n\u001b[0m\u001b[0;32m   1311\u001b[0m                         \u001b[0mjoin_names\u001b[0m\u001b[1;33m.\u001b[0m\u001b[0mappend\u001b[0m\u001b[1;33m(\u001b[0m\u001b[0mlk\u001b[0m\u001b[1;33m)\u001b[0m\u001b[1;33m\u001b[0m\u001b[1;33m\u001b[0m\u001b[0m\n\u001b[0;32m   1312\u001b[0m                     \u001b[1;32melse\u001b[0m\u001b[1;33m:\u001b[0m\u001b[1;33m\u001b[0m\u001b[1;33m\u001b[0m\u001b[0m\n\u001b[0;32m   1313\u001b[0m                         \u001b[1;31m# work-around for merge_asof(left_index=True)\u001b[0m\u001b[1;33m\u001b[0m\u001b[1;33m\u001b[0m\u001b[0m\n",
      "\u001b[1;32mc:\\Users\\OMER\\PycharmProjects\\Project\\.venv\\lib\\site-packages\\pandas\\core\\generic.py\u001b[0m in \u001b[0;36m?\u001b[1;34m(self, key, axis)\u001b[0m\n\u001b[0;32m   1907\u001b[0m             \u001b[0mvalues\u001b[0m \u001b[1;33m=\u001b[0m \u001b[0mself\u001b[0m\u001b[1;33m.\u001b[0m\u001b[0mxs\u001b[0m\u001b[1;33m(\u001b[0m\u001b[0mkey\u001b[0m\u001b[1;33m,\u001b[0m \u001b[0maxis\u001b[0m\u001b[1;33m=\u001b[0m\u001b[0mother_axes\u001b[0m\u001b[1;33m[\u001b[0m\u001b[1;36m0\u001b[0m\u001b[1;33m]\u001b[0m\u001b[1;33m)\u001b[0m\u001b[1;33m.\u001b[0m\u001b[0m_values\u001b[0m\u001b[1;33m\u001b[0m\u001b[1;33m\u001b[0m\u001b[0m\n\u001b[0;32m   1908\u001b[0m         \u001b[1;32melif\u001b[0m \u001b[0mself\u001b[0m\u001b[1;33m.\u001b[0m\u001b[0m_is_level_reference\u001b[0m\u001b[1;33m(\u001b[0m\u001b[0mkey\u001b[0m\u001b[1;33m,\u001b[0m \u001b[0maxis\u001b[0m\u001b[1;33m=\u001b[0m\u001b[0maxis\u001b[0m\u001b[1;33m)\u001b[0m\u001b[1;33m:\u001b[0m\u001b[1;33m\u001b[0m\u001b[1;33m\u001b[0m\u001b[0m\n\u001b[0;32m   1909\u001b[0m             \u001b[0mvalues\u001b[0m \u001b[1;33m=\u001b[0m \u001b[0mself\u001b[0m\u001b[1;33m.\u001b[0m\u001b[0maxes\u001b[0m\u001b[1;33m[\u001b[0m\u001b[0maxis\u001b[0m\u001b[1;33m]\u001b[0m\u001b[1;33m.\u001b[0m\u001b[0mget_level_values\u001b[0m\u001b[1;33m(\u001b[0m\u001b[0mkey\u001b[0m\u001b[1;33m)\u001b[0m\u001b[1;33m.\u001b[0m\u001b[0m_values\u001b[0m\u001b[1;33m\u001b[0m\u001b[1;33m\u001b[0m\u001b[0m\n\u001b[0;32m   1910\u001b[0m         \u001b[1;32melse\u001b[0m\u001b[1;33m:\u001b[0m\u001b[1;33m\u001b[0m\u001b[1;33m\u001b[0m\u001b[0m\n\u001b[1;32m-> 1911\u001b[1;33m             \u001b[1;32mraise\u001b[0m \u001b[0mKeyError\u001b[0m\u001b[1;33m(\u001b[0m\u001b[0mkey\u001b[0m\u001b[1;33m)\u001b[0m\u001b[1;33m\u001b[0m\u001b[1;33m\u001b[0m\u001b[0m\n\u001b[0m\u001b[0;32m   1912\u001b[0m \u001b[1;33m\u001b[0m\u001b[0m\n\u001b[0;32m   1913\u001b[0m         \u001b[1;31m# Check for duplicates\u001b[0m\u001b[1;33m\u001b[0m\u001b[1;33m\u001b[0m\u001b[0m\n\u001b[0;32m   1914\u001b[0m         \u001b[1;32mif\u001b[0m \u001b[0mvalues\u001b[0m\u001b[1;33m.\u001b[0m\u001b[0mndim\u001b[0m \u001b[1;33m>\u001b[0m \u001b[1;36m1\u001b[0m\u001b[1;33m:\u001b[0m\u001b[1;33m\u001b[0m\u001b[1;33m\u001b[0m\u001b[0m\n",
      "\u001b[1;31mKeyError\u001b[0m: 'ds'"
     ]
    }
   ],
   "source": [
    "result_final = result.merge(SPY1[['LowFalse','HighFalse','LowBreakUp_Weekly','HighBreakDown_Weekly','ds']], on='ds', how='Left')\n",
    "result_final.info()"
   ]
  }
 ],
 "metadata": {
  "kernelspec": {
   "display_name": "project-py3.10",
   "language": "python",
   "name": "python3"
  },
  "language_info": {
   "codemirror_mode": {
    "name": "ipython",
    "version": 3
   },
   "file_extension": ".py",
   "mimetype": "text/x-python",
   "name": "python",
   "nbconvert_exporter": "python",
   "pygments_lexer": "ipython3",
   "version": "3.10.2"
  }
 },
 "nbformat": 4,
 "nbformat_minor": 5
}
