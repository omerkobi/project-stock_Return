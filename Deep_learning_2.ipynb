{
 "cells": [
  {
   "cell_type": "code",
   "execution_count": 162,
   "id": "e33a5774",
   "metadata": {},
   "outputs": [],
   "source": [
    "import pandas as pd\n",
    "import numpy as np\n",
    "import tensorflow as tf\n",
    "from tensorflow.keras import Sequential\n",
    "from tensorflow.keras.layers import LSTM, GRU, Dense,Dropout\n",
    "from tensorflow.keras.optimizers import Adam\n",
    "from tensorflow.keras.callbacks import EarlyStopping, ModelCheckpoint\n",
    "import matplotlib.pyplot as plt\n",
    "from sklearn.preprocessing import MinMaxScaler ,RobustScaler\n",
    "from sklearn.metrics import mean_squared_error,r2_score\n",
    "import random"
   ]
  },
  {
   "cell_type": "code",
   "execution_count": 163,
   "id": "443307f3",
   "metadata": {},
   "outputs": [],
   "source": [
    "# Seed Python, NumPy, and TensorFlow RNGs\n",
    "random.seed(42)\n",
    "np.random.seed(42)\n",
    "tf.random.set_seed(42)"
   ]
  },
  {
   "cell_type": "markdown",
   "id": "c64975ac",
   "metadata": {},
   "source": [
    "# Import the data"
   ]
  },
  {
   "cell_type": "code",
   "execution_count": 3,
   "id": "fe7728ea",
   "metadata": {},
   "outputs": [
    {
     "name": "stdout",
     "output_type": "stream",
     "text": [
      "<class 'pandas.core.frame.DataFrame'>\n",
      "RangeIndex: 2055 entries, 0 to 2054\n",
      "Data columns (total 46 columns):\n",
      " #   Column               Non-Null Count  Dtype         \n",
      "---  ------               --------------  -----         \n",
      " 0   ds                   2055 non-null   datetime64[ns]\n",
      " 1   SPY_Close            2055 non-null   float64       \n",
      " 2   SPY_Volume           2055 non-null   int64         \n",
      " 3   AAPL                 2055 non-null   float64       \n",
      " 4   MSFT                 2055 non-null   float64       \n",
      " 5   GOOG                 2055 non-null   float64       \n",
      " 6   GLD                  2055 non-null   float64       \n",
      " 7   SLV                  2055 non-null   float64       \n",
      " 8   ^TNX                 2055 non-null   float64       \n",
      " 9   DX-Y.NYB             2055 non-null   float64       \n",
      " 10  JPY=X                2055 non-null   float64       \n",
      " 11  EUR=X                2055 non-null   float64       \n",
      " 12  USO                  2055 non-null   float64       \n",
      " 13  UNG                  2055 non-null   float64       \n",
      " 14  BTC-USD              2055 non-null   float64       \n",
      " 15  CPER                 2055 non-null   float64       \n",
      " 16  ^VIX                 2055 non-null   float64       \n",
      " 17  ^GDAXI               2055 non-null   float64       \n",
      " 18  ^FTSE                2055 non-null   float64       \n",
      " 19  ^RUT                 2055 non-null   float64       \n",
      " 20  ^N225                2055 non-null   float64       \n",
      " 21  IEI                  2055 non-null   float64       \n",
      " 22  CNYUSD=X             2055 non-null   float64       \n",
      " 23  2Y_Yield             2055 non-null   float64       \n",
      " 24  yield_curve          2055 non-null   float64       \n",
      " 25  market_closed_count  2055 non-null   int64         \n",
      " 26  yield_curve_term     2055 non-null   float64       \n",
      " 27  high-low             2055 non-null   float64       \n",
      " 28  before_high-low      2055 non-null   float64       \n",
      " 29  SPY_RSI              2055 non-null   float64       \n",
      " 30  RSI_rank             2055 non-null   float64       \n",
      " 31  RSI_rank_2           2055 non-null   int64         \n",
      " 32  EMA_20               2055 non-null   float64       \n",
      " 33  EMA_50               2055 non-null   float64       \n",
      " 34  EMA_200              2055 non-null   float64       \n",
      " 35  EMA_20_50            2055 non-null   int64         \n",
      " 36  EMA_50_200           2055 non-null   int64         \n",
      " 37  EMA_50_diff          2055 non-null   float64       \n",
      " 38  EMA_200_diff         2055 non-null   float64       \n",
      " 39  SPY_std              2055 non-null   float64       \n",
      " 40  SPY_mean             2055 non-null   float64       \n",
      " 41  SPY_30               2055 non-null   float64       \n",
      " 42  QQQ_Close            2055 non-null   float64       \n",
      " 43  QQQ_Volume           2055 non-null   int64         \n",
      " 44  qqq_std              2055 non-null   float64       \n",
      " 45  qqq_mean             2055 non-null   float64       \n",
      "dtypes: datetime64[ns](1), float64(39), int64(6)\n",
      "memory usage: 738.6 KB\n"
     ]
    }
   ],
   "source": [
    "SPY = pd.read_pickle('combined_cleaned_add_with_QQQ.pkl')\n",
    "SPY.info()"
   ]
  },
  {
   "cell_type": "markdown",
   "id": "5562d753",
   "metadata": {},
   "source": [
    "# Add support and resistance areas"
   ]
  },
  {
   "cell_type": "code",
   "execution_count": 131,
   "id": "33590ac8",
   "metadata": {},
   "outputs": [],
   "source": [
    "from scipy.signal import argrelextrema\n",
    "spy_zones = SPY.copy()\n",
    "\n",
    "# Use N = window size to define \"local\"\n",
    "N = 10\n",
    "\n",
    "# Find local maxima (resistance) and minima (support)\n",
    "spy_zones['local_max'] = spy_zones['SPY_Close'].iloc[argrelextrema(spy_zones['SPY_Close'].values, np.greater_equal, order=N)[0]]\n",
    "spy_zones['local_min'] = spy_zones['SPY_Close'].iloc[argrelextrema(spy_zones['SPY_Close'].values, np.less_equal, order=N)[0]]\n",
    "\n",
    "\n",
    "# Define zone precision (e.g., $100 buckets)\n",
    "zone_precision = 100\n",
    "support_levels = spy_zones['local_min'].dropna().round(-int(np.log10(zone_precision)))\n",
    "resistance_levels = spy_zones['local_max'].dropna().round(-int(np.log10(zone_precision)))\n",
    "\n",
    "support_zones = support_levels.value_counts().loc[lambda x: x > 1].index.tolist()\n",
    "resistance_zones = resistance_levels.value_counts().loc[lambda x: x > 1].index.tolist()"
   ]
  },
  {
   "cell_type": "code",
   "execution_count": 132,
   "id": "faae7b0a",
   "metadata": {},
   "outputs": [
    {
     "name": "stdout",
     "output_type": "stream",
     "text": [
      "        SPY_Close  SUPPORT_Signal  RESISTANCE_Signal\n",
      "1995  6086.370117               0                 -1\n",
      "1996  6118.709961               0                  0\n",
      "1997  6101.240234               0                  0\n",
      "1998  6012.279785               0                  0\n",
      "1999  6067.700195               0                 -1\n",
      "2000  6039.310059               0                  0\n",
      "2001  6071.169922               0                 -1\n",
      "2002  6040.529785               0                  0\n",
      "2003  5994.569824               0                  0\n",
      "2004  6037.879883               0                  0\n",
      "2005  6061.479980               0                 -1\n",
      "2006  6083.569824               0                 -1\n",
      "2007  6025.990234               0                  0\n",
      "2008  6066.439941               0                 -1\n",
      "2009  6068.500000               0                 -1\n",
      "2010  6051.970215               0                 -1\n",
      "2011  6115.069824               0                  0\n",
      "2012  6114.629883               0                  0\n",
      "2013  6129.580078               0                  0\n",
      "2014  6144.149902               0                  0\n",
      "2015  6117.520020               0                  0\n",
      "2016  6013.129883               0                  0\n",
      "2017  5983.250000               0                  0\n",
      "2018  5955.250000               0                  0\n",
      "2019  5956.060059               0                  0\n",
      "2020  5861.569824               0                  0\n",
      "2021  5954.500000               0                  0\n",
      "2022  5849.720215               0                  0\n",
      "2023  5778.149902               0                  0\n",
      "2024  5842.629883               0                  0\n",
      "2025  5738.520020               1                  0\n",
      "2026  5770.200195               0                  0\n",
      "2027  5614.560059               0                  0\n",
      "2028  5572.069824               0                  0\n",
      "2029  5599.299805               0                  0\n",
      "2030  5521.520020               0                  0\n",
      "2031  5638.939941               0                  0\n",
      "2032  5675.120117               0                  0\n",
      "2033  5614.660156               0                  0\n",
      "2034  5675.290039               0                  0\n",
      "2035  5662.890137               0                  0\n",
      "2036  5667.560059               0                  0\n",
      "2037  5767.569824               0                  0\n",
      "2038  5776.649902               0                  0\n",
      "2039  5712.200195               1                  0\n",
      "2040  5693.310059               0                  0\n",
      "2041  5580.939941               0                  0\n",
      "2042  5611.850098               0                  0\n",
      "2043  5633.069824               0                  0\n",
      "2044  5670.970215               0                  0\n",
      "2045  5396.520020               0                  0\n",
      "2046  5074.080078               0                  0\n",
      "2047  5062.250000               0                  0\n",
      "2048  4982.770020               0                  0\n",
      "2049  5456.899902               0                  0\n",
      "2050  5268.049805               0                  0\n",
      "2051  5363.359863               0                  0\n",
      "2052  5405.970215               0                  0\n",
      "2053  5396.629883               0                  0\n",
      "2054  5275.700195               0                  0\n"
     ]
    }
   ],
   "source": [
    "# define your margins\n",
    "margin_sup = 50.0    # dollars above support to trigger 1\n",
    "margin_res = 50.0    # dollars below resistance to trigger -1\n",
    "\n",
    "def support_signal(price):\n",
    "    # compute (distance, support) for only those supports below or equal to price\n",
    "    diffs = [(price - s, s) for s in support_zones if s <= price]\n",
    "    if not diffs:\n",
    "        return 0\n",
    "    # pick the smallest positive distance\n",
    "    nearest_diff, nearest_sup = min(diffs, key=lambda x: x[0])\n",
    "    return 1 if nearest_diff <= margin_sup else 0\n",
    "\n",
    "def resistance_signal(price):\n",
    "    # compute (distance, resistance) for only those resistances above or equal to price\n",
    "    diffs = [(r - price, r) for r in resistance_zones if r >= price]\n",
    "    if not diffs:\n",
    "        return 0\n",
    "    nearest_diff, nearest_res = min(diffs, key=lambda x: x[0])\n",
    "    return -1 if nearest_diff <= margin_res else 0\n",
    "\n",
    "# apply to your DataFrame\n",
    "spy_zones['SUPPORT_Signal']    = spy_zones['SPY_Close'].apply(support_signal)\n",
    "spy_zones['RESISTANCE_Signal'] = spy_zones['SPY_Close'].apply(resistance_signal)\n",
    "\n",
    "# quick check\n",
    "print(spy_zones[['SPY_Close','SUPPORT_Signal','RESISTANCE_Signal']].tail(60))\n"
   ]
  },
  {
   "cell_type": "code",
   "execution_count": null,
   "id": "513e3e06",
   "metadata": {},
   "outputs": [],
   "source": [
    "spy_zones.info()"
   ]
  },
  {
   "cell_type": "code",
   "execution_count": 3,
   "id": "a80bc794",
   "metadata": {},
   "outputs": [
    {
     "name": "stdout",
     "output_type": "stream",
     "text": [
      "['ds', 'SPY_Close', 'SPY_Volume', 'AAPL', 'MSFT', 'GOOG', 'GLD', 'SLV', '^TNX', 'DX-Y.NYB', 'JPY=X', 'EUR=X', 'USO', 'UNG', 'BTC-USD', 'CPER', '^VIX', '^GDAXI', '^FTSE', '^RUT', '^N225', 'IEI', 'CNYUSD=X', '2Y_Yield', 'yield_curve', 'market_closed_count', 'yield_curve_term', 'high-low', 'before_high-low', 'SPY_RSI', 'RSI_rank', 'RSI_rank_2', 'EMA_20', 'EMA_50', 'EMA_200', 'EMA_20_50', 'EMA_50_200', 'EMA_50_diff', 'EMA_200_diff', 'SPY_std', 'SPY_mean', 'SPY_30', 'QQQ_Close', 'QQQ_Volume', 'qqq_std', 'qqq_mean']\n"
     ]
    }
   ],
   "source": [
    "print(SPY.columns.to_list())"
   ]
  },
  {
   "cell_type": "markdown",
   "id": "c9e7540a",
   "metadata": {},
   "source": [
    "## Add RSI , MACD & averages"
   ]
  },
  {
   "cell_type": "code",
   "execution_count": 4,
   "id": "1572355d",
   "metadata": {},
   "outputs": [],
   "source": [
    "def calculate_rsi(prices, period=14):\n",
    "    prices = pd.to_numeric(prices, errors='coerce')\n",
    "    delta  = prices.diff()\n",
    "    gain = (delta.where(delta > 0, 0)).rolling(window=period).mean()\n",
    "    loss = (-delta.where(delta < 0, 0)).rolling(window=period).mean()\n",
    "    rs = gain / loss\n",
    "    return 100 - (100 / (1 + rs))\n",
    "\n",
    "  # MACD Calculation\n",
    "def calculate_macd(prices, fast=12, slow=26):\n",
    "    prices = pd.Series(prices).astype(float).dropna()\n",
    "    exp1 = prices.ewm(span=fast, adjust=False).mean()\n",
    "    exp2 = prices.ewm(span=slow, adjust=False).mean()\n",
    "    return exp1 - exp2\n",
    "\n",
    "# number of consecative up/down days     \n",
    "def calculate_consecutive_streak(close_series: pd.Series) -> pd.Series:\n",
    "    \"\"\"\n",
    "    Calculate the consecutive up/down streaks for a close price series.\n",
    "    - If today's close > yesterday's, streak = previous_streak + 1 (or 1 if previous_streak <= 0)\n",
    "    - If today's close < yesterday's, streak = previous_streak - 1 (or -1 if previous_streak >= 0)\n",
    "    - If equal, streak = 0\n",
    "    \"\"\"\n",
    "    streak = [0] * len(close_series)\n",
    "    for i in range(1, len(close_series)):\n",
    "        if close_series.iat[i] > close_series.iat[i - 1]:\n",
    "            streak[i] = streak[i - 1] + 1 if streak[i - 1] > 0 else 1\n",
    "        elif close_series.iat[i] < close_series.iat[i - 1]:\n",
    "            streak[i] = streak[i - 1] - 1 if streak[i - 1] < 0 else -1\n",
    "        else:\n",
    "            streak[i] = 0\n",
    "    return pd.Series(streak, index=close_series.index, name='consecutive_streak')\n",
    "\n",
    "# Add some internal features \n",
    "#\n",
    "def model_own_features(\n",
    "    data: pd.DataFrame,\n",
    "    column: str,\n",
    "    keep_columns = None\n",
    ") -> pd.DataFrame:\n",
    "    \"\"\"\n",
    "    Add RSI, MACD, rolling means, std, and consecutive streak for `column`.\n",
    "    Optionally preserve only keep_columns + new features.\n",
    "    \"\"\"\n",
    "    df = data.copy()\n",
    "    # Ensure numeric\n",
    "    df[column] = pd.to_numeric(df[column], errors='coerce')\n",
    "    \n",
    "    # 1) RSI\n",
    "    df['RSI_14'] = calculate_rsi(df[column], period=14)\n",
    "    \n",
    "    # 2) MACD\n",
    "    #macd_df = calculate_macd(df[column])\n",
    "    #df = df.join(macd_df)\n",
    "    df['MACD'] = calculate_macd(df[column])\n",
    "    # 3) Rolling stats\n",
    "    df['20d_mean'] = df[column].rolling(20).mean()\n",
    "    df['5d_mean']  = df[column].rolling(5).mean()\n",
    "    df['5d_std']   = df[column].rolling(5).std()\n",
    "    \n",
    "    # 4) Consecutive streak\n",
    "    df['streak'] = calculate_consecutive_streak(df[column])\n",
    "    \n",
    "    # 5) Select output columns\n",
    "    if keep_columns is not None:\n",
    "        # always include the new features\n",
    "        new_feats = ['RSI_14', 'MACD', '20d_mean', '5d_mean', '5d_std', 'streak']\n",
    "        df = df[ keep_columns + new_feats ]\n",
    "\n",
    "    df = df.dropna()\n",
    "\n",
    "    return df\n"
   ]
  },
  {
   "cell_type": "code",
   "execution_count": 5,
   "id": "3c37530c",
   "metadata": {},
   "outputs": [],
   "source": [
    "# calculate the cosecative returns\n",
    "def calculate_consecutive_return(close_series: pd.Series, streak_series: pd.Series) -> pd.Series:\n",
    "    \"\"\"\n",
    "    Calculate the percentage change over the span of the consecutive streak.\n",
    "    - If streak == 0: 0\n",
    "    - Else: (close_today / close_n_days_ago - 1) * 100, where n = abs(streak)\n",
    "    \"\"\"\n",
    "    returns = []\n",
    "    prices = close_series.values\n",
    "    streaks = streak_series.values.astype(int)\n",
    "    for i, (price, streak) in enumerate(zip(prices, streaks)):\n",
    "        n = abs(streak)\n",
    "        if n > 0 and i - n >= 0:\n",
    "            prev_price = prices[i - n]\n",
    "            returns.append((price / prev_price - 1) * 100)\n",
    "        else:\n",
    "            returns.append(0.0)\n",
    "    return pd.Series(returns, index=close_series.index, name='abs_consecutive_change')\n",
    "\n"
   ]
  },
  {
   "cell_type": "markdown",
   "id": "eac0999e",
   "metadata": {},
   "source": [
    "### Add date features"
   ]
  },
  {
   "cell_type": "code",
   "execution_count": 6,
   "id": "9359517e",
   "metadata": {},
   "outputs": [],
   "source": [
    "def date_features(df):\n",
    "    df['month'] = df['ds'].dt.month\n",
    "    df['day_of_week'] = df['ds'].dt.dayofweek\n",
    "    df['day_of_week'] = df['day_of_week'] + 2\n",
    "    return df"
   ]
  },
  {
   "cell_type": "code",
   "execution_count": 11,
   "id": "4028afed",
   "metadata": {},
   "outputs": [
    {
     "name": "stdout",
     "output_type": "stream",
     "text": [
      "<class 'pandas.core.frame.DataFrame'>\n",
      "Index: 2036 entries, 19 to 2054\n",
      "Data columns (total 13 columns):\n",
      " #   Column                  Non-Null Count  Dtype  \n",
      "---  ------                  --------------  -----  \n",
      " 0   SPY_Close               2036 non-null   float64\n",
      " 1   high-low                2036 non-null   float64\n",
      " 2   before_high-low         2036 non-null   float64\n",
      " 3   SPY_Volume              2036 non-null   int64  \n",
      " 4   RSI_14                  2036 non-null   float64\n",
      " 5   MACD                    2036 non-null   float64\n",
      " 6   20d_mean                2036 non-null   float64\n",
      " 7   5d_mean                 2036 non-null   float64\n",
      " 8   5d_std                  2036 non-null   float64\n",
      " 9   streak                  2036 non-null   int64  \n",
      " 10  abs_consecutive_change  2036 non-null   float64\n",
      " 11  month                   2036 non-null   int32  \n",
      " 12  day_of_week             2036 non-null   int32  \n",
      "dtypes: float64(9), int32(2), int64(2)\n",
      "memory usage: 206.8 KB\n"
     ]
    }
   ],
   "source": [
    "result = model_own_features(\n",
    "    data=SPY,\n",
    "    column='SPY_Close',\n",
    "    keep_columns=['SPY_Close','high-low','before_high-low','SPY_Volume','ds']\n",
    ")\n",
    "\n",
    "result['abs_consecutive_change'] = calculate_consecutive_return(result['SPY_Close'], result['streak'])\n",
    "result = date_features(result) # to add date features\n",
    "result = result.drop('ds',axis=1) # drop the date column\n",
    "result.info()"
   ]
  },
  {
   "cell_type": "code",
   "execution_count": 12,
   "id": "5b6de203",
   "metadata": {},
   "outputs": [
    {
     "name": "stdout",
     "output_type": "stream",
     "text": [
      "<class 'pandas.core.frame.DataFrame'>\n",
      "RangeIndex: 2036 entries, 0 to 2035\n",
      "Data columns (total 13 columns):\n",
      " #   Column                  Non-Null Count  Dtype  \n",
      "---  ------                  --------------  -----  \n",
      " 0   SPY_Close               2036 non-null   float64\n",
      " 1   high-low                2036 non-null   float64\n",
      " 2   before_high-low         2036 non-null   float64\n",
      " 3   SPY_Volume              2036 non-null   int64  \n",
      " 4   RSI_14                  2036 non-null   float64\n",
      " 5   MACD                    2036 non-null   float64\n",
      " 6   20d_mean                2036 non-null   float64\n",
      " 7   5d_mean                 2036 non-null   float64\n",
      " 8   5d_std                  2036 non-null   float64\n",
      " 9   streak                  2036 non-null   int64  \n",
      " 10  abs_consecutive_change  2036 non-null   float64\n",
      " 11  month                   2036 non-null   int32  \n",
      " 12  day_of_week             2036 non-null   int32  \n",
      "dtypes: float64(9), int32(2), int64(2)\n",
      "memory usage: 191.0 KB\n"
     ]
    }
   ],
   "source": [
    "result = result.reset_index(drop=True)\n",
    "\n",
    "result.info()"
   ]
  },
  {
   "cell_type": "markdown",
   "id": "50c029b8",
   "metadata": {},
   "source": [
    "### Creat a sequence"
   ]
  },
  {
   "cell_type": "code",
   "execution_count": 13,
   "id": "2e8eb0d2",
   "metadata": {},
   "outputs": [],
   "source": [
    "def create_sequences_multifeature(data, window_size):\n",
    "    X, y = [], []\n",
    "    for i in range(window_size, len(data)):\n",
    "        X.append(data[i - window_size:i])\n",
    "        y.append(data[i, 0])  # תחזית רק למחיר\n",
    "    return np.array(X), np.array(y)\n",
    "\n",
    "window_size = 30\n",
    "#X, y = create_sequences_multifeature(scaled_data, window_size)"
   ]
  },
  {
   "cell_type": "markdown",
   "id": "c85ddeef",
   "metadata": {},
   "source": [
    "### Scaling, Creating a sequence & spliting the data"
   ]
  },
  {
   "cell_type": "code",
   "execution_count": 14,
   "id": "cb877c66",
   "metadata": {},
   "outputs": [],
   "source": [
    "scaler = MinMaxScaler() # scale the data\n",
    "def prepare_RNN_data(data,window_size,scaler,split_ratio=0.8):\n",
    "    \n",
    "    scaled_data = scaler.fit_transform(data)\n",
    "\n",
    "    X, y = create_sequences_multifeature(scaled_data, window_size)\n",
    "    split = int(split_ratio * len(X))\n",
    "    X_train, X_test = X[:split], X[split:]\n",
    "    y_train, y_test = y[:split], y[split:]\n",
    "    return X_train, X_test, y_train, y_test ,X"
   ]
  },
  {
   "cell_type": "code",
   "execution_count": 15,
   "id": "8a2af3a1",
   "metadata": {},
   "outputs": [],
   "source": [
    "window_size = 30\n",
    "X_train, X_test, y_train, y_test,X = prepare_RNN_data(result, 30,scaler) # for sequence length of 30"
   ]
  },
  {
   "cell_type": "markdown",
   "id": "05dc8b79",
   "metadata": {},
   "source": [
    "# Search for the best parameters"
   ]
  },
  {
   "cell_type": "code",
   "execution_count": 159,
   "id": "411874d2",
   "metadata": {},
   "outputs": [],
   "source": [
    "import itertools\n",
    "\n",
    "def search_best_model(\n",
    "    model_type: str,\n",
    "    X_train, y_train,\n",
    "    X_val, y_val,\n",
    "    window_size: int,\n",
    "    layer_options=(1, 2, 3),\n",
    "    unit_options=(32, 64, 98),\n",
    "    learning_rates=(0.001,),\n",
    "    learning_rate=None,\n",
    "    epochs=20,\n",
    "    batch_size=32,\n",
    "    patience=3,\n",
    "    loss='mse',\n",
    "    dense_units=None,\n",
    "    dense_activation='relu',\n",
    "    dropout_rate=None,\n",
    "    shuffle=False\n",
    "):\n",
    "    \"\"\"\n",
    "    Grid-search over GRU/LSTM architectures to minimize validation loss,\n",
    "    with optional Dense and Dropout layers, and search over learning rates.\n",
    "\n",
    "    Parameters\n",
    "    ----------\n",
    "    model_type : {\"GRU\", \"LSTM\"}\n",
    "    X_train, y_train : np.ndarray\n",
    "    X_val, y_val : np.ndarray\n",
    "    window_size : int\n",
    "    layer_options : iterable of int\n",
    "    unit_options : iterable of int\n",
    "    learning_rates : iterable of float\n",
    "    learning_rate : float or None\n",
    "    epochs : int\n",
    "    batch_size : int\n",
    "    patience : int\n",
    "    loss : str\n",
    "    dense_units : int or None\n",
    "    dense_activation : str\n",
    "    dropout_rate : float or None\n",
    "        If specified, adds Dropout(dropout_rate) after each RNN layer.\n",
    "    Returns\n",
    "    -------\n",
    "    best_model, best_val_loss, best_config\n",
    "    \"\"\"\n",
    "    if model_type not in (\"GRU\", \"LSTM\"):\n",
    "        raise ValueError(f\"model_type must be 'GRU' or 'LSTM', got {model_type!r}\")\n",
    "    Cell = GRU if model_type == \"GRU\" else LSTM\n",
    "\n",
    "    best_val_loss = float('inf')\n",
    "    best_model = None\n",
    "    best_config = None\n",
    "\n",
    "    # build learning rate list\n",
    "    lr_list = (learning_rate,) if learning_rate is not None else (\n",
    "        learning_rates if hasattr(learning_rates, '__iter__') and not isinstance(learning_rates, str) else (learning_rates,)\n",
    "    )\n",
    "\n",
    "    for lr in lr_list:\n",
    "        for n_layers in layer_options:\n",
    "            for units_combo in itertools.product(unit_options, repeat=n_layers):\n",
    "                model = Sequential()\n",
    "                for i, units in enumerate(units_combo):\n",
    "                    return_seq = (i < n_layers - 1)\n",
    "                    if i == 0:\n",
    "                        model.add(Cell(units, return_sequences=return_seq,\n",
    "                                       input_shape=(window_size, X_train.shape[2])))\n",
    "                    else:\n",
    "                        model.add(Cell(units, return_sequences=return_seq))\n",
    "                    if dropout_rate is not None:\n",
    "                        model.add(Dropout(dropout_rate))\n",
    "                if dense_units is not None:\n",
    "                    model.add(Dense(dense_units, activation=dense_activation))\n",
    "                    if dropout_rate is not None:\n",
    "                        model.add(Dropout(dropout_rate))\n",
    "                model.add(Dense(1))\n",
    "\n",
    "                opt = Adam(learning_rate=lr)\n",
    "                model.compile(optimizer=opt, loss=loss)\n",
    "                es = EarlyStopping(monitor='val_loss', patience=patience, restore_best_weights=True)\n",
    "                history = model.fit(\n",
    "                    X_train, y_train,\n",
    "                    validation_data=(X_val, y_val),\n",
    "                    epochs=epochs,\n",
    "                    batch_size=batch_size,\n",
    "                    callbacks=[es],\n",
    "                    verbose=0,\n",
    "                    shuffle= shuffle\n",
    "                )\n",
    "                val_loss = min(history.history['val_loss'])\n",
    "                if val_loss < best_val_loss:\n",
    "                    best_val_loss = val_loss\n",
    "                    best_model = model\n",
    "                    best_config = {\n",
    "                        'model_type': model_type,\n",
    "                        'n_layers': n_layers,\n",
    "                        'units': units_combo,\n",
    "                        'learning_rate': lr,\n",
    "                        'dense_units': dense_units,\n",
    "                        'dense_activation': dense_activation,\n",
    "                        'dropout_rate': dropout_rate\n",
    "                    }\n",
    "    return best_model, best_val_loss, best_config\n"
   ]
  },
  {
   "cell_type": "code",
   "execution_count": 14,
   "id": "bc33ff7b",
   "metadata": {},
   "outputs": [
    {
     "name": "stderr",
     "output_type": "stream",
     "text": [
      "c:\\Users\\OMER\\PycharmProjects\\Project\\.venv\\lib\\site-packages\\keras\\src\\layers\\rnn\\rnn.py:199: UserWarning: Do not pass an `input_shape`/`input_dim` argument to a layer. When using Sequential models, prefer using an `Input(shape)` object as the first layer in the model instead.\n",
      "  super().__init__(**kwargs)\n"
     ]
    },
    {
     "name": "stdout",
     "output_type": "stream",
     "text": [
      "Best loss: 0.00033035248634405434 Config: (1, (64,))\n"
     ]
    }
   ],
   "source": [
    "best_model, best_loss, best_cfg = search_best_model(\n",
    "    model_type=\"GRU\",                # or \"LSTM\"\n",
    "    X_train=X_train, y_train=y_train,\n",
    "    X_val=X_test,  y_val=y_test,\n",
    "    window_size=window_size,\n",
    "    layer_options=[1,2,3],\n",
    "    unit_options=[32,64,92],\n",
    "    epochs=20,\n",
    "    batch_size=32,\n",
    "    patience=3,\n",
    "    learning_rate=0.004\n",
    ")\n",
    "print(\"Best loss:\", best_loss, \"Config:\", best_cfg)\n"
   ]
  },
  {
   "cell_type": "code",
   "execution_count": 23,
   "id": "6e5505de",
   "metadata": {},
   "outputs": [
    {
     "name": "stderr",
     "output_type": "stream",
     "text": [
      "c:\\Users\\OMER\\PycharmProjects\\Project\\.venv\\lib\\site-packages\\keras\\src\\layers\\rnn\\rnn.py:199: UserWarning: Do not pass an `input_shape`/`input_dim` argument to a layer. When using Sequential models, prefer using an `Input(shape)` object as the first layer in the model instead.\n",
      "  super().__init__(**kwargs)\n"
     ]
    },
    {
     "name": "stdout",
     "output_type": "stream",
     "text": [
      "Best loss: 0.0005738987820222974 Config: (1, (64,))\n"
     ]
    }
   ],
   "source": [
    "best_model, best_loss, best_cfg = search_best_model(\n",
    "    model_type=\"LSTM\",                # or \"LSTM\"\n",
    "    X_train=X_train, y_train=y_train,\n",
    "    X_val=X_test,  y_val=y_test,\n",
    "    window_size=window_size,\n",
    "    layer_options=[1,2,3],\n",
    "    unit_options=[32,64,92],\n",
    "    epochs=20,\n",
    "    batch_size=32,\n",
    "    patience=3,\n",
    "    learning_rate=0.004\n",
    ")\n",
    "print(\"Best loss:\", best_loss, \"Config:\", best_cfg)"
   ]
  },
  {
   "cell_type": "markdown",
   "id": "cc1bb493",
   "metadata": {},
   "source": [
    "# Training functions"
   ]
  },
  {
   "cell_type": "code",
   "execution_count": 160,
   "id": "beb3ec06",
   "metadata": {},
   "outputs": [],
   "source": [
    "def train_lstm(\n",
    "    X_train, y_train,\n",
    "    learning_rate=0.001,\n",
    "    epochs=20,\n",
    "    num_layers=1,\n",
    "    units=(64,),\n",
    "    window_size=None,\n",
    "    batch_size=32,\n",
    "    validation_split=0.2,\n",
    "    patience=3,\n",
    "    checkpoint_path='best_lstm.h5',\n",
    "    dense_units=None,\n",
    "    dense_activation='relu',\n",
    "    dropout_rate=None,\n",
    "    shuffle=False\n",
    "):\n",
    "    \"\"\"\n",
    "    Builds, compiles, and trains a multi-layer LSTM model, with optional intermediate Dense and Dropout layers.\n",
    "\n",
    "    Parameters:\n",
    "    - X_train, y_train: training data arrays\n",
    "    - learning_rate: float, optimizer learning rate\n",
    "    - epochs: int, max training epochs\n",
    "    - num_layers: int, number of LSTM layers\n",
    "    - units: tuple of ints, units per LSTM layer (must match num_layers)\n",
    "    - window_size: int, sequence length (timesteps)\n",
    "    - batch_size: int\n",
    "    - validation_split: float, fraction of data for validation\n",
    "    - patience: int, early stopping patience\n",
    "    - checkpoint_path: str, filepath to save best model\n",
    "    - dense_units: int or None, adds Dense layer if specified\n",
    "    - dense_activation: str, activation for the Dense layer\n",
    "    - dropout_rate: float or None, adds Dropout after each layer if specified\n",
    "\n",
    "    Returns:\n",
    "    - model: trained Keras model\n",
    "    - history: training history\n",
    "    \"\"\"\n",
    "    if num_layers != len(units):\n",
    "        raise ValueError(f\"num_layers ({num_layers}) must equal len(units) ({len(units)})\")\n",
    "\n",
    "    opt = Adam(learning_rate=learning_rate)\n",
    "    model = Sequential()\n",
    "\n",
    "    # Add LSTM + optional Dropout\n",
    "    for i, u in enumerate(units):\n",
    "        return_seq = (i < num_layers - 1)\n",
    "        if i == 0:\n",
    "            model.add(LSTM(u, return_sequences=return_seq,\n",
    "                           input_shape=(window_size, X_train.shape[2])))\n",
    "        else:\n",
    "            model.add(LSTM(u, return_sequences=return_seq))\n",
    "        if dropout_rate is not None:\n",
    "            model.add(Dropout(dropout_rate))\n",
    "\n",
    "    # Optional intermediate Dense + Dropout\n",
    "    if dense_units is not None:\n",
    "        model.add(Dense(dense_units, activation=dense_activation))\n",
    "        if dropout_rate is not None:\n",
    "            model.add(Dropout(dropout_rate))\n",
    "\n",
    "    # Output layer\n",
    "    model.add(Dense(1))\n",
    "\n",
    "    model.compile(optimizer=opt, loss='mse')\n",
    "\n",
    "    # Callbacks\n",
    "    es = EarlyStopping(monitor='val_loss', patience=patience, restore_best_weights=True)\n",
    "    chk = ModelCheckpoint(filepath=checkpoint_path,\n",
    "                          monitor='val_loss',\n",
    "                          save_best_only=True,\n",
    "                          verbose=1)\n",
    "\n",
    "    history = model.fit(\n",
    "        X_train, y_train,\n",
    "        epochs=epochs,\n",
    "        batch_size=batch_size,\n",
    "        validation_split=validation_split,\n",
    "        callbacks=[es, chk],\n",
    "        verbose=1,\n",
    "        shuffle=shuffle  # Important for time series\n",
    "    )\n",
    "    return model, history\n",
    "\n",
    "\n",
    "def train_gru(\n",
    "    X_train, y_train,\n",
    "    learning_rate=0.001,\n",
    "    epochs=20,\n",
    "    num_layers=1,\n",
    "    units=(64,),\n",
    "    window_size=None,\n",
    "    batch_size=32,\n",
    "    validation_split=0.2,\n",
    "    patience=3,\n",
    "    checkpoint_path='best_gru.h5',\n",
    "    dense_units=None,\n",
    "    dense_activation='relu',\n",
    "    dropout_rate=None\n",
    "):\n",
    "    \"\"\"\n",
    "    Builds, compiles, and trains a multi-layer GRU model, with optional intermediate Dense and Dropout layers.\n",
    "\n",
    "    Same parameters as train_lstm.\n",
    "\n",
    "    Returns:\n",
    "    - model: trained Keras model\n",
    "    - history: training history\n",
    "    \"\"\"\n",
    "    if num_layers != len(units):\n",
    "        raise ValueError(f\"num_layers ({num_layers}) must equal len(units) ({len(units)})\")\n",
    "\n",
    "    # Device selection for GPU\n",
    "    device = '/GPU:0' if tf.config.list_physical_devices('GPU') else '/CPU:0'\n",
    "    with tf.device(device):\n",
    "        opt = Adam(learning_rate=learning_rate)\n",
    "        model = Sequential()\n",
    "\n",
    "        # Add GRU + optional Dropout\n",
    "        for i, u in enumerate(units):\n",
    "            return_seq = (i < num_layers - 1)\n",
    "            if i == 0:\n",
    "                model.add(GRU(u, return_sequences=return_seq,\n",
    "                              input_shape=(window_size, X_train.shape[2])))\n",
    "            else:\n",
    "                model.add(GRU(u, return_sequences=return_seq))\n",
    "            if dropout_rate is not None:\n",
    "                model.add(Dropout(dropout_rate))\n",
    "\n",
    "        # Optional intermediate Dense + Dropout\n",
    "        if dense_units is not None:\n",
    "            model.add(Dense(dense_units, activation=dense_activation))\n",
    "            if dropout_rate is not None:\n",
    "                model.add(Dropout(dropout_rate))\n",
    "\n",
    "        # Output layer\n",
    "        model.add(Dense(1))\n",
    "        model.compile(optimizer=opt, loss='mse')\n",
    "\n",
    "    es = EarlyStopping(monitor='val_loss', patience=patience, restore_best_weights=True)\n",
    "    chk = ModelCheckpoint(filepath=checkpoint_path,\n",
    "                          monitor='val_loss',\n",
    "                          save_best_only=True,\n",
    "                          verbose=1)\n",
    "\n",
    "    history = model.fit(\n",
    "        X_train, y_train,\n",
    "        epochs=epochs,\n",
    "        batch_size=batch_size,\n",
    "        validation_split=validation_split,\n",
    "        callbacks=[es, chk],\n",
    "        verbose=1\n",
    "    )\n",
    "    return model, history\n"
   ]
  },
  {
   "cell_type": "code",
   "execution_count": 273,
   "id": "7f51d217",
   "metadata": {},
   "outputs": [],
   "source": [
    "\n",
    "\n",
    "def train_lstm(\n",
    "    X_train, y_train,\n",
    "    learning_rate=0.001,\n",
    "    epochs=20,\n",
    "    num_layers=1,\n",
    "    units=(64,),\n",
    "    window_size=None,\n",
    "    batch_size=32,\n",
    "    validation_split=0.2,\n",
    "    patience=3,\n",
    "    checkpoint_path='best_lstm.h5',\n",
    "    dense_units=None,\n",
    "    dense_activation='relu'\n",
    "):\n",
    "    \"\"\"\n",
    "    Builds, compiles, and trains a multi-layer LSTM model, with optional intermediate Dense layer.\n",
    "\n",
    "    Parameters:\n",
    "    - X_train, y_train: training data arrays\n",
    "    - learning_rate: float, optimizer learning rate\n",
    "    - epochs: int, max training epochs\n",
    "    - num_layers: int, number of LSTM layers\n",
    "    - units: tuple of ints, units per LSTM layer (length must equal num_layers)\n",
    "    - window_size: int, sequence length (timesteps)\n",
    "    - batch_size: int\n",
    "    - validation_split: float\n",
    "    - patience: int, early stopping patience\n",
    "    - checkpoint_path: str, filepath to save best model\n",
    "    - dense_units: int or None, if specified adds Dense(dense_units, activation=dense_activation)\n",
    "    - dense_activation: str, activation for the optional Dense layer\n",
    "\n",
    "    Returns:\n",
    "    - model: trained Keras model\n",
    "    - history: training history\n",
    "    \"\"\"\n",
    "    if num_layers != len(units):\n",
    "        raise ValueError(f\"num_layers ({num_layers}) must equal length of units tuple ({len(units)})\")\n",
    "    \n",
    "    opt = Adam(learning_rate=learning_rate)\n",
    "    model = Sequential()\n",
    "    \n",
    "    # Add LSTM layers\n",
    "    for i, u in enumerate(units):\n",
    "        return_seq = (i < num_layers - 1)\n",
    "        if i == 0:\n",
    "            model.add(LSTM(u, return_sequences=return_seq, input_shape=(window_size, X_train.shape[2])))\n",
    "        else:\n",
    "            model.add(LSTM(u, return_sequences=return_seq))\n",
    "    \n",
    "    # Optional Dense layer\n",
    "    if dense_units is not None:\n",
    "        model.add(Dense(dense_units, activation=dense_activation))\n",
    "    # Output layer\n",
    "    model.add(Dense(1))\n",
    "    \n",
    "    model.compile(optimizer=opt, loss='mse')\n",
    "    \n",
    "    es = EarlyStopping(monitor='val_loss', patience=patience, restore_best_weights=True)\n",
    "    chk = ModelCheckpoint(filepath=checkpoint_path, monitor='val_loss',\n",
    "                          save_best_only=True, verbose=1)\n",
    "    \n",
    "    history = model.fit(\n",
    "        X_train, y_train,\n",
    "        epochs=epochs,\n",
    "        batch_size=batch_size,\n",
    "        validation_split=validation_split,\n",
    "        callbacks=[es, chk],\n",
    "        verbose=1\n",
    "    )\n",
    "    return model, history\n",
    "\n",
    "def train_gru(\n",
    "    X_train, y_train,\n",
    "    learning_rate=0.001,\n",
    "    epochs=20,\n",
    "    num_layers=1,\n",
    "    units=(64,),\n",
    "    window_size=None,\n",
    "    batch_size=32,\n",
    "    validation_split=0.2,\n",
    "    patience=3,\n",
    "    checkpoint_path='best_gru.h5',\n",
    "    dense_units=None,\n",
    "    dense_activation='relu'\n",
    "):\n",
    "    \"\"\"\n",
    "    Builds, compiles, and trains a multi-layer GRU model (on GPU if available), with optional Dense layer.\n",
    "\n",
    "    Parameters: same as train_lstm.\n",
    "    \"\"\"\n",
    "    if num_layers != len(units):\n",
    "        raise ValueError(f\"num_layers ({num_layers}) must equal length of units tuple ({len(units)})\")\n",
    "    \n",
    "    # Choose device\n",
    "    device = '/GPU:0' if tf.config.list_physical_devices('GPU') else '/CPU:0'\n",
    "    with tf.device(device):\n",
    "        opt = Adam(learning_rate=learning_rate)\n",
    "        model = Sequential()\n",
    "        # Add GRU layers\n",
    "        for i, u in enumerate(units):\n",
    "            return_seq = (i < num_layers - 1)\n",
    "            if i == 0:\n",
    "                model.add(GRU(u, return_sequences=return_seq, input_shape=(window_size, X_train.shape[2])))\n",
    "            else:\n",
    "                model.add(GRU(u, return_sequences=return_seq))\n",
    "        # Optional Dense layer\n",
    "        if dense_units is not None:\n",
    "            model.add(Dense(dense_units, activation=dense_activation))\n",
    "        # Output layer\n",
    "        model.add(Dense(1))\n",
    "        model.compile(optimizer=opt, loss='mse')\n",
    "    \n",
    "    es = EarlyStopping(monitor='val_loss', patience=patience, restore_best_weights=True)\n",
    "    chk = ModelCheckpoint(filepath=checkpoint_path, monitor='val_loss',\n",
    "                          save_best_only=True, verbose=1)\n",
    "    \n",
    "    history = model.fit(\n",
    "        X_train, y_train,\n",
    "        epochs=epochs,\n",
    "        batch_size=batch_size,\n",
    "        validation_split=validation_split,\n",
    "        callbacks=[es, chk],\n",
    "        verbose=1\n",
    "    )\n",
    "    return model, history\n"
   ]
  },
  {
   "cell_type": "markdown",
   "id": "89a56adb",
   "metadata": {},
   "source": [
    "### plotting for each epoch"
   ]
  },
  {
   "cell_type": "code",
   "execution_count": 88,
   "id": "85272a7b",
   "metadata": {},
   "outputs": [],
   "source": [
    "def plot_training_history(history, title=\"Model Loss\"):\n",
    "    \"\"\"\n",
    "    Plots training & validation loss curves from a Keras History object.\n",
    "    \n",
    "    history: the History returned by model.fit(...)\n",
    "    title:   optional title for the plot\n",
    "    \"\"\"\n",
    "    loss = history.history['loss']\n",
    "    epochs = range(1, len(loss) + 1)\n",
    "\n",
    "    plt.figure(figsize=(8, 5))\n",
    "    plt.plot(epochs, loss, 'o-', label='Training Loss')\n",
    "    if 'val_loss' in history.history:\n",
    "        plt.plot(epochs, history.history['val_loss'], 's--', label='Validation Loss')\n",
    "    plt.title(title)\n",
    "    plt.xlabel('Epoch')\n",
    "    plt.ylabel('Loss (MSE)')\n",
    "    plt.legend()\n",
    "    plt.grid(True)\n",
    "    plt.show()"
   ]
  },
  {
   "cell_type": "markdown",
   "id": "7f53dd99",
   "metadata": {},
   "source": [
    "### LSTM"
   ]
  },
  {
   "cell_type": "code",
   "execution_count": null,
   "id": "e71874d2",
   "metadata": {},
   "outputs": [
    {
     "name": "stdout",
     "output_type": "stream",
     "text": [
      "Epoch 1/30\n"
     ]
    },
    {
     "name": "stderr",
     "output_type": "stream",
     "text": [
      "c:\\Users\\OMER\\PycharmProjects\\Project\\.venv\\lib\\site-packages\\keras\\src\\layers\\rnn\\rnn.py:199: UserWarning: Do not pass an `input_shape`/`input_dim` argument to a layer. When using Sequential models, prefer using an `Input(shape)` object as the first layer in the model instead.\n",
      "  super().__init__(**kwargs)\n"
     ]
    },
    {
     "name": "stdout",
     "output_type": "stream",
     "text": [
      "\u001b[1m77/80\u001b[0m \u001b[32m━━━━━━━━━━━━━━━━━━━\u001b[0m\u001b[37m━\u001b[0m \u001b[1m0s\u001b[0m 6ms/step - loss: 0.0124\n",
      "Epoch 1: val_loss improved from inf to 0.00052, saving model to best_lstm.h5\n"
     ]
    },
    {
     "name": "stderr",
     "output_type": "stream",
     "text": [
      "WARNING:absl:You are saving your model as an HDF5 file via `model.save()` or `keras.saving.save_model(model)`. This file format is considered legacy. We recommend using instead the native Keras format, e.g. `model.save('my_model.keras')` or `keras.saving.save_model(model, 'my_model.keras')`. \n"
     ]
    },
    {
     "name": "stdout",
     "output_type": "stream",
     "text": [
      "\u001b[1m80/80\u001b[0m \u001b[32m━━━━━━━━━━━━━━━━━━━━\u001b[0m\u001b[37m\u001b[0m \u001b[1m2s\u001b[0m 9ms/step - loss: 0.0120 - val_loss: 5.2447e-04\n",
      "Epoch 2/30\n",
      "\u001b[1m72/80\u001b[0m \u001b[32m━━━━━━━━━━━━━━━━━━\u001b[0m\u001b[37m━━\u001b[0m \u001b[1m0s\u001b[0m 6ms/step - loss: 1.9600e-04\n",
      "Epoch 2: val_loss improved from 0.00052 to 0.00028, saving model to best_lstm.h5\n"
     ]
    },
    {
     "name": "stderr",
     "output_type": "stream",
     "text": [
      "WARNING:absl:You are saving your model as an HDF5 file via `model.save()` or `keras.saving.save_model(model)`. This file format is considered legacy. We recommend using instead the native Keras format, e.g. `model.save('my_model.keras')` or `keras.saving.save_model(model, 'my_model.keras')`. \n"
     ]
    },
    {
     "name": "stdout",
     "output_type": "stream",
     "text": [
      "\u001b[1m80/80\u001b[0m \u001b[32m━━━━━━━━━━━━━━━━━━━━\u001b[0m\u001b[37m\u001b[0m \u001b[1m1s\u001b[0m 7ms/step - loss: 1.9698e-04 - val_loss: 2.7928e-04\n",
      "Epoch 3/30\n",
      "\u001b[1m73/80\u001b[0m \u001b[32m━━━━━━━━━━━━━━━━━━\u001b[0m\u001b[37m━━\u001b[0m \u001b[1m0s\u001b[0m 6ms/step - loss: 1.8164e-04\n",
      "Epoch 3: val_loss improved from 0.00028 to 0.00027, saving model to best_lstm.h5\n"
     ]
    },
    {
     "name": "stderr",
     "output_type": "stream",
     "text": [
      "WARNING:absl:You are saving your model as an HDF5 file via `model.save()` or `keras.saving.save_model(model)`. This file format is considered legacy. We recommend using instead the native Keras format, e.g. `model.save('my_model.keras')` or `keras.saving.save_model(model, 'my_model.keras')`. \n"
     ]
    },
    {
     "name": "stdout",
     "output_type": "stream",
     "text": [
      "\u001b[1m80/80\u001b[0m \u001b[32m━━━━━━━━━━━━━━━━━━━━\u001b[0m\u001b[37m\u001b[0m \u001b[1m1s\u001b[0m 8ms/step - loss: 1.8120e-04 - val_loss: 2.7307e-04\n",
      "Epoch 4/30\n",
      "\u001b[1m75/80\u001b[0m \u001b[32m━━━━━━━━━━━━━━━━━━\u001b[0m\u001b[37m━━\u001b[0m \u001b[1m0s\u001b[0m 6ms/step - loss: 1.8939e-04\n",
      "Epoch 4: val_loss did not improve from 0.00027\n",
      "\u001b[1m80/80\u001b[0m \u001b[32m━━━━━━━━━━━━━━━━━━━━\u001b[0m\u001b[37m\u001b[0m \u001b[1m1s\u001b[0m 8ms/step - loss: 1.8967e-04 - val_loss: 2.7311e-04\n",
      "Epoch 5/30\n",
      "\u001b[1m75/80\u001b[0m \u001b[32m━━━━━━━━━━━━━━━━━━\u001b[0m\u001b[37m━━\u001b[0m \u001b[1m0s\u001b[0m 6ms/step - loss: 1.4689e-04\n",
      "Epoch 5: val_loss did not improve from 0.00027\n",
      "\u001b[1m80/80\u001b[0m \u001b[32m━━━━━━━━━━━━━━━━━━━━\u001b[0m\u001b[37m\u001b[0m \u001b[1m1s\u001b[0m 8ms/step - loss: 1.5080e-04 - val_loss: 2.9829e-04\n",
      "Epoch 6/30\n",
      "\u001b[1m80/80\u001b[0m \u001b[32m━━━━━━━━━━━━━━━━━━━━\u001b[0m\u001b[37m\u001b[0m \u001b[1m0s\u001b[0m 6ms/step - loss: 1.7913e-04\n",
      "Epoch 6: val_loss did not improve from 0.00027\n",
      "\u001b[1m80/80\u001b[0m \u001b[32m━━━━━━━━━━━━━━━━━━━━\u001b[0m\u001b[37m\u001b[0m \u001b[1m1s\u001b[0m 7ms/step - loss: 1.7895e-04 - val_loss: 4.7888e-04\n",
      "Epoch 7/30\n",
      "\u001b[1m79/80\u001b[0m \u001b[32m━━━━━━━━━━━━━━━━━━━\u001b[0m\u001b[37m━\u001b[0m \u001b[1m0s\u001b[0m 6ms/step - loss: 1.8124e-04\n",
      "Epoch 7: val_loss did not improve from 0.00027\n",
      "\u001b[1m80/80\u001b[0m \u001b[32m━━━━━━━━━━━━━━━━━━━━\u001b[0m\u001b[37m\u001b[0m \u001b[1m1s\u001b[0m 7ms/step - loss: 1.8102e-04 - val_loss: 4.3308e-04\n",
      "Epoch 8/30\n",
      "\u001b[1m73/80\u001b[0m \u001b[32m━━━━━━━━━━━━━━━━━━\u001b[0m\u001b[37m━━\u001b[0m \u001b[1m0s\u001b[0m 6ms/step - loss: 2.2496e-04\n",
      "Epoch 8: val_loss did not improve from 0.00027\n",
      "\u001b[1m80/80\u001b[0m \u001b[32m━━━━━━━━━━━━━━━━━━━━\u001b[0m\u001b[37m\u001b[0m \u001b[1m1s\u001b[0m 7ms/step - loss: 2.2363e-04 - val_loss: 2.7792e-04\n"
     ]
    }
   ],
   "source": [
    "model_lstm = train_lstm(\n",
    "    X_train, y_train,\n",
    "    learning_rate=0.005,\n",
    "    epochs=30,\n",
    "    num_layers=1,\n",
    "    units=(64,),\n",
    "    window_size=30,\n",
    "    batch_size=16,\n",
    "    validation_split=0.2,\n",
    "    patience=5,\n",
    "    checkpoint_path='best_lstm.h5',\n",
    "    dense_units=None,\n",
    "    dense_activation='relu'\n",
    ")[0]"
   ]
  },
  {
   "cell_type": "markdown",
   "id": "0f103f01",
   "metadata": {},
   "source": [
    "### GRU"
   ]
  },
  {
   "cell_type": "code",
   "execution_count": 20,
   "id": "bd85bb48",
   "metadata": {},
   "outputs": [
    {
     "name": "stdout",
     "output_type": "stream",
     "text": [
      "Epoch 1/30\n"
     ]
    },
    {
     "name": "stderr",
     "output_type": "stream",
     "text": [
      "c:\\Users\\OMER\\PycharmProjects\\Project\\.venv\\lib\\site-packages\\keras\\src\\layers\\rnn\\rnn.py:199: UserWarning: Do not pass an `input_shape`/`input_dim` argument to a layer. When using Sequential models, prefer using an `Input(shape)` object as the first layer in the model instead.\n",
      "  super().__init__(**kwargs)\n"
     ]
    },
    {
     "name": "stdout",
     "output_type": "stream",
     "text": [
      "\u001b[1m38/40\u001b[0m \u001b[32m━━━━━━━━━━━━━━━━━━━\u001b[0m\u001b[37m━\u001b[0m \u001b[1m0s\u001b[0m 6ms/step - loss: 0.0475\n",
      "Epoch 1: val_loss improved from inf to 0.00062, saving model to best_gru.h5\n"
     ]
    },
    {
     "name": "stderr",
     "output_type": "stream",
     "text": [
      "WARNING:absl:You are saving your model as an HDF5 file via `model.save()` or `keras.saving.save_model(model)`. This file format is considered legacy. We recommend using instead the native Keras format, e.g. `model.save('my_model.keras')` or `keras.saving.save_model(model, 'my_model.keras')`. \n"
     ]
    },
    {
     "name": "stdout",
     "output_type": "stream",
     "text": [
      "\u001b[1m40/40\u001b[0m \u001b[32m━━━━━━━━━━━━━━━━━━━━\u001b[0m\u001b[37m\u001b[0m \u001b[1m1s\u001b[0m 12ms/step - loss: 0.0452 - val_loss: 6.1975e-04\n",
      "Epoch 2/30\n",
      "\u001b[1m38/40\u001b[0m \u001b[32m━━━━━━━━━━━━━━━━━━━\u001b[0m\u001b[37m━\u001b[0m \u001b[1m0s\u001b[0m 6ms/step - loss: 3.1282e-04\n",
      "Epoch 2: val_loss improved from 0.00062 to 0.00023, saving model to best_gru.h5\n"
     ]
    },
    {
     "name": "stderr",
     "output_type": "stream",
     "text": [
      "WARNING:absl:You are saving your model as an HDF5 file via `model.save()` or `keras.saving.save_model(model)`. This file format is considered legacy. We recommend using instead the native Keras format, e.g. `model.save('my_model.keras')` or `keras.saving.save_model(model, 'my_model.keras')`. \n"
     ]
    },
    {
     "name": "stdout",
     "output_type": "stream",
     "text": [
      "\u001b[1m40/40\u001b[0m \u001b[32m━━━━━━━━━━━━━━━━━━━━\u001b[0m\u001b[37m\u001b[0m \u001b[1m0s\u001b[0m 8ms/step - loss: 3.0807e-04 - val_loss: 2.3276e-04\n",
      "Epoch 3/30\n",
      "\u001b[1m36/40\u001b[0m \u001b[32m━━━━━━━━━━━━━━━━━━\u001b[0m\u001b[37m━━\u001b[0m \u001b[1m0s\u001b[0m 6ms/step - loss: 1.3453e-04\n",
      "Epoch 3: val_loss improved from 0.00023 to 0.00022, saving model to best_gru.h5\n"
     ]
    },
    {
     "name": "stderr",
     "output_type": "stream",
     "text": [
      "WARNING:absl:You are saving your model as an HDF5 file via `model.save()` or `keras.saving.save_model(model)`. This file format is considered legacy. We recommend using instead the native Keras format, e.g. `model.save('my_model.keras')` or `keras.saving.save_model(model, 'my_model.keras')`. \n"
     ]
    },
    {
     "name": "stdout",
     "output_type": "stream",
     "text": [
      "\u001b[1m40/40\u001b[0m \u001b[32m━━━━━━━━━━━━━━━━━━━━\u001b[0m\u001b[37m\u001b[0m \u001b[1m0s\u001b[0m 8ms/step - loss: 1.3597e-04 - val_loss: 2.1623e-04\n",
      "Epoch 4/30\n",
      "\u001b[1m38/40\u001b[0m \u001b[32m━━━━━━━━━━━━━━━━━━━\u001b[0m\u001b[37m━\u001b[0m \u001b[1m0s\u001b[0m 6ms/step - loss: 1.3488e-04\n",
      "Epoch 4: val_loss improved from 0.00022 to 0.00021, saving model to best_gru.h5\n"
     ]
    },
    {
     "name": "stderr",
     "output_type": "stream",
     "text": [
      "WARNING:absl:You are saving your model as an HDF5 file via `model.save()` or `keras.saving.save_model(model)`. This file format is considered legacy. We recommend using instead the native Keras format, e.g. `model.save('my_model.keras')` or `keras.saving.save_model(model, 'my_model.keras')`. \n"
     ]
    },
    {
     "name": "stdout",
     "output_type": "stream",
     "text": [
      "\u001b[1m40/40\u001b[0m \u001b[32m━━━━━━━━━━━━━━━━━━━━\u001b[0m\u001b[37m\u001b[0m \u001b[1m0s\u001b[0m 8ms/step - loss: 1.3536e-04 - val_loss: 2.0987e-04\n",
      "Epoch 5/30\n",
      "\u001b[1m39/40\u001b[0m \u001b[32m━━━━━━━━━━━━━━━━━━━\u001b[0m\u001b[37m━\u001b[0m \u001b[1m0s\u001b[0m 6ms/step - loss: 1.3927e-04\n",
      "Epoch 5: val_loss improved from 0.00021 to 0.00021, saving model to best_gru.h5\n"
     ]
    },
    {
     "name": "stderr",
     "output_type": "stream",
     "text": [
      "WARNING:absl:You are saving your model as an HDF5 file via `model.save()` or `keras.saving.save_model(model)`. This file format is considered legacy. We recommend using instead the native Keras format, e.g. `model.save('my_model.keras')` or `keras.saving.save_model(model, 'my_model.keras')`. \n"
     ]
    },
    {
     "name": "stdout",
     "output_type": "stream",
     "text": [
      "\u001b[1m40/40\u001b[0m \u001b[32m━━━━━━━━━━━━━━━━━━━━\u001b[0m\u001b[37m\u001b[0m \u001b[1m0s\u001b[0m 8ms/step - loss: 1.3903e-04 - val_loss: 2.0721e-04\n",
      "Epoch 6/30\n",
      "\u001b[1m38/40\u001b[0m \u001b[32m━━━━━━━━━━━━━━━━━━━\u001b[0m\u001b[37m━\u001b[0m \u001b[1m0s\u001b[0m 6ms/step - loss: 1.2248e-04\n",
      "Epoch 6: val_loss improved from 0.00021 to 0.00019, saving model to best_gru.h5\n"
     ]
    },
    {
     "name": "stderr",
     "output_type": "stream",
     "text": [
      "WARNING:absl:You are saving your model as an HDF5 file via `model.save()` or `keras.saving.save_model(model)`. This file format is considered legacy. We recommend using instead the native Keras format, e.g. `model.save('my_model.keras')` or `keras.saving.save_model(model, 'my_model.keras')`. \n"
     ]
    },
    {
     "name": "stdout",
     "output_type": "stream",
     "text": [
      "\u001b[1m40/40\u001b[0m \u001b[32m━━━━━━━━━━━━━━━━━━━━\u001b[0m\u001b[37m\u001b[0m \u001b[1m0s\u001b[0m 8ms/step - loss: 1.2297e-04 - val_loss: 1.9297e-04\n",
      "Epoch 7/30\n",
      "\u001b[1m37/40\u001b[0m \u001b[32m━━━━━━━━━━━━━━━━━━\u001b[0m\u001b[37m━━\u001b[0m \u001b[1m0s\u001b[0m 6ms/step - loss: 1.2150e-04\n",
      "Epoch 7: val_loss improved from 0.00019 to 0.00019, saving model to best_gru.h5\n"
     ]
    },
    {
     "name": "stderr",
     "output_type": "stream",
     "text": [
      "WARNING:absl:You are saving your model as an HDF5 file via `model.save()` or `keras.saving.save_model(model)`. This file format is considered legacy. We recommend using instead the native Keras format, e.g. `model.save('my_model.keras')` or `keras.saving.save_model(model, 'my_model.keras')`. \n"
     ]
    },
    {
     "name": "stdout",
     "output_type": "stream",
     "text": [
      "\u001b[1m40/40\u001b[0m \u001b[32m━━━━━━━━━━━━━━━━━━━━\u001b[0m\u001b[37m\u001b[0m \u001b[1m0s\u001b[0m 8ms/step - loss: 1.2179e-04 - val_loss: 1.8589e-04\n",
      "Epoch 8/30\n",
      "\u001b[1m37/40\u001b[0m \u001b[32m━━━━━━━━━━━━━━━━━━\u001b[0m\u001b[37m━━\u001b[0m \u001b[1m0s\u001b[0m 6ms/step - loss: 1.4379e-04\n",
      "Epoch 8: val_loss did not improve from 0.00019\n",
      "\u001b[1m40/40\u001b[0m \u001b[32m━━━━━━━━━━━━━━━━━━━━\u001b[0m\u001b[37m\u001b[0m \u001b[1m0s\u001b[0m 7ms/step - loss: 1.4150e-04 - val_loss: 1.9708e-04\n",
      "Epoch 9/30\n",
      "\u001b[1m37/40\u001b[0m \u001b[32m━━━━━━━━━━━━━━━━━━\u001b[0m\u001b[37m━━\u001b[0m \u001b[1m0s\u001b[0m 6ms/step - loss: 1.1968e-04\n",
      "Epoch 9: val_loss did not improve from 0.00019\n",
      "\u001b[1m40/40\u001b[0m \u001b[32m━━━━━━━━━━━━━━━━━━━━\u001b[0m\u001b[37m\u001b[0m \u001b[1m0s\u001b[0m 8ms/step - loss: 1.1904e-04 - val_loss: 1.8600e-04\n",
      "Epoch 10/30\n",
      "\u001b[1m40/40\u001b[0m \u001b[32m━━━━━━━━━━━━━━━━━━━━\u001b[0m\u001b[37m\u001b[0m \u001b[1m0s\u001b[0m 6ms/step - loss: 1.2221e-04\n",
      "Epoch 10: val_loss did not improve from 0.00019\n",
      "\u001b[1m40/40\u001b[0m \u001b[32m━━━━━━━━━━━━━━━━━━━━\u001b[0m\u001b[37m\u001b[0m \u001b[1m0s\u001b[0m 7ms/step - loss: 1.2252e-04 - val_loss: 2.0288e-04\n",
      "Epoch 11/30\n",
      "\u001b[1m38/40\u001b[0m \u001b[32m━━━━━━━━━━━━━━━━━━━\u001b[0m\u001b[37m━\u001b[0m \u001b[1m0s\u001b[0m 6ms/step - loss: 1.0707e-04\n",
      "Epoch 11: val_loss did not improve from 0.00019\n",
      "\u001b[1m40/40\u001b[0m \u001b[32m━━━━━━━━━━━━━━━━━━━━\u001b[0m\u001b[37m\u001b[0m \u001b[1m0s\u001b[0m 8ms/step - loss: 1.0737e-04 - val_loss: 1.8782e-04\n",
      "Epoch 12/30\n",
      "\u001b[1m37/40\u001b[0m \u001b[32m━━━━━━━━━━━━━━━━━━\u001b[0m\u001b[37m━━\u001b[0m \u001b[1m0s\u001b[0m 6ms/step - loss: 1.1863e-04\n",
      "Epoch 12: val_loss improved from 0.00019 to 0.00018, saving model to best_gru.h5\n"
     ]
    },
    {
     "name": "stderr",
     "output_type": "stream",
     "text": [
      "WARNING:absl:You are saving your model as an HDF5 file via `model.save()` or `keras.saving.save_model(model)`. This file format is considered legacy. We recommend using instead the native Keras format, e.g. `model.save('my_model.keras')` or `keras.saving.save_model(model, 'my_model.keras')`. \n"
     ]
    },
    {
     "name": "stdout",
     "output_type": "stream",
     "text": [
      "\u001b[1m40/40\u001b[0m \u001b[32m━━━━━━━━━━━━━━━━━━━━\u001b[0m\u001b[37m\u001b[0m \u001b[1m0s\u001b[0m 8ms/step - loss: 1.1813e-04 - val_loss: 1.8461e-04\n",
      "Epoch 13/30\n",
      "\u001b[1m37/40\u001b[0m \u001b[32m━━━━━━━━━━━━━━━━━━\u001b[0m\u001b[37m━━\u001b[0m \u001b[1m0s\u001b[0m 6ms/step - loss: 1.0387e-04\n",
      "Epoch 13: val_loss improved from 0.00018 to 0.00018, saving model to best_gru.h5\n"
     ]
    },
    {
     "name": "stderr",
     "output_type": "stream",
     "text": [
      "WARNING:absl:You are saving your model as an HDF5 file via `model.save()` or `keras.saving.save_model(model)`. This file format is considered legacy. We recommend using instead the native Keras format, e.g. `model.save('my_model.keras')` or `keras.saving.save_model(model, 'my_model.keras')`. \n"
     ]
    },
    {
     "name": "stdout",
     "output_type": "stream",
     "text": [
      "\u001b[1m40/40\u001b[0m \u001b[32m━━━━━━━━━━━━━━━━━━━━\u001b[0m\u001b[37m\u001b[0m \u001b[1m0s\u001b[0m 8ms/step - loss: 1.0484e-04 - val_loss: 1.8313e-04\n",
      "Epoch 14/30\n",
      "\u001b[1m38/40\u001b[0m \u001b[32m━━━━━━━━━━━━━━━━━━━\u001b[0m\u001b[37m━\u001b[0m \u001b[1m0s\u001b[0m 6ms/step - loss: 1.0191e-04\n",
      "Epoch 14: val_loss improved from 0.00018 to 0.00017, saving model to best_gru.h5\n"
     ]
    },
    {
     "name": "stderr",
     "output_type": "stream",
     "text": [
      "WARNING:absl:You are saving your model as an HDF5 file via `model.save()` or `keras.saving.save_model(model)`. This file format is considered legacy. We recommend using instead the native Keras format, e.g. `model.save('my_model.keras')` or `keras.saving.save_model(model, 'my_model.keras')`. \n"
     ]
    },
    {
     "name": "stdout",
     "output_type": "stream",
     "text": [
      "\u001b[1m40/40\u001b[0m \u001b[32m━━━━━━━━━━━━━━━━━━━━\u001b[0m\u001b[37m\u001b[0m \u001b[1m0s\u001b[0m 8ms/step - loss: 1.0282e-04 - val_loss: 1.6842e-04\n",
      "Epoch 15/30\n",
      "\u001b[1m34/40\u001b[0m \u001b[32m━━━━━━━━━━━━━━━━━\u001b[0m\u001b[37m━━━\u001b[0m \u001b[1m0s\u001b[0m 6ms/step - loss: 1.0664e-04\n",
      "Epoch 15: val_loss did not improve from 0.00017\n",
      "\u001b[1m40/40\u001b[0m \u001b[32m━━━━━━━━━━━━━━━━━━━━\u001b[0m\u001b[37m\u001b[0m \u001b[1m0s\u001b[0m 8ms/step - loss: 1.0680e-04 - val_loss: 1.8860e-04\n",
      "Epoch 16/30\n",
      "\u001b[1m38/40\u001b[0m \u001b[32m━━━━━━━━━━━━━━━━━━━\u001b[0m\u001b[37m━\u001b[0m \u001b[1m0s\u001b[0m 6ms/step - loss: 1.1395e-04\n",
      "Epoch 16: val_loss did not improve from 0.00017\n",
      "\u001b[1m40/40\u001b[0m \u001b[32m━━━━━━━━━━━━━━━━━━━━\u001b[0m\u001b[37m\u001b[0m \u001b[1m0s\u001b[0m 7ms/step - loss: 1.1392e-04 - val_loss: 1.7339e-04\n",
      "Epoch 17/30\n",
      "\u001b[1m38/40\u001b[0m \u001b[32m━━━━━━━━━━━━━━━━━━━\u001b[0m\u001b[37m━\u001b[0m \u001b[1m0s\u001b[0m 6ms/step - loss: 1.1037e-04\n",
      "Epoch 17: val_loss did not improve from 0.00017\n",
      "\u001b[1m40/40\u001b[0m \u001b[32m━━━━━━━━━━━━━━━━━━━━\u001b[0m\u001b[37m\u001b[0m \u001b[1m0s\u001b[0m 7ms/step - loss: 1.1043e-04 - val_loss: 1.7835e-04\n",
      "Epoch 18/30\n",
      "\u001b[1m39/40\u001b[0m \u001b[32m━━━━━━━━━━━━━━━━━━━\u001b[0m\u001b[37m━\u001b[0m \u001b[1m0s\u001b[0m 6ms/step - loss: 1.2802e-04\n",
      "Epoch 18: val_loss did not improve from 0.00017\n",
      "\u001b[1m40/40\u001b[0m \u001b[32m━━━━━━━━━━━━━━━━━━━━\u001b[0m\u001b[37m\u001b[0m \u001b[1m0s\u001b[0m 7ms/step - loss: 1.2783e-04 - val_loss: 1.7940e-04\n",
      "Epoch 19/30\n",
      "\u001b[1m39/40\u001b[0m \u001b[32m━━━━━━━━━━━━━━━━━━━\u001b[0m\u001b[37m━\u001b[0m \u001b[1m0s\u001b[0m 6ms/step - loss: 1.2780e-04\n",
      "Epoch 19: val_loss did not improve from 0.00017\n",
      "\u001b[1m40/40\u001b[0m \u001b[32m━━━━━━━━━━━━━━━━━━━━\u001b[0m\u001b[37m\u001b[0m \u001b[1m0s\u001b[0m 7ms/step - loss: 1.2711e-04 - val_loss: 1.8622e-04\n"
     ]
    }
   ],
   "source": [
    "model_gru = train_gru(\n",
    "    X_train, y_train,\n",
    "    learning_rate=0.005,\n",
    "    epochs=30,\n",
    "    num_layers=1,\n",
    "    units=(64,),\n",
    "    window_size=30,\n",
    "    batch_size=32,\n",
    "    validation_split=0.2,\n",
    "    patience=5,\n",
    "    checkpoint_path='best_gru.h5',\n",
    "    dense_units=None,\n",
    "    dense_activation='relu'\n",
    ")[0]"
   ]
  },
  {
   "cell_type": "markdown",
   "id": "a9d2ebbe",
   "metadata": {},
   "source": [
    "### Load the best model"
   ]
  },
  {
   "cell_type": "code",
   "execution_count": 215,
   "id": "d5079c19",
   "metadata": {},
   "outputs": [],
   "source": [
    "from tensorflow.keras.models import load_model\n",
    "\n",
    "def load_best_model(checkpoint_path,X_test):\n",
    "    \"\"\"\n",
    "    Load the best model from a given checkpoint path.\n",
    "    \n",
    "    Parameters:\n",
    "    - checkpoint_path: str, path to the saved model file (e.g., 'best_lstm.h5')\n",
    "    \n",
    "    Returns:\n",
    "    - best_model: Keras model loaded from the checkpoint\n",
    "    \"\"\"\n",
    "    # 2. Load the entire model (architecture + weights + optimizer state)\n",
    "    best_model = load_model(checkpoint_path, compile=False)\n",
    "\n",
    "    # 3. Now you can call .predict(), .evaluate(), etc.\n",
    "    preds = best_model.predict(X_test)\n",
    "\n",
    "    return preds ,best_model\n"
   ]
  },
  {
   "cell_type": "code",
   "execution_count": null,
   "id": "6673eace",
   "metadata": {},
   "outputs": [],
   "source": [
    "# 1. Point to the same filepath you used in ModelCheckpoint\n",
    "checkpoint_path = \"best_lstm.h5\"   # or \"best_gru.h5\", etc.\n",
    "\n",
    "# 2. Load the entire model (architecture + weights + optimizer state)\n",
    "best_model = load_model(checkpoint_path)\n",
    "\n",
    "# 3. Now you can call .predict(), .evaluate(), etc.\n",
    "preds = best_model.predict(X_test)"
   ]
  },
  {
   "cell_type": "markdown",
   "id": "23266c1d",
   "metadata": {},
   "source": [
    "## Making a prediction and inversing the scale:"
   ]
  },
  {
   "cell_type": "code",
   "execution_count": 43,
   "id": "b63cb609",
   "metadata": {},
   "outputs": [
    {
     "name": "stdout",
     "output_type": "stream",
     "text": [
      "\u001b[1m13/13\u001b[0m \u001b[32m━━━━━━━━━━━━━━━━━━━━\u001b[0m\u001b[37m\u001b[0m \u001b[1m0s\u001b[0m 12ms/step\n",
      "\u001b[1m13/13\u001b[0m \u001b[32m━━━━━━━━━━━━━━━━━━━━\u001b[0m\u001b[37m\u001b[0m \u001b[1m0s\u001b[0m 3ms/step \n"
     ]
    }
   ],
   "source": [
    "pred_lstm = model_lstm.predict(X_test)\n",
    "pred_gru = model_gru.predict(X_test)\n",
    "\n",
    "# reset the scaler to the original price range\n",
    "price_scaler = MinMaxScaler()\n",
    "price_scaler.min_, price_scaler.scale_ = scaler.min_[0], scaler.scale_[0]\n",
    "pred_lstm = price_scaler.inverse_transform(pred_lstm)\n",
    "pred_gru = price_scaler.inverse_transform(pred_gru)\n",
    "y_test_actual = price_scaler.inverse_transform(y_test.reshape(-1, 1))\n",
    "#y_test_actual = price_scaler.inverse_transform(y_test)"
   ]
  },
  {
   "cell_type": "code",
   "execution_count": 44,
   "id": "0790fada",
   "metadata": {},
   "outputs": [
    {
     "name": "stdout",
     "output_type": "stream",
     "text": [
      "LSTM - MSE: 30494.2223, R²: 0.8977\n",
      "GRU  - MSE: 5375.9057, R²: 0.9820\n"
     ]
    }
   ],
   "source": [
    "mse_lstm = mean_squared_error(y_test_actual, pred_lstm)\n",
    "mse_gru = mean_squared_error(y_test_actual, pred_gru)\n",
    "\n",
    "r2_lstm = r2_score(y_test_actual, pred_lstm)\n",
    "r2_gru = r2_score(y_test_actual, pred_gru)\n",
    "\n",
    "print(f'LSTM - MSE: {mse_lstm:.4f}, R²: {r2_lstm:.4f}')\n",
    "print(f'GRU  - MSE: {mse_gru:.4f}, R²: {r2_gru:.4f}')"
   ]
  },
  {
   "cell_type": "markdown",
   "id": "b1783ab3",
   "metadata": {},
   "source": [
    "LSTM - MSE: 5045.6500, R²: 0.9831\n",
    "\n",
    "GRU  - MSE: 5646.8779, R²: 0.9811"
   ]
  },
  {
   "cell_type": "code",
   "execution_count": 18,
   "id": "af4acae5",
   "metadata": {},
   "outputs": [],
   "source": [
    "def evaluate_models_with_price_scaler(\n",
    "    model_lstm,\n",
    "    model_gru,\n",
    "    X_test,\n",
    "    y_test,\n",
    "    scaler\n",
    "):\n",
    "    \"\"\"\n",
    "    Evaluates LSTM and GRU models on test data by:\n",
    "      1) Predicting with each model\n",
    "      2) Inverse-transforming predictions and true values using a MinMaxScaler pattern\n",
    "      3) Computing MSE and R^2 for each model\n",
    "      4) Printing and returning the metrics\n",
    "\n",
    "    Parameters\n",
    "    ----------\n",
    "    model_lstm : keras.Model\n",
    "        Trained LSTM model\n",
    "    model_gru : keras.Model\n",
    "        Trained GRU model\n",
    "    X_test : np.ndarray\n",
    "        Test features (scaled)\n",
    "    y_test : np.ndarray\n",
    "        Test targets (scaled) with shape (n_samples, 1) or (n_samples,)\n",
    "    scaler : MinMaxScaler\n",
    "        Scaler fitted on the original price series, to recover original scale.\n",
    "\n",
    "    Returns\n",
    "    -------\n",
    "    dict\n",
    "        Dictionary with keys:\n",
    "          'mse_lstm', 'r2_lstm', 'mse_gru', 'r2_gru'\n",
    "    \"\"\"\n",
    "    # 1) Generate predictions\n",
    "    pred_lstm = model_lstm.predict(X_test)\n",
    "    pred_gru = model_gru.predict(X_test)\n",
    "\n",
    "    # 2) Reset scaler parameters to match original price scaling\n",
    "    price_scaler = MinMaxScaler()\n",
    "    price_scaler.min_, price_scaler.scale_ = scaler.min_[0], scaler.scale_[0]\n",
    "\n",
    "    # 3) Inverse-transform\n",
    "    y_pred_lstm = price_scaler.inverse_transform(pred_lstm)\n",
    "    y_pred_gru = price_scaler.inverse_transform(pred_gru)\n",
    "    # Ensure y_test is 2D\n",
    "    y_true = y_test.reshape(-1, 1)\n",
    "    y_true = price_scaler.inverse_transform(y_true)\n",
    "\n",
    "    # 4) Compute metrics\n",
    "    mse_lstm = mean_squared_error(y_true, y_pred_lstm)\n",
    "    r2_lstm = r2_score(y_true, y_pred_lstm)\n",
    "    mse_gru = mean_squared_error(y_true, y_pred_gru)\n",
    "    r2_gru = r2_score(y_true, y_pred_gru)\n",
    "\n",
    "    # 5) Print results\n",
    "    print(f'LSTM - MSE: {mse_lstm:.4f}, R²: {r2_lstm:.4f}')\n",
    "    print(f'GRU  - MSE: {mse_gru:.4f}, R²: {r2_gru:.4f}')\n",
    "\n",
    "    # 6) Return metrics\n",
    "    return {\n",
    "        'mse_lstm': mse_lstm,\n",
    "        'r2_lstm': r2_lstm,\n",
    "        'mse_gru': mse_gru,\n",
    "        'r2_gru': r2_gru\n",
    "    }"
   ]
  },
  {
   "cell_type": "markdown",
   "id": "228839ad",
   "metadata": {},
   "source": [
    "## **1 Check the model using own features**"
   ]
  },
  {
   "cell_type": "code",
   "execution_count": null,
   "id": "63877e5f",
   "metadata": {},
   "outputs": [],
   "source": [
    "evaluate_models_with_price_scaler(\n",
    "    model_lstm=model_lstm,\n",
    "    model_gru=model_gru,\n",
    "    X_test=X_test,\n",
    "    y_test=y_test,\n",
    "    scaler=scaler\n",
    ")\n"
   ]
  },
  {
   "cell_type": "code",
   "execution_count": 130,
   "id": "7f2e5f2b",
   "metadata": {},
   "outputs": [],
   "source": [
    "split = split = int(0.8 * len(X))\n",
    "dates = result.index[window_size + split:]"
   ]
  },
  {
   "cell_type": "code",
   "execution_count": 133,
   "id": "216d9a99",
   "metadata": {},
   "outputs": [
    {
     "data": {
      "image/png": "[encoded data removed]",
      "text/plain": [
       "<Figure size 1400x600 with 1 Axes>"
      ]
     },
     "metadata": {},
     "output_type": "display_data"
    }
   ],
   "source": [
    "ticker = 'SPY'\n",
    "plt.figure(figsize=(14,6))\n",
    "plt.plot(dates, y_test_actual, label='Actual', color='black')\n",
    "plt.plot(dates, pred_lstm, label='LSTM Prediction', alpha=0.7)\n",
    "plt.plot(dates, pred_gru, label='GRU Prediction', alpha=0.7)\n",
    "plt.title(f'Actual vs Predicted - {ticker} (LSTM vs GRU)')\n",
    "plt.xlabel('Date')\n",
    "plt.ylabel('Price')\n",
    "plt.legend()\n",
    "plt.grid(False)\n",
    "plt.show()"
   ]
  },
  {
   "cell_type": "markdown",
   "id": "5a1c8247",
   "metadata": {},
   "source": [
    "### Add external other financial instruments as features"
   ]
  },
  {
   "cell_type": "code",
   "execution_count": 129,
   "id": "fc1e7e01",
   "metadata": {},
   "outputs": [
    {
     "name": "stdout",
     "output_type": "stream",
     "text": [
      "['ds', 'SPY_Close', 'SPY_Volume', 'AAPL', 'MSFT', 'GOOG', 'GLD', 'SLV', '^TNX', 'DX-Y.NYB', 'JPY=X', 'EUR=X', 'USO', 'UNG', 'BTC-USD', 'CPER', '^VIX', '^GDAXI', '^FTSE', '^RUT', '^N225', 'IEI', 'CNYUSD=X', '2Y_Yield', 'yield_curve', 'market_closed_count', 'yield_curve_term', 'high-low', 'before_high-low', 'SPY_RSI', 'RSI_rank', 'RSI_rank_2', 'EMA_20', 'EMA_50', 'EMA_200', 'EMA_20_50', 'EMA_50_200', 'EMA_50_diff', 'EMA_200_diff', 'SPY_std', 'SPY_mean', 'SPY_30', 'QQQ_Close', 'QQQ_Volume', 'qqq_std', 'qqq_mean']\n"
     ]
    }
   ],
   "source": [
    "print(SPY.columns.to_list())\n",
    "#SPY['^VIX'].head()\n",
    "all_features = SPY.columns.to_list() # test all of the features "
   ]
  },
  {
   "cell_type": "code",
   "execution_count": 197,
   "id": "3bb2ebbd",
   "metadata": {},
   "outputs": [
    {
     "name": "stdout",
     "output_type": "stream",
     "text": [
      "<class 'pandas.core.frame.DataFrame'>\n",
      "RangeIndex: 2036 entries, 0 to 2035\n",
      "Data columns (total 29 columns):\n",
      " #   Column                  Non-Null Count  Dtype  \n",
      "---  ------                  --------------  -----  \n",
      " 0   SPY_Close               2036 non-null   float64\n",
      " 1   high-low                2036 non-null   float64\n",
      " 2   before_high-low         2036 non-null   float64\n",
      " 3   SPY_Volume              2036 non-null   int64  \n",
      " 4   QQQ_Close               2036 non-null   float64\n",
      " 5   CPER                    2036 non-null   float64\n",
      " 6   ^VIX                    2036 non-null   float64\n",
      " 7   ^RUT                    2036 non-null   float64\n",
      " 8   yield_curve             2036 non-null   float64\n",
      " 9   EMA_50                  2036 non-null   float64\n",
      " 10  EMA_200                 2036 non-null   float64\n",
      " 11  IEI                     2036 non-null   float64\n",
      " 12  ^GDAXI                  2036 non-null   float64\n",
      " 13  ^FTSE                   2036 non-null   float64\n",
      " 14  DX-Y.NYB                2036 non-null   float64\n",
      " 15  JPY=X                   2036 non-null   float64\n",
      " 16  EUR=X                   2036 non-null   float64\n",
      " 17  USO                     2036 non-null   float64\n",
      " 18  RSI_14                  2036 non-null   float64\n",
      " 19  MACD                    2036 non-null   float64\n",
      " 20  20d_mean                2036 non-null   float64\n",
      " 21  5d_mean                 2036 non-null   float64\n",
      " 22  5d_std                  2036 non-null   float64\n",
      " 23  streak                  2036 non-null   int64  \n",
      " 24  abs_consecutive_change  2036 non-null   float64\n",
      " 25  month                   2036 non-null   int32  \n",
      " 26  day_of_week             2036 non-null   int32  \n",
      " 27  SUPPORT_Signal          2036 non-null   int64  \n",
      " 28  RESISTANCE_Signal       2036 non-null   int64  \n",
      "dtypes: float64(23), int32(2), int64(4)\n",
      "memory usage: 445.5 KB\n"
     ]
    }
   ],
   "source": [
    "col_list = []\n",
    "result2 = model_own_features(\n",
    "    data=SPY,\n",
    "    column='SPY_Close',\n",
    "    keep_columns=['SPY_Close','high-low','before_high-low','SPY_Volume','QQQ_Close','CPER','^VIX','^RUT','yield_curve','EMA_50', 'EMA_200','IEI','^GDAXI', '^FTSE','DX-Y.NYB', 'JPY=X', 'EUR=X', 'USO','ds']\n",
    ")\n",
    "\n",
    "result2['abs_consecutive_change'] = calculate_consecutive_return(result2['SPY_Close'], result2['streak'])\n",
    "result2 = date_features(result2) # to add date features\n",
    "result2 = result2.merge(spy_zones[['ds','SUPPORT_Signal','RESISTANCE_Signal']], on='ds', how='left') # optional : add support and resistance areas\n",
    "result2 = result2.drop('ds', axis=1) # drop the date column\n",
    "result2.info()"
   ]
  },
  {
   "cell_type": "markdown",
   "id": "bc5b607a",
   "metadata": {},
   "source": [
    "### prepare the data"
   ]
  },
  {
   "cell_type": "code",
   "execution_count": 198,
   "id": "c6bf0e18",
   "metadata": {},
   "outputs": [],
   "source": [
    "window_size = 30\n",
    "X_train, X_test, y_train, y_test,X = prepare_RNN_data(result, 30,scaler)"
   ]
  },
  {
   "cell_type": "markdown",
   "id": "814773f7",
   "metadata": {},
   "source": [
    "### Search for the best hyperparameters "
   ]
  },
  {
   "cell_type": "markdown",
   "id": "589cd895",
   "metadata": {},
   "source": [
    "### GRU"
   ]
  },
  {
   "cell_type": "code",
   "execution_count": 203,
   "id": "29a37c2b",
   "metadata": {},
   "outputs": [
    {
     "name": "stderr",
     "output_type": "stream",
     "text": [
      "c:\\Users\\OMER\\PycharmProjects\\Project\\.venv\\lib\\site-packages\\keras\\src\\layers\\rnn\\rnn.py:199: UserWarning: Do not pass an `input_shape`/`input_dim` argument to a layer. When using Sequential models, prefer using an `Input(shape)` object as the first layer in the model instead.\n",
      "  super().__init__(**kwargs)\n"
     ]
    },
    {
     "name": "stdout",
     "output_type": "stream",
     "text": [
      "Best loss: 0.0003068161604460329 Config: {'model_type': 'GRU', 'n_layers': 1, 'units': (64,), 'learning_rate': 0.005, 'dense_units': None, 'dense_activation': 'relu', 'dropout_rate': 0.1}\n"
     ]
    }
   ],
   "source": [
    "best_model, best_loss, best_cfg = search_best_model(\n",
    "    model_type=\"GRU\",                # or \"LSTM\"\n",
    "    X_train=X_train, y_train=y_train,\n",
    "    X_val=X_test,  y_val=y_test,\n",
    "    window_size=window_size, # None since we reshape to (samples, 1, features)\n",
    "    layer_options=[1,2,3],\n",
    "    unit_options=[32,64,92],\n",
    "    epochs=25,\n",
    "    batch_size=32,\n",
    "    patience=5,\n",
    "    learning_rates=(0.005,0.004),\n",
    "    dense_units = None,\n",
    "    dense_activation='relu',\n",
    "    dropout_rate=0.1\n",
    ")\n",
    "print(\"Best loss:\", best_loss, \"Config:\", best_cfg)"
   ]
  },
  {
   "cell_type": "markdown",
   "id": "af86afa4",
   "metadata": {},
   "source": [
    "### train the models"
   ]
  },
  {
   "cell_type": "code",
   "execution_count": 210,
   "id": "e65dcd3f",
   "metadata": {},
   "outputs": [
    {
     "name": "stdout",
     "output_type": "stream",
     "text": [
      "Epoch 1/30\n"
     ]
    },
    {
     "name": "stderr",
     "output_type": "stream",
     "text": [
      "c:\\Users\\OMER\\PycharmProjects\\Project\\.venv\\lib\\site-packages\\keras\\src\\layers\\rnn\\rnn.py:199: UserWarning: Do not pass an `input_shape`/`input_dim` argument to a layer. When using Sequential models, prefer using an `Input(shape)` object as the first layer in the model instead.\n",
      "  super().__init__(**kwargs)\n"
     ]
    },
    {
     "name": "stdout",
     "output_type": "stream",
     "text": [
      "\u001b[1m44/46\u001b[0m \u001b[32m━━━━━━━━━━━━━━━━━━━\u001b[0m\u001b[37m━\u001b[0m \u001b[1m0s\u001b[0m 25ms/step - loss: 0.0558\n",
      "Epoch 1: val_loss improved from inf to 0.00052, saving model to best_gru_with_feat.h5\n"
     ]
    },
    {
     "name": "stderr",
     "output_type": "stream",
     "text": [
      "WARNING:absl:You are saving your model as an HDF5 file via `model.save()` or `keras.saving.save_model(model)`. This file format is considered legacy. We recommend using instead the native Keras format, e.g. `model.save('my_model.keras')` or `keras.saving.save_model(model, 'my_model.keras')`. \n"
     ]
    },
    {
     "name": "stdout",
     "output_type": "stream",
     "text": [
      "\u001b[1m46/46\u001b[0m \u001b[32m━━━━━━━━━━━━━━━━━━━━\u001b[0m\u001b[37m\u001b[0m \u001b[1m3s\u001b[0m 32ms/step - loss: 0.0538 - val_loss: 5.1654e-04\n",
      "Epoch 2/30\n",
      "\u001b[1m45/46\u001b[0m \u001b[32m━━━━━━━━━━━━━━━━━━━\u001b[0m\u001b[37m━\u001b[0m \u001b[1m0s\u001b[0m 28ms/step - loss: 0.0021\n",
      "Epoch 2: val_loss improved from 0.00052 to 0.00049, saving model to best_gru_with_feat.h5\n"
     ]
    },
    {
     "name": "stderr",
     "output_type": "stream",
     "text": [
      "WARNING:absl:You are saving your model as an HDF5 file via `model.save()` or `keras.saving.save_model(model)`. This file format is considered legacy. We recommend using instead the native Keras format, e.g. `model.save('my_model.keras')` or `keras.saving.save_model(model, 'my_model.keras')`. \n"
     ]
    },
    {
     "name": "stdout",
     "output_type": "stream",
     "text": [
      "\u001b[1m46/46\u001b[0m \u001b[32m━━━━━━━━━━━━━━━━━━━━\u001b[0m\u001b[37m\u001b[0m \u001b[1m1s\u001b[0m 32ms/step - loss: 0.0021 - val_loss: 4.9180e-04\n",
      "Epoch 3/30\n",
      "\u001b[1m45/46\u001b[0m \u001b[32m━━━━━━━━━━━━━━━━━━━\u001b[0m\u001b[37m━\u001b[0m \u001b[1m0s\u001b[0m 26ms/step - loss: 0.0013\n",
      "Epoch 3: val_loss improved from 0.00049 to 0.00039, saving model to best_gru_with_feat.h5\n"
     ]
    },
    {
     "name": "stderr",
     "output_type": "stream",
     "text": [
      "WARNING:absl:You are saving your model as an HDF5 file via `model.save()` or `keras.saving.save_model(model)`. This file format is considered legacy. We recommend using instead the native Keras format, e.g. `model.save('my_model.keras')` or `keras.saving.save_model(model, 'my_model.keras')`. \n"
     ]
    },
    {
     "name": "stdout",
     "output_type": "stream",
     "text": [
      "\u001b[1m46/46\u001b[0m \u001b[32m━━━━━━━━━━━━━━━━━━━━\u001b[0m\u001b[37m\u001b[0m \u001b[1m1s\u001b[0m 29ms/step - loss: 0.0013 - val_loss: 3.8657e-04\n",
      "Epoch 4/30\n",
      "\u001b[1m44/46\u001b[0m \u001b[32m━━━━━━━━━━━━━━━━━━━\u001b[0m\u001b[37m━\u001b[0m \u001b[1m0s\u001b[0m 25ms/step - loss: 0.0012\n",
      "Epoch 4: val_loss improved from 0.00039 to 0.00023, saving model to best_gru_with_feat.h5\n"
     ]
    },
    {
     "name": "stderr",
     "output_type": "stream",
     "text": [
      "WARNING:absl:You are saving your model as an HDF5 file via `model.save()` or `keras.saving.save_model(model)`. This file format is considered legacy. We recommend using instead the native Keras format, e.g. `model.save('my_model.keras')` or `keras.saving.save_model(model, 'my_model.keras')`. \n"
     ]
    },
    {
     "name": "stdout",
     "output_type": "stream",
     "text": [
      "\u001b[1m46/46\u001b[0m \u001b[32m━━━━━━━━━━━━━━━━━━━━\u001b[0m\u001b[37m\u001b[0m \u001b[1m1s\u001b[0m 27ms/step - loss: 0.0012 - val_loss: 2.2903e-04\n",
      "Epoch 5/30\n",
      "\u001b[1m44/46\u001b[0m \u001b[32m━━━━━━━━━━━━━━━━━━━\u001b[0m\u001b[37m━\u001b[0m \u001b[1m0s\u001b[0m 28ms/step - loss: 0.0010\n",
      "Epoch 5: val_loss improved from 0.00023 to 0.00018, saving model to best_gru_with_feat.h5\n"
     ]
    },
    {
     "name": "stderr",
     "output_type": "stream",
     "text": [
      "WARNING:absl:You are saving your model as an HDF5 file via `model.save()` or `keras.saving.save_model(model)`. This file format is considered legacy. We recommend using instead the native Keras format, e.g. `model.save('my_model.keras')` or `keras.saving.save_model(model, 'my_model.keras')`. \n"
     ]
    },
    {
     "name": "stdout",
     "output_type": "stream",
     "text": [
      "\u001b[1m46/46\u001b[0m \u001b[32m━━━━━━━━━━━━━━━━━━━━\u001b[0m\u001b[37m\u001b[0m \u001b[1m1s\u001b[0m 30ms/step - loss: 0.0010 - val_loss: 1.8110e-04\n",
      "Epoch 6/30\n",
      "\u001b[1m45/46\u001b[0m \u001b[32m━━━━━━━━━━━━━━━━━━━\u001b[0m\u001b[37m━\u001b[0m \u001b[1m0s\u001b[0m 25ms/step - loss: 6.3604e-04\n",
      "Epoch 6: val_loss did not improve from 0.00018\n",
      "\u001b[1m46/46\u001b[0m \u001b[32m━━━━━━━━━━━━━━━━━━━━\u001b[0m\u001b[37m\u001b[0m \u001b[1m1s\u001b[0m 26ms/step - loss: 6.3515e-04 - val_loss: 3.6850e-04\n",
      "Epoch 7/30\n",
      "\u001b[1m44/46\u001b[0m \u001b[32m━━━━━━━━━━━━━━━━━━━\u001b[0m\u001b[37m━\u001b[0m \u001b[1m0s\u001b[0m 25ms/step - loss: 8.1685e-04\n",
      "Epoch 7: val_loss improved from 0.00018 to 0.00013, saving model to best_gru_with_feat.h5\n"
     ]
    },
    {
     "name": "stderr",
     "output_type": "stream",
     "text": [
      "WARNING:absl:You are saving your model as an HDF5 file via `model.save()` or `keras.saving.save_model(model)`. This file format is considered legacy. We recommend using instead the native Keras format, e.g. `model.save('my_model.keras')` or `keras.saving.save_model(model, 'my_model.keras')`. \n"
     ]
    },
    {
     "name": "stdout",
     "output_type": "stream",
     "text": [
      "\u001b[1m46/46\u001b[0m \u001b[32m━━━━━━━━━━━━━━━━━━━━\u001b[0m\u001b[37m\u001b[0m \u001b[1m1s\u001b[0m 29ms/step - loss: 8.0623e-04 - val_loss: 1.3027e-04\n",
      "Epoch 8/30\n",
      "\u001b[1m44/46\u001b[0m \u001b[32m━━━━━━━━━━━━━━━━━━━\u001b[0m\u001b[37m━\u001b[0m \u001b[1m0s\u001b[0m 26ms/step - loss: 6.2104e-04\n",
      "Epoch 8: val_loss improved from 0.00013 to 0.00012, saving model to best_gru_with_feat.h5\n"
     ]
    },
    {
     "name": "stderr",
     "output_type": "stream",
     "text": [
      "WARNING:absl:You are saving your model as an HDF5 file via `model.save()` or `keras.saving.save_model(model)`. This file format is considered legacy. We recommend using instead the native Keras format, e.g. `model.save('my_model.keras')` or `keras.saving.save_model(model, 'my_model.keras')`. \n"
     ]
    },
    {
     "name": "stdout",
     "output_type": "stream",
     "text": [
      "\u001b[1m46/46\u001b[0m \u001b[32m━━━━━━━━━━━━━━━━━━━━\u001b[0m\u001b[37m\u001b[0m \u001b[1m1s\u001b[0m 28ms/step - loss: 6.1850e-04 - val_loss: 1.1633e-04\n",
      "Epoch 9/30\n",
      "\u001b[1m46/46\u001b[0m \u001b[32m━━━━━━━━━━━━━━━━━━━━\u001b[0m\u001b[37m\u001b[0m \u001b[1m0s\u001b[0m 24ms/step - loss: 5.4333e-04\n",
      "Epoch 9: val_loss did not improve from 0.00012\n",
      "\u001b[1m46/46\u001b[0m \u001b[32m━━━━━━━━━━━━━━━━━━━━\u001b[0m\u001b[37m\u001b[0m \u001b[1m1s\u001b[0m 26ms/step - loss: 5.4311e-04 - val_loss: 3.6707e-04\n",
      "Epoch 10/30\n",
      "\u001b[1m45/46\u001b[0m \u001b[32m━━━━━━━━━━━━━━━━━━━\u001b[0m\u001b[37m━\u001b[0m \u001b[1m0s\u001b[0m 26ms/step - loss: 5.8193e-04\n",
      "Epoch 10: val_loss did not improve from 0.00012\n",
      "\u001b[1m46/46\u001b[0m \u001b[32m━━━━━━━━━━━━━━━━━━━━\u001b[0m\u001b[37m\u001b[0m \u001b[1m1s\u001b[0m 30ms/step - loss: 5.8067e-04 - val_loss: 1.3796e-04\n",
      "Epoch 11/30\n",
      "\u001b[1m45/46\u001b[0m \u001b[32m━━━━━━━━━━━━━━━━━━━\u001b[0m\u001b[37m━\u001b[0m \u001b[1m0s\u001b[0m 25ms/step - loss: 5.3637e-04\n",
      "Epoch 11: val_loss improved from 0.00012 to 0.00011, saving model to best_gru_with_feat.h5\n"
     ]
    },
    {
     "name": "stderr",
     "output_type": "stream",
     "text": [
      "WARNING:absl:You are saving your model as an HDF5 file via `model.save()` or `keras.saving.save_model(model)`. This file format is considered legacy. We recommend using instead the native Keras format, e.g. `model.save('my_model.keras')` or `keras.saving.save_model(model, 'my_model.keras')`. \n"
     ]
    },
    {
     "name": "stdout",
     "output_type": "stream",
     "text": [
      "\u001b[1m46/46\u001b[0m \u001b[32m━━━━━━━━━━━━━━━━━━━━\u001b[0m\u001b[37m\u001b[0m \u001b[1m1s\u001b[0m 28ms/step - loss: 5.3517e-04 - val_loss: 1.1497e-04\n",
      "Epoch 12/30\n",
      "\u001b[1m46/46\u001b[0m \u001b[32m━━━━━━━━━━━━━━━━━━━━\u001b[0m\u001b[37m\u001b[0m \u001b[1m0s\u001b[0m 24ms/step - loss: 5.5106e-04\n",
      "Epoch 12: val_loss did not improve from 0.00011\n",
      "\u001b[1m46/46\u001b[0m \u001b[32m━━━━━━━━━━━━━━━━━━━━\u001b[0m\u001b[37m\u001b[0m \u001b[1m1s\u001b[0m 25ms/step - loss: 5.5007e-04 - val_loss: 4.2432e-04\n",
      "Epoch 13/30\n",
      "\u001b[1m46/46\u001b[0m \u001b[32m━━━━━━━━━━━━━━━━━━━━\u001b[0m\u001b[37m\u001b[0m \u001b[1m0s\u001b[0m 27ms/step - loss: 5.0221e-04\n",
      "Epoch 13: val_loss did not improve from 0.00011\n",
      "\u001b[1m46/46\u001b[0m \u001b[32m━━━━━━━━━━━━━━━━━━━━\u001b[0m\u001b[37m\u001b[0m \u001b[1m1s\u001b[0m 29ms/step - loss: 5.0078e-04 - val_loss: 1.7713e-04\n",
      "Epoch 14/30\n",
      "\u001b[1m44/46\u001b[0m \u001b[32m━━━━━━━━━━━━━━━━━━━\u001b[0m\u001b[37m━\u001b[0m \u001b[1m0s\u001b[0m 25ms/step - loss: 4.3661e-04\n",
      "Epoch 14: val_loss improved from 0.00011 to 0.00011, saving model to best_gru_with_feat.h5\n"
     ]
    },
    {
     "name": "stderr",
     "output_type": "stream",
     "text": [
      "WARNING:absl:You are saving your model as an HDF5 file via `model.save()` or `keras.saving.save_model(model)`. This file format is considered legacy. We recommend using instead the native Keras format, e.g. `model.save('my_model.keras')` or `keras.saving.save_model(model, 'my_model.keras')`. \n"
     ]
    },
    {
     "name": "stdout",
     "output_type": "stream",
     "text": [
      "\u001b[1m46/46\u001b[0m \u001b[32m━━━━━━━━━━━━━━━━━━━━\u001b[0m\u001b[37m\u001b[0m \u001b[1m1s\u001b[0m 28ms/step - loss: 4.3755e-04 - val_loss: 1.0822e-04\n",
      "Epoch 15/30\n",
      "\u001b[1m45/46\u001b[0m \u001b[32m━━━━━━━━━━━━━━━━━━━\u001b[0m\u001b[37m━\u001b[0m \u001b[1m0s\u001b[0m 25ms/step - loss: 4.6800e-04\n",
      "Epoch 15: val_loss did not improve from 0.00011\n",
      "\u001b[1m46/46\u001b[0m \u001b[32m━━━━━━━━━━━━━━━━━━━━\u001b[0m\u001b[37m\u001b[0m \u001b[1m1s\u001b[0m 26ms/step - loss: 4.6706e-04 - val_loss: 1.2192e-04\n",
      "Epoch 16/30\n",
      "\u001b[1m45/46\u001b[0m \u001b[32m━━━━━━━━━━━━━━━━━━━\u001b[0m\u001b[37m━\u001b[0m \u001b[1m0s\u001b[0m 27ms/step - loss: 4.3220e-04\n",
      "Epoch 16: val_loss did not improve from 0.00011\n",
      "\u001b[1m46/46\u001b[0m \u001b[32m━━━━━━━━━━━━━━━━━━━━\u001b[0m\u001b[37m\u001b[0m \u001b[1m1s\u001b[0m 29ms/step - loss: 4.3064e-04 - val_loss: 2.7213e-04\n",
      "Epoch 17/30\n",
      "\u001b[1m46/46\u001b[0m \u001b[32m━━━━━━━━━━━━━━━━━━━━\u001b[0m\u001b[37m\u001b[0m \u001b[1m0s\u001b[0m 24ms/step - loss: 4.6660e-04\n",
      "Epoch 17: val_loss did not improve from 0.00011\n",
      "\u001b[1m46/46\u001b[0m \u001b[32m━━━━━━━━━━━━━━━━━━━━\u001b[0m\u001b[37m\u001b[0m \u001b[1m1s\u001b[0m 26ms/step - loss: 4.6624e-04 - val_loss: 2.2706e-04\n",
      "Epoch 18/30\n",
      "\u001b[1m44/46\u001b[0m \u001b[32m━━━━━━━━━━━━━━━━━━━\u001b[0m\u001b[37m━\u001b[0m \u001b[1m0s\u001b[0m 24ms/step - loss: 4.6966e-04\n",
      "Epoch 18: val_loss did not improve from 0.00011\n",
      "\u001b[1m46/46\u001b[0m \u001b[32m━━━━━━━━━━━━━━━━━━━━\u001b[0m\u001b[37m\u001b[0m \u001b[1m1s\u001b[0m 26ms/step - loss: 4.6817e-04 - val_loss: 1.2009e-04\n",
      "Epoch 19/30\n",
      "\u001b[1m45/46\u001b[0m \u001b[32m━━━━━━━━━━━━━━━━━━━\u001b[0m\u001b[37m━\u001b[0m \u001b[1m0s\u001b[0m 27ms/step - loss: 4.0907e-04\n",
      "Epoch 19: val_loss did not improve from 0.00011\n",
      "\u001b[1m46/46\u001b[0m \u001b[32m━━━━━━━━━━━━━━━━━━━━\u001b[0m\u001b[37m\u001b[0m \u001b[1m1s\u001b[0m 30ms/step - loss: 4.0814e-04 - val_loss: 1.1374e-04\n"
     ]
    },
    {
     "data": {
      "image/png": "[encoded data removed]",
      "text/plain": [
       "<Figure size 800x500 with 1 Axes>"
      ]
     },
     "metadata": {},
     "output_type": "display_data"
    }
   ],
   "source": [
    "model_gru , history= train_gru(\n",
    "    X_train, y_train,\n",
    "    learning_rate=0.005,\n",
    "    epochs=30,\n",
    "    num_layers=1,\n",
    "    units=(92,),\n",
    "    window_size=window_size,\n",
    "    batch_size=32,\n",
    "    validation_split=0.1,\n",
    "    patience=5,\n",
    "    checkpoint_path='best_gru_with_feat.h5',\n",
    "    dense_units=None,\n",
    "    dense_activation='relu',\n",
    "    dropout_rate=0.1\n",
    "    \n",
    ")\n",
    "\n",
    "# 2) Plot\n",
    "plot_training_history(history, title=\"GRU Training & Validation Loss\")"
   ]
  },
  {
   "cell_type": "markdown",
   "id": "2bd46cb8",
   "metadata": {},
   "source": [
    "### LSTM"
   ]
  },
  {
   "cell_type": "code",
   "execution_count": 55,
   "id": "8eedc7bb",
   "metadata": {},
   "outputs": [
    {
     "name": "stderr",
     "output_type": "stream",
     "text": [
      "c:\\Users\\OMER\\PycharmProjects\\Project\\.venv\\lib\\site-packages\\keras\\src\\layers\\rnn\\rnn.py:199: UserWarning: Do not pass an `input_shape`/`input_dim` argument to a layer. When using Sequential models, prefer using an `Input(shape)` object as the first layer in the model instead.\n",
      "  super().__init__(**kwargs)\n"
     ]
    },
    {
     "ename": "KeyboardInterrupt",
     "evalue": "",
     "output_type": "error",
     "traceback": [
      "\u001b[1;31m---------------------------------------------------------------------------\u001b[0m",
      "\u001b[1;31mKeyboardInterrupt\u001b[0m                         Traceback (most recent call last)",
      "Cell \u001b[1;32mIn[55], line 1\u001b[0m\n\u001b[1;32m----> 1\u001b[0m best_model, best_loss, best_cfg \u001b[38;5;241m=\u001b[39m \u001b[43msearch_best_model\u001b[49m\u001b[43m(\u001b[49m\n\u001b[0;32m      2\u001b[0m \u001b[43m    \u001b[49m\u001b[43mmodel_type\u001b[49m\u001b[38;5;241;43m=\u001b[39;49m\u001b[38;5;124;43m\"\u001b[39;49m\u001b[38;5;124;43mLSTM\u001b[39;49m\u001b[38;5;124;43m\"\u001b[39;49m\u001b[43m,\u001b[49m\u001b[43m                \u001b[49m\u001b[38;5;66;43;03m# or \"LSTM\"\u001b[39;49;00m\n\u001b[0;32m      3\u001b[0m \u001b[43m    \u001b[49m\u001b[43mX_train\u001b[49m\u001b[38;5;241;43m=\u001b[39;49m\u001b[43mX_train\u001b[49m\u001b[43m,\u001b[49m\u001b[43m \u001b[49m\u001b[43my_train\u001b[49m\u001b[38;5;241;43m=\u001b[39;49m\u001b[43my_train\u001b[49m\u001b[43m,\u001b[49m\n\u001b[0;32m      4\u001b[0m \u001b[43m    \u001b[49m\u001b[43mX_val\u001b[49m\u001b[38;5;241;43m=\u001b[39;49m\u001b[43mX_test\u001b[49m\u001b[43m,\u001b[49m\u001b[43m  \u001b[49m\u001b[43my_val\u001b[49m\u001b[38;5;241;43m=\u001b[39;49m\u001b[43my_test\u001b[49m\u001b[43m,\u001b[49m\n\u001b[0;32m      5\u001b[0m \u001b[43m    \u001b[49m\u001b[43mwindow_size\u001b[49m\u001b[38;5;241;43m=\u001b[39;49m\u001b[43mwindow_size\u001b[49m\u001b[43m,\u001b[49m\u001b[43m \u001b[49m\u001b[38;5;66;43;03m# None since we reshape to (samples, 1, features)\u001b[39;49;00m\n\u001b[0;32m      6\u001b[0m \u001b[43m    \u001b[49m\u001b[43mlayer_options\u001b[49m\u001b[38;5;241;43m=\u001b[39;49m\u001b[43m[\u001b[49m\u001b[38;5;241;43m1\u001b[39;49m\u001b[43m,\u001b[49m\u001b[38;5;241;43m2\u001b[39;49m\u001b[43m,\u001b[49m\u001b[38;5;241;43m3\u001b[39;49m\u001b[43m]\u001b[49m\u001b[43m,\u001b[49m\n\u001b[0;32m      7\u001b[0m \u001b[43m    \u001b[49m\u001b[43munit_options\u001b[49m\u001b[38;5;241;43m=\u001b[39;49m\u001b[43m[\u001b[49m\u001b[38;5;241;43m32\u001b[39;49m\u001b[43m,\u001b[49m\u001b[38;5;241;43m64\u001b[39;49m\u001b[43m,\u001b[49m\u001b[38;5;241;43m92\u001b[39;49m\u001b[43m]\u001b[49m\u001b[43m,\u001b[49m\n\u001b[0;32m      8\u001b[0m \u001b[43m    \u001b[49m\u001b[43mepochs\u001b[49m\u001b[38;5;241;43m=\u001b[39;49m\u001b[38;5;241;43m25\u001b[39;49m\u001b[43m,\u001b[49m\n\u001b[0;32m      9\u001b[0m \u001b[43m    \u001b[49m\u001b[43mbatch_size\u001b[49m\u001b[38;5;241;43m=\u001b[39;49m\u001b[38;5;241;43m32\u001b[39;49m\u001b[43m,\u001b[49m\n\u001b[0;32m     10\u001b[0m \u001b[43m    \u001b[49m\u001b[43mpatience\u001b[49m\u001b[38;5;241;43m=\u001b[39;49m\u001b[38;5;241;43m3\u001b[39;49m\u001b[43m,\u001b[49m\n\u001b[0;32m     11\u001b[0m \u001b[43m    \u001b[49m\u001b[43mlearning_rates\u001b[49m\u001b[38;5;241;43m=\u001b[39;49m\u001b[43m(\u001b[49m\u001b[38;5;241;43m0.004\u001b[39;49m\u001b[43m,\u001b[49m\u001b[43m)\u001b[49m\u001b[43m,\u001b[49m\n\u001b[0;32m     12\u001b[0m \u001b[43m    \u001b[49m\u001b[43mdense_units\u001b[49m\u001b[43m \u001b[49m\u001b[38;5;241;43m=\u001b[39;49m\u001b[43m \u001b[49m\u001b[38;5;28;43;01mNone\u001b[39;49;00m\u001b[43m,\u001b[49m\n\u001b[0;32m     13\u001b[0m \u001b[43m    \u001b[49m\u001b[43mdense_activation\u001b[49m\u001b[38;5;241;43m=\u001b[39;49m\u001b[38;5;124;43m'\u001b[39;49m\u001b[38;5;124;43mrelu\u001b[39;49m\u001b[38;5;124;43m'\u001b[39;49m\u001b[43m,\u001b[49m\n\u001b[0;32m     14\u001b[0m \u001b[43m    \u001b[49m\u001b[43mdropout_rate\u001b[49m\u001b[38;5;241;43m=\u001b[39;49m\u001b[38;5;28;43;01mNone\u001b[39;49;00m\n\u001b[0;32m     15\u001b[0m \u001b[43m)\u001b[49m\n\u001b[0;32m     16\u001b[0m \u001b[38;5;28mprint\u001b[39m(\u001b[38;5;124m\"\u001b[39m\u001b[38;5;124mBest loss:\u001b[39m\u001b[38;5;124m\"\u001b[39m, best_loss, \u001b[38;5;124m\"\u001b[39m\u001b[38;5;124mConfig:\u001b[39m\u001b[38;5;124m\"\u001b[39m, best_cfg)\n",
      "Cell \u001b[1;32mIn[22], line 80\u001b[0m, in \u001b[0;36msearch_best_model\u001b[1;34m(model_type, X_train, y_train, X_val, y_val, window_size, layer_options, unit_options, learning_rates, learning_rate, epochs, batch_size, patience, loss, dense_units, dense_activation, dropout_rate)\u001b[0m\n\u001b[0;32m     78\u001b[0m model\u001b[38;5;241m.\u001b[39mcompile(optimizer\u001b[38;5;241m=\u001b[39mopt, loss\u001b[38;5;241m=\u001b[39mloss)\n\u001b[0;32m     79\u001b[0m es \u001b[38;5;241m=\u001b[39m EarlyStopping(monitor\u001b[38;5;241m=\u001b[39m\u001b[38;5;124m'\u001b[39m\u001b[38;5;124mval_loss\u001b[39m\u001b[38;5;124m'\u001b[39m, patience\u001b[38;5;241m=\u001b[39mpatience, restore_best_weights\u001b[38;5;241m=\u001b[39m\u001b[38;5;28;01mTrue\u001b[39;00m)\n\u001b[1;32m---> 80\u001b[0m history \u001b[38;5;241m=\u001b[39m \u001b[43mmodel\u001b[49m\u001b[38;5;241;43m.\u001b[39;49m\u001b[43mfit\u001b[49m\u001b[43m(\u001b[49m\n\u001b[0;32m     81\u001b[0m \u001b[43m    \u001b[49m\u001b[43mX_train\u001b[49m\u001b[43m,\u001b[49m\u001b[43m \u001b[49m\u001b[43my_train\u001b[49m\u001b[43m,\u001b[49m\n\u001b[0;32m     82\u001b[0m \u001b[43m    \u001b[49m\u001b[43mvalidation_data\u001b[49m\u001b[38;5;241;43m=\u001b[39;49m\u001b[43m(\u001b[49m\u001b[43mX_val\u001b[49m\u001b[43m,\u001b[49m\u001b[43m \u001b[49m\u001b[43my_val\u001b[49m\u001b[43m)\u001b[49m\u001b[43m,\u001b[49m\n\u001b[0;32m     83\u001b[0m \u001b[43m    \u001b[49m\u001b[43mepochs\u001b[49m\u001b[38;5;241;43m=\u001b[39;49m\u001b[43mepochs\u001b[49m\u001b[43m,\u001b[49m\n\u001b[0;32m     84\u001b[0m \u001b[43m    \u001b[49m\u001b[43mbatch_size\u001b[49m\u001b[38;5;241;43m=\u001b[39;49m\u001b[43mbatch_size\u001b[49m\u001b[43m,\u001b[49m\n\u001b[0;32m     85\u001b[0m \u001b[43m    \u001b[49m\u001b[43mcallbacks\u001b[49m\u001b[38;5;241;43m=\u001b[39;49m\u001b[43m[\u001b[49m\u001b[43mes\u001b[49m\u001b[43m]\u001b[49m\u001b[43m,\u001b[49m\n\u001b[0;32m     86\u001b[0m \u001b[43m    \u001b[49m\u001b[43mverbose\u001b[49m\u001b[38;5;241;43m=\u001b[39;49m\u001b[38;5;241;43m0\u001b[39;49m\n\u001b[0;32m     87\u001b[0m \u001b[43m\u001b[49m\u001b[43m)\u001b[49m\n\u001b[0;32m     88\u001b[0m val_loss \u001b[38;5;241m=\u001b[39m \u001b[38;5;28mmin\u001b[39m(history\u001b[38;5;241m.\u001b[39mhistory[\u001b[38;5;124m'\u001b[39m\u001b[38;5;124mval_loss\u001b[39m\u001b[38;5;124m'\u001b[39m])\n\u001b[0;32m     89\u001b[0m \u001b[38;5;28;01mif\u001b[39;00m val_loss \u001b[38;5;241m<\u001b[39m best_val_loss:\n",
      "File \u001b[1;32mc:\\Users\\OMER\\PycharmProjects\\Project\\.venv\\lib\\site-packages\\keras\\src\\utils\\traceback_utils.py:117\u001b[0m, in \u001b[0;36mfilter_traceback.<locals>.error_handler\u001b[1;34m(*args, **kwargs)\u001b[0m\n\u001b[0;32m    115\u001b[0m filtered_tb \u001b[38;5;241m=\u001b[39m \u001b[38;5;28;01mNone\u001b[39;00m\n\u001b[0;32m    116\u001b[0m \u001b[38;5;28;01mtry\u001b[39;00m:\n\u001b[1;32m--> 117\u001b[0m     \u001b[38;5;28;01mreturn\u001b[39;00m fn(\u001b[38;5;241m*\u001b[39margs, \u001b[38;5;241m*\u001b[39m\u001b[38;5;241m*\u001b[39mkwargs)\n\u001b[0;32m    118\u001b[0m \u001b[38;5;28;01mexcept\u001b[39;00m \u001b[38;5;167;01mException\u001b[39;00m \u001b[38;5;28;01mas\u001b[39;00m e:\n\u001b[0;32m    119\u001b[0m     filtered_tb \u001b[38;5;241m=\u001b[39m _process_traceback_frames(e\u001b[38;5;241m.\u001b[39m__traceback__)\n",
      "File \u001b[1;32mc:\\Users\\OMER\\PycharmProjects\\Project\\.venv\\lib\\site-packages\\keras\\src\\backend\\tensorflow\\trainer.py:377\u001b[0m, in \u001b[0;36mTensorFlowTrainer.fit\u001b[1;34m(self, x, y, batch_size, epochs, verbose, callbacks, validation_split, validation_data, shuffle, class_weight, sample_weight, initial_epoch, steps_per_epoch, validation_steps, validation_batch_size, validation_freq)\u001b[0m\n\u001b[0;32m    375\u001b[0m \u001b[38;5;28;01mfor\u001b[39;00m step, iterator \u001b[38;5;129;01min\u001b[39;00m epoch_iterator:\n\u001b[0;32m    376\u001b[0m     callbacks\u001b[38;5;241m.\u001b[39mon_train_batch_begin(step)\n\u001b[1;32m--> 377\u001b[0m     logs \u001b[38;5;241m=\u001b[39m \u001b[38;5;28;43mself\u001b[39;49m\u001b[38;5;241;43m.\u001b[39;49m\u001b[43mtrain_function\u001b[49m\u001b[43m(\u001b[49m\u001b[43miterator\u001b[49m\u001b[43m)\u001b[49m\n\u001b[0;32m    378\u001b[0m     callbacks\u001b[38;5;241m.\u001b[39mon_train_batch_end(step, logs)\n\u001b[0;32m    379\u001b[0m     \u001b[38;5;28;01mif\u001b[39;00m \u001b[38;5;28mself\u001b[39m\u001b[38;5;241m.\u001b[39mstop_training:\n",
      "File \u001b[1;32mc:\\Users\\OMER\\PycharmProjects\\Project\\.venv\\lib\\site-packages\\keras\\src\\backend\\tensorflow\\trainer.py:220\u001b[0m, in \u001b[0;36mTensorFlowTrainer._make_function.<locals>.function\u001b[1;34m(iterator)\u001b[0m\n\u001b[0;32m    216\u001b[0m \u001b[38;5;28;01mdef\u001b[39;00m\u001b[38;5;250m \u001b[39m\u001b[38;5;21mfunction\u001b[39m(iterator):\n\u001b[0;32m    217\u001b[0m     \u001b[38;5;28;01mif\u001b[39;00m \u001b[38;5;28misinstance\u001b[39m(\n\u001b[0;32m    218\u001b[0m         iterator, (tf\u001b[38;5;241m.\u001b[39mdata\u001b[38;5;241m.\u001b[39mIterator, tf\u001b[38;5;241m.\u001b[39mdistribute\u001b[38;5;241m.\u001b[39mDistributedIterator)\n\u001b[0;32m    219\u001b[0m     ):\n\u001b[1;32m--> 220\u001b[0m         opt_outputs \u001b[38;5;241m=\u001b[39m \u001b[43mmulti_step_on_iterator\u001b[49m\u001b[43m(\u001b[49m\u001b[43miterator\u001b[49m\u001b[43m)\u001b[49m\n\u001b[0;32m    221\u001b[0m         \u001b[38;5;28;01mif\u001b[39;00m \u001b[38;5;129;01mnot\u001b[39;00m opt_outputs\u001b[38;5;241m.\u001b[39mhas_value():\n\u001b[0;32m    222\u001b[0m             \u001b[38;5;28;01mraise\u001b[39;00m \u001b[38;5;167;01mStopIteration\u001b[39;00m\n",
      "File \u001b[1;32mc:\\Users\\OMER\\PycharmProjects\\Project\\.venv\\lib\\site-packages\\tensorflow\\python\\util\\traceback_utils.py:150\u001b[0m, in \u001b[0;36mfilter_traceback.<locals>.error_handler\u001b[1;34m(*args, **kwargs)\u001b[0m\n\u001b[0;32m    148\u001b[0m filtered_tb \u001b[38;5;241m=\u001b[39m \u001b[38;5;28;01mNone\u001b[39;00m\n\u001b[0;32m    149\u001b[0m \u001b[38;5;28;01mtry\u001b[39;00m:\n\u001b[1;32m--> 150\u001b[0m   \u001b[38;5;28;01mreturn\u001b[39;00m fn(\u001b[38;5;241m*\u001b[39margs, \u001b[38;5;241m*\u001b[39m\u001b[38;5;241m*\u001b[39mkwargs)\n\u001b[0;32m    151\u001b[0m \u001b[38;5;28;01mexcept\u001b[39;00m \u001b[38;5;167;01mException\u001b[39;00m \u001b[38;5;28;01mas\u001b[39;00m e:\n\u001b[0;32m    152\u001b[0m   filtered_tb \u001b[38;5;241m=\u001b[39m _process_traceback_frames(e\u001b[38;5;241m.\u001b[39m__traceback__)\n",
      "File \u001b[1;32mc:\\Users\\OMER\\PycharmProjects\\Project\\.venv\\lib\\site-packages\\tensorflow\\python\\eager\\polymorphic_function\\polymorphic_function.py:833\u001b[0m, in \u001b[0;36mFunction.__call__\u001b[1;34m(self, *args, **kwds)\u001b[0m\n\u001b[0;32m    830\u001b[0m compiler \u001b[38;5;241m=\u001b[39m \u001b[38;5;124m\"\u001b[39m\u001b[38;5;124mxla\u001b[39m\u001b[38;5;124m\"\u001b[39m \u001b[38;5;28;01mif\u001b[39;00m \u001b[38;5;28mself\u001b[39m\u001b[38;5;241m.\u001b[39m_jit_compile \u001b[38;5;28;01melse\u001b[39;00m \u001b[38;5;124m\"\u001b[39m\u001b[38;5;124mnonXla\u001b[39m\u001b[38;5;124m\"\u001b[39m\n\u001b[0;32m    832\u001b[0m \u001b[38;5;28;01mwith\u001b[39;00m OptionalXlaContext(\u001b[38;5;28mself\u001b[39m\u001b[38;5;241m.\u001b[39m_jit_compile):\n\u001b[1;32m--> 833\u001b[0m   result \u001b[38;5;241m=\u001b[39m \u001b[38;5;28mself\u001b[39m\u001b[38;5;241m.\u001b[39m_call(\u001b[38;5;241m*\u001b[39margs, \u001b[38;5;241m*\u001b[39m\u001b[38;5;241m*\u001b[39mkwds)\n\u001b[0;32m    835\u001b[0m new_tracing_count \u001b[38;5;241m=\u001b[39m \u001b[38;5;28mself\u001b[39m\u001b[38;5;241m.\u001b[39mexperimental_get_tracing_count()\n\u001b[0;32m    836\u001b[0m without_tracing \u001b[38;5;241m=\u001b[39m (tracing_count \u001b[38;5;241m==\u001b[39m new_tracing_count)\n",
      "File \u001b[1;32mc:\\Users\\OMER\\PycharmProjects\\Project\\.venv\\lib\\site-packages\\tensorflow\\python\\eager\\polymorphic_function\\polymorphic_function.py:878\u001b[0m, in \u001b[0;36mFunction._call\u001b[1;34m(self, *args, **kwds)\u001b[0m\n\u001b[0;32m    875\u001b[0m \u001b[38;5;28mself\u001b[39m\u001b[38;5;241m.\u001b[39m_lock\u001b[38;5;241m.\u001b[39mrelease()\n\u001b[0;32m    876\u001b[0m \u001b[38;5;66;03m# In this case we have not created variables on the first call. So we can\u001b[39;00m\n\u001b[0;32m    877\u001b[0m \u001b[38;5;66;03m# run the first trace but we should fail if variables are created.\u001b[39;00m\n\u001b[1;32m--> 878\u001b[0m results \u001b[38;5;241m=\u001b[39m \u001b[43mtracing_compilation\u001b[49m\u001b[38;5;241;43m.\u001b[39;49m\u001b[43mcall_function\u001b[49m\u001b[43m(\u001b[49m\n\u001b[0;32m    879\u001b[0m \u001b[43m    \u001b[49m\u001b[43margs\u001b[49m\u001b[43m,\u001b[49m\u001b[43m \u001b[49m\u001b[43mkwds\u001b[49m\u001b[43m,\u001b[49m\u001b[43m \u001b[49m\u001b[38;5;28;43mself\u001b[39;49m\u001b[38;5;241;43m.\u001b[39;49m\u001b[43m_variable_creation_config\u001b[49m\n\u001b[0;32m    880\u001b[0m \u001b[43m\u001b[49m\u001b[43m)\u001b[49m\n\u001b[0;32m    881\u001b[0m \u001b[38;5;28;01mif\u001b[39;00m \u001b[38;5;28mself\u001b[39m\u001b[38;5;241m.\u001b[39m_created_variables:\n\u001b[0;32m    882\u001b[0m   \u001b[38;5;28;01mraise\u001b[39;00m \u001b[38;5;167;01mValueError\u001b[39;00m(\u001b[38;5;124m\"\u001b[39m\u001b[38;5;124mCreating variables on a non-first call to a function\u001b[39m\u001b[38;5;124m\"\u001b[39m\n\u001b[0;32m    883\u001b[0m                    \u001b[38;5;124m\"\u001b[39m\u001b[38;5;124m decorated with tf.function.\u001b[39m\u001b[38;5;124m\"\u001b[39m)\n",
      "File \u001b[1;32mc:\\Users\\OMER\\PycharmProjects\\Project\\.venv\\lib\\site-packages\\tensorflow\\python\\eager\\polymorphic_function\\tracing_compilation.py:139\u001b[0m, in \u001b[0;36mcall_function\u001b[1;34m(args, kwargs, tracing_options)\u001b[0m\n\u001b[0;32m    137\u001b[0m bound_args \u001b[38;5;241m=\u001b[39m function\u001b[38;5;241m.\u001b[39mfunction_type\u001b[38;5;241m.\u001b[39mbind(\u001b[38;5;241m*\u001b[39margs, \u001b[38;5;241m*\u001b[39m\u001b[38;5;241m*\u001b[39mkwargs)\n\u001b[0;32m    138\u001b[0m flat_inputs \u001b[38;5;241m=\u001b[39m function\u001b[38;5;241m.\u001b[39mfunction_type\u001b[38;5;241m.\u001b[39munpack_inputs(bound_args)\n\u001b[1;32m--> 139\u001b[0m \u001b[38;5;28;01mreturn\u001b[39;00m \u001b[43mfunction\u001b[49m\u001b[38;5;241;43m.\u001b[39;49m\u001b[43m_call_flat\u001b[49m\u001b[43m(\u001b[49m\u001b[43m  \u001b[49m\u001b[38;5;66;43;03m# pylint: disable=protected-access\u001b[39;49;00m\n\u001b[0;32m    140\u001b[0m \u001b[43m    \u001b[49m\u001b[43mflat_inputs\u001b[49m\u001b[43m,\u001b[49m\u001b[43m \u001b[49m\u001b[43mcaptured_inputs\u001b[49m\u001b[38;5;241;43m=\u001b[39;49m\u001b[43mfunction\u001b[49m\u001b[38;5;241;43m.\u001b[39;49m\u001b[43mcaptured_inputs\u001b[49m\n\u001b[0;32m    141\u001b[0m \u001b[43m\u001b[49m\u001b[43m)\u001b[49m\n",
      "File \u001b[1;32mc:\\Users\\OMER\\PycharmProjects\\Project\\.venv\\lib\\site-packages\\tensorflow\\python\\eager\\polymorphic_function\\concrete_function.py:1322\u001b[0m, in \u001b[0;36mConcreteFunction._call_flat\u001b[1;34m(self, tensor_inputs, captured_inputs)\u001b[0m\n\u001b[0;32m   1318\u001b[0m possible_gradient_type \u001b[38;5;241m=\u001b[39m gradients_util\u001b[38;5;241m.\u001b[39mPossibleTapeGradientTypes(args)\n\u001b[0;32m   1319\u001b[0m \u001b[38;5;28;01mif\u001b[39;00m (possible_gradient_type \u001b[38;5;241m==\u001b[39m gradients_util\u001b[38;5;241m.\u001b[39mPOSSIBLE_GRADIENT_TYPES_NONE\n\u001b[0;32m   1320\u001b[0m     \u001b[38;5;129;01mand\u001b[39;00m executing_eagerly):\n\u001b[0;32m   1321\u001b[0m   \u001b[38;5;66;03m# No tape is watching; skip to running the function.\u001b[39;00m\n\u001b[1;32m-> 1322\u001b[0m   \u001b[38;5;28;01mreturn\u001b[39;00m \u001b[38;5;28;43mself\u001b[39;49m\u001b[38;5;241;43m.\u001b[39;49m\u001b[43m_inference_function\u001b[49m\u001b[38;5;241;43m.\u001b[39;49m\u001b[43mcall_preflattened\u001b[49m\u001b[43m(\u001b[49m\u001b[43margs\u001b[49m\u001b[43m)\u001b[49m\n\u001b[0;32m   1323\u001b[0m forward_backward \u001b[38;5;241m=\u001b[39m \u001b[38;5;28mself\u001b[39m\u001b[38;5;241m.\u001b[39m_select_forward_and_backward_functions(\n\u001b[0;32m   1324\u001b[0m     args,\n\u001b[0;32m   1325\u001b[0m     possible_gradient_type,\n\u001b[0;32m   1326\u001b[0m     executing_eagerly)\n\u001b[0;32m   1327\u001b[0m forward_function, args_with_tangents \u001b[38;5;241m=\u001b[39m forward_backward\u001b[38;5;241m.\u001b[39mforward()\n",
      "File \u001b[1;32mc:\\Users\\OMER\\PycharmProjects\\Project\\.venv\\lib\\site-packages\\tensorflow\\python\\eager\\polymorphic_function\\atomic_function.py:216\u001b[0m, in \u001b[0;36mAtomicFunction.call_preflattened\u001b[1;34m(self, args)\u001b[0m\n\u001b[0;32m    214\u001b[0m \u001b[38;5;28;01mdef\u001b[39;00m\u001b[38;5;250m \u001b[39m\u001b[38;5;21mcall_preflattened\u001b[39m(\u001b[38;5;28mself\u001b[39m, args: Sequence[core\u001b[38;5;241m.\u001b[39mTensor]) \u001b[38;5;241m-\u001b[39m\u001b[38;5;241m>\u001b[39m Any:\n\u001b[0;32m    215\u001b[0m \u001b[38;5;250m  \u001b[39m\u001b[38;5;124;03m\"\"\"Calls with flattened tensor inputs and returns the structured output.\"\"\"\u001b[39;00m\n\u001b[1;32m--> 216\u001b[0m   flat_outputs \u001b[38;5;241m=\u001b[39m \u001b[38;5;28;43mself\u001b[39;49m\u001b[38;5;241;43m.\u001b[39;49m\u001b[43mcall_flat\u001b[49m\u001b[43m(\u001b[49m\u001b[38;5;241;43m*\u001b[39;49m\u001b[43margs\u001b[49m\u001b[43m)\u001b[49m\n\u001b[0;32m    217\u001b[0m   \u001b[38;5;28;01mreturn\u001b[39;00m \u001b[38;5;28mself\u001b[39m\u001b[38;5;241m.\u001b[39mfunction_type\u001b[38;5;241m.\u001b[39mpack_output(flat_outputs)\n",
      "File \u001b[1;32mc:\\Users\\OMER\\PycharmProjects\\Project\\.venv\\lib\\site-packages\\tensorflow\\python\\eager\\polymorphic_function\\atomic_function.py:251\u001b[0m, in \u001b[0;36mAtomicFunction.call_flat\u001b[1;34m(self, *args)\u001b[0m\n\u001b[0;32m    249\u001b[0m \u001b[38;5;28;01mwith\u001b[39;00m record\u001b[38;5;241m.\u001b[39mstop_recording():\n\u001b[0;32m    250\u001b[0m   \u001b[38;5;28;01mif\u001b[39;00m \u001b[38;5;28mself\u001b[39m\u001b[38;5;241m.\u001b[39m_bound_context\u001b[38;5;241m.\u001b[39mexecuting_eagerly():\n\u001b[1;32m--> 251\u001b[0m     outputs \u001b[38;5;241m=\u001b[39m \u001b[38;5;28;43mself\u001b[39;49m\u001b[38;5;241;43m.\u001b[39;49m\u001b[43m_bound_context\u001b[49m\u001b[38;5;241;43m.\u001b[39;49m\u001b[43mcall_function\u001b[49m\u001b[43m(\u001b[49m\n\u001b[0;32m    252\u001b[0m \u001b[43m        \u001b[49m\u001b[38;5;28;43mself\u001b[39;49m\u001b[38;5;241;43m.\u001b[39;49m\u001b[43mname\u001b[49m\u001b[43m,\u001b[49m\n\u001b[0;32m    253\u001b[0m \u001b[43m        \u001b[49m\u001b[38;5;28;43mlist\u001b[39;49m\u001b[43m(\u001b[49m\u001b[43margs\u001b[49m\u001b[43m)\u001b[49m\u001b[43m,\u001b[49m\n\u001b[0;32m    254\u001b[0m \u001b[43m        \u001b[49m\u001b[38;5;28;43mlen\u001b[39;49m\u001b[43m(\u001b[49m\u001b[38;5;28;43mself\u001b[39;49m\u001b[38;5;241;43m.\u001b[39;49m\u001b[43mfunction_type\u001b[49m\u001b[38;5;241;43m.\u001b[39;49m\u001b[43mflat_outputs\u001b[49m\u001b[43m)\u001b[49m\u001b[43m,\u001b[49m\n\u001b[0;32m    255\u001b[0m \u001b[43m    \u001b[49m\u001b[43m)\u001b[49m\n\u001b[0;32m    256\u001b[0m   \u001b[38;5;28;01melse\u001b[39;00m:\n\u001b[0;32m    257\u001b[0m     outputs \u001b[38;5;241m=\u001b[39m make_call_op_in_graph(\n\u001b[0;32m    258\u001b[0m         \u001b[38;5;28mself\u001b[39m,\n\u001b[0;32m    259\u001b[0m         \u001b[38;5;28mlist\u001b[39m(args),\n\u001b[0;32m    260\u001b[0m         \u001b[38;5;28mself\u001b[39m\u001b[38;5;241m.\u001b[39m_bound_context\u001b[38;5;241m.\u001b[39mfunction_call_options\u001b[38;5;241m.\u001b[39mas_attrs(),\n\u001b[0;32m    261\u001b[0m     )\n",
      "File \u001b[1;32mc:\\Users\\OMER\\PycharmProjects\\Project\\.venv\\lib\\site-packages\\tensorflow\\python\\eager\\context.py:1688\u001b[0m, in \u001b[0;36mContext.call_function\u001b[1;34m(self, name, tensor_inputs, num_outputs)\u001b[0m\n\u001b[0;32m   1686\u001b[0m cancellation_context \u001b[38;5;241m=\u001b[39m cancellation\u001b[38;5;241m.\u001b[39mcontext()\n\u001b[0;32m   1687\u001b[0m \u001b[38;5;28;01mif\u001b[39;00m cancellation_context \u001b[38;5;129;01mis\u001b[39;00m \u001b[38;5;28;01mNone\u001b[39;00m:\n\u001b[1;32m-> 1688\u001b[0m   outputs \u001b[38;5;241m=\u001b[39m \u001b[43mexecute\u001b[49m\u001b[38;5;241;43m.\u001b[39;49m\u001b[43mexecute\u001b[49m\u001b[43m(\u001b[49m\n\u001b[0;32m   1689\u001b[0m \u001b[43m      \u001b[49m\u001b[43mname\u001b[49m\u001b[38;5;241;43m.\u001b[39;49m\u001b[43mdecode\u001b[49m\u001b[43m(\u001b[49m\u001b[38;5;124;43m\"\u001b[39;49m\u001b[38;5;124;43mutf-8\u001b[39;49m\u001b[38;5;124;43m\"\u001b[39;49m\u001b[43m)\u001b[49m\u001b[43m,\u001b[49m\n\u001b[0;32m   1690\u001b[0m \u001b[43m      \u001b[49m\u001b[43mnum_outputs\u001b[49m\u001b[38;5;241;43m=\u001b[39;49m\u001b[43mnum_outputs\u001b[49m\u001b[43m,\u001b[49m\n\u001b[0;32m   1691\u001b[0m \u001b[43m      \u001b[49m\u001b[43minputs\u001b[49m\u001b[38;5;241;43m=\u001b[39;49m\u001b[43mtensor_inputs\u001b[49m\u001b[43m,\u001b[49m\n\u001b[0;32m   1692\u001b[0m \u001b[43m      \u001b[49m\u001b[43mattrs\u001b[49m\u001b[38;5;241;43m=\u001b[39;49m\u001b[43mattrs\u001b[49m\u001b[43m,\u001b[49m\n\u001b[0;32m   1693\u001b[0m \u001b[43m      \u001b[49m\u001b[43mctx\u001b[49m\u001b[38;5;241;43m=\u001b[39;49m\u001b[38;5;28;43mself\u001b[39;49m\u001b[43m,\u001b[49m\n\u001b[0;32m   1694\u001b[0m \u001b[43m  \u001b[49m\u001b[43m)\u001b[49m\n\u001b[0;32m   1695\u001b[0m \u001b[38;5;28;01melse\u001b[39;00m:\n\u001b[0;32m   1696\u001b[0m   outputs \u001b[38;5;241m=\u001b[39m execute\u001b[38;5;241m.\u001b[39mexecute_with_cancellation(\n\u001b[0;32m   1697\u001b[0m       name\u001b[38;5;241m.\u001b[39mdecode(\u001b[38;5;124m\"\u001b[39m\u001b[38;5;124mutf-8\u001b[39m\u001b[38;5;124m\"\u001b[39m),\n\u001b[0;32m   1698\u001b[0m       num_outputs\u001b[38;5;241m=\u001b[39mnum_outputs,\n\u001b[1;32m   (...)\u001b[0m\n\u001b[0;32m   1702\u001b[0m       cancellation_manager\u001b[38;5;241m=\u001b[39mcancellation_context,\n\u001b[0;32m   1703\u001b[0m   )\n",
      "File \u001b[1;32mc:\\Users\\OMER\\PycharmProjects\\Project\\.venv\\lib\\site-packages\\tensorflow\\python\\eager\\execute.py:53\u001b[0m, in \u001b[0;36mquick_execute\u001b[1;34m(op_name, num_outputs, inputs, attrs, ctx, name)\u001b[0m\n\u001b[0;32m     51\u001b[0m \u001b[38;5;28;01mtry\u001b[39;00m:\n\u001b[0;32m     52\u001b[0m   ctx\u001b[38;5;241m.\u001b[39mensure_initialized()\n\u001b[1;32m---> 53\u001b[0m   tensors \u001b[38;5;241m=\u001b[39m \u001b[43mpywrap_tfe\u001b[49m\u001b[38;5;241;43m.\u001b[39;49m\u001b[43mTFE_Py_Execute\u001b[49m\u001b[43m(\u001b[49m\u001b[43mctx\u001b[49m\u001b[38;5;241;43m.\u001b[39;49m\u001b[43m_handle\u001b[49m\u001b[43m,\u001b[49m\u001b[43m \u001b[49m\u001b[43mdevice_name\u001b[49m\u001b[43m,\u001b[49m\u001b[43m \u001b[49m\u001b[43mop_name\u001b[49m\u001b[43m,\u001b[49m\n\u001b[0;32m     54\u001b[0m \u001b[43m                                      \u001b[49m\u001b[43minputs\u001b[49m\u001b[43m,\u001b[49m\u001b[43m \u001b[49m\u001b[43mattrs\u001b[49m\u001b[43m,\u001b[49m\u001b[43m \u001b[49m\u001b[43mnum_outputs\u001b[49m\u001b[43m)\u001b[49m\n\u001b[0;32m     55\u001b[0m \u001b[38;5;28;01mexcept\u001b[39;00m core\u001b[38;5;241m.\u001b[39m_NotOkStatusException \u001b[38;5;28;01mas\u001b[39;00m e:\n\u001b[0;32m     56\u001b[0m   \u001b[38;5;28;01mif\u001b[39;00m name \u001b[38;5;129;01mis\u001b[39;00m \u001b[38;5;129;01mnot\u001b[39;00m \u001b[38;5;28;01mNone\u001b[39;00m:\n",
      "\u001b[1;31mKeyboardInterrupt\u001b[0m: "
     ]
    }
   ],
   "source": [
    "best_model, best_loss, best_cfg = search_best_model(\n",
    "    model_type=\"LSTM\",                # or \"LSTM\"\n",
    "    X_train=X_train, y_train=y_train,\n",
    "    X_val=X_test,  y_val=y_test,\n",
    "    window_size=window_size, # None since we reshape to (samples, 1, features)\n",
    "    layer_options=[1,2,3],\n",
    "    unit_options=[32,64,92],\n",
    "    epochs=25,\n",
    "    batch_size=32,\n",
    "    patience=3,\n",
    "    learning_rates=(0.004,),\n",
    "    dense_units = None,\n",
    "    dense_activation='relu',\n",
    "    dropout_rate=None\n",
    ")\n",
    "print(\"Best loss:\", best_loss, \"Config:\", best_cfg)"
   ]
  },
  {
   "cell_type": "code",
   "execution_count": 137,
   "id": "586c1727",
   "metadata": {},
   "outputs": [
    {
     "name": "stdout",
     "output_type": "stream",
     "text": [
      "Epoch 1/30\n",
      "\u001b[1m46/46\u001b[0m \u001b[32m━━━━━━━━━━━━━━━━━━━━\u001b[0m\u001b[37m\u001b[0m \u001b[1m0s\u001b[0m 11ms/step - loss: 0.0270\n",
      "Epoch 1: val_loss improved from inf to 0.00099, saving model to best_lstm_with_feat.h5\n"
     ]
    },
    {
     "name": "stderr",
     "output_type": "stream",
     "text": [
      "WARNING:absl:You are saving your model as an HDF5 file via `model.save()` or `keras.saving.save_model(model)`. This file format is considered legacy. We recommend using instead the native Keras format, e.g. `model.save('my_model.keras')` or `keras.saving.save_model(model, 'my_model.keras')`. \n"
     ]
    },
    {
     "name": "stdout",
     "output_type": "stream",
     "text": [
      "\u001b[1m46/46\u001b[0m \u001b[32m━━━━━━━━━━━━━━━━━━━━\u001b[0m\u001b[37m\u001b[0m \u001b[1m1s\u001b[0m 16ms/step - loss: 0.0267 - val_loss: 9.8557e-04\n",
      "Epoch 2/30\n",
      "\u001b[1m46/46\u001b[0m \u001b[32m━━━━━━━━━━━━━━━━━━━━\u001b[0m\u001b[37m\u001b[0m \u001b[1m0s\u001b[0m 11ms/step - loss: 4.6461e-04\n",
      "Epoch 2: val_loss improved from 0.00099 to 0.00013, saving model to best_lstm_with_feat.h5\n"
     ]
    },
    {
     "name": "stderr",
     "output_type": "stream",
     "text": [
      "WARNING:absl:You are saving your model as an HDF5 file via `model.save()` or `keras.saving.save_model(model)`. This file format is considered legacy. We recommend using instead the native Keras format, e.g. `model.save('my_model.keras')` or `keras.saving.save_model(model, 'my_model.keras')`. \n"
     ]
    },
    {
     "name": "stdout",
     "output_type": "stream",
     "text": [
      "\u001b[1m46/46\u001b[0m \u001b[32m━━━━━━━━━━━━━━━━━━━━\u001b[0m\u001b[37m\u001b[0m \u001b[1m1s\u001b[0m 13ms/step - loss: 4.6257e-04 - val_loss: 1.3489e-04\n",
      "Epoch 3/30\n",
      "\u001b[1m46/46\u001b[0m \u001b[32m━━━━━━━━━━━━━━━━━━━━\u001b[0m\u001b[37m\u001b[0m \u001b[1m0s\u001b[0m 11ms/step - loss: 2.6193e-04\n",
      "Epoch 3: val_loss improved from 0.00013 to 0.00013, saving model to best_lstm_with_feat.h5\n"
     ]
    },
    {
     "name": "stderr",
     "output_type": "stream",
     "text": [
      "WARNING:absl:You are saving your model as an HDF5 file via `model.save()` or `keras.saving.save_model(model)`. This file format is considered legacy. We recommend using instead the native Keras format, e.g. `model.save('my_model.keras')` or `keras.saving.save_model(model, 'my_model.keras')`. \n"
     ]
    },
    {
     "name": "stdout",
     "output_type": "stream",
     "text": [
      "\u001b[1m46/46\u001b[0m \u001b[32m━━━━━━━━━━━━━━━━━━━━\u001b[0m\u001b[37m\u001b[0m \u001b[1m1s\u001b[0m 13ms/step - loss: 2.6192e-04 - val_loss: 1.3397e-04\n",
      "Epoch 4/30\n",
      "\u001b[1m41/46\u001b[0m \u001b[32m━━━━━━━━━━━━━━━━━\u001b[0m\u001b[37m━━━\u001b[0m \u001b[1m0s\u001b[0m 11ms/step - loss: 2.3482e-04\n",
      "Epoch 4: val_loss did not improve from 0.00013\n",
      "\u001b[1m46/46\u001b[0m \u001b[32m━━━━━━━━━━━━━━━━━━━━\u001b[0m\u001b[37m\u001b[0m \u001b[1m1s\u001b[0m 12ms/step - loss: 2.3562e-04 - val_loss: 1.4263e-04\n",
      "Epoch 5/30\n",
      "\u001b[1m46/46\u001b[0m \u001b[32m━━━━━━━━━━━━━━━━━━━━\u001b[0m\u001b[37m\u001b[0m \u001b[1m0s\u001b[0m 11ms/step - loss: 1.9847e-04\n",
      "Epoch 5: val_loss did not improve from 0.00013\n",
      "\u001b[1m46/46\u001b[0m \u001b[32m━━━━━━━━━━━━━━━━━━━━\u001b[0m\u001b[37m\u001b[0m \u001b[1m1s\u001b[0m 13ms/step - loss: 1.9894e-04 - val_loss: 1.5612e-04\n",
      "Epoch 6/30\n",
      "\u001b[1m41/46\u001b[0m \u001b[32m━━━━━━━━━━━━━━━━━\u001b[0m\u001b[37m━━━\u001b[0m \u001b[1m0s\u001b[0m 11ms/step - loss: 2.5098e-04\n",
      "Epoch 6: val_loss improved from 0.00013 to 0.00013, saving model to best_lstm_with_feat.h5\n"
     ]
    },
    {
     "name": "stderr",
     "output_type": "stream",
     "text": [
      "WARNING:absl:You are saving your model as an HDF5 file via `model.save()` or `keras.saving.save_model(model)`. This file format is considered legacy. We recommend using instead the native Keras format, e.g. `model.save('my_model.keras')` or `keras.saving.save_model(model, 'my_model.keras')`. \n"
     ]
    },
    {
     "name": "stdout",
     "output_type": "stream",
     "text": [
      "\u001b[1m46/46\u001b[0m \u001b[32m━━━━━━━━━━━━━━━━━━━━\u001b[0m\u001b[37m\u001b[0m \u001b[1m1s\u001b[0m 13ms/step - loss: 2.4878e-04 - val_loss: 1.3010e-04\n",
      "Epoch 7/30\n",
      "\u001b[1m44/46\u001b[0m \u001b[32m━━━━━━━━━━━━━━━━━━━\u001b[0m\u001b[37m━\u001b[0m \u001b[1m0s\u001b[0m 11ms/step - loss: 1.8726e-04\n",
      "Epoch 7: val_loss improved from 0.00013 to 0.00012, saving model to best_lstm_with_feat.h5\n"
     ]
    },
    {
     "name": "stderr",
     "output_type": "stream",
     "text": [
      "WARNING:absl:You are saving your model as an HDF5 file via `model.save()` or `keras.saving.save_model(model)`. This file format is considered legacy. We recommend using instead the native Keras format, e.g. `model.save('my_model.keras')` or `keras.saving.save_model(model, 'my_model.keras')`. \n"
     ]
    },
    {
     "name": "stdout",
     "output_type": "stream",
     "text": [
      "\u001b[1m46/46\u001b[0m \u001b[32m━━━━━━━━━━━━━━━━━━━━\u001b[0m\u001b[37m\u001b[0m \u001b[1m1s\u001b[0m 14ms/step - loss: 1.8781e-04 - val_loss: 1.2038e-04\n",
      "Epoch 8/30\n",
      "\u001b[1m41/46\u001b[0m \u001b[32m━━━━━━━━━━━━━━━━━\u001b[0m\u001b[37m━━━\u001b[0m \u001b[1m0s\u001b[0m 11ms/step - loss: 2.0988e-04\n",
      "Epoch 8: val_loss did not improve from 0.00012\n",
      "\u001b[1m46/46\u001b[0m \u001b[32m━━━━━━━━━━━━━━━━━━━━\u001b[0m\u001b[37m\u001b[0m \u001b[1m1s\u001b[0m 12ms/step - loss: 2.0969e-04 - val_loss: 2.0900e-04\n",
      "Epoch 9/30\n",
      "\u001b[1m46/46\u001b[0m \u001b[32m━━━━━━━━━━━━━━━━━━━━\u001b[0m\u001b[37m\u001b[0m \u001b[1m0s\u001b[0m 11ms/step - loss: 3.0279e-04\n",
      "Epoch 9: val_loss did not improve from 0.00012\n",
      "\u001b[1m46/46\u001b[0m \u001b[32m━━━━━━━━━━━━━━━━━━━━\u001b[0m\u001b[37m\u001b[0m \u001b[1m1s\u001b[0m 12ms/step - loss: 3.0155e-04 - val_loss: 1.2847e-04\n",
      "Epoch 10/30\n",
      "\u001b[1m46/46\u001b[0m \u001b[32m━━━━━━━━━━━━━━━━━━━━\u001b[0m\u001b[37m\u001b[0m \u001b[1m0s\u001b[0m 11ms/step - loss: 2.0394e-04\n",
      "Epoch 10: val_loss did not improve from 0.00012\n",
      "\u001b[1m46/46\u001b[0m \u001b[32m━━━━━━━━━━━━━━━━━━━━\u001b[0m\u001b[37m\u001b[0m \u001b[1m1s\u001b[0m 13ms/step - loss: 2.0380e-04 - val_loss: 1.2567e-04\n",
      "Epoch 11/30\n",
      "\u001b[1m41/46\u001b[0m \u001b[32m━━━━━━━━━━━━━━━━━\u001b[0m\u001b[37m━━━\u001b[0m \u001b[1m0s\u001b[0m 11ms/step - loss: 1.7173e-04\n",
      "Epoch 11: val_loss did not improve from 0.00012\n",
      "\u001b[1m46/46\u001b[0m \u001b[32m━━━━━━━━━━━━━━━━━━━━\u001b[0m\u001b[37m\u001b[0m \u001b[1m1s\u001b[0m 12ms/step - loss: 1.7230e-04 - val_loss: 2.4532e-04\n",
      "Epoch 12/30\n",
      "\u001b[1m44/46\u001b[0m \u001b[32m━━━━━━━━━━━━━━━━━━━\u001b[0m\u001b[37m━\u001b[0m \u001b[1m0s\u001b[0m 11ms/step - loss: 2.0080e-04\n",
      "Epoch 12: val_loss improved from 0.00012 to 0.00011, saving model to best_lstm_with_feat.h5\n"
     ]
    },
    {
     "name": "stderr",
     "output_type": "stream",
     "text": [
      "WARNING:absl:You are saving your model as an HDF5 file via `model.save()` or `keras.saving.save_model(model)`. This file format is considered legacy. We recommend using instead the native Keras format, e.g. `model.save('my_model.keras')` or `keras.saving.save_model(model, 'my_model.keras')`. \n"
     ]
    },
    {
     "name": "stdout",
     "output_type": "stream",
     "text": [
      "\u001b[1m46/46\u001b[0m \u001b[32m━━━━━━━━━━━━━━━━━━━━\u001b[0m\u001b[37m\u001b[0m \u001b[1m1s\u001b[0m 13ms/step - loss: 1.9961e-04 - val_loss: 1.1091e-04\n",
      "Epoch 13/30\n",
      "\u001b[1m46/46\u001b[0m \u001b[32m━━━━━━━━━━━━━━━━━━━━\u001b[0m\u001b[37m\u001b[0m \u001b[1m0s\u001b[0m 11ms/step - loss: 1.7757e-04\n",
      "Epoch 13: val_loss did not improve from 0.00011\n",
      "\u001b[1m46/46\u001b[0m \u001b[32m━━━━━━━━━━━━━━━━━━━━\u001b[0m\u001b[37m\u001b[0m \u001b[1m1s\u001b[0m 12ms/step - loss: 1.7744e-04 - val_loss: 1.4451e-04\n",
      "Epoch 14/30\n",
      "\u001b[1m45/46\u001b[0m \u001b[32m━━━━━━━━━━━━━━━━━━━\u001b[0m\u001b[37m━\u001b[0m \u001b[1m0s\u001b[0m 11ms/step - loss: 1.5874e-04\n",
      "Epoch 14: val_loss did not improve from 0.00011\n",
      "\u001b[1m46/46\u001b[0m \u001b[32m━━━━━━━━━━━━━━━━━━━━\u001b[0m\u001b[37m\u001b[0m \u001b[1m1s\u001b[0m 13ms/step - loss: 1.5894e-04 - val_loss: 1.4262e-04\n",
      "Epoch 15/30\n",
      "\u001b[1m41/46\u001b[0m \u001b[32m━━━━━━━━━━━━━━━━━\u001b[0m\u001b[37m━━━\u001b[0m \u001b[1m0s\u001b[0m 11ms/step - loss: 1.4392e-04\n",
      "Epoch 15: val_loss did not improve from 0.00011\n",
      "\u001b[1m46/46\u001b[0m \u001b[32m━━━━━━━━━━━━━━━━━━━━\u001b[0m\u001b[37m\u001b[0m \u001b[1m1s\u001b[0m 12ms/step - loss: 1.4601e-04 - val_loss: 2.0236e-04\n",
      "Epoch 16/30\n",
      "\u001b[1m41/46\u001b[0m \u001b[32m━━━━━━━━━━━━━━━━━\u001b[0m\u001b[37m━━━\u001b[0m \u001b[1m0s\u001b[0m 11ms/step - loss: 1.8911e-04\n",
      "Epoch 16: val_loss improved from 0.00011 to 0.00011, saving model to best_lstm_with_feat.h5\n"
     ]
    },
    {
     "name": "stderr",
     "output_type": "stream",
     "text": [
      "WARNING:absl:You are saving your model as an HDF5 file via `model.save()` or `keras.saving.save_model(model)`. This file format is considered legacy. We recommend using instead the native Keras format, e.g. `model.save('my_model.keras')` or `keras.saving.save_model(model, 'my_model.keras')`. \n"
     ]
    },
    {
     "name": "stdout",
     "output_type": "stream",
     "text": [
      "\u001b[1m46/46\u001b[0m \u001b[32m━━━━━━━━━━━━━━━━━━━━\u001b[0m\u001b[37m\u001b[0m \u001b[1m1s\u001b[0m 13ms/step - loss: 1.8723e-04 - val_loss: 1.0831e-04\n",
      "Epoch 17/30\n",
      "\u001b[1m46/46\u001b[0m \u001b[32m━━━━━━━━━━━━━━━━━━━━\u001b[0m\u001b[37m\u001b[0m \u001b[1m0s\u001b[0m 11ms/step - loss: 1.5451e-04\n",
      "Epoch 17: val_loss did not improve from 0.00011\n",
      "\u001b[1m46/46\u001b[0m \u001b[32m━━━━━━━━━━━━━━━━━━━━\u001b[0m\u001b[37m\u001b[0m \u001b[1m1s\u001b[0m 12ms/step - loss: 1.5449e-04 - val_loss: 2.9404e-04\n",
      "Epoch 18/30\n",
      "\u001b[1m46/46\u001b[0m \u001b[32m━━━━━━━━━━━━━━━━━━━━\u001b[0m\u001b[37m\u001b[0m \u001b[1m0s\u001b[0m 11ms/step - loss: 2.1485e-04\n",
      "Epoch 18: val_loss did not improve from 0.00011\n",
      "\u001b[1m46/46\u001b[0m \u001b[32m━━━━━━━━━━━━━━━━━━━━\u001b[0m\u001b[37m\u001b[0m \u001b[1m1s\u001b[0m 13ms/step - loss: 2.1420e-04 - val_loss: 2.7798e-04\n",
      "Epoch 19/30\n",
      "\u001b[1m41/46\u001b[0m \u001b[32m━━━━━━━━━━━━━━━━━\u001b[0m\u001b[37m━━━\u001b[0m \u001b[1m0s\u001b[0m 11ms/step - loss: 2.0069e-04\n",
      "Epoch 19: val_loss did not improve from 0.00011\n",
      "\u001b[1m46/46\u001b[0m \u001b[32m━━━━━━━━━━━━━━━━━━━━\u001b[0m\u001b[37m\u001b[0m \u001b[1m1s\u001b[0m 12ms/step - loss: 1.9606e-04 - val_loss: 1.1329e-04\n",
      "Epoch 20/30\n",
      "\u001b[1m41/46\u001b[0m \u001b[32m━━━━━━━━━━━━━━━━━\u001b[0m\u001b[37m━━━\u001b[0m \u001b[1m0s\u001b[0m 11ms/step - loss: 1.3662e-04\n",
      "Epoch 20: val_loss did not improve from 0.00011\n",
      "\u001b[1m46/46\u001b[0m \u001b[32m━━━━━━━━━━━━━━━━━━━━\u001b[0m\u001b[37m\u001b[0m \u001b[1m1s\u001b[0m 12ms/step - loss: 1.3792e-04 - val_loss: 1.2560e-04\n",
      "Epoch 21/30\n",
      "\u001b[1m41/46\u001b[0m \u001b[32m━━━━━━━━━━━━━━━━━\u001b[0m\u001b[37m━━━\u001b[0m \u001b[1m0s\u001b[0m 11ms/step - loss: 1.3299e-04\n",
      "Epoch 21: val_loss did not improve from 0.00011\n",
      "\u001b[1m46/46\u001b[0m \u001b[32m━━━━━━━━━━━━━━━━━━━━\u001b[0m\u001b[37m\u001b[0m \u001b[1m1s\u001b[0m 12ms/step - loss: 1.3624e-04 - val_loss: 1.5823e-04\n"
     ]
    }
   ],
   "source": [
    "model_lstm = train_lstm(\n",
    "    X_train, y_train,\n",
    "    learning_rate=0.004,\n",
    "    epochs=30,\n",
    "    num_layers=1,\n",
    "    units=(64,),\n",
    "    window_size=window_size,\n",
    "    batch_size=32,\n",
    "    validation_split=0.1,\n",
    "    patience=5,\n",
    "    checkpoint_path='best_lstm_with_feat.h5',\n",
    "    dense_units=None,\n",
    "    dense_activation='relu',\n",
    "    dropout_rate=None\n",
    ")[0]"
   ]
  },
  {
   "cell_type": "markdown",
   "id": "69c615e8",
   "metadata": {},
   "source": [
    "### 2 **Check the models with addea features**"
   ]
  },
  {
   "cell_type": "code",
   "execution_count": 211,
   "id": "bc624e70",
   "metadata": {},
   "outputs": [
    {
     "name": "stdout",
     "output_type": "stream",
     "text": [
      "\u001b[1m13/13\u001b[0m \u001b[32m━━━━━━━━━━━━━━━━━━━━\u001b[0m\u001b[37m\u001b[0m \u001b[1m0s\u001b[0m 12ms/step\n",
      "\u001b[1m13/13\u001b[0m \u001b[32m━━━━━━━━━━━━━━━━━━━━\u001b[0m\u001b[37m\u001b[0m \u001b[1m0s\u001b[0m 20ms/step\n",
      "LSTM - MSE: 14884.0499, R²: 0.9504\n",
      "GRU  - MSE: 6561.1895, R²: 0.9781\n"
     ]
    }
   ],
   "source": [
    "abs_result = evaluate_models_with_price_scaler(\n",
    "    model_lstm=model_lstm,\n",
    "    model_gru=model_gru,\n",
    "    X_test=X_test,\n",
    "    y_test=y_test,\n",
    "    scaler=scaler\n",
    ")"
   ]
  },
  {
   "cell_type": "code",
   "execution_count": 209,
   "id": "a6560a93",
   "metadata": {},
   "outputs": [
    {
     "ename": "TypeError",
     "evalue": "Could not locate function 'mse'. Make sure custom classes are decorated with `@keras.saving.register_keras_serializable()`. Full object config: {'module': 'keras.metrics', 'class_name': 'function', 'config': 'mse', 'registered_name': 'mse'}",
     "output_type": "error",
     "traceback": [
      "\u001b[1;31m---------------------------------------------------------------------------\u001b[0m",
      "\u001b[1;31mTypeError\u001b[0m                                 Traceback (most recent call last)",
      "Cell \u001b[1;32mIn[209], line 1\u001b[0m\n\u001b[1;32m----> 1\u001b[0m preds, model \u001b[38;5;241m=\u001b[39m \u001b[43mload_best_model\u001b[49m\u001b[43m(\u001b[49m\u001b[38;5;124;43m'\u001b[39;49m\u001b[38;5;124;43mbest_gru_with_feat.h5\u001b[39;49m\u001b[38;5;124;43m'\u001b[39;49m\u001b[43m)\u001b[49m\n\u001b[0;32m      3\u001b[0m preds_lstm, model_lstm \u001b[38;5;241m=\u001b[39m load_best_model(\u001b[38;5;124m'\u001b[39m\u001b[38;5;124mbest_lstm_with_feat.h5\u001b[39m\u001b[38;5;124m'\u001b[39m)\n\u001b[0;32m      4\u001b[0m \u001b[38;5;66;03m# print the metrics of the best model \u001b[39;00m\n",
      "Cell \u001b[1;32mIn[208], line 14\u001b[0m, in \u001b[0;36mload_best_model\u001b[1;34m(checkpoint_path)\u001b[0m\n\u001b[0;32m      4\u001b[0m \u001b[38;5;250m\u001b[39m\u001b[38;5;124;03m\"\"\"\u001b[39;00m\n\u001b[0;32m      5\u001b[0m \u001b[38;5;124;03mLoad the best model from a given checkpoint path.\u001b[39;00m\n\u001b[0;32m      6\u001b[0m \u001b[38;5;124;03m\u001b[39;00m\n\u001b[1;32m   (...)\u001b[0m\n\u001b[0;32m     11\u001b[0m \u001b[38;5;124;03m- best_model: Keras model loaded from the checkpoint\u001b[39;00m\n\u001b[0;32m     12\u001b[0m \u001b[38;5;124;03m\"\"\"\u001b[39;00m\n\u001b[0;32m     13\u001b[0m \u001b[38;5;66;03m# 2. Load the entire model (architecture + weights + optimizer state)\u001b[39;00m\n\u001b[1;32m---> 14\u001b[0m best_model \u001b[38;5;241m=\u001b[39m \u001b[43mload_model\u001b[49m\u001b[43m(\u001b[49m\u001b[43mcheckpoint_path\u001b[49m\u001b[43m)\u001b[49m\n\u001b[0;32m     16\u001b[0m \u001b[38;5;66;03m# 3. Now you can call .predict(), .evaluate(), etc.\u001b[39;00m\n\u001b[0;32m     17\u001b[0m preds \u001b[38;5;241m=\u001b[39m best_model\u001b[38;5;241m.\u001b[39mpredict(X_test)\n",
      "File \u001b[1;32mc:\\Users\\OMER\\PycharmProjects\\Project\\.venv\\lib\\site-packages\\keras\\src\\saving\\saving_api.py:196\u001b[0m, in \u001b[0;36mload_model\u001b[1;34m(filepath, custom_objects, compile, safe_mode)\u001b[0m\n\u001b[0;32m    189\u001b[0m     \u001b[38;5;28;01mreturn\u001b[39;00m saving_lib\u001b[38;5;241m.\u001b[39mload_model(\n\u001b[0;32m    190\u001b[0m         filepath,\n\u001b[0;32m    191\u001b[0m         custom_objects\u001b[38;5;241m=\u001b[39mcustom_objects,\n\u001b[0;32m    192\u001b[0m         \u001b[38;5;28mcompile\u001b[39m\u001b[38;5;241m=\u001b[39m\u001b[38;5;28mcompile\u001b[39m,\n\u001b[0;32m    193\u001b[0m         safe_mode\u001b[38;5;241m=\u001b[39msafe_mode,\n\u001b[0;32m    194\u001b[0m     )\n\u001b[0;32m    195\u001b[0m \u001b[38;5;28;01mif\u001b[39;00m \u001b[38;5;28mstr\u001b[39m(filepath)\u001b[38;5;241m.\u001b[39mendswith((\u001b[38;5;124m\"\u001b[39m\u001b[38;5;124m.h5\u001b[39m\u001b[38;5;124m\"\u001b[39m, \u001b[38;5;124m\"\u001b[39m\u001b[38;5;124m.hdf5\u001b[39m\u001b[38;5;124m\"\u001b[39m)):\n\u001b[1;32m--> 196\u001b[0m     \u001b[38;5;28;01mreturn\u001b[39;00m \u001b[43mlegacy_h5_format\u001b[49m\u001b[38;5;241;43m.\u001b[39;49m\u001b[43mload_model_from_hdf5\u001b[49m\u001b[43m(\u001b[49m\n\u001b[0;32m    197\u001b[0m \u001b[43m        \u001b[49m\u001b[43mfilepath\u001b[49m\u001b[43m,\u001b[49m\u001b[43m \u001b[49m\u001b[43mcustom_objects\u001b[49m\u001b[38;5;241;43m=\u001b[39;49m\u001b[43mcustom_objects\u001b[49m\u001b[43m,\u001b[49m\u001b[43m \u001b[49m\u001b[38;5;28;43mcompile\u001b[39;49m\u001b[38;5;241;43m=\u001b[39;49m\u001b[38;5;28;43mcompile\u001b[39;49m\n\u001b[0;32m    198\u001b[0m \u001b[43m    \u001b[49m\u001b[43m)\u001b[49m\n\u001b[0;32m    199\u001b[0m \u001b[38;5;28;01melif\u001b[39;00m \u001b[38;5;28mstr\u001b[39m(filepath)\u001b[38;5;241m.\u001b[39mendswith(\u001b[38;5;124m\"\u001b[39m\u001b[38;5;124m.keras\u001b[39m\u001b[38;5;124m\"\u001b[39m):\n\u001b[0;32m    200\u001b[0m     \u001b[38;5;28;01mraise\u001b[39;00m \u001b[38;5;167;01mValueError\u001b[39;00m(\n\u001b[0;32m    201\u001b[0m         \u001b[38;5;124mf\u001b[39m\u001b[38;5;124m\"\u001b[39m\u001b[38;5;124mFile not found: filepath=\u001b[39m\u001b[38;5;132;01m{\u001b[39;00mfilepath\u001b[38;5;132;01m}\u001b[39;00m\u001b[38;5;124m. \u001b[39m\u001b[38;5;124m\"\u001b[39m\n\u001b[0;32m    202\u001b[0m         \u001b[38;5;124m\"\u001b[39m\u001b[38;5;124mPlease ensure the file is an accessible `.keras` \u001b[39m\u001b[38;5;124m\"\u001b[39m\n\u001b[0;32m    203\u001b[0m         \u001b[38;5;124m\"\u001b[39m\u001b[38;5;124mzip file.\u001b[39m\u001b[38;5;124m\"\u001b[39m\n\u001b[0;32m    204\u001b[0m     )\n",
      "File \u001b[1;32mc:\\Users\\OMER\\PycharmProjects\\Project\\.venv\\lib\\site-packages\\keras\\src\\legacy\\saving\\legacy_h5_format.py:155\u001b[0m, in \u001b[0;36mload_model_from_hdf5\u001b[1;34m(filepath, custom_objects, compile)\u001b[0m\n\u001b[0;32m    151\u001b[0m training_config \u001b[38;5;241m=\u001b[39m json_utils\u001b[38;5;241m.\u001b[39mdecode(training_config)\n\u001b[0;32m    153\u001b[0m \u001b[38;5;66;03m# Compile model.\u001b[39;00m\n\u001b[0;32m    154\u001b[0m model\u001b[38;5;241m.\u001b[39mcompile(\n\u001b[1;32m--> 155\u001b[0m     \u001b[38;5;241m*\u001b[39m\u001b[38;5;241m*\u001b[39m\u001b[43msaving_utils\u001b[49m\u001b[38;5;241;43m.\u001b[39;49m\u001b[43mcompile_args_from_training_config\u001b[49m\u001b[43m(\u001b[49m\n\u001b[0;32m    156\u001b[0m \u001b[43m        \u001b[49m\u001b[43mtraining_config\u001b[49m\u001b[43m,\u001b[49m\u001b[43m \u001b[49m\u001b[43mcustom_objects\u001b[49m\n\u001b[0;32m    157\u001b[0m \u001b[43m    \u001b[49m\u001b[43m)\u001b[49m\n\u001b[0;32m    158\u001b[0m )\n\u001b[0;32m    159\u001b[0m saving_utils\u001b[38;5;241m.\u001b[39mtry_build_compiled_arguments(model)\n\u001b[0;32m    161\u001b[0m \u001b[38;5;66;03m# Set optimizer weights.\u001b[39;00m\n",
      "File \u001b[1;32mc:\\Users\\OMER\\PycharmProjects\\Project\\.venv\\lib\\site-packages\\keras\\src\\legacy\\saving\\saving_utils.py:146\u001b[0m, in \u001b[0;36mcompile_args_from_training_config\u001b[1;34m(training_config, custom_objects)\u001b[0m\n\u001b[0;32m    144\u001b[0m loss_config \u001b[38;5;241m=\u001b[39m training_config\u001b[38;5;241m.\u001b[39mget(\u001b[38;5;124m\"\u001b[39m\u001b[38;5;124mloss\u001b[39m\u001b[38;5;124m\"\u001b[39m, \u001b[38;5;28;01mNone\u001b[39;00m)\n\u001b[0;32m    145\u001b[0m \u001b[38;5;28;01mif\u001b[39;00m loss_config \u001b[38;5;129;01mis\u001b[39;00m \u001b[38;5;129;01mnot\u001b[39;00m \u001b[38;5;28;01mNone\u001b[39;00m:\n\u001b[1;32m--> 146\u001b[0m     loss \u001b[38;5;241m=\u001b[39m \u001b[43m_deserialize_nested_config\u001b[49m\u001b[43m(\u001b[49m\u001b[43mlosses\u001b[49m\u001b[38;5;241;43m.\u001b[39;49m\u001b[43mdeserialize\u001b[49m\u001b[43m,\u001b[49m\u001b[43m \u001b[49m\u001b[43mloss_config\u001b[49m\u001b[43m)\u001b[49m\n\u001b[0;32m    147\u001b[0m     \u001b[38;5;66;03m# Ensure backwards compatibility for losses in legacy H5 files\u001b[39;00m\n\u001b[0;32m    148\u001b[0m     loss \u001b[38;5;241m=\u001b[39m _resolve_compile_arguments_compat(loss, loss_config, losses)\n",
      "File \u001b[1;32mc:\\Users\\OMER\\PycharmProjects\\Project\\.venv\\lib\\site-packages\\keras\\src\\legacy\\saving\\saving_utils.py:205\u001b[0m, in \u001b[0;36m_deserialize_nested_config\u001b[1;34m(deserialize_fn, config)\u001b[0m\n\u001b[0;32m    203\u001b[0m     \u001b[38;5;28;01mreturn\u001b[39;00m \u001b[38;5;28;01mNone\u001b[39;00m\n\u001b[0;32m    204\u001b[0m \u001b[38;5;28;01mif\u001b[39;00m _is_single_object(config):\n\u001b[1;32m--> 205\u001b[0m     \u001b[38;5;28;01mreturn\u001b[39;00m \u001b[43mdeserialize_fn\u001b[49m\u001b[43m(\u001b[49m\u001b[43mconfig\u001b[49m\u001b[43m)\u001b[49m\n\u001b[0;32m    206\u001b[0m \u001b[38;5;28;01melif\u001b[39;00m \u001b[38;5;28misinstance\u001b[39m(config, \u001b[38;5;28mdict\u001b[39m):\n\u001b[0;32m    207\u001b[0m     \u001b[38;5;28;01mreturn\u001b[39;00m {\n\u001b[0;32m    208\u001b[0m         k: _deserialize_nested_config(deserialize_fn, v)\n\u001b[0;32m    209\u001b[0m         \u001b[38;5;28;01mfor\u001b[39;00m k, v \u001b[38;5;129;01min\u001b[39;00m config\u001b[38;5;241m.\u001b[39mitems()\n\u001b[0;32m    210\u001b[0m     }\n",
      "File \u001b[1;32mc:\\Users\\OMER\\PycharmProjects\\Project\\.venv\\lib\\site-packages\\keras\\src\\losses\\__init__.py:155\u001b[0m, in \u001b[0;36mdeserialize\u001b[1;34m(name, custom_objects)\u001b[0m\n\u001b[0;32m    142\u001b[0m \u001b[38;5;129m@keras_export\u001b[39m(\u001b[38;5;124m\"\u001b[39m\u001b[38;5;124mkeras.losses.deserialize\u001b[39m\u001b[38;5;124m\"\u001b[39m)\n\u001b[0;32m    143\u001b[0m \u001b[38;5;28;01mdef\u001b[39;00m\u001b[38;5;250m \u001b[39m\u001b[38;5;21mdeserialize\u001b[39m(name, custom_objects\u001b[38;5;241m=\u001b[39m\u001b[38;5;28;01mNone\u001b[39;00m):\n\u001b[0;32m    144\u001b[0m \u001b[38;5;250m    \u001b[39m\u001b[38;5;124;03m\"\"\"Deserializes a serialized loss class/function instance.\u001b[39;00m\n\u001b[0;32m    145\u001b[0m \n\u001b[0;32m    146\u001b[0m \u001b[38;5;124;03m    Args:\u001b[39;00m\n\u001b[1;32m   (...)\u001b[0m\n\u001b[0;32m    153\u001b[0m \u001b[38;5;124;03m        A Keras `Loss` instance or a loss function.\u001b[39;00m\n\u001b[0;32m    154\u001b[0m \u001b[38;5;124;03m    \"\"\"\u001b[39;00m\n\u001b[1;32m--> 155\u001b[0m     \u001b[38;5;28;01mreturn\u001b[39;00m \u001b[43mserialization_lib\u001b[49m\u001b[38;5;241;43m.\u001b[39;49m\u001b[43mdeserialize_keras_object\u001b[49m\u001b[43m(\u001b[49m\n\u001b[0;32m    156\u001b[0m \u001b[43m        \u001b[49m\u001b[43mname\u001b[49m\u001b[43m,\u001b[49m\n\u001b[0;32m    157\u001b[0m \u001b[43m        \u001b[49m\u001b[43mmodule_objects\u001b[49m\u001b[38;5;241;43m=\u001b[39;49m\u001b[43mALL_OBJECTS_DICT\u001b[49m\u001b[43m,\u001b[49m\n\u001b[0;32m    158\u001b[0m \u001b[43m        \u001b[49m\u001b[43mcustom_objects\u001b[49m\u001b[38;5;241;43m=\u001b[39;49m\u001b[43mcustom_objects\u001b[49m\u001b[43m,\u001b[49m\n\u001b[0;32m    159\u001b[0m \u001b[43m    \u001b[49m\u001b[43m)\u001b[49m\n",
      "File \u001b[1;32mc:\\Users\\OMER\\PycharmProjects\\Project\\.venv\\lib\\site-packages\\keras\\src\\saving\\serialization_lib.py:575\u001b[0m, in \u001b[0;36mdeserialize_keras_object\u001b[1;34m(config, custom_objects, safe_mode, **kwargs)\u001b[0m\n\u001b[0;32m    573\u001b[0m             \u001b[38;5;28;01mreturn\u001b[39;00m config\n\u001b[0;32m    574\u001b[0m         \u001b[38;5;28;01mif\u001b[39;00m \u001b[38;5;28misinstance\u001b[39m(module_objects[config], types\u001b[38;5;241m.\u001b[39mFunctionType):\n\u001b[1;32m--> 575\u001b[0m             \u001b[38;5;28;01mreturn\u001b[39;00m \u001b[43mdeserialize_keras_object\u001b[49m\u001b[43m(\u001b[49m\n\u001b[0;32m    576\u001b[0m \u001b[43m                \u001b[49m\u001b[43mserialize_with_public_fn\u001b[49m\u001b[43m(\u001b[49m\n\u001b[0;32m    577\u001b[0m \u001b[43m                    \u001b[49m\u001b[43mmodule_objects\u001b[49m\u001b[43m[\u001b[49m\u001b[43mconfig\u001b[49m\u001b[43m]\u001b[49m\u001b[43m,\u001b[49m\u001b[43m \u001b[49m\u001b[43mconfig\u001b[49m\u001b[43m,\u001b[49m\u001b[43m \u001b[49m\u001b[43mfn_module_name\u001b[49m\n\u001b[0;32m    578\u001b[0m \u001b[43m                \u001b[49m\u001b[43m)\u001b[49m\u001b[43m,\u001b[49m\n\u001b[0;32m    579\u001b[0m \u001b[43m                \u001b[49m\u001b[43mcustom_objects\u001b[49m\u001b[38;5;241;43m=\u001b[39;49m\u001b[43mcustom_objects\u001b[49m\u001b[43m,\u001b[49m\n\u001b[0;32m    580\u001b[0m \u001b[43m            \u001b[49m\u001b[43m)\u001b[49m\n\u001b[0;32m    581\u001b[0m         \u001b[38;5;28;01mreturn\u001b[39;00m deserialize_keras_object(\n\u001b[0;32m    582\u001b[0m             serialize_with_public_class(\n\u001b[0;32m    583\u001b[0m                 module_objects[config], inner_config\u001b[38;5;241m=\u001b[39minner_config\n\u001b[0;32m    584\u001b[0m             ),\n\u001b[0;32m    585\u001b[0m             custom_objects\u001b[38;5;241m=\u001b[39mcustom_objects,\n\u001b[0;32m    586\u001b[0m         )\n\u001b[0;32m    588\u001b[0m \u001b[38;5;28;01mif\u001b[39;00m \u001b[38;5;28misinstance\u001b[39m(config, PLAIN_TYPES):\n",
      "File \u001b[1;32mc:\\Users\\OMER\\PycharmProjects\\Project\\.venv\\lib\\site-packages\\keras\\src\\saving\\serialization_lib.py:678\u001b[0m, in \u001b[0;36mdeserialize_keras_object\u001b[1;34m(config, custom_objects, safe_mode, **kwargs)\u001b[0m\n\u001b[0;32m    676\u001b[0m \u001b[38;5;28;01mif\u001b[39;00m class_name \u001b[38;5;241m==\u001b[39m \u001b[38;5;124m\"\u001b[39m\u001b[38;5;124mfunction\u001b[39m\u001b[38;5;124m\"\u001b[39m:\n\u001b[0;32m    677\u001b[0m     fn_name \u001b[38;5;241m=\u001b[39m inner_config\n\u001b[1;32m--> 678\u001b[0m     \u001b[38;5;28;01mreturn\u001b[39;00m \u001b[43m_retrieve_class_or_fn\u001b[49m\u001b[43m(\u001b[49m\n\u001b[0;32m    679\u001b[0m \u001b[43m        \u001b[49m\u001b[43mfn_name\u001b[49m\u001b[43m,\u001b[49m\n\u001b[0;32m    680\u001b[0m \u001b[43m        \u001b[49m\u001b[43mregistered_name\u001b[49m\u001b[43m,\u001b[49m\n\u001b[0;32m    681\u001b[0m \u001b[43m        \u001b[49m\u001b[43mmodule\u001b[49m\u001b[43m,\u001b[49m\n\u001b[0;32m    682\u001b[0m \u001b[43m        \u001b[49m\u001b[43mobj_type\u001b[49m\u001b[38;5;241;43m=\u001b[39;49m\u001b[38;5;124;43m\"\u001b[39;49m\u001b[38;5;124;43mfunction\u001b[39;49m\u001b[38;5;124;43m\"\u001b[39;49m\u001b[43m,\u001b[49m\n\u001b[0;32m    683\u001b[0m \u001b[43m        \u001b[49m\u001b[43mfull_config\u001b[49m\u001b[38;5;241;43m=\u001b[39;49m\u001b[43mconfig\u001b[49m\u001b[43m,\u001b[49m\n\u001b[0;32m    684\u001b[0m \u001b[43m        \u001b[49m\u001b[43mcustom_objects\u001b[49m\u001b[38;5;241;43m=\u001b[39;49m\u001b[43mcustom_objects\u001b[49m\u001b[43m,\u001b[49m\n\u001b[0;32m    685\u001b[0m \u001b[43m    \u001b[49m\u001b[43m)\u001b[49m\n\u001b[0;32m    687\u001b[0m \u001b[38;5;66;03m# Below, handling of all classes.\u001b[39;00m\n\u001b[0;32m    688\u001b[0m \u001b[38;5;66;03m# First, is it a shared object?\u001b[39;00m\n\u001b[0;32m    689\u001b[0m \u001b[38;5;28;01mif\u001b[39;00m \u001b[38;5;124m\"\u001b[39m\u001b[38;5;124mshared_object_id\u001b[39m\u001b[38;5;124m\"\u001b[39m \u001b[38;5;129;01min\u001b[39;00m config:\n",
      "File \u001b[1;32mc:\\Users\\OMER\\PycharmProjects\\Project\\.venv\\lib\\site-packages\\keras\\src\\saving\\serialization_lib.py:810\u001b[0m, in \u001b[0;36m_retrieve_class_or_fn\u001b[1;34m(name, registered_name, module, obj_type, full_config, custom_objects)\u001b[0m\n\u001b[0;32m    803\u001b[0m         \u001b[38;5;28;01mexcept\u001b[39;00m \u001b[38;5;167;01mModuleNotFoundError\u001b[39;00m:\n\u001b[0;32m    804\u001b[0m             \u001b[38;5;28;01mraise\u001b[39;00m \u001b[38;5;167;01mTypeError\u001b[39;00m(\n\u001b[0;32m    805\u001b[0m                 \u001b[38;5;124mf\u001b[39m\u001b[38;5;124m\"\u001b[39m\u001b[38;5;124mCould not deserialize \u001b[39m\u001b[38;5;132;01m{\u001b[39;00mobj_type\u001b[38;5;132;01m}\u001b[39;00m\u001b[38;5;124m \u001b[39m\u001b[38;5;124m'\u001b[39m\u001b[38;5;132;01m{\u001b[39;00mname\u001b[38;5;132;01m}\u001b[39;00m\u001b[38;5;124m'\u001b[39m\u001b[38;5;124m because \u001b[39m\u001b[38;5;124m\"\u001b[39m\n\u001b[0;32m    806\u001b[0m                 \u001b[38;5;124mf\u001b[39m\u001b[38;5;124m\"\u001b[39m\u001b[38;5;124mits parent module \u001b[39m\u001b[38;5;132;01m{\u001b[39;00mmodule\u001b[38;5;132;01m}\u001b[39;00m\u001b[38;5;124m cannot be imported. \u001b[39m\u001b[38;5;124m\"\u001b[39m\n\u001b[0;32m    807\u001b[0m                 \u001b[38;5;124mf\u001b[39m\u001b[38;5;124m\"\u001b[39m\u001b[38;5;124mFull object config: \u001b[39m\u001b[38;5;132;01m{\u001b[39;00mfull_config\u001b[38;5;132;01m}\u001b[39;00m\u001b[38;5;124m\"\u001b[39m\n\u001b[0;32m    808\u001b[0m             )\n\u001b[1;32m--> 810\u001b[0m \u001b[38;5;28;01mraise\u001b[39;00m \u001b[38;5;167;01mTypeError\u001b[39;00m(\n\u001b[0;32m    811\u001b[0m     \u001b[38;5;124mf\u001b[39m\u001b[38;5;124m\"\u001b[39m\u001b[38;5;124mCould not locate \u001b[39m\u001b[38;5;132;01m{\u001b[39;00mobj_type\u001b[38;5;132;01m}\u001b[39;00m\u001b[38;5;124m \u001b[39m\u001b[38;5;124m'\u001b[39m\u001b[38;5;132;01m{\u001b[39;00mname\u001b[38;5;132;01m}\u001b[39;00m\u001b[38;5;124m'\u001b[39m\u001b[38;5;124m. \u001b[39m\u001b[38;5;124m\"\u001b[39m\n\u001b[0;32m    812\u001b[0m     \u001b[38;5;124m\"\u001b[39m\u001b[38;5;124mMake sure custom classes are decorated with \u001b[39m\u001b[38;5;124m\"\u001b[39m\n\u001b[0;32m    813\u001b[0m     \u001b[38;5;124m\"\u001b[39m\u001b[38;5;124m`@keras.saving.register_keras_serializable()`. \u001b[39m\u001b[38;5;124m\"\u001b[39m\n\u001b[0;32m    814\u001b[0m     \u001b[38;5;124mf\u001b[39m\u001b[38;5;124m\"\u001b[39m\u001b[38;5;124mFull object config: \u001b[39m\u001b[38;5;132;01m{\u001b[39;00mfull_config\u001b[38;5;132;01m}\u001b[39;00m\u001b[38;5;124m\"\u001b[39m\n\u001b[0;32m    815\u001b[0m )\n",
      "\u001b[1;31mTypeError\u001b[0m: Could not locate function 'mse'. Make sure custom classes are decorated with `@keras.saving.register_keras_serializable()`. Full object config: {'module': 'keras.metrics', 'class_name': 'function', 'config': 'mse', 'registered_name': 'mse'}"
     ]
    }
   ],
   "source": [
    "preds, model = load_best_model('best_gru_with_feat.h5')\n",
    "\n",
    "preds_lstm, model_lstm = load_best_model('best_lstm_with_feat.h5')\n",
    "# print the metrics of the best model \n",
    "gru_mse = mean_squared_error(y_test, preds)\n",
    "gru_r2 = r2_score(y_test, preds)\n",
    "\n",
    "lstm_mse = mean_squared_error(y_test, preds_lstm)\n",
    "lstm_r2 = r2_score(y_test, preds_lstm)\n",
    "\n",
    "print(f'GRU - MSE: {gru_mse:.4f}, R²: {gru_r2:.4f}')\n",
    "print(f'LSTM - MSE: {lstm_mse:.4f}, R²: {lstm_r2:.4f}')"
   ]
  },
  {
   "cell_type": "markdown",
   "id": "4a656d7a",
   "metadata": {},
   "source": [
    "# Add external data (economic data)"
   ]
  },
  {
   "cell_type": "code",
   "execution_count": 85,
   "id": "e9adb284",
   "metadata": {},
   "outputs": [
    {
     "name": "stdout",
     "output_type": "stream",
     "text": [
      "<class 'pandas.core.frame.DataFrame'>\n",
      "RangeIndex: 2592 entries, 0 to 2591\n",
      "Data columns (total 43 columns):\n",
      " #   Column                         Non-Null Count  Dtype         \n",
      "---  ------                         --------------  -----         \n",
      " 0   ds                             2592 non-null   datetime64[ns]\n",
      " 1   Actual_GDP                     204 non-null    float64       \n",
      " 2   Actual_nonfarm                 206 non-null    float64       \n",
      " 3   Actual_CPI                     155 non-null    float64       \n",
      " 4   Actual_PPI                     170 non-null    float64       \n",
      " 5   Actual_unemployment rate       201 non-null    float64       \n",
      " 6   Actual_core_PCE                125 non-null    float64       \n",
      " 7   Actual_FOMC                    139 non-null    float64       \n",
      " 8   CPI_vs_forecast                155 non-null    float64       \n",
      " 9   CPI_vs_previous                155 non-null    float64       \n",
      " 10  GDP_vs_forecast                204 non-null    float64       \n",
      " 11  GDP_vs_previous                204 non-null    float64       \n",
      " 12  PPI_vs_forecast                155 non-null    float64       \n",
      " 13  PPI_vs_previous                170 non-null    float64       \n",
      " 14  nonfarm_vs_forecast            206 non-null    float64       \n",
      " 15  nonfarm_vs_previous            206 non-null    float64       \n",
      " 16  unemployment rate_vs_forecast  201 non-null    float64       \n",
      " 17  unemployment rate_vs_previous  201 non-null    float64       \n",
      " 18  core_PCE_vs_forecast           119 non-null    float64       \n",
      " 19  core_PCE_vs_previous           125 non-null    float64       \n",
      " 20  FOMC_vs_forecast               135 non-null    float64       \n",
      " 21  FOMC_vs_previous               139 non-null    float64       \n",
      " 22  CPI_gap                        155 non-null    float64       \n",
      " 23  GDP_gap                        204 non-null    float64       \n",
      " 24  PPI_gap                        155 non-null    float64       \n",
      " 25  nonfarm_gap                    206 non-null    float64       \n",
      " 26  unemployment rate_gap          201 non-null    float64       \n",
      " 27  core_PCE_gap                   119 non-null    float64       \n",
      " 28  FOMC_gap                       135 non-null    float64       \n",
      " 29  event                          964 non-null    object        \n",
      " 30  holiday                        2592 non-null   object        \n",
      " 31  month                          2592 non-null   int32         \n",
      " 32  year                           2592 non-null   int32         \n",
      " 33  shiler pe                      2586 non-null   float64       \n",
      " 34  Actual_20year                  59 non-null     float64       \n",
      " 35  20year_gap                     59 non-null     float64       \n",
      " 36  20year_sign                    59 non-null     float64       \n",
      " 37  Actual_10year                  115 non-null    float64       \n",
      " 38  10year_gap                     115 non-null    float64       \n",
      " 39  10year_sign                    115 non-null    float64       \n",
      " 40  Actual_2year                   107 non-null    float64       \n",
      " 41  2year_gap                      107 non-null    float64       \n",
      " 42  2year_sign                     107 non-null    float64       \n",
      "dtypes: datetime64[ns](1), float64(38), int32(2), object(2)\n",
      "memory usage: 850.6+ KB\n"
     ]
    }
   ],
   "source": [
    "external_data = pd.read_pickle('external_data.pkl')\n",
    "external_data.info()    "
   ]
  },
  {
   "cell_type": "code",
   "execution_count": 87,
   "id": "19d9604d",
   "metadata": {},
   "outputs": [
    {
     "name": "stdout",
     "output_type": "stream",
     "text": [
      "<class 'pandas.core.frame.DataFrame'>\n",
      "RangeIndex: 2592 entries, 0 to 2591\n",
      "Data columns (total 43 columns):\n",
      " #   Column                         Non-Null Count  Dtype         \n",
      "---  ------                         --------------  -----         \n",
      " 0   ds                             2592 non-null   datetime64[ns]\n",
      " 1   Actual_GDP                     2592 non-null   float64       \n",
      " 2   Actual_nonfarm                 2591 non-null   float64       \n",
      " 3   Actual_CPI                     2443 non-null   float64       \n",
      " 4   Actual_PPI                     2499 non-null   float64       \n",
      " 5   Actual_unemployment rate       2580 non-null   float64       \n",
      " 6   Actual_core_PCE                2308 non-null   float64       \n",
      " 7   Actual_FOMC                    2590 non-null   float64       \n",
      " 8   CPI_vs_forecast                2443 non-null   float64       \n",
      " 9   CPI_vs_previous                2443 non-null   float64       \n",
      " 10  GDP_vs_forecast                2592 non-null   float64       \n",
      " 11  GDP_vs_previous                2592 non-null   float64       \n",
      " 12  PPI_vs_forecast                2444 non-null   float64       \n",
      " 13  PPI_vs_previous                2499 non-null   float64       \n",
      " 14  nonfarm_vs_forecast            2591 non-null   float64       \n",
      " 15  nonfarm_vs_previous            2591 non-null   float64       \n",
      " 16  unemployment rate_vs_forecast  2580 non-null   float64       \n",
      " 17  unemployment rate_vs_previous  2580 non-null   float64       \n",
      " 18  core_PCE_vs_forecast           2308 non-null   float64       \n",
      " 19  core_PCE_vs_previous           2308 non-null   float64       \n",
      " 20  FOMC_vs_forecast               2590 non-null   float64       \n",
      " 21  FOMC_vs_previous               2590 non-null   float64       \n",
      " 22  CPI_gap                        2443 non-null   float64       \n",
      " 23  GDP_gap                        2592 non-null   float64       \n",
      " 24  PPI_gap                        2444 non-null   float64       \n",
      " 25  nonfarm_gap                    2591 non-null   float64       \n",
      " 26  unemployment rate_gap          2580 non-null   float64       \n",
      " 27  core_PCE_gap                   2308 non-null   float64       \n",
      " 28  FOMC_gap                       2590 non-null   float64       \n",
      " 29  event                          2592 non-null   object        \n",
      " 30  holiday                        2592 non-null   object        \n",
      " 31  month                          2592 non-null   int32         \n",
      " 32  year                           2592 non-null   int32         \n",
      " 33  shiler pe                      2592 non-null   float64       \n",
      " 34  Actual_20year                  1269 non-null   float64       \n",
      " 35  20year_gap                     1269 non-null   float64       \n",
      " 36  20year_sign                    1269 non-null   float64       \n",
      " 37  Actual_10year                  2496 non-null   float64       \n",
      " 38  10year_gap                     2496 non-null   float64       \n",
      " 39  10year_sign                    2496 non-null   float64       \n",
      " 40  Actual_2year                   2475 non-null   float64       \n",
      " 41  2year_gap                      2475 non-null   float64       \n",
      " 42  2year_sign                     2475 non-null   float64       \n",
      "dtypes: datetime64[ns](1), float64(38), int32(2), object(2)\n",
      "memory usage: 850.6+ KB\n"
     ]
    },
    {
     "name": "stderr",
     "output_type": "stream",
     "text": [
      "C:\\Users\\OMER\\AppData\\Local\\Temp\\ipykernel_42572\\2534430223.py:2: FutureWarning: DataFrame.fillna with 'method' is deprecated and will raise in a future version. Use obj.ffill() or obj.bfill() instead.\n",
      "  external_data.fillna(method='ffill', inplace=True)\n"
     ]
    }
   ],
   "source": [
    "#external_data.iloc[145:155]\n",
    "external_data.fillna(method='ffill', inplace=True)\n",
    "external_data.info()"
   ]
  },
  {
   "cell_type": "code",
   "execution_count": 220,
   "id": "3b89d74d",
   "metadata": {},
   "outputs": [
    {
     "name": "stdout",
     "output_type": "stream",
     "text": [
      "['CPI_vs_forecast', 'GDP_vs_forecast', 'PPI_vs_forecast', 'nonfarm_vs_forecast', 'unemployment rate_vs_forecast', 'core_PCE_vs_forecast', 'FOMC_vs_forecast']\n",
      "['Actual_FOMC', 'CPI_vs_forecast', 'CPI_vs_previous', 'GDP_vs_forecast', 'GDP_vs_previous', 'PPI_vs_forecast', 'PPI_vs_previous', 'nonfarm_vs_forecast']\n"
     ]
    }
   ],
   "source": [
    "# print to see all of the data available \n",
    "lst_ = external_data.columns.to_list()\n",
    "l = [col for col in lst_ if col.endswith('vs_forecast')]\n",
    "print(l)\n",
    "print(lst_[7:15])"
   ]
  },
  {
   "cell_type": "markdown",
   "id": "5c4600aa",
   "metadata": {},
   "source": [
    "### Prepare the new data for modeling"
   ]
  },
  {
   "cell_type": "code",
   "execution_count": 221,
   "id": "faea2d0a",
   "metadata": {},
   "outputs": [
    {
     "name": "stdout",
     "output_type": "stream",
     "text": [
      "<class 'pandas.core.frame.DataFrame'>\n",
      "RangeIndex: 2038 entries, 0 to 2037\n",
      "Data columns (total 31 columns):\n",
      " #   Column                         Non-Null Count  Dtype  \n",
      "---  ------                         --------------  -----  \n",
      " 0   SPY_Close                      2038 non-null   float64\n",
      " 1   high-low                       2038 non-null   float64\n",
      " 2   before_high-low                2038 non-null   float64\n",
      " 3   SPY_Volume                     2038 non-null   int64  \n",
      " 4   QQQ_Close                      2038 non-null   float64\n",
      " 5   CPER                           2038 non-null   float64\n",
      " 6   ^VIX                           2038 non-null   float64\n",
      " 7   ^RUT                           2038 non-null   float64\n",
      " 8   yield_curve                    2038 non-null   float64\n",
      " 9   EMA_50                         2038 non-null   float64\n",
      " 10  EMA_200                        2038 non-null   float64\n",
      " 11  IEI                            2038 non-null   float64\n",
      " 12  ^GDAXI                         2038 non-null   float64\n",
      " 13  ^FTSE                          2038 non-null   float64\n",
      " 14  DX-Y.NYB                       2038 non-null   float64\n",
      " 15  JPY=X                          2038 non-null   float64\n",
      " 16  EUR=X                          2038 non-null   float64\n",
      " 17  USO                            2038 non-null   float64\n",
      " 18  RSI_14                         2038 non-null   float64\n",
      " 19  MACD                           2038 non-null   float64\n",
      " 20  20d_mean                       2038 non-null   float64\n",
      " 21  5d_mean                        2038 non-null   float64\n",
      " 22  5d_std                         2038 non-null   float64\n",
      " 23  streak                         2038 non-null   int64  \n",
      " 24  CPI_vs_forecast                2038 non-null   float64\n",
      " 25  GDP_vs_forecast                2038 non-null   float64\n",
      " 26  PPI_vs_forecast                2038 non-null   float64\n",
      " 27  nonfarm_vs_forecast            2038 non-null   float64\n",
      " 28  unemployment rate_vs_forecast  2038 non-null   float64\n",
      " 29  core_PCE_vs_forecast           2038 non-null   float64\n",
      " 30  FOMC_vs_forecast               2038 non-null   float64\n",
      "dtypes: float64(29), int64(2)\n",
      "memory usage: 493.7 KB\n"
     ]
    }
   ],
   "source": [
    "col_list = ['SPY_Close','high-low','before_high-low','SPY_Volume','QQQ_Close','CPER','^VIX','^RUT','yield_curve','EMA_50', 'EMA_200','IEI','^GDAXI', '^FTSE','DX-Y.NYB', 'JPY=X', 'EUR=X', 'USO','ds']\n",
    "ext_cols = l#lst_[7:15]\n",
    "ext_cols.append('ds') # add the date column\n",
    "result3 = model_own_features(data= SPY , column='SPY_Close', keep_columns=col_list)\n",
    "# Now merge \n",
    "result3 = result3.merge(external_data[ext_cols], on='ds', how='left')\n",
    "result3 = result3.drop('ds',axis=1) # drop the date column\n",
    "result3.info()"
   ]
  },
  {
   "cell_type": "code",
   "execution_count": 222,
   "id": "fd200ca3",
   "metadata": {},
   "outputs": [],
   "source": [
    "window_size = 30\n",
    "X_train, X_test, y_train, y_test,X = prepare_RNN_data(result3, 30,scaler)"
   ]
  },
  {
   "cell_type": "code",
   "execution_count": 223,
   "id": "d69a5ab4",
   "metadata": {},
   "outputs": [
    {
     "name": "stderr",
     "output_type": "stream",
     "text": [
      "c:\\Users\\OMER\\PycharmProjects\\Project\\.venv\\lib\\site-packages\\keras\\src\\layers\\rnn\\rnn.py:199: UserWarning: Do not pass an `input_shape`/`input_dim` argument to a layer. When using Sequential models, prefer using an `Input(shape)` object as the first layer in the model instead.\n",
      "  super().__init__(**kwargs)\n"
     ]
    },
    {
     "name": "stdout",
     "output_type": "stream",
     "text": [
      "Best loss: 0.0010562548413872719 Config: {'model_type': 'GRU', 'n_layers': 1, 'units': (32,), 'learning_rate': 0.004, 'dense_units': None, 'dense_activation': 'relu', 'dropout_rate': 0.1}\n"
     ]
    }
   ],
   "source": [
    "best_model, best_loss, best_cfg = search_best_model(\n",
    "    model_type=\"GRU\",                # or \"LSTM\"\n",
    "    X_train=X_train, y_train=y_train,\n",
    "    X_val=X_test,  y_val=y_test,\n",
    "    window_size=window_size, # None since we reshape to (samples, 1, features)\n",
    "    layer_options=[1,2,3],\n",
    "    unit_options=[32,64,92],\n",
    "    epochs=25,\n",
    "    batch_size=32,\n",
    "    patience=5,\n",
    "    learning_rates=(0.004,0.003),\n",
    "    dense_units = None,\n",
    "    dense_activation='relu',\n",
    "    dropout_rate=0.1\n",
    ")\n",
    "print(\"Best loss:\", best_loss, \"Config:\", best_cfg)"
   ]
  },
  {
   "cell_type": "code",
   "execution_count": 216,
   "id": "e54f6b4c",
   "metadata": {},
   "outputs": [
    {
     "name": "stdout",
     "output_type": "stream",
     "text": [
      "Epoch 1/30\n"
     ]
    },
    {
     "name": "stderr",
     "output_type": "stream",
     "text": [
      "c:\\Users\\OMER\\PycharmProjects\\Project\\.venv\\lib\\site-packages\\keras\\src\\layers\\rnn\\rnn.py:199: UserWarning: Do not pass an `input_shape`/`input_dim` argument to a layer. When using Sequential models, prefer using an `Input(shape)` object as the first layer in the model instead.\n",
      "  super().__init__(**kwargs)\n"
     ]
    },
    {
     "name": "stdout",
     "output_type": "stream",
     "text": [
      "\u001b[1m45/46\u001b[0m \u001b[32m━━━━━━━━━━━━━━━━━━━\u001b[0m\u001b[37m━\u001b[0m \u001b[1m0s\u001b[0m 15ms/step - loss: 0.0955\n",
      "Epoch 1: val_loss improved from inf to 0.03136, saving model to best_gru_with_external.h5\n"
     ]
    },
    {
     "name": "stderr",
     "output_type": "stream",
     "text": [
      "WARNING:absl:You are saving your model as an HDF5 file via `model.save()` or `keras.saving.save_model(model)`. This file format is considered legacy. We recommend using instead the native Keras format, e.g. `model.save('my_model.keras')` or `keras.saving.save_model(model, 'my_model.keras')`. \n"
     ]
    },
    {
     "name": "stdout",
     "output_type": "stream",
     "text": [
      "\u001b[1m46/46\u001b[0m \u001b[32m━━━━━━━━━━━━━━━━━━━━\u001b[0m\u001b[37m\u001b[0m \u001b[1m2s\u001b[0m 20ms/step - loss: 0.0935 - val_loss: 0.0314\n",
      "Epoch 2/30\n",
      "\u001b[1m45/46\u001b[0m \u001b[32m━━━━━━━━━━━━━━━━━━━\u001b[0m\u001b[37m━\u001b[0m \u001b[1m0s\u001b[0m 15ms/step - loss: 0.0111\n",
      "Epoch 2: val_loss improved from 0.03136 to 0.00909, saving model to best_gru_with_external.h5\n"
     ]
    },
    {
     "name": "stderr",
     "output_type": "stream",
     "text": [
      "WARNING:absl:You are saving your model as an HDF5 file via `model.save()` or `keras.saving.save_model(model)`. This file format is considered legacy. We recommend using instead the native Keras format, e.g. `model.save('my_model.keras')` or `keras.saving.save_model(model, 'my_model.keras')`. \n"
     ]
    },
    {
     "name": "stdout",
     "output_type": "stream",
     "text": [
      "\u001b[1m46/46\u001b[0m \u001b[32m━━━━━━━━━━━━━━━━━━━━\u001b[0m\u001b[37m\u001b[0m \u001b[1m1s\u001b[0m 17ms/step - loss: 0.0110 - val_loss: 0.0091\n",
      "Epoch 3/30\n",
      "\u001b[1m44/46\u001b[0m \u001b[32m━━━━━━━━━━━━━━━━━━━\u001b[0m\u001b[37m━\u001b[0m \u001b[1m0s\u001b[0m 16ms/step - loss: 0.0056\n",
      "Epoch 3: val_loss improved from 0.00909 to 0.00674, saving model to best_gru_with_external.h5\n"
     ]
    },
    {
     "name": "stderr",
     "output_type": "stream",
     "text": [
      "WARNING:absl:You are saving your model as an HDF5 file via `model.save()` or `keras.saving.save_model(model)`. This file format is considered legacy. We recommend using instead the native Keras format, e.g. `model.save('my_model.keras')` or `keras.saving.save_model(model, 'my_model.keras')`. \n"
     ]
    },
    {
     "name": "stdout",
     "output_type": "stream",
     "text": [
      "\u001b[1m46/46\u001b[0m \u001b[32m━━━━━━━━━━━━━━━━━━━━\u001b[0m\u001b[37m\u001b[0m \u001b[1m1s\u001b[0m 19ms/step - loss: 0.0056 - val_loss: 0.0067\n",
      "Epoch 4/30\n",
      "\u001b[1m45/46\u001b[0m \u001b[32m━━━━━━━━━━━━━━━━━━━\u001b[0m\u001b[37m━\u001b[0m \u001b[1m0s\u001b[0m 15ms/step - loss: 0.0048\n",
      "Epoch 4: val_loss improved from 0.00674 to 0.00214, saving model to best_gru_with_external.h5\n"
     ]
    },
    {
     "name": "stderr",
     "output_type": "stream",
     "text": [
      "WARNING:absl:You are saving your model as an HDF5 file via `model.save()` or `keras.saving.save_model(model)`. This file format is considered legacy. We recommend using instead the native Keras format, e.g. `model.save('my_model.keras')` or `keras.saving.save_model(model, 'my_model.keras')`. \n"
     ]
    },
    {
     "name": "stdout",
     "output_type": "stream",
     "text": [
      "\u001b[1m46/46\u001b[0m \u001b[32m━━━━━━━━━━━━━━━━━━━━\u001b[0m\u001b[37m\u001b[0m \u001b[1m1s\u001b[0m 17ms/step - loss: 0.0048 - val_loss: 0.0021\n",
      "Epoch 5/30\n",
      "\u001b[1m44/46\u001b[0m \u001b[32m━━━━━━━━━━━━━━━━━━━\u001b[0m\u001b[37m━\u001b[0m \u001b[1m0s\u001b[0m 17ms/step - loss: 0.0041\n",
      "Epoch 5: val_loss did not improve from 0.00214\n",
      "\u001b[1m46/46\u001b[0m \u001b[32m━━━━━━━━━━━━━━━━━━━━\u001b[0m\u001b[37m\u001b[0m \u001b[1m1s\u001b[0m 19ms/step - loss: 0.0041 - val_loss: 0.0048\n",
      "Epoch 6/30\n",
      "\u001b[1m46/46\u001b[0m \u001b[32m━━━━━━━━━━━━━━━━━━━━\u001b[0m\u001b[37m\u001b[0m \u001b[1m0s\u001b[0m 16ms/step - loss: 0.0033\n",
      "Epoch 6: val_loss improved from 0.00214 to 0.00169, saving model to best_gru_with_external.h5\n"
     ]
    },
    {
     "name": "stderr",
     "output_type": "stream",
     "text": [
      "WARNING:absl:You are saving your model as an HDF5 file via `model.save()` or `keras.saving.save_model(model)`. This file format is considered legacy. We recommend using instead the native Keras format, e.g. `model.save('my_model.keras')` or `keras.saving.save_model(model, 'my_model.keras')`. \n"
     ]
    },
    {
     "name": "stdout",
     "output_type": "stream",
     "text": [
      "\u001b[1m46/46\u001b[0m \u001b[32m━━━━━━━━━━━━━━━━━━━━\u001b[0m\u001b[37m\u001b[0m \u001b[1m1s\u001b[0m 18ms/step - loss: 0.0033 - val_loss: 0.0017\n",
      "Epoch 7/30\n",
      "\u001b[1m44/46\u001b[0m \u001b[32m━━━━━━━━━━━━━━━━━━━\u001b[0m\u001b[37m━\u001b[0m \u001b[1m0s\u001b[0m 17ms/step - loss: 0.0026\n",
      "Epoch 7: val_loss improved from 0.00169 to 0.00047, saving model to best_gru_with_external.h5\n"
     ]
    },
    {
     "name": "stderr",
     "output_type": "stream",
     "text": [
      "WARNING:absl:You are saving your model as an HDF5 file via `model.save()` or `keras.saving.save_model(model)`. This file format is considered legacy. We recommend using instead the native Keras format, e.g. `model.save('my_model.keras')` or `keras.saving.save_model(model, 'my_model.keras')`. \n"
     ]
    },
    {
     "name": "stdout",
     "output_type": "stream",
     "text": [
      "\u001b[1m46/46\u001b[0m \u001b[32m━━━━━━━━━━━━━━━━━━━━\u001b[0m\u001b[37m\u001b[0m \u001b[1m1s\u001b[0m 19ms/step - loss: 0.0026 - val_loss: 4.6952e-04\n",
      "Epoch 8/30\n",
      "\u001b[1m45/46\u001b[0m \u001b[32m━━━━━━━━━━━━━━━━━━━\u001b[0m\u001b[37m━\u001b[0m \u001b[1m0s\u001b[0m 15ms/step - loss: 0.0022\n",
      "Epoch 8: val_loss did not improve from 0.00047\n",
      "\u001b[1m46/46\u001b[0m \u001b[32m━━━━━━━━━━━━━━━━━━━━\u001b[0m\u001b[37m\u001b[0m \u001b[1m1s\u001b[0m 16ms/step - loss: 0.0022 - val_loss: 0.0031\n",
      "Epoch 9/30\n",
      "\u001b[1m45/46\u001b[0m \u001b[32m━━━━━━━━━━━━━━━━━━━\u001b[0m\u001b[37m━\u001b[0m \u001b[1m0s\u001b[0m 17ms/step - loss: 0.0024\n",
      "Epoch 9: val_loss did not improve from 0.00047\n",
      "\u001b[1m46/46\u001b[0m \u001b[32m━━━━━━━━━━━━━━━━━━━━\u001b[0m\u001b[37m\u001b[0m \u001b[1m1s\u001b[0m 19ms/step - loss: 0.0023 - val_loss: 0.0038\n",
      "Epoch 10/30\n",
      "\u001b[1m45/46\u001b[0m \u001b[32m━━━━━━━━━━━━━━━━━━━\u001b[0m\u001b[37m━\u001b[0m \u001b[1m0s\u001b[0m 15ms/step - loss: 0.0017\n",
      "Epoch 10: val_loss did not improve from 0.00047\n",
      "\u001b[1m46/46\u001b[0m \u001b[32m━━━━━━━━━━━━━━━━━━━━\u001b[0m\u001b[37m\u001b[0m \u001b[1m1s\u001b[0m 16ms/step - loss: 0.0017 - val_loss: 0.0019\n",
      "Epoch 11/30\n",
      "\u001b[1m45/46\u001b[0m \u001b[32m━━━━━━━━━━━━━━━━━━━\u001b[0m\u001b[37m━\u001b[0m \u001b[1m0s\u001b[0m 16ms/step - loss: 0.0016\n",
      "Epoch 11: val_loss improved from 0.00047 to 0.00041, saving model to best_gru_with_external.h5\n"
     ]
    },
    {
     "name": "stderr",
     "output_type": "stream",
     "text": [
      "WARNING:absl:You are saving your model as an HDF5 file via `model.save()` or `keras.saving.save_model(model)`. This file format is considered legacy. We recommend using instead the native Keras format, e.g. `model.save('my_model.keras')` or `keras.saving.save_model(model, 'my_model.keras')`. \n"
     ]
    },
    {
     "name": "stdout",
     "output_type": "stream",
     "text": [
      "\u001b[1m46/46\u001b[0m \u001b[32m━━━━━━━━━━━━━━━━━━━━\u001b[0m\u001b[37m\u001b[0m \u001b[1m1s\u001b[0m 19ms/step - loss: 0.0015 - val_loss: 4.0722e-04\n",
      "Epoch 12/30\n",
      "\u001b[1m45/46\u001b[0m \u001b[32m━━━━━━━━━━━━━━━━━━━\u001b[0m\u001b[37m━\u001b[0m \u001b[1m0s\u001b[0m 15ms/step - loss: 0.0017\n",
      "Epoch 12: val_loss did not improve from 0.00041\n",
      "\u001b[1m46/46\u001b[0m \u001b[32m━━━━━━━━━━━━━━━━━━━━\u001b[0m\u001b[37m\u001b[0m \u001b[1m1s\u001b[0m 17ms/step - loss: 0.0017 - val_loss: 0.0024\n",
      "Epoch 13/30\n",
      "\u001b[1m45/46\u001b[0m \u001b[32m━━━━━━━━━━━━━━━━━━━\u001b[0m\u001b[37m━\u001b[0m \u001b[1m0s\u001b[0m 16ms/step - loss: 0.0014\n",
      "Epoch 13: val_loss did not improve from 0.00041\n",
      "\u001b[1m46/46\u001b[0m \u001b[32m━━━━━━━━━━━━━━━━━━━━\u001b[0m\u001b[37m\u001b[0m \u001b[1m1s\u001b[0m 17ms/step - loss: 0.0014 - val_loss: 4.2149e-04\n",
      "Epoch 14/30\n",
      "\u001b[1m45/46\u001b[0m \u001b[32m━━━━━━━━━━━━━━━━━━━\u001b[0m\u001b[37m━\u001b[0m \u001b[1m0s\u001b[0m 15ms/step - loss: 0.0012\n",
      "Epoch 14: val_loss did not improve from 0.00041\n",
      "\u001b[1m46/46\u001b[0m \u001b[32m━━━━━━━━━━━━━━━━━━━━\u001b[0m\u001b[37m\u001b[0m \u001b[1m1s\u001b[0m 16ms/step - loss: 0.0012 - val_loss: 0.0012\n",
      "Epoch 15/30\n",
      "\u001b[1m44/46\u001b[0m \u001b[32m━━━━━━━━━━━━━━━━━━━\u001b[0m\u001b[37m━\u001b[0m \u001b[1m0s\u001b[0m 16ms/step - loss: 0.0010\n",
      "Epoch 15: val_loss did not improve from 0.00041\n",
      "\u001b[1m46/46\u001b[0m \u001b[32m━━━━━━━━━━━━━━━━━━━━\u001b[0m\u001b[37m\u001b[0m \u001b[1m1s\u001b[0m 18ms/step - loss: 0.0010 - val_loss: 0.0012\n",
      "Epoch 16/30\n",
      "\u001b[1m45/46\u001b[0m \u001b[32m━━━━━━━━━━━━━━━━━━━\u001b[0m\u001b[37m━\u001b[0m \u001b[1m0s\u001b[0m 15ms/step - loss: 0.0012\n",
      "Epoch 16: val_loss did not improve from 0.00041\n",
      "\u001b[1m46/46\u001b[0m \u001b[32m━━━━━━━━━━━━━━━━━━━━\u001b[0m\u001b[37m\u001b[0m \u001b[1m1s\u001b[0m 17ms/step - loss: 0.0012 - val_loss: 7.0705e-04\n"
     ]
    },
    {
     "data": {
      "image/png": "[encoded data removed]",
      "text/plain": [
       "<Figure size 800x500 with 1 Axes>"
      ]
     },
     "metadata": {},
     "output_type": "display_data"
    }
   ],
   "source": [
    "model_gru , history= train_gru(\n",
    "    X_train, y_train,\n",
    "    learning_rate=0.004,\n",
    "    epochs=30,\n",
    "    num_layers=1,\n",
    "    units=(32,),\n",
    "    window_size=window_size,\n",
    "    batch_size=32,\n",
    "    validation_split=0.1,\n",
    "    patience=5,\n",
    "    checkpoint_path='best_gru_with_external.h5',\n",
    "    dense_units=None,\n",
    "    dense_activation='relu',\n",
    "    dropout_rate=0.1\n",
    ")\n",
    "\n",
    "# 2) Plot\n",
    "plot_training_history(history, title=\"GRU Training & Validation Loss\")"
   ]
  },
  {
   "cell_type": "code",
   "execution_count": null,
   "id": "99a1d864",
   "metadata": {},
   "outputs": [],
   "source": [
    "best_model, best_loss, best_cfg = search_best_model(\n",
    "    model_type=\"LSTM\",                # or \"LSTM\"\n",
    "    X_train=X_train, y_train=y_train,\n",
    "    X_val=X_test,  y_val=y_test,\n",
    "    window_size=window_size, # None since we reshape to (samples, 1, features)\n",
    "    layer_options=[1,2,3],\n",
    "    unit_options=[32,64,92],\n",
    "    epochs=25,\n",
    "    batch_size=32,\n",
    "    patience=5,\n",
    "    learning_rates=(0.003,),\n",
    "    dense_units = None,\n",
    "    dense_activation='relu',\n",
    "    dropout_rate=0.1\n",
    ")\n",
    "print(\"Best loss:\", best_loss, \"Config:\", best_cfg)"
   ]
  },
  {
   "cell_type": "code",
   "execution_count": 217,
   "id": "1e2ca9c8",
   "metadata": {},
   "outputs": [
    {
     "name": "stdout",
     "output_type": "stream",
     "text": [
      "Epoch 1/30\n",
      "\u001b[1m45/46\u001b[0m \u001b[32m━━━━━━━━━━━━━━━━━━━\u001b[0m\u001b[37m━\u001b[0m \u001b[1m0s\u001b[0m 28ms/step - loss: 0.0503\n",
      "Epoch 1: val_loss improved from inf to 0.01122, saving model to best_lstm_with_external.h5\n"
     ]
    },
    {
     "name": "stderr",
     "output_type": "stream",
     "text": [
      "WARNING:absl:You are saving your model as an HDF5 file via `model.save()` or `keras.saving.save_model(model)`. This file format is considered legacy. We recommend using instead the native Keras format, e.g. `model.save('my_model.keras')` or `keras.saving.save_model(model, 'my_model.keras')`. \n"
     ]
    },
    {
     "name": "stdout",
     "output_type": "stream",
     "text": [
      "\u001b[1m46/46\u001b[0m \u001b[32m━━━━━━━━━━━━━━━━━━━━\u001b[0m\u001b[37m\u001b[0m \u001b[1m2s\u001b[0m 34ms/step - loss: 0.0493 - val_loss: 0.0112\n",
      "Epoch 2/30\n",
      "\u001b[1m45/46\u001b[0m \u001b[32m━━━━━━━━━━━━━━━━━━━\u001b[0m\u001b[37m━\u001b[0m \u001b[1m0s\u001b[0m 27ms/step - loss: 0.0452\n",
      "Epoch 2: val_loss improved from 0.01122 to 0.00944, saving model to best_lstm_with_external.h5\n"
     ]
    },
    {
     "name": "stderr",
     "output_type": "stream",
     "text": [
      "WARNING:absl:You are saving your model as an HDF5 file via `model.save()` or `keras.saving.save_model(model)`. This file format is considered legacy. We recommend using instead the native Keras format, e.g. `model.save('my_model.keras')` or `keras.saving.save_model(model, 'my_model.keras')`. \n"
     ]
    },
    {
     "name": "stdout",
     "output_type": "stream",
     "text": [
      "\u001b[1m46/46\u001b[0m \u001b[32m━━━━━━━━━━━━━━━━━━━━\u001b[0m\u001b[37m\u001b[0m \u001b[1m1s\u001b[0m 30ms/step - loss: 0.0443 - val_loss: 0.0094\n",
      "Epoch 3/30\n",
      "\u001b[1m44/46\u001b[0m \u001b[32m━━━━━━━━━━━━━━━━━━━\u001b[0m\u001b[37m━\u001b[0m \u001b[1m0s\u001b[0m 27ms/step - loss: 0.0231\n",
      "Epoch 3: val_loss improved from 0.00944 to 0.00115, saving model to best_lstm_with_external.h5\n"
     ]
    },
    {
     "name": "stderr",
     "output_type": "stream",
     "text": [
      "WARNING:absl:You are saving your model as an HDF5 file via `model.save()` or `keras.saving.save_model(model)`. This file format is considered legacy. We recommend using instead the native Keras format, e.g. `model.save('my_model.keras')` or `keras.saving.save_model(model, 'my_model.keras')`. \n"
     ]
    },
    {
     "name": "stdout",
     "output_type": "stream",
     "text": [
      "\u001b[1m46/46\u001b[0m \u001b[32m━━━━━━━━━━━━━━━━━━━━\u001b[0m\u001b[37m\u001b[0m \u001b[1m1s\u001b[0m 29ms/step - loss: 0.0224 - val_loss: 0.0012\n",
      "Epoch 4/30\n",
      "\u001b[1m45/46\u001b[0m \u001b[32m━━━━━━━━━━━━━━━━━━━\u001b[0m\u001b[37m━\u001b[0m \u001b[1m0s\u001b[0m 26ms/step - loss: 0.0224\n",
      "Epoch 4: val_loss did not improve from 0.00115\n",
      "\u001b[1m46/46\u001b[0m \u001b[32m━━━━━━━━━━━━━━━━━━━━\u001b[0m\u001b[37m\u001b[0m \u001b[1m1s\u001b[0m 27ms/step - loss: 0.0219 - val_loss: 0.0033\n",
      "Epoch 5/30\n",
      "\u001b[1m45/46\u001b[0m \u001b[32m━━━━━━━━━━━━━━━━━━━\u001b[0m\u001b[37m━\u001b[0m \u001b[1m0s\u001b[0m 28ms/step - loss: 0.0253\n",
      "Epoch 5: val_loss did not improve from 0.00115\n",
      "\u001b[1m46/46\u001b[0m \u001b[32m━━━━━━━━━━━━━━━━━━━━\u001b[0m\u001b[37m\u001b[0m \u001b[1m1s\u001b[0m 30ms/step - loss: 0.0247 - val_loss: 0.0046\n",
      "Epoch 6/30\n",
      "\u001b[1m45/46\u001b[0m \u001b[32m━━━━━━━━━━━━━━━━━━━\u001b[0m\u001b[37m━\u001b[0m \u001b[1m0s\u001b[0m 26ms/step - loss: 0.0110\n",
      "Epoch 6: val_loss did not improve from 0.00115\n",
      "\u001b[1m46/46\u001b[0m \u001b[32m━━━━━━━━━━━━━━━━━━━━\u001b[0m\u001b[37m\u001b[0m \u001b[1m1s\u001b[0m 28ms/step - loss: 0.0108 - val_loss: 0.0072\n",
      "Epoch 7/30\n",
      "\u001b[1m45/46\u001b[0m \u001b[32m━━━━━━━━━━━━━━━━━━━\u001b[0m\u001b[37m━\u001b[0m \u001b[1m0s\u001b[0m 27ms/step - loss: 0.0070\n",
      "Epoch 7: val_loss did not improve from 0.00115\n",
      "\u001b[1m46/46\u001b[0m \u001b[32m━━━━━━━━━━━━━━━━━━━━\u001b[0m\u001b[37m\u001b[0m \u001b[1m1s\u001b[0m 29ms/step - loss: 0.0070 - val_loss: 0.0051\n",
      "Epoch 8/30\n",
      "\u001b[1m45/46\u001b[0m \u001b[32m━━━━━━━━━━━━━━━━━━━\u001b[0m\u001b[37m━\u001b[0m \u001b[1m0s\u001b[0m 25ms/step - loss: 0.0173\n",
      "Epoch 8: val_loss did not improve from 0.00115\n",
      "\u001b[1m46/46\u001b[0m \u001b[32m━━━━━━━━━━━━━━━━━━━━\u001b[0m\u001b[37m\u001b[0m \u001b[1m1s\u001b[0m 27ms/step - loss: 0.0170 - val_loss: 0.0017\n"
     ]
    }
   ],
   "source": [
    "model_lstm = train_lstm(\n",
    "    X_train, y_train,\n",
    "    learning_rate=0.004,\n",
    "    epochs=30,\n",
    "    num_layers=1,\n",
    "    units=(64,),\n",
    "    window_size=window_size,\n",
    "    batch_size=32,\n",
    "    validation_split=0.1,\n",
    "    patience=5,\n",
    "    checkpoint_path='best_lstm_with_external.h5',\n",
    "    dense_units=None,\n",
    "    dense_activation='relu',\n",
    "    dropout_rate=None\n",
    ")[0]"
   ]
  },
  {
   "cell_type": "code",
   "execution_count": 218,
   "id": "324ea6f2",
   "metadata": {},
   "outputs": [
    {
     "name": "stdout",
     "output_type": "stream",
     "text": [
      "\u001b[1m13/13\u001b[0m \u001b[32m━━━━━━━━━━━━━━━━━━━━\u001b[0m\u001b[37m\u001b[0m \u001b[1m0s\u001b[0m 18ms/step\n",
      "\u001b[1m13/13\u001b[0m \u001b[32m━━━━━━━━━━━━━━━━━━━━\u001b[0m\u001b[37m\u001b[0m \u001b[1m0s\u001b[0m 14ms/step\n",
      "LSTM - MSE: 993589.0234, R²: -2.3118\n",
      "GRU  - MSE: 84905.8412, R²: 0.7170\n"
     ]
    }
   ],
   "source": [
    "abs_result = evaluate_models_with_price_scaler(\n",
    "    model_lstm=model_lstm,\n",
    "    model_gru=model_gru,\n",
    "    X_test=X_test,\n",
    "    y_test=y_test,\n",
    "    scaler=scaler\n",
    ")"
   ]
  },
  {
   "cell_type": "markdown",
   "id": "0c44f6ab",
   "metadata": {},
   "source": [
    "# **Forcasting return data**"
   ]
  },
  {
   "cell_type": "code",
   "execution_count": 108,
   "id": "35700c4b",
   "metadata": {},
   "outputs": [
    {
     "name": "stdout",
     "output_type": "stream",
     "text": [
      "<class 'pandas.core.frame.DataFrame'>\n",
      "RangeIndex: 2071 entries, 0 to 2070\n",
      "Data columns (total 47 columns):\n",
      " #   Column           Non-Null Count  Dtype         \n",
      "---  ------           --------------  -----         \n",
      " 0   QQQ_Close        2071 non-null   float64       \n",
      " 1   ^RUT             2071 non-null   float64       \n",
      " 2   ^VIX             2071 non-null   float64       \n",
      " 3   EMA_20           2071 non-null   float64       \n",
      " 4   ^GDAXI           2071 non-null   float64       \n",
      " 5   MSFT             2071 non-null   float64       \n",
      " 6   stdev_5          2071 non-null   float64       \n",
      " 7   ^FTSE            2071 non-null   float64       \n",
      " 8   GOOG             2071 non-null   float64       \n",
      " 9   AAPL             2071 non-null   float64       \n",
      " 10  high-low         2071 non-null   float64       \n",
      " 11  avgreturn5d      2071 non-null   float64       \n",
      " 12  abs_yield_curve  2071 non-null   float64       \n",
      " 13  std_price        2071 non-null   float64       \n",
      " 14  UNG              2071 non-null   float64       \n",
      " 15  abs_vix          2071 non-null   float64       \n",
      " 16  SLV              2071 non-null   float64       \n",
      " 17  stdev            2071 non-null   float64       \n",
      " 18  BTC-USD          2071 non-null   float64       \n",
      " 19  EMA_50           2071 non-null   float64       \n",
      " 20  EMA_200          2071 non-null   float64       \n",
      " 21  ^TNX             2071 non-null   float64       \n",
      " 22  USO              2071 non-null   float64       \n",
      " 23  IWM_avg5d        2071 non-null   float64       \n",
      " 24  shiler pe        2071 non-null   float64       \n",
      " 25  JPY=X            2071 non-null   float64       \n",
      " 26  GLD              2071 non-null   float64       \n",
      " 27  SPY_AbsChange    2071 non-null   float64       \n",
      " 28  SPY_Volume       2071 non-null   float64       \n",
      " 29  ^N225            2071 non-null   float64       \n",
      " 30  CPER             2071 non-null   float64       \n",
      " 31  CNYUSD=X         2071 non-null   float64       \n",
      " 32  before_high-low  2071 non-null   float64       \n",
      " 33  abs_vol          2071 non-null   int64         \n",
      " 34  IWM_std_5d       2071 non-null   float64       \n",
      " 35  yield_curve      2071 non-null   float64       \n",
      " 36  IEI              2071 non-null   float64       \n",
      " 37  DX-Y.NYB         2071 non-null   float64       \n",
      " 38  EUR=X            2071 non-null   float64       \n",
      " 39  avgreturn10d     2071 non-null   float64       \n",
      " 40  2Y_Yield         2071 non-null   float64       \n",
      " 41  EUR              2071 non-null   float64       \n",
      " 42  SPY_RSI          2071 non-null   float64       \n",
      " 43  DXY              2071 non-null   float64       \n",
      " 44  JPY              2071 non-null   float64       \n",
      " 45  ds               2071 non-null   datetime64[ns]\n",
      " 46  SPY_return       2071 non-null   float64       \n",
      "dtypes: datetime64[ns](1), float64(45), int64(1)\n",
      "memory usage: 760.6 KB\n"
     ]
    }
   ],
   "source": [
    "return_data = pd.read_pickle('df_with_QQQ.pkl')\n",
    "return_data.info()"
   ]
  },
  {
   "cell_type": "code",
   "execution_count": 109,
   "id": "0724595f",
   "metadata": {},
   "outputs": [
    {
     "name": "stdout",
     "output_type": "stream",
     "text": [
      "['QQQ_Close', '^RUT', '^VIX', 'EMA_20', '^GDAXI', 'MSFT', 'stdev_5', '^FTSE', 'GOOG', 'AAPL', 'high-low', 'avgreturn5d', 'abs_yield_curve', 'std_price', 'UNG', 'abs_vix', 'SLV', 'stdev', 'BTC-USD', 'EMA_50', 'EMA_200', '^TNX', 'USO', 'IWM_avg5d', 'shiler pe', 'JPY=X', 'GLD', 'SPY_AbsChange', 'SPY_Volume', '^N225', 'CPER', 'CNYUSD=X', 'before_high-low', 'abs_vol', 'IWM_std_5d', 'yield_curve', 'IEI', 'DX-Y.NYB', 'EUR=X', 'avgreturn10d', '2Y_Yield', 'EUR', 'SPY_RSI', 'DXY', 'JPY', 'ds', 'SPY_return']\n"
     ]
    }
   ],
   "source": [
    "print(return_data.columns.to_list())\n",
    "return_data = return_data.reindex(columns=[\"SPY_return\"] + list(return_data.columns.drop(\"SPY_return\")))"
   ]
  },
  {
   "cell_type": "markdown",
   "id": "07c62ae5",
   "metadata": {},
   "source": [
    "### Add MACD data"
   ]
  },
  {
   "cell_type": "code",
   "execution_count": 130,
   "id": "6e1e2b32",
   "metadata": {},
   "outputs": [],
   "source": [
    "result1 = model_own_features(\n",
    "    data=SPY,\n",
    "    column='SPY_Close',\n",
    "    keep_columns=['SPY_Close','high-low','before_high-low','ds']\n",
    ")"
   ]
  },
  {
   "cell_type": "code",
   "execution_count": 131,
   "id": "7c3702e5",
   "metadata": {},
   "outputs": [],
   "source": [
    "return_data1 = return_data.merge(result1[['ds','MACD']], on='ds', how='inner')"
   ]
  },
  {
   "cell_type": "markdown",
   "id": "b8b7a42e",
   "metadata": {},
   "source": [
    "# Add features for seasonality "
   ]
  },
  {
   "cell_type": "code",
   "execution_count": 236,
   "id": "aa64dbd2",
   "metadata": {},
   "outputs": [
    {
     "name": "stdout",
     "output_type": "stream",
     "text": [
      "<class 'pandas.core.frame.DataFrame'>\n",
      "RangeIndex: 2026 entries, 0 to 2025\n",
      "Data columns (total 50 columns):\n",
      " #   Column           Non-Null Count  Dtype         \n",
      "---  ------           --------------  -----         \n",
      " 0   SPY_return       2026 non-null   float64       \n",
      " 1   QQQ_Close        2026 non-null   float64       \n",
      " 2   ^RUT             2026 non-null   float64       \n",
      " 3   ^VIX             2026 non-null   float64       \n",
      " 4   EMA_20           2026 non-null   float64       \n",
      " 5   ^GDAXI           2026 non-null   float64       \n",
      " 6   MSFT             2026 non-null   float64       \n",
      " 7   stdev_5          2026 non-null   float64       \n",
      " 8   ^FTSE            2026 non-null   float64       \n",
      " 9   GOOG             2026 non-null   float64       \n",
      " 10  AAPL             2026 non-null   float64       \n",
      " 11  high-low         2026 non-null   float64       \n",
      " 12  avgreturn5d      2026 non-null   float64       \n",
      " 13  abs_yield_curve  2026 non-null   float64       \n",
      " 14  std_price        2026 non-null   float64       \n",
      " 15  UNG              2026 non-null   float64       \n",
      " 16  abs_vix          2026 non-null   float64       \n",
      " 17  SLV              2026 non-null   float64       \n",
      " 18  stdev            2026 non-null   float64       \n",
      " 19  BTC-USD          2026 non-null   float64       \n",
      " 20  EMA_50           2026 non-null   float64       \n",
      " 21  EMA_200          2026 non-null   float64       \n",
      " 22  ^TNX             2026 non-null   float64       \n",
      " 23  USO              2026 non-null   float64       \n",
      " 24  IWM_avg5d        2026 non-null   float64       \n",
      " 25  shiler pe        2026 non-null   float64       \n",
      " 26  JPY=X            2026 non-null   float64       \n",
      " 27  GLD              2026 non-null   float64       \n",
      " 28  SPY_AbsChange    2026 non-null   float64       \n",
      " 29  SPY_Volume       2026 non-null   float64       \n",
      " 30  ^N225            2026 non-null   float64       \n",
      " 31  CPER             2026 non-null   float64       \n",
      " 32  CNYUSD=X         2026 non-null   float64       \n",
      " 33  before_high-low  2026 non-null   float64       \n",
      " 34  abs_vol          2026 non-null   int64         \n",
      " 35  IWM_std_5d       2026 non-null   float64       \n",
      " 36  yield_curve      2026 non-null   float64       \n",
      " 37  IEI              2026 non-null   float64       \n",
      " 38  DX-Y.NYB         2026 non-null   float64       \n",
      " 39  EUR=X            2026 non-null   float64       \n",
      " 40  avgreturn10d     2026 non-null   float64       \n",
      " 41  2Y_Yield         2026 non-null   float64       \n",
      " 42  EUR              2026 non-null   float64       \n",
      " 43  SPY_RSI          2026 non-null   float64       \n",
      " 44  DXY              2026 non-null   float64       \n",
      " 45  JPY              2026 non-null   float64       \n",
      " 46  ds               2026 non-null   datetime64[ns]\n",
      " 47  MACD             2026 non-null   float64       \n",
      " 48  month            2026 non-null   int32         \n",
      " 49  day_of_week      2026 non-null   int32         \n",
      "dtypes: datetime64[ns](1), float64(46), int32(2), int64(1)\n",
      "memory usage: 775.7 KB\n"
     ]
    }
   ],
   "source": [
    "\n",
    "return_data1['month'] = return_data1['ds'].dt.month\n",
    "return_data1['day_of_week'] = return_data1['ds'].dt.dayofweek\n",
    "return_data1['day_of_week'] = return_data1['day_of_week'] + 2\n",
    "return_data1.info()"
   ]
  },
  {
   "cell_type": "code",
   "execution_count": 238,
   "id": "cbe8c61b",
   "metadata": {},
   "outputs": [],
   "source": [
    "#x1 = return_data.drop(columns=['SPY_return','ds'])\n",
    "#y1 = return_data['SPY_return']\n",
    "cols = ['SPY_return', 'QQQ_Close', '^RUT', 'abs_vix','MSFT', 'stdev_5', '^FTSE', 'GOOG', 'AAPL', 'high-low', 'avgreturn5d', 'abs_yield_curve', 'std_price','SPY_AbsChange','abs_vol','2Y_Yield','EUR', 'SPY_RSI', 'DXY', 'JPY','month','day_of_week' ]\n",
    "inner_cols = ['SPY_return','stdev_5','high-low','std_price','SPY_AbsChange','abs_vol','SPY_RSI','EMA_20','MACD','month','day_of_week'] # the inner instruments features\n",
    "\n",
    "return_data_own_feat = return_data1[inner_cols] # create a df with only the inner instruments features\n",
    "\n"
   ]
  },
  {
   "cell_type": "code",
   "execution_count": null,
   "id": "154fa4d6",
   "metadata": {},
   "outputs": [
    {
     "name": "stdout",
     "output_type": "stream",
     "text": [
      "['SPY_return', 'QQQ_Close', '^RUT', 'abs_vix', 'MSFT', 'stdev_5', '^FTSE', 'GOOG', 'AAPL', 'high-low', 'avgreturn5d', 'abs_yield_curve', 'std_price', 'SPY_AbsChange', 'abs_vol', '2Y_Yield', 'EUR', 'SPY_RSI', 'DXY', 'JPY', 'EMA_20', 'MACD']\n"
     ]
    }
   ],
   "source": [
    "for x in inner_cols:\n",
    "    if x not in cols:\n",
    "        cols.append(x)\n",
    "\n",
    "print(cols)\n",
    "\n"
   ]
  },
  {
   "cell_type": "code",
   "execution_count": null,
   "id": "686a281f",
   "metadata": {},
   "outputs": [
    {
     "data": {
      "text/html": [
       "<div>\n",
       "<style scoped>\n",
       "    .dataframe tbody tr th:only-of-type {\n",
       "        vertical-align: middle;\n",
       "    }\n",
       "\n",
       "    .dataframe tbody tr th {\n",
       "        vertical-align: top;\n",
       "    }\n",
       "\n",
       "    .dataframe thead th {\n",
       "        text-align: right;\n",
       "    }\n",
       "</style>\n",
       "<table border=\"1\" class=\"dataframe\">\n",
       "  <thead>\n",
       "    <tr style=\"text-align: right;\">\n",
       "      <th></th>\n",
       "      <th>SPY_return</th>\n",
       "      <th>stdev_5</th>\n",
       "      <th>high-low</th>\n",
       "      <th>std_price</th>\n",
       "      <th>SPY_AbsChange</th>\n",
       "      <th>abs_vol</th>\n",
       "      <th>SPY_RSI</th>\n",
       "      <th>EMA_20</th>\n",
       "      <th>MACD</th>\n",
       "    </tr>\n",
       "  </thead>\n",
       "  <tbody>\n",
       "    <tr>\n",
       "      <th>0</th>\n",
       "      <td>0.725147</td>\n",
       "      <td>0.358121</td>\n",
       "      <td>26.150146</td>\n",
       "      <td>17.616534</td>\n",
       "      <td>-0.292102</td>\n",
       "      <td>3369120000</td>\n",
       "      <td>47.955152</td>\n",
       "      <td>0.005353</td>\n",
       "      <td>-2.163017</td>\n",
       "    </tr>\n",
       "    <tr>\n",
       "      <th>1</th>\n",
       "      <td>0.108532</td>\n",
       "      <td>0.356293</td>\n",
       "      <td>10.420166</td>\n",
       "      <td>15.284525</td>\n",
       "      <td>0.725147</td>\n",
       "      <td>3107670000</td>\n",
       "      <td>48.276382</td>\n",
       "      <td>0.015185</td>\n",
       "      <td>-1.700607</td>\n",
       "    </tr>\n",
       "    <tr>\n",
       "      <th>2</th>\n",
       "      <td>0.293511</td>\n",
       "      <td>0.340680</td>\n",
       "      <td>11.839844</td>\n",
       "      <td>13.461341</td>\n",
       "      <td>0.834467</td>\n",
       "      <td>3159680000</td>\n",
       "      <td>47.892270</td>\n",
       "      <td>0.041730</td>\n",
       "      <td>-0.766106</td>\n",
       "    </tr>\n",
       "    <tr>\n",
       "      <th>3</th>\n",
       "      <td>-0.225505</td>\n",
       "      <td>0.373196</td>\n",
       "      <td>7.750000</td>\n",
       "      <td>11.390325</td>\n",
       "      <td>1.130427</td>\n",
       "      <td>3356740000</td>\n",
       "      <td>45.208163</td>\n",
       "      <td>0.016178</td>\n",
       "      <td>-0.451207</td>\n",
       "    </tr>\n",
       "    <tr>\n",
       "      <th>4</th>\n",
       "      <td>-0.164213</td>\n",
       "      <td>0.384971</td>\n",
       "      <td>21.140137</td>\n",
       "      <td>9.509412</td>\n",
       "      <td>-0.225505</td>\n",
       "      <td>3418730000</td>\n",
       "      <td>46.940722</td>\n",
       "      <td>-0.001028</td>\n",
       "      <td>-0.508855</td>\n",
       "    </tr>\n",
       "  </tbody>\n",
       "</table>\n",
       "</div>"
      ],
      "text/plain": [
       "   SPY_return   stdev_5   high-low  std_price  SPY_AbsChange     abs_vol  \\\n",
       "0    0.725147  0.358121  26.150146  17.616534      -0.292102  3369120000   \n",
       "1    0.108532  0.356293  10.420166  15.284525       0.725147  3107670000   \n",
       "2    0.293511  0.340680  11.839844  13.461341       0.834467  3159680000   \n",
       "3   -0.225505  0.373196   7.750000  11.390325       1.130427  3356740000   \n",
       "4   -0.164213  0.384971  21.140137   9.509412      -0.225505  3418730000   \n",
       "\n",
       "     SPY_RSI    EMA_20      MACD  \n",
       "0  47.955152  0.005353 -2.163017  \n",
       "1  48.276382  0.015185 -1.700607  \n",
       "2  47.892270  0.041730 -0.766106  \n",
       "3  45.208163  0.016178 -0.451207  \n",
       "4  46.940722 -0.001028 -0.508855  "
      ]
     },
     "execution_count": 134,
     "metadata": {},
     "output_type": "execute_result"
    }
   ],
   "source": [
    "#return_1.head()\n",
    "return_data1.head()"
   ]
  },
  {
   "cell_type": "markdown",
   "id": "87715f8d",
   "metadata": {},
   "source": [
    "## Preparing the data "
   ]
  },
  {
   "cell_type": "code",
   "execution_count": 250,
   "id": "a14ccde4",
   "metadata": {},
   "outputs": [],
   "source": [
    "\n",
    "from sklearn.preprocessing import RobustScaler\n",
    "\n",
    "def prepare_sequence_data(df, columns, window_size, target,test_size=0.1):\n",
    "    \"\"\"\n",
    "    Prepares sequence data for time-series modeling.\n",
    "\n",
    "    Parameters\n",
    "    ----------\n",
    "    df : pandas.DataFrame\n",
    "        Original DataFrame containing at least the columns in `columns`.\n",
    "    columns : list of str\n",
    "        List of column names to keep. The first column in this list is treated as the target.\n",
    "    window_size : int\n",
    "        Number of lagged periods to create for the target column.\n",
    "    test_size : float\n",
    "        Fraction of the data to reserve for testing (between 0 and 1).\n",
    "\n",
    "    Returns\n",
    "    -------\n",
    "    X_train, X_test : np.ndarray\n",
    "        Features shaped (n_samples, 1, n_features).\n",
    "    y_train, y_test : np.ndarray\n",
    "        Targets shaped (n_samples, 1).\n",
    "    scaler_X, scaler_y : RobustScaler\n",
    "        Fitted scalers for features and target.\n",
    "    \"\"\"\n",
    "    # 1) Select only the desired columns\n",
    "    data = df[columns].copy()\n",
    "    \n",
    "    # 2) Create lagged features for the target\n",
    "    for i in range(1, window_size + 1):\n",
    "        data[f\"{target}_lag_{i}\"] = data[target].shift(i)\n",
    "    \n",
    "    # 3) Drop rows with NaNs from lagging\n",
    "    data = data.dropna()\n",
    "    \n",
    "    # 4) Split into X and y\n",
    "    X = data.drop(columns=[target]).values\n",
    "    y = data[target].values.reshape(-1, 1)\n",
    "    \n",
    "    # 5) Scale features and target\n",
    "    scaler_X = RobustScaler().fit(X)\n",
    "    scaler_y = RobustScaler().fit(y)\n",
    "    X_scaled = scaler_X.transform(X)\n",
    "    y_scaled = scaler_y.transform(y)\n",
    "    \n",
    "    # 6) Reshape X for LSTM/GRU input: (samples, timesteps=1, features)\n",
    "    X_scaled = X_scaled.reshape(X_scaled.shape[0], 1, X_scaled.shape[1])\n",
    "    \n",
    "    # 7) Train-test split\n",
    "    split_idx = int((1 - test_size) * len(X_scaled))\n",
    "    X_train, X_test = X_scaled[:split_idx], X_scaled[split_idx:]\n",
    "    y_train, y_test = y_scaled[:split_idx], y_scaled[split_idx:]\n",
    "    \n",
    "    return X_train, X_test, y_train, y_test, scaler_X, scaler_y\n",
    "\n",
    "# Example usage:\n",
    "# cols = ['SPY_return', 'abs_vix', 'abs_vol']\n",
    "# X_train, X_test, y_train, y_test, scaler_X, scaler_y = prepare_sequence_data(return_data1, cols, window_size=5, test_size=0.1)\n"
   ]
  },
  {
   "cell_type": "code",
   "execution_count": 251,
   "id": "06798919",
   "metadata": {},
   "outputs": [],
   "source": [
    "X_train, X_test, y_train, y_test, scaler_X, scaler_y = prepare_sequence_data(return_data1, inner_cols, 5, 'SPY_return',test_size=0.1)"
   ]
  },
  {
   "cell_type": "code",
   "execution_count": null,
   "id": "5ccb5c00",
   "metadata": {},
   "outputs": [],
   "source": [
    "# Now with extended features :\n",
    "X_train_ext, X_test_ext, y_train_ext, y_test_ext, scaler_X_ext, scaler_y_ext = prepare_sequence_data(\n",
    "    return_data1, cols, 5, 'SPY_return', test_size=0.1\n",
    ")"
   ]
  },
  {
   "cell_type": "markdown",
   "id": "d6d25b06",
   "metadata": {},
   "source": [
    "## Search for the best params"
   ]
  },
  {
   "cell_type": "code",
   "execution_count": 319,
   "id": "29d2f1d5",
   "metadata": {},
   "outputs": [
    {
     "name": "stderr",
     "output_type": "stream",
     "text": [
      "c:\\Users\\OMER\\PycharmProjects\\Project\\.venv\\lib\\site-packages\\keras\\src\\layers\\rnn\\rnn.py:199: UserWarning: Do not pass an `input_shape`/`input_dim` argument to a layer. When using Sequential models, prefer using an `Input(shape)` object as the first layer in the model instead.\n",
      "  super().__init__(**kwargs)\n"
     ]
    },
    {
     "name": "stdout",
     "output_type": "stream",
     "text": [
      "Best loss: 0.2528541386127472 Config: {'model_type': 'GRU', 'n_layers': 1, 'units': (32,), 'learning_rate': 0.005, 'dense_units': None, 'dense_activation': 'relu', 'dropout_rate': 0.1}\n"
     ]
    }
   ],
   "source": [
    "best_model, best_loss, best_cfg = search_best_model(\n",
    "    model_type=\"GRU\",                # or \"LSTM\"\n",
    "    X_train=X_train, y_train=y_train,\n",
    "    X_val=X_test,  y_val=y_test,\n",
    "    window_size=None, # None since we reshape to (samples, 1, features)\n",
    "    layer_options=[1,2,3],\n",
    "    unit_options=[32,64,96],\n",
    "    epochs=25,\n",
    "    batch_size=32,\n",
    "    patience=3,\n",
    "    learning_rates=(0.005,0.0025),\n",
    "    dense_units = None,\n",
    "    dense_activation='relu',\n",
    "    dropout_rate=0.1\n",
    ")\n",
    "print(\"Best loss:\", best_loss, \"Config:\", best_cfg)\n"
   ]
  },
  {
   "cell_type": "code",
   "execution_count": 283,
   "id": "c394b891",
   "metadata": {},
   "outputs": [
    {
     "name": "stderr",
     "output_type": "stream",
     "text": [
      "c:\\Users\\OMER\\PycharmProjects\\Project\\.venv\\lib\\site-packages\\keras\\src\\layers\\rnn\\rnn.py:199: UserWarning: Do not pass an `input_shape`/`input_dim` argument to a layer. When using Sequential models, prefer using an `Input(shape)` object as the first layer in the model instead.\n",
      "  super().__init__(**kwargs)\n"
     ]
    },
    {
     "name": "stdout",
     "output_type": "stream",
     "text": [
      "Best loss: 0.2361878603696823 Config: {'model_type': 'LSTM', 'n_layers': 3, 'units': (32, 32, 92), 'learning_rate': 0.005, 'dense_units': None, 'dense_activation': 'relu', 'dropout_rate': 0.1}\n"
     ]
    }
   ],
   "source": [
    "best_model, best_loss, best_cfg = search_best_model(\n",
    "    model_type=\"LSTM\",                # or \"LSTM\"\n",
    "    X_train=X_train, y_train=y_train,\n",
    "    X_val=X_test,  y_val=y_test,\n",
    "    window_size=None,\n",
    "    layer_options=[1,2,3],\n",
    "    unit_options=[32,64,92],\n",
    "    epochs=25,\n",
    "    batch_size=32,\n",
    "    patience=3,\n",
    "    learning_rates=(0.005, 0.0025),\n",
    "    dense_units=None,\n",
    "    dense_activation='relu',\n",
    "    dropout_rate=0.1 # None for no dropout\n",
    ")\n",
    "print(\"Best loss:\", best_loss, \"Config:\", best_cfg)"
   ]
  },
  {
   "cell_type": "markdown",
   "id": "66700b64",
   "metadata": {},
   "source": [
    "### LSTM"
   ]
  },
  {
   "cell_type": "code",
   "execution_count": null,
   "id": "80c51aba",
   "metadata": {},
   "outputs": [
    {
     "name": "stdout",
     "output_type": "stream",
     "text": [
      "Epoch 1/30\n"
     ]
    },
    {
     "name": "stderr",
     "output_type": "stream",
     "text": [
      "c:\\Users\\OMER\\PycharmProjects\\Project\\.venv\\lib\\site-packages\\keras\\src\\layers\\rnn\\rnn.py:199: UserWarning: Do not pass an `input_shape`/`input_dim` argument to a layer. When using Sequential models, prefer using an `Input(shape)` object as the first layer in the model instead.\n",
      "  super().__init__(**kwargs)\n"
     ]
    },
    {
     "name": "stdout",
     "output_type": "stream",
     "text": [
      "\u001b[1m52/52\u001b[0m \u001b[32m━━━━━━━━━━━━━━━━━━━━\u001b[0m\u001b[37m\u001b[0m \u001b[1m0s\u001b[0m 4ms/step - loss: 1.3741\n",
      "Epoch 1: val_loss improved from inf to 0.36056, saving model to best_return_lstm.h5\n"
     ]
    },
    {
     "name": "stderr",
     "output_type": "stream",
     "text": [
      "WARNING:absl:You are saving your model as an HDF5 file via `model.save()` or `keras.saving.save_model(model)`. This file format is considered legacy. We recommend using instead the native Keras format, e.g. `model.save('my_model.keras')` or `keras.saving.save_model(model, 'my_model.keras')`. \n"
     ]
    },
    {
     "name": "stdout",
     "output_type": "stream",
     "text": [
      "\u001b[1m52/52\u001b[0m \u001b[32m━━━━━━━━━━━━━━━━━━━━\u001b[0m\u001b[37m\u001b[0m \u001b[1m3s\u001b[0m 11ms/step - loss: 1.3741 - val_loss: 0.3606\n",
      "Epoch 2/30\n",
      "\u001b[1m49/52\u001b[0m \u001b[32m━━━━━━━━━━━━━━━━━━\u001b[0m\u001b[37m━━\u001b[0m \u001b[1m0s\u001b[0m 4ms/step - loss: 0.6629\n",
      "Epoch 2: val_loss improved from 0.36056 to 0.29904, saving model to best_return_lstm.h5\n"
     ]
    },
    {
     "name": "stderr",
     "output_type": "stream",
     "text": [
      "WARNING:absl:You are saving your model as an HDF5 file via `model.save()` or `keras.saving.save_model(model)`. This file format is considered legacy. We recommend using instead the native Keras format, e.g. `model.save('my_model.keras')` or `keras.saving.save_model(model, 'my_model.keras')`. \n"
     ]
    },
    {
     "name": "stdout",
     "output_type": "stream",
     "text": [
      "\u001b[1m52/52\u001b[0m \u001b[32m━━━━━━━━━━━━━━━━━━━━\u001b[0m\u001b[37m\u001b[0m \u001b[1m0s\u001b[0m 6ms/step - loss: 0.6580 - val_loss: 0.2990\n",
      "Epoch 3/30\n",
      "\u001b[1m52/52\u001b[0m \u001b[32m━━━━━━━━━━━━━━━━━━━━\u001b[0m\u001b[37m\u001b[0m \u001b[1m0s\u001b[0m 4ms/step - loss: 0.4797\n",
      "Epoch 3: val_loss did not improve from 0.29904\n",
      "\u001b[1m52/52\u001b[0m \u001b[32m━━━━━━━━━━━━━━━━━━━━\u001b[0m\u001b[37m\u001b[0m \u001b[1m0s\u001b[0m 5ms/step - loss: 0.4783 - val_loss: 0.3160\n",
      "Epoch 4/30\n",
      "\u001b[1m42/52\u001b[0m \u001b[32m━━━━━━━━━━━━━━━━\u001b[0m\u001b[37m━━━━\u001b[0m \u001b[1m0s\u001b[0m 4ms/step - loss: 0.3366\n",
      "Epoch 4: val_loss improved from 0.29904 to 0.24695, saving model to best_return_lstm.h5\n"
     ]
    },
    {
     "name": "stderr",
     "output_type": "stream",
     "text": [
      "WARNING:absl:You are saving your model as an HDF5 file via `model.save()` or `keras.saving.save_model(model)`. This file format is considered legacy. We recommend using instead the native Keras format, e.g. `model.save('my_model.keras')` or `keras.saving.save_model(model, 'my_model.keras')`. \n"
     ]
    },
    {
     "name": "stdout",
     "output_type": "stream",
     "text": [
      "\u001b[1m52/52\u001b[0m \u001b[32m━━━━━━━━━━━━━━━━━━━━\u001b[0m\u001b[37m\u001b[0m \u001b[1m0s\u001b[0m 6ms/step - loss: 0.3330 - val_loss: 0.2470\n",
      "Epoch 5/30\n",
      "\u001b[1m52/52\u001b[0m \u001b[32m━━━━━━━━━━━━━━━━━━━━\u001b[0m\u001b[37m\u001b[0m \u001b[1m0s\u001b[0m 4ms/step - loss: 0.2634\n",
      "Epoch 5: val_loss did not improve from 0.24695\n",
      "\u001b[1m52/52\u001b[0m \u001b[32m━━━━━━━━━━━━━━━━━━━━\u001b[0m\u001b[37m\u001b[0m \u001b[1m0s\u001b[0m 5ms/step - loss: 0.2636 - val_loss: 0.3011\n",
      "Epoch 6/30\n",
      "\u001b[1m52/52\u001b[0m \u001b[32m━━━━━━━━━━━━━━━━━━━━\u001b[0m\u001b[37m\u001b[0m \u001b[1m0s\u001b[0m 4ms/step - loss: 0.2656\n",
      "Epoch 6: val_loss improved from 0.24695 to 0.20896, saving model to best_return_lstm.h5\n"
     ]
    },
    {
     "name": "stderr",
     "output_type": "stream",
     "text": [
      "WARNING:absl:You are saving your model as an HDF5 file via `model.save()` or `keras.saving.save_model(model)`. This file format is considered legacy. We recommend using instead the native Keras format, e.g. `model.save('my_model.keras')` or `keras.saving.save_model(model, 'my_model.keras')`. \n"
     ]
    },
    {
     "name": "stdout",
     "output_type": "stream",
     "text": [
      "\u001b[1m52/52\u001b[0m \u001b[32m━━━━━━━━━━━━━━━━━━━━\u001b[0m\u001b[37m\u001b[0m \u001b[1m0s\u001b[0m 6ms/step - loss: 0.2658 - val_loss: 0.2090\n",
      "Epoch 7/30\n",
      "\u001b[1m52/52\u001b[0m \u001b[32m━━━━━━━━━━━━━━━━━━━━\u001b[0m\u001b[37m\u001b[0m \u001b[1m0s\u001b[0m 4ms/step - loss: 0.2411\n",
      "Epoch 7: val_loss improved from 0.20896 to 0.16811, saving model to best_return_lstm.h5\n"
     ]
    },
    {
     "name": "stderr",
     "output_type": "stream",
     "text": [
      "WARNING:absl:You are saving your model as an HDF5 file via `model.save()` or `keras.saving.save_model(model)`. This file format is considered legacy. We recommend using instead the native Keras format, e.g. `model.save('my_model.keras')` or `keras.saving.save_model(model, 'my_model.keras')`. \n"
     ]
    },
    {
     "name": "stdout",
     "output_type": "stream",
     "text": [
      "\u001b[1m52/52\u001b[0m \u001b[32m━━━━━━━━━━━━━━━━━━━━\u001b[0m\u001b[37m\u001b[0m \u001b[1m0s\u001b[0m 6ms/step - loss: 0.2408 - val_loss: 0.1681\n",
      "Epoch 8/30\n",
      "\u001b[1m39/52\u001b[0m \u001b[32m━━━━━━━━━━━━━━━\u001b[0m\u001b[37m━━━━━\u001b[0m \u001b[1m0s\u001b[0m 4ms/step - loss: 0.1806\n",
      "Epoch 8: val_loss did not improve from 0.16811\n",
      "\u001b[1m52/52\u001b[0m \u001b[32m━━━━━━━━━━━━━━━━━━━━\u001b[0m\u001b[37m\u001b[0m \u001b[1m0s\u001b[0m 5ms/step - loss: 0.1886 - val_loss: 0.1761\n",
      "Epoch 9/30\n",
      "\u001b[1m52/52\u001b[0m \u001b[32m━━━━━━━━━━━━━━━━━━━━\u001b[0m\u001b[37m\u001b[0m \u001b[1m0s\u001b[0m 4ms/step - loss: 0.2827\n",
      "Epoch 9: val_loss did not improve from 0.16811\n",
      "\u001b[1m52/52\u001b[0m \u001b[32m━━━━━━━━━━━━━━━━━━━━\u001b[0m\u001b[37m\u001b[0m \u001b[1m0s\u001b[0m 5ms/step - loss: 0.2821 - val_loss: 0.2187\n",
      "Epoch 10/30\n",
      "\u001b[1m52/52\u001b[0m \u001b[32m━━━━━━━━━━━━━━━━━━━━\u001b[0m\u001b[37m\u001b[0m \u001b[1m0s\u001b[0m 4ms/step - loss: 0.1880\n",
      "Epoch 10: val_loss did not improve from 0.16811\n",
      "\u001b[1m52/52\u001b[0m \u001b[32m━━━━━━━━━━━━━━━━━━━━\u001b[0m\u001b[37m\u001b[0m \u001b[1m0s\u001b[0m 7ms/step - loss: 0.1880 - val_loss: 0.2023\n",
      "Epoch 11/30\n",
      "\u001b[1m51/52\u001b[0m \u001b[32m━━━━━━━━━━━━━━━━━━━\u001b[0m\u001b[37m━\u001b[0m \u001b[1m0s\u001b[0m 4ms/step - loss: 0.1913\n",
      "Epoch 11: val_loss improved from 0.16811 to 0.12395, saving model to best_return_lstm.h5\n"
     ]
    },
    {
     "name": "stderr",
     "output_type": "stream",
     "text": [
      "WARNING:absl:You are saving your model as an HDF5 file via `model.save()` or `keras.saving.save_model(model)`. This file format is considered legacy. We recommend using instead the native Keras format, e.g. `model.save('my_model.keras')` or `keras.saving.save_model(model, 'my_model.keras')`. \n"
     ]
    },
    {
     "name": "stdout",
     "output_type": "stream",
     "text": [
      "\u001b[1m52/52\u001b[0m \u001b[32m━━━━━━━━━━━━━━━━━━━━\u001b[0m\u001b[37m\u001b[0m \u001b[1m0s\u001b[0m 6ms/step - loss: 0.1906 - val_loss: 0.1239\n",
      "Epoch 12/30\n",
      "\u001b[1m48/52\u001b[0m \u001b[32m━━━━━━━━━━━━━━━━━━\u001b[0m\u001b[37m━━\u001b[0m \u001b[1m0s\u001b[0m 4ms/step - loss: 0.1461\n",
      "Epoch 12: val_loss did not improve from 0.12395\n",
      "\u001b[1m52/52\u001b[0m \u001b[32m━━━━━━━━━━━━━━━━━━━━\u001b[0m\u001b[37m\u001b[0m \u001b[1m0s\u001b[0m 5ms/step - loss: 0.1472 - val_loss: 0.1271\n",
      "Epoch 13/30\n",
      "\u001b[1m40/52\u001b[0m \u001b[32m━━━━━━━━━━━━━━━\u001b[0m\u001b[37m━━━━━\u001b[0m \u001b[1m0s\u001b[0m 4ms/step - loss: 0.2303\n",
      "Epoch 13: val_loss did not improve from 0.12395\n",
      "\u001b[1m52/52\u001b[0m \u001b[32m━━━━━━━━━━━━━━━━━━━━\u001b[0m\u001b[37m\u001b[0m \u001b[1m0s\u001b[0m 5ms/step - loss: 0.2283 - val_loss: 0.1548\n",
      "Epoch 14/30\n",
      "\u001b[1m41/52\u001b[0m \u001b[32m━━━━━━━━━━━━━━━\u001b[0m\u001b[37m━━━━━\u001b[0m \u001b[1m0s\u001b[0m 4ms/step - loss: 0.1677\n",
      "Epoch 14: val_loss did not improve from 0.12395\n",
      "\u001b[1m52/52\u001b[0m \u001b[32m━━━━━━━━━━━━━━━━━━━━\u001b[0m\u001b[37m\u001b[0m \u001b[1m0s\u001b[0m 5ms/step - loss: 0.1686 - val_loss: 0.1993\n",
      "Epoch 15/30\n",
      "\u001b[1m40/52\u001b[0m \u001b[32m━━━━━━━━━━━━━━━\u001b[0m\u001b[37m━━━━━\u001b[0m \u001b[1m0s\u001b[0m 4ms/step - loss: 0.1780\n",
      "Epoch 15: val_loss did not improve from 0.12395\n",
      "\u001b[1m52/52\u001b[0m \u001b[32m━━━━━━━━━━━━━━━━━━━━\u001b[0m\u001b[37m\u001b[0m \u001b[1m0s\u001b[0m 5ms/step - loss: 0.1737 - val_loss: 0.2096\n",
      "Epoch 16/30\n",
      "\u001b[1m42/52\u001b[0m \u001b[32m━━━━━━━━━━━━━━━━\u001b[0m\u001b[37m━━━━\u001b[0m \u001b[1m0s\u001b[0m 4ms/step - loss: 0.1634\n",
      "Epoch 16: val_loss did not improve from 0.12395\n",
      "\u001b[1m52/52\u001b[0m \u001b[32m━━━━━━━━━━━━━━━━━━━━\u001b[0m\u001b[37m\u001b[0m \u001b[1m0s\u001b[0m 5ms/step - loss: 0.1632 - val_loss: 0.2291\n"
     ]
    }
   ],
   "source": [
    "model_lstm = train_lstm(\n",
    "    X_train, y_train,\n",
    "    learning_rate=0.005,\n",
    "    epochs=30,\n",
    "    num_layers=3,\n",
    "    units=(32, 32, 92),\n",
    "    window_size=1,\n",
    "    batch_size=None,\n",
    "    validation_split=0.1,\n",
    "    patience=5,\n",
    "    checkpoint_path='best_return_lstm.h5',\n",
    "    dense_units=None,\n",
    "    dense_activation='relu',\n",
    "    dropout_rate=0.1\n",
    ")[0]"
   ]
  },
  {
   "cell_type": "markdown",
   "id": "31f49fd2",
   "metadata": {},
   "source": [
    "### GRU"
   ]
  },
  {
   "cell_type": "code",
   "execution_count": 321,
   "id": "14eb542e",
   "metadata": {},
   "outputs": [
    {
     "name": "stdout",
     "output_type": "stream",
     "text": [
      "Epoch 1/30\n"
     ]
    },
    {
     "name": "stderr",
     "output_type": "stream",
     "text": [
      "c:\\Users\\OMER\\PycharmProjects\\Project\\.venv\\lib\\site-packages\\keras\\src\\layers\\rnn\\rnn.py:199: UserWarning: Do not pass an `input_shape`/`input_dim` argument to a layer. When using Sequential models, prefer using an `Input(shape)` object as the first layer in the model instead.\n",
      "  super().__init__(**kwargs)\n"
     ]
    },
    {
     "name": "stdout",
     "output_type": "stream",
     "text": [
      "\u001b[1m38/52\u001b[0m \u001b[32m━━━━━━━━━━━━━━\u001b[0m\u001b[37m━━━━━━\u001b[0m \u001b[1m0s\u001b[0m 3ms/step - loss: 1.3804  \n",
      "Epoch 1: val_loss improved from inf to 0.25440, saving model to best_return_gru.h5\n"
     ]
    },
    {
     "name": "stderr",
     "output_type": "stream",
     "text": [
      "WARNING:absl:You are saving your model as an HDF5 file via `model.save()` or `keras.saving.save_model(model)`. This file format is considered legacy. We recommend using instead the native Keras format, e.g. `model.save('my_model.keras')` or `keras.saving.save_model(model, 'my_model.keras')`. \n"
     ]
    },
    {
     "name": "stdout",
     "output_type": "stream",
     "text": [
      "\u001b[1m52/52\u001b[0m \u001b[32m━━━━━━━━━━━━━━━━━━━━\u001b[0m\u001b[37m\u001b[0m \u001b[1m1s\u001b[0m 8ms/step - loss: 1.3465 - val_loss: 0.2544\n",
      "Epoch 2/30\n",
      "\u001b[1m39/52\u001b[0m \u001b[32m━━━━━━━━━━━━━━━\u001b[0m\u001b[37m━━━━━\u001b[0m \u001b[1m0s\u001b[0m 3ms/step - loss: 0.7524\n",
      "Epoch 2: val_loss did not improve from 0.25440\n",
      "\u001b[1m52/52\u001b[0m \u001b[32m━━━━━━━━━━━━━━━━━━━━\u001b[0m\u001b[37m\u001b[0m \u001b[1m0s\u001b[0m 4ms/step - loss: 0.7422 - val_loss: 0.2601\n",
      "Epoch 3/30\n",
      "\u001b[1m38/52\u001b[0m \u001b[32m━━━━━━━━━━━━━━\u001b[0m\u001b[37m━━━━━━\u001b[0m \u001b[1m0s\u001b[0m 3ms/step - loss: 0.4169\n",
      "Epoch 3: val_loss did not improve from 0.25440\n",
      "\u001b[1m52/52\u001b[0m \u001b[32m━━━━━━━━━━━━━━━━━━━━\u001b[0m\u001b[37m\u001b[0m \u001b[1m0s\u001b[0m 4ms/step - loss: 0.4260 - val_loss: 0.2852\n",
      "Epoch 4/30\n",
      "\u001b[1m38/52\u001b[0m \u001b[32m━━━━━━━━━━━━━━\u001b[0m\u001b[37m━━━━━━\u001b[0m \u001b[1m0s\u001b[0m 3ms/step - loss: 0.2798\n",
      "Epoch 4: val_loss did not improve from 0.25440\n",
      "\u001b[1m52/52\u001b[0m \u001b[32m━━━━━━━━━━━━━━━━━━━━\u001b[0m\u001b[37m\u001b[0m \u001b[1m0s\u001b[0m 4ms/step - loss: 0.2911 - val_loss: 0.2841\n",
      "Epoch 5/30\n",
      "\u001b[1m41/52\u001b[0m \u001b[32m━━━━━━━━━━━━━━━\u001b[0m\u001b[37m━━━━━\u001b[0m \u001b[1m0s\u001b[0m 3ms/step - loss: 0.2921\n",
      "Epoch 5: val_loss did not improve from 0.25440\n",
      "\u001b[1m52/52\u001b[0m \u001b[32m━━━━━━━━━━━━━━━━━━━━\u001b[0m\u001b[37m\u001b[0m \u001b[1m0s\u001b[0m 4ms/step - loss: 0.2879 - val_loss: 0.2898\n",
      "Epoch 6/30\n",
      "\u001b[1m45/52\u001b[0m \u001b[32m━━━━━━━━━━━━━━━━━\u001b[0m\u001b[37m━━━\u001b[0m \u001b[1m0s\u001b[0m 4ms/step - loss: 0.2529\n",
      "Epoch 6: val_loss improved from 0.25440 to 0.18944, saving model to best_return_gru.h5\n"
     ]
    },
    {
     "name": "stderr",
     "output_type": "stream",
     "text": [
      "WARNING:absl:You are saving your model as an HDF5 file via `model.save()` or `keras.saving.save_model(model)`. This file format is considered legacy. We recommend using instead the native Keras format, e.g. `model.save('my_model.keras')` or `keras.saving.save_model(model, 'my_model.keras')`. \n"
     ]
    },
    {
     "name": "stdout",
     "output_type": "stream",
     "text": [
      "\u001b[1m52/52\u001b[0m \u001b[32m━━━━━━━━━━━━━━━━━━━━\u001b[0m\u001b[37m\u001b[0m \u001b[1m0s\u001b[0m 6ms/step - loss: 0.2526 - val_loss: 0.1894\n",
      "Epoch 7/30\n",
      "\u001b[1m40/52\u001b[0m \u001b[32m━━━━━━━━━━━━━━━\u001b[0m\u001b[37m━━━━━\u001b[0m \u001b[1m0s\u001b[0m 4ms/step - loss: 0.2026\n",
      "Epoch 7: val_loss did not improve from 0.18944\n",
      "\u001b[1m52/52\u001b[0m \u001b[32m━━━━━━━━━━━━━━━━━━━━\u001b[0m\u001b[37m\u001b[0m \u001b[1m0s\u001b[0m 5ms/step - loss: 0.2056 - val_loss: 0.2122\n",
      "Epoch 8/30\n",
      "\u001b[1m40/52\u001b[0m \u001b[32m━━━━━━━━━━━━━━━\u001b[0m\u001b[37m━━━━━\u001b[0m \u001b[1m0s\u001b[0m 3ms/step - loss: 0.2116\n",
      "Epoch 8: val_loss improved from 0.18944 to 0.15319, saving model to best_return_gru.h5\n"
     ]
    },
    {
     "name": "stderr",
     "output_type": "stream",
     "text": [
      "WARNING:absl:You are saving your model as an HDF5 file via `model.save()` or `keras.saving.save_model(model)`. This file format is considered legacy. We recommend using instead the native Keras format, e.g. `model.save('my_model.keras')` or `keras.saving.save_model(model, 'my_model.keras')`. \n"
     ]
    },
    {
     "name": "stdout",
     "output_type": "stream",
     "text": [
      "\u001b[1m52/52\u001b[0m \u001b[32m━━━━━━━━━━━━━━━━━━━━\u001b[0m\u001b[37m\u001b[0m \u001b[1m0s\u001b[0m 4ms/step - loss: 0.2183 - val_loss: 0.1532\n",
      "Epoch 9/30\n",
      "\u001b[1m40/52\u001b[0m \u001b[32m━━━━━━━━━━━━━━━\u001b[0m\u001b[37m━━━━━\u001b[0m \u001b[1m0s\u001b[0m 3ms/step - loss: 0.2826\n",
      "Epoch 9: val_loss did not improve from 0.15319\n",
      "\u001b[1m52/52\u001b[0m \u001b[32m━━━━━━━━━━━━━━━━━━━━\u001b[0m\u001b[37m\u001b[0m \u001b[1m0s\u001b[0m 4ms/step - loss: 0.2692 - val_loss: 0.1773\n",
      "Epoch 10/30\n",
      "\u001b[1m35/52\u001b[0m \u001b[32m━━━━━━━━━━━━━\u001b[0m\u001b[37m━━━━━━━\u001b[0m \u001b[1m0s\u001b[0m 3ms/step - loss: 0.1813\n",
      "Epoch 10: val_loss did not improve from 0.15319\n",
      "\u001b[1m52/52\u001b[0m \u001b[32m━━━━━━━━━━━━━━━━━━━━\u001b[0m\u001b[37m\u001b[0m \u001b[1m0s\u001b[0m 4ms/step - loss: 0.1932 - val_loss: 0.1635\n",
      "Epoch 11/30\n",
      "\u001b[1m38/52\u001b[0m \u001b[32m━━━━━━━━━━━━━━\u001b[0m\u001b[37m━━━━━━\u001b[0m \u001b[1m0s\u001b[0m 3ms/step - loss: 0.1904\n",
      "Epoch 11: val_loss did not improve from 0.15319\n",
      "\u001b[1m52/52\u001b[0m \u001b[32m━━━━━━━━━━━━━━━━━━━━\u001b[0m\u001b[37m\u001b[0m \u001b[1m0s\u001b[0m 4ms/step - loss: 0.1933 - val_loss: 0.1577\n",
      "Epoch 12/30\n",
      "\u001b[1m36/52\u001b[0m \u001b[32m━━━━━━━━━━━━━\u001b[0m\u001b[37m━━━━━━━\u001b[0m \u001b[1m0s\u001b[0m 3ms/step - loss: 0.1792\n",
      "Epoch 12: val_loss did not improve from 0.15319\n",
      "\u001b[1m52/52\u001b[0m \u001b[32m━━━━━━━━━━━━━━━━━━━━\u001b[0m\u001b[37m\u001b[0m \u001b[1m0s\u001b[0m 4ms/step - loss: 0.1864 - val_loss: 0.2062\n",
      "Epoch 13/30\n",
      "\u001b[1m39/52\u001b[0m \u001b[32m━━━━━━━━━━━━━━━\u001b[0m\u001b[37m━━━━━\u001b[0m \u001b[1m0s\u001b[0m 3ms/step - loss: 0.1852\n",
      "Epoch 13: val_loss improved from 0.15319 to 0.14035, saving model to best_return_gru.h5\n"
     ]
    },
    {
     "name": "stderr",
     "output_type": "stream",
     "text": [
      "WARNING:absl:You are saving your model as an HDF5 file via `model.save()` or `keras.saving.save_model(model)`. This file format is considered legacy. We recommend using instead the native Keras format, e.g. `model.save('my_model.keras')` or `keras.saving.save_model(model, 'my_model.keras')`. \n"
     ]
    },
    {
     "name": "stdout",
     "output_type": "stream",
     "text": [
      "\u001b[1m52/52\u001b[0m \u001b[32m━━━━━━━━━━━━━━━━━━━━\u001b[0m\u001b[37m\u001b[0m \u001b[1m0s\u001b[0m 4ms/step - loss: 0.1851 - val_loss: 0.1403\n",
      "Epoch 14/30\n",
      "\u001b[1m37/52\u001b[0m \u001b[32m━━━━━━━━━━━━━━\u001b[0m\u001b[37m━━━━━━\u001b[0m \u001b[1m0s\u001b[0m 3ms/step - loss: 0.1827\n",
      "Epoch 14: val_loss did not improve from 0.14035\n",
      "\u001b[1m52/52\u001b[0m \u001b[32m━━━━━━━━━━━━━━━━━━━━\u001b[0m\u001b[37m\u001b[0m \u001b[1m0s\u001b[0m 4ms/step - loss: 0.1780 - val_loss: 0.2242\n",
      "Epoch 15/30\n",
      "\u001b[1m51/52\u001b[0m \u001b[32m━━━━━━━━━━━━━━━━━━━\u001b[0m\u001b[37m━\u001b[0m \u001b[1m0s\u001b[0m 3ms/step - loss: 0.1754\n",
      "Epoch 15: val_loss did not improve from 0.14035\n",
      "\u001b[1m52/52\u001b[0m \u001b[32m━━━━━━━━━━━━━━━━━━━━\u001b[0m\u001b[37m\u001b[0m \u001b[1m0s\u001b[0m 4ms/step - loss: 0.1750 - val_loss: 0.2011\n",
      "Epoch 16/30\n",
      "\u001b[1m37/52\u001b[0m \u001b[32m━━━━━━━━━━━━━━\u001b[0m\u001b[37m━━━━━━\u001b[0m \u001b[1m0s\u001b[0m 3ms/step - loss: 0.1918\n",
      "Epoch 16: val_loss did not improve from 0.14035\n",
      "\u001b[1m52/52\u001b[0m \u001b[32m━━━━━━━━━━━━━━━━━━━━\u001b[0m\u001b[37m\u001b[0m \u001b[1m0s\u001b[0m 4ms/step - loss: 0.1868 - val_loss: 0.1537\n",
      "Epoch 17/30\n",
      "\u001b[1m41/52\u001b[0m \u001b[32m━━━━━━━━━━━━━━━\u001b[0m\u001b[37m━━━━━\u001b[0m \u001b[1m0s\u001b[0m 3ms/step - loss: 0.1877\n",
      "Epoch 17: val_loss did not improve from 0.14035\n",
      "\u001b[1m52/52\u001b[0m \u001b[32m━━━━━━━━━━━━━━━━━━━━\u001b[0m\u001b[37m\u001b[0m \u001b[1m0s\u001b[0m 4ms/step - loss: 0.1863 - val_loss: 0.1406\n",
      "Epoch 18/30\n",
      "\u001b[1m36/52\u001b[0m \u001b[32m━━━━━━━━━━━━━\u001b[0m\u001b[37m━━━━━━━\u001b[0m \u001b[1m0s\u001b[0m 3ms/step - loss: 0.1922\n",
      "Epoch 18: val_loss did not improve from 0.14035\n",
      "\u001b[1m52/52\u001b[0m \u001b[32m━━━━━━━━━━━━━━━━━━━━\u001b[0m\u001b[37m\u001b[0m \u001b[1m0s\u001b[0m 4ms/step - loss: 0.1901 - val_loss: 0.1952\n"
     ]
    }
   ],
   "source": [
    "model_gru = train_gru(\n",
    "    X_train, y_train,\n",
    "    learning_rate=0.005,\n",
    "    epochs=30,\n",
    "    num_layers=1,\n",
    "    units=(32,),\n",
    "    window_size=None,\n",
    "    batch_size=32,\n",
    "    validation_split=0.1,\n",
    "    patience=5,\n",
    "    checkpoint_path='best_return_gru.h5',\n",
    "    dense_units=None,\n",
    "    dense_activation='relu',\n",
    "    dropout_rate=0.1\n",
    ")[0] "
   ]
  },
  {
   "cell_type": "markdown",
   "id": "1a1e9e0a",
   "metadata": {},
   "source": [
    "### Creating a sequence as features & split the data "
   ]
  },
  {
   "cell_type": "code",
   "execution_count": null,
   "id": "6d022fce",
   "metadata": {},
   "outputs": [],
   "source": [
    "# Scaling\n",
    "#scaler_X, scaler_y = RobustScaler(), RobustScaler()\n",
    "#X_scaled = scaler_X.fit_transform(x1)\n",
    "#y_scaled = scaler_y.fit_transform(y1.values.reshape(-1, 1))\n",
    "#X_scaled = X_scaled.reshape(X_scaled.shape[0], 1, X_scaled.shape[1])\n",
    "\n",
    "# Split data\n",
    "#split_index = int(0.9 * len(X_scaled))\n",
    "#X_train, X_test = X_scaled[:split_index], X_scaled[split_index:]\n",
    "#y_train, y_test = y_scaled[:split_index], y_scaled[split_index:]\n",
    "#train_dates, test_dates = dates[:split_index], dates[split_index:]"
   ]
  },
  {
   "cell_type": "code",
   "execution_count": 249,
   "id": "2b28b66a",
   "metadata": {},
   "outputs": [],
   "source": [
    "\n",
    "def evaluate_models(model_gru, model_lstm, X_test, y_test, scaler_y):\n",
    "    \"\"\"\n",
    "    Predicts with both GRU and LSTM models, inverse-transforms the predictions and true values,\n",
    "    computes MSE and R² for each, prints the results, and returns them in a dict.\n",
    "\n",
    "    Parameters:\n",
    "    - model_gru: trained GRU Keras model\n",
    "    - model_lstm: trained LSTM Keras model\n",
    "    - X_test: np.ndarray of test features shaped (n_samples, timesteps, features)\n",
    "    - y_test: np.ndarray of test targets (scaled) shaped (n_samples, 1)\n",
    "    - scaler_y: fitted RobustScaler (or any scaler) for the target\n",
    "\n",
    "    Returns:\n",
    "    - results: dict with keys 'mse_gru', 'r2_gru', 'mse_lstm', 'r2_lstm'\n",
    "    \"\"\"\n",
    "    # 1) Predictions\n",
    "    pred_gru = model_gru.predict(X_test)\n",
    "    pred_lstm = model_lstm.predict(X_test)\n",
    "    \n",
    "    # 2) Inverse transform\n",
    "    y_pred_gru = scaler_y.inverse_transform(pred_gru)\n",
    "    y_pred_lstm = scaler_y.inverse_transform(pred_lstm)\n",
    "    y_true = scaler_y.inverse_transform(y_test)\n",
    "    \n",
    "    # 3) Metrics\n",
    "    mse_gru = mean_squared_error(y_true, y_pred_gru)\n",
    "    r2_gru = r2_score(y_true, y_pred_gru)\n",
    "    mse_lstm = mean_squared_error(y_true, y_pred_lstm)\n",
    "    r2_lstm = r2_score(y_true, y_pred_lstm)\n",
    "    \n",
    "    # 4) Print\n",
    "    print(f'GRU  - MSE: {mse_gru:.4f}, R²: {r2_gru:.4f}')\n",
    "    print(f'LSTM - MSE: {mse_lstm:.4f}, R²: {r2_lstm:.4f}')\n",
    "    \n",
    "    # 5) Return results\n",
    "    return {\n",
    "        'mse_gru': mse_gru,\n",
    "        'r2_gru': r2_gru,\n",
    "        'mse_lstm': mse_lstm,\n",
    "        'r2_lstm': r2_lstm\n",
    "    }\n",
    "\n",
    "\n",
    "\n"
   ]
  },
  {
   "cell_type": "code",
   "execution_count": 323,
   "id": "a6f3487a",
   "metadata": {},
   "outputs": [
    {
     "name": "stdout",
     "output_type": "stream",
     "text": [
      "\u001b[1m7/7\u001b[0m \u001b[32m━━━━━━━━━━━━━━━━━━━━\u001b[0m\u001b[37m\u001b[0m \u001b[1m0s\u001b[0m 3ms/step \n",
      "\u001b[1m7/7\u001b[0m \u001b[32m━━━━━━━━━━━━━━━━━━━━\u001b[0m\u001b[37m\u001b[0m \u001b[1m0s\u001b[0m 5ms/step \n",
      "GRU  - MSE: 0.3986, R²: 0.7625\n",
      "LSTM - MSE: 0.3297, R²: 0.8036\n"
     ]
    }
   ],
   "source": [
    "results = evaluate_models(model_gru, model_lstm, X_test, y_test, scaler_y)"
   ]
  },
  {
   "cell_type": "markdown",
   "id": "29a02b1e",
   "metadata": {},
   "source": [
    "GRU  - MSE: 0.3206, R²: 0.8090\n",
    "LSTM - MSE: 0.3297, R²: 0.8036"
   ]
  },
  {
   "cell_type": "markdown",
   "id": "159c69d6",
   "metadata": {},
   "source": [
    "# Now I will add more features "
   ]
  },
  {
   "cell_type": "code",
   "execution_count": null,
   "id": "88332bf3",
   "metadata": {},
   "outputs": [],
   "source": [
    "# A function to shift data by a specified number of periods for multiple columns\n",
    "def shift_data(df,columns,shift):\n",
    "    for col in columns:\n",
    "        for shi in range(1, shi + 1):\n",
    "            df[f\"{col}_shift_{shi}\"] = df[col].shift(shi)\n",
    "    df = df.dropna()\n",
    "    return df\n",
    "    "
   ]
  }
 ],
 "metadata": {
  "kernelspec": {
   "display_name": ".venv",
   "language": "python",
   "name": "python3"
  },
  "language_info": {
   "codemirror_mode": {
    "name": "ipython",
    "version": 3
   },
   "file_extension": ".py",
   "mimetype": "text/x-python",
   "name": "python",
   "nbconvert_exporter": "python",
   "pygments_lexer": "ipython3",
   "version": "3.10.2"
  }
 },
 "nbformat": 4,
 "nbformat_minor": 5
}
