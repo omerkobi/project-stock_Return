{
 "cells": [
  {
   "cell_type": "code",
   "execution_count": 1,
   "id": "5276cf22",
   "metadata": {},
   "outputs": [],
   "source": [
    "import pandas as pd\n"
   ]
  },
  {
   "cell_type": "code",
   "execution_count": 4,
   "id": "6a307fbf",
   "metadata": {},
   "outputs": [
    {
     "name": "stdout",
     "output_type": "stream",
     "text": [
      "<class 'pandas.core.frame.DataFrame'>\n",
      "RangeIndex: 2592 entries, 0 to 2591\n",
      "Data columns (total 34 columns):\n",
      " #   Column                         Non-Null Count  Dtype         \n",
      "---  ------                         --------------  -----         \n",
      " 0   ds                             2592 non-null   datetime64[ns]\n",
      " 1   Actual_GDP                     2592 non-null   object        \n",
      " 2   Actual_nonfarm                 2592 non-null   object        \n",
      " 3   Actual_CPI                     2592 non-null   object        \n",
      " 4   Actual_PPI                     2592 non-null   object        \n",
      " 5   Actual_unemployment rate       2592 non-null   object        \n",
      " 6   Actual_core_PCE                2592 non-null   object        \n",
      " 7   Actual_FOMC                    2592 non-null   object        \n",
      " 8   CPI_vs_forecast                155 non-null    float64       \n",
      " 9   CPI_vs_previous                155 non-null    float64       \n",
      " 10  GDP_vs_forecast                204 non-null    float64       \n",
      " 11  GDP_vs_previous                204 non-null    float64       \n",
      " 12  PPI_vs_forecast                155 non-null    float64       \n",
      " 13  PPI_vs_previous                170 non-null    float64       \n",
      " 14  nonfarm_vs_forecast            206 non-null    float64       \n",
      " 15  nonfarm_vs_previous            206 non-null    float64       \n",
      " 16  unemployment rate_vs_forecast  201 non-null    float64       \n",
      " 17  unemployment rate_vs_previous  201 non-null    float64       \n",
      " 18  core_PCE_vs_forecast           119 non-null    float64       \n",
      " 19  core_PCE_vs_previous           125 non-null    float64       \n",
      " 20  FOMC_vs_forecast               135 non-null    float64       \n",
      " 21  FOMC_vs_previous               139 non-null    float64       \n",
      " 22  event                          964 non-null    object        \n",
      " 23  holiday                        2592 non-null   object        \n",
      " 24  shiler pe                      95 non-null     float64       \n",
      " 25  Actual_20year                  59 non-null     float64       \n",
      " 26  20year_gap                     59 non-null     float64       \n",
      " 27  20year_sign                    59 non-null     float64       \n",
      " 28  Actual_10year                  115 non-null    float64       \n",
      " 29  10year_gap                     115 non-null    float64       \n",
      " 30  10year_sign                    115 non-null    float64       \n",
      " 31  Actual_2year                   107 non-null    float64       \n",
      " 32  2year_gap                      107 non-null    float64       \n",
      " 33  2year_sign                     107 non-null    float64       \n",
      "dtypes: datetime64[ns](1), float64(24), object(9)\n",
      "memory usage: 688.6+ KB\n"
     ]
    }
   ],
   "source": [
    "external = pd.read_pickle(\"external_data.pkl\")\n",
    "external.info()"
   ]
  }
 ],
 "metadata": {
  "kernelspec": {
   "display_name": "project-py3.10",
   "language": "python",
   "name": "python3"
  },
  "language_info": {
   "codemirror_mode": {
    "name": "ipython",
    "version": 3
   },
   "file_extension": ".py",
   "mimetype": "text/x-python",
   "name": "python",
   "nbconvert_exporter": "python",
   "pygments_lexer": "ipython3",
   "version": "3.10.2"
  }
 },
 "nbformat": 4,
 "nbformat_minor": 5
}
