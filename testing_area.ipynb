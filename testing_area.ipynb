{
 "cells": [
  {
   "cell_type": "code",
   "execution_count": 2,
   "metadata": {},
   "outputs": [],
   "source": [
    "from sklearn.ensemble import GradientBoostingRegressor,RandomForestRegressor\n",
    "from sklearn.linear_model import Lasso,Ridge,LinearRegression\n",
    "from sklearn.model_selection import train_test_split\n",
    "from sklearn.model_selection import GridSearchCV\n",
    "import pandas as pd\n",
    "import numpy as np\n",
    "import xgboost as xgb\n",
    "import sklearn.metrics as metrics\n",
    "from sklearn.model_selection import cross_val_predict"
   ]
  },
  {
   "cell_type": "code",
   "execution_count": 3,
   "metadata": {},
   "outputs": [],
   "source": [
    "def regressionMetrics(y, yhat):\n",
    "    res = {\n",
    "        'MSE': metrics.mean_squared_error(y, yhat),\n",
    "        'RMSE': np.sqrt(metrics.mean_squared_error(y, yhat)),\n",
    "        'MAE': metrics.mean_absolute_error(y, yhat),\n",
    "        'R2': metrics.r2_score(y, yhat)\n",
    "    }\n",
    "\n",
    "    # Check if all values are > -1 to safely apply log\n",
    "    if np.all(y > -1) and np.all(yhat > -1):\n",
    "        rmsle = np.sqrt(metrics.mean_squared_log_error(y, yhat))\n",
    "        res['RMSLE'] = rmsle\n",
    "    else:\n",
    "        res['RMSLE'] = 'Not applicable (values ≤ -1)'\n",
    "\n",
    "    return res"
   ]
  },
  {
   "cell_type": "markdown",
   "metadata": {},
   "source": [
    "# load the df for test"
   ]
  },
  {
   "cell_type": "code",
   "execution_count": 785,
   "metadata": {},
   "outputs": [
    {
     "name": "stdout",
     "output_type": "stream",
     "text": [
      "<class 'pandas.core.frame.DataFrame'>\n",
      "Index: 2075 entries, 9 to 2083\n",
      "Data columns (total 93 columns):\n",
      " #   Column                         Non-Null Count  Dtype         \n",
      "---  ------                         --------------  -----         \n",
      " 0   ds                             2075 non-null   datetime64[ns]\n",
      " 1   SPY_return                     2075 non-null   float64       \n",
      " 2   SPY_Volume                     2075 non-null   float64       \n",
      " 3   AAPL                           2075 non-null   float64       \n",
      " 4   MSFT                           2075 non-null   float64       \n",
      " 5   GOOG                           2075 non-null   float64       \n",
      " 6   GLD                            2075 non-null   float64       \n",
      " 7   SLV                            2075 non-null   float64       \n",
      " 8   ^TNX                           2075 non-null   float64       \n",
      " 9   DX-Y.NYB                       2075 non-null   float64       \n",
      " 10  JPY=X                          2075 non-null   float64       \n",
      " 11  EUR=X                          2075 non-null   float64       \n",
      " 12  USO                            2075 non-null   float64       \n",
      " 13  UNG                            2075 non-null   float64       \n",
      " 14  BTC-USD                        2075 non-null   float64       \n",
      " 15  CPER                           2075 non-null   float64       \n",
      " 16  ^VIX                           2075 non-null   float64       \n",
      " 17  ^GDAXI                         2075 non-null   float64       \n",
      " 18  ^FTSE                          2075 non-null   float64       \n",
      " 19  IWM                            2075 non-null   float64       \n",
      " 20  ^N225                          2075 non-null   float64       \n",
      " 21  IEI                            2075 non-null   float64       \n",
      " 22  CNYUSD=X                       2075 non-null   float64       \n",
      " 23  2Y_Yield                       2075 non-null   float64       \n",
      " 24  yield_curve                    2075 non-null   float64       \n",
      " 25  market_closed_count            2075 non-null   int64         \n",
      " 26  yield_curve_term               2075 non-null   float64       \n",
      " 27  high-low                       2075 non-null   float64       \n",
      " 28  before_high-low                2075 non-null   float64       \n",
      " 29  SPY_Streak                     2075 non-null   int64         \n",
      " 30  SPY_AbsChange                  2075 non-null   float64       \n",
      " 31  day                            2075 non-null   int32         \n",
      " 32  Actual_GDP                     2075 non-null   float64       \n",
      " 33  Actual_nonfarm                 2075 non-null   float64       \n",
      " 34  Actual_CPI                     2075 non-null   float64       \n",
      " 35  Actual_PPI                     2075 non-null   float64       \n",
      " 36  Actual_unemployment rate       2075 non-null   float64       \n",
      " 37  Actual_core_PCE                2075 non-null   float64       \n",
      " 38  Actual_FOMC                    2075 non-null   float64       \n",
      " 39  CPI_vs_forecast                2075 non-null   float64       \n",
      " 40  CPI_vs_previous                2075 non-null   float64       \n",
      " 41  GDP_vs_forecast                2075 non-null   float64       \n",
      " 42  GDP_vs_previous                2075 non-null   float64       \n",
      " 43  PPI_vs_forecast                2075 non-null   float64       \n",
      " 44  PPI_vs_previous                2075 non-null   float64       \n",
      " 45  nonfarm_vs_forecast            2075 non-null   float64       \n",
      " 46  nonfarm_vs_previous            2075 non-null   float64       \n",
      " 47  unemployment rate_vs_forecast  2075 non-null   float64       \n",
      " 48  unemployment rate_vs_previous  2075 non-null   float64       \n",
      " 49  core_PCE_vs_forecast           2075 non-null   float64       \n",
      " 50  core_PCE_vs_previous           2075 non-null   float64       \n",
      " 51  FOMC_vs_forecast               2075 non-null   float64       \n",
      " 52  FOMC_vs_previous               2075 non-null   float64       \n",
      " 53  is_event                       2075 non-null   int64         \n",
      " 54  days_since_fomc                2075 non-null   float64       \n",
      " 55  isr_holiday                    2075 non-null   int64         \n",
      " 56  event                          2075 non-null   int8          \n",
      " 57  EMA_20                         2075 non-null   float64       \n",
      " 58  EMA_50                         2075 non-null   float64       \n",
      " 59  EMA_200                        2075 non-null   float64       \n",
      " 60  EMA_20_50                      2075 non-null   int64         \n",
      " 61  EMA_50_200                     2075 non-null   int64         \n",
      " 62  EMA_50_diff                    2075 non-null   float64       \n",
      " 63  EMA_200_diff                   2075 non-null   float64       \n",
      " 64  std_price                      2075 non-null   float64       \n",
      " 65  ^VIX_dummy                     2075 non-null   int64         \n",
      " 66  ^VIX_rank                      2075 non-null   float64       \n",
      " 67  IWM_avg5d                      2075 non-null   float64       \n",
      " 68  IWM_std_5d                     2075 non-null   float64       \n",
      " 69  Yestrady                       2075 non-null   float64       \n",
      " 70  stdev                          2075 non-null   float64       \n",
      " 71  avgreturn5d                    2075 non-null   float64       \n",
      " 72  stdev_5                        2075 non-null   float64       \n",
      " 73  avgreturn10d                   2075 non-null   float64       \n",
      " 74  Monday                         2075 non-null   int64         \n",
      " 75  Tuesday                        2075 non-null   int64         \n",
      " 76  Wednesday                      2075 non-null   int64         \n",
      " 77  Thursday                       2075 non-null   int64         \n",
      " 78  Friday                         2075 non-null   int64         \n",
      " 79  Saturday                       2075 non-null   int64         \n",
      " 80  Sunday                         2075 non-null   int64         \n",
      " 81  January                        2075 non-null   int64         \n",
      " 82  February                       2075 non-null   int64         \n",
      " 83  March                          2075 non-null   int64         \n",
      " 84  April                          2075 non-null   int64         \n",
      " 85  May                            2075 non-null   int64         \n",
      " 86  June                           2075 non-null   int64         \n",
      " 87  July                           2075 non-null   int64         \n",
      " 88  August                         2075 non-null   int64         \n",
      " 89  September                      2075 non-null   int64         \n",
      " 90  October                        2075 non-null   int64         \n",
      " 91  November                       2075 non-null   int64         \n",
      " 92  December                       2075 non-null   int64         \n",
      "dtypes: datetime64[ns](1), float64(64), int32(1), int64(26), int8(1)\n",
      "memory usage: 1.5 MB\n"
     ]
    }
   ],
   "source": [
    "df = pd.read_pickle('df_with_ev_ind.pkl')\n",
    "df.info()"
   ]
  },
  {
   "cell_type": "markdown",
   "metadata": {},
   "source": [
    "# Add PE ratio"
   ]
  },
  {
   "cell_type": "code",
   "execution_count": 800,
   "metadata": {},
   "outputs": [
    {
     "name": "stdout",
     "output_type": "stream",
     "text": [
      "<class 'pandas.core.frame.DataFrame'>\n",
      "RangeIndex: 341 entries, 0 to 340\n",
      "Data columns (total 4 columns):\n",
      " #   Column      Non-Null Count  Dtype  \n",
      "---  ------      --------------  -----  \n",
      " 0   date        332 non-null    object \n",
      " 1   shiler pe   332 non-null    object \n",
      " 2   PE          341 non-null    object \n",
      " 3   Unnamed: 3  0 non-null      float64\n",
      "dtypes: float64(1), object(3)\n",
      "memory usage: 10.8+ KB\n"
     ]
    }
   ],
   "source": [
    "pe = pd.read_csv('pe-ratio.csv')\n",
    "pe.info()"
   ]
  },
  {
   "cell_type": "code",
   "execution_count": 803,
   "metadata": {},
   "outputs": [
    {
     "name": "stdout",
     "output_type": "stream",
     "text": [
      "<class 'pandas.core.frame.DataFrame'>\n",
      "RangeIndex: 341 entries, 0 to 340\n",
      "Data columns (total 6 columns):\n",
      " #   Column      Non-Null Count  Dtype         \n",
      "---  ------      --------------  -----         \n",
      " 0   date        332 non-null    datetime64[ns]\n",
      " 1   shiler pe   332 non-null    object        \n",
      " 2   PE          341 non-null    object        \n",
      " 3   Unnamed: 3  0 non-null      float64       \n",
      " 4   month       332 non-null    float64       \n",
      " 5   year        332 non-null    float64       \n",
      "dtypes: datetime64[ns](1), float64(3), object(2)\n",
      "memory usage: 16.1+ KB\n"
     ]
    }
   ],
   "source": [
    "pe['date'] = pd.to_datetime(pe['date'])\n",
    "pe.info()\n",
    "pe['month'] = pe['date'].dt.month\n",
    "pe['year'] = pe['date'].dt.year\n",
    "df['month'] = df['ds'].dt.month\n",
    "df['year'] = df['ds'].dt.year"
   ]
  },
  {
   "cell_type": "code",
   "execution_count": 805,
   "metadata": {},
   "outputs": [
    {
     "name": "stdout",
     "output_type": "stream",
     "text": [
      "<class 'pandas.core.frame.DataFrame'>\n",
      "RangeIndex: 2087 entries, 0 to 2086\n",
      "Data columns (total 97 columns):\n",
      " #   Column                         Non-Null Count  Dtype         \n",
      "---  ------                         --------------  -----         \n",
      " 0   ds                             2087 non-null   datetime64[ns]\n",
      " 1   SPY_return                     2087 non-null   float64       \n",
      " 2   SPY_Volume                     2087 non-null   float64       \n",
      " 3   AAPL                           2087 non-null   float64       \n",
      " 4   MSFT                           2087 non-null   float64       \n",
      " 5   GOOG                           2087 non-null   float64       \n",
      " 6   GLD                            2087 non-null   float64       \n",
      " 7   SLV                            2087 non-null   float64       \n",
      " 8   ^TNX                           2087 non-null   float64       \n",
      " 9   DX-Y.NYB                       2087 non-null   float64       \n",
      " 10  JPY=X                          2087 non-null   float64       \n",
      " 11  EUR=X                          2087 non-null   float64       \n",
      " 12  USO                            2087 non-null   float64       \n",
      " 13  UNG                            2087 non-null   float64       \n",
      " 14  BTC-USD                        2087 non-null   float64       \n",
      " 15  CPER                           2087 non-null   float64       \n",
      " 16  ^VIX                           2087 non-null   float64       \n",
      " 17  ^GDAXI                         2087 non-null   float64       \n",
      " 18  ^FTSE                          2087 non-null   float64       \n",
      " 19  IWM                            2087 non-null   float64       \n",
      " 20  ^N225                          2087 non-null   float64       \n",
      " 21  IEI                            2087 non-null   float64       \n",
      " 22  CNYUSD=X                       2087 non-null   float64       \n",
      " 23  2Y_Yield                       2087 non-null   float64       \n",
      " 24  yield_curve                    2087 non-null   float64       \n",
      " 25  market_closed_count            2087 non-null   int64         \n",
      " 26  yield_curve_term               2087 non-null   float64       \n",
      " 27  high-low                       2087 non-null   float64       \n",
      " 28  before_high-low                2087 non-null   float64       \n",
      " 29  SPY_Streak                     2087 non-null   int64         \n",
      " 30  SPY_AbsChange                  2087 non-null   float64       \n",
      " 31  day                            2087 non-null   int32         \n",
      " 32  Actual_GDP                     2087 non-null   float64       \n",
      " 33  Actual_nonfarm                 2087 non-null   float64       \n",
      " 34  Actual_CPI                     2087 non-null   float64       \n",
      " 35  Actual_PPI                     2087 non-null   float64       \n",
      " 36  Actual_unemployment rate       2087 non-null   float64       \n",
      " 37  Actual_core_PCE                2087 non-null   float64       \n",
      " 38  Actual_FOMC                    2087 non-null   float64       \n",
      " 39  CPI_vs_forecast                2087 non-null   float64       \n",
      " 40  CPI_vs_previous                2087 non-null   float64       \n",
      " 41  GDP_vs_forecast                2087 non-null   float64       \n",
      " 42  GDP_vs_previous                2087 non-null   float64       \n",
      " 43  PPI_vs_forecast                2087 non-null   float64       \n",
      " 44  PPI_vs_previous                2087 non-null   float64       \n",
      " 45  nonfarm_vs_forecast            2087 non-null   float64       \n",
      " 46  nonfarm_vs_previous            2087 non-null   float64       \n",
      " 47  unemployment rate_vs_forecast  2087 non-null   float64       \n",
      " 48  unemployment rate_vs_previous  2087 non-null   float64       \n",
      " 49  core_PCE_vs_forecast           2087 non-null   float64       \n",
      " 50  core_PCE_vs_previous           2087 non-null   float64       \n",
      " 51  FOMC_vs_forecast               2087 non-null   float64       \n",
      " 52  FOMC_vs_previous               2087 non-null   float64       \n",
      " 53  is_event                       2087 non-null   int64         \n",
      " 54  days_since_fomc                2087 non-null   float64       \n",
      " 55  isr_holiday                    2087 non-null   int64         \n",
      " 56  event                          2087 non-null   int8          \n",
      " 57  EMA_20                         2087 non-null   float64       \n",
      " 58  EMA_50                         2087 non-null   float64       \n",
      " 59  EMA_200                        2087 non-null   float64       \n",
      " 60  EMA_20_50                      2087 non-null   int64         \n",
      " 61  EMA_50_200                     2087 non-null   int64         \n",
      " 62  EMA_50_diff                    2087 non-null   float64       \n",
      " 63  EMA_200_diff                   2087 non-null   float64       \n",
      " 64  std_price                      2087 non-null   float64       \n",
      " 65  ^VIX_dummy                     2087 non-null   int64         \n",
      " 66  ^VIX_rank                      2087 non-null   float64       \n",
      " 67  IWM_avg5d                      2087 non-null   float64       \n",
      " 68  IWM_std_5d                     2087 non-null   float64       \n",
      " 69  Yestrady                       2087 non-null   float64       \n",
      " 70  stdev                          2087 non-null   float64       \n",
      " 71  avgreturn5d                    2087 non-null   float64       \n",
      " 72  stdev_5                        2087 non-null   float64       \n",
      " 73  avgreturn10d                   2087 non-null   float64       \n",
      " 74  Monday                         2087 non-null   int64         \n",
      " 75  Tuesday                        2087 non-null   int64         \n",
      " 76  Wednesday                      2087 non-null   int64         \n",
      " 77  Thursday                       2087 non-null   int64         \n",
      " 78  Friday                         2087 non-null   int64         \n",
      " 79  Saturday                       2087 non-null   int64         \n",
      " 80  Sunday                         2087 non-null   int64         \n",
      " 81  January                        2087 non-null   int64         \n",
      " 82  February                       2087 non-null   int64         \n",
      " 83  March                          2087 non-null   int64         \n",
      " 84  April                          2087 non-null   int64         \n",
      " 85  May                            2087 non-null   int64         \n",
      " 86  June                           2087 non-null   int64         \n",
      " 87  July                           2087 non-null   int64         \n",
      " 88  August                         2087 non-null   int64         \n",
      " 89  September                      2087 non-null   int64         \n",
      " 90  October                        2087 non-null   int64         \n",
      " 91  November                       2087 non-null   int64         \n",
      " 92  December                       2087 non-null   int64         \n",
      " 93  vol_above_mean                 2087 non-null   int64         \n",
      " 94  abs_vix                        2087 non-null   float64       \n",
      " 95  PE                             2087 non-null   object        \n",
      " 96  shiler pe                      2087 non-null   object        \n",
      "dtypes: datetime64[ns](1), float64(65), int32(1), int64(27), int8(1), object(2)\n",
      "memory usage: 1.5+ MB\n"
     ]
    }
   ],
   "source": [
    "df = pd.merge(df,pe[['month','year','PE','shiler pe']],how='left',on=['month','year'])\n",
    "df.drop(['year', 'month'], axis=1, inplace=True)\n",
    "df.info()\n"
   ]
  },
  {
   "cell_type": "code",
   "execution_count": 806,
   "metadata": {},
   "outputs": [
    {
     "data": {
      "text/plain": [
       "0      23.59\n",
       "1      23.59\n",
       "2      23.59\n",
       "3      23.59\n",
       "4      23.59\n",
       "Name: PE, dtype: object"
      ]
     },
     "execution_count": 806,
     "metadata": {},
     "output_type": "execute_result"
    }
   ],
   "source": [
    "df['PE'].head()"
   ]
  },
  {
   "cell_type": "code",
   "execution_count": 786,
   "metadata": {},
   "outputs": [
    {
     "data": {
      "text/plain": [
       "9    -500.0\n",
       "10   -500.0\n",
       "11   -500.0\n",
       "12   -500.0\n",
       "13   -500.0\n",
       "14   -500.0\n",
       "15      1.9\n",
       "16   -500.0\n",
       "17   -500.0\n",
       "18   -500.0\n",
       "19   -500.0\n",
       "20   -500.0\n",
       "21   -500.0\n",
       "22   -500.0\n",
       "23   -500.0\n",
       "24   -500.0\n",
       "25   -500.0\n",
       "26   -500.0\n",
       "27   -500.0\n",
       "28   -500.0\n",
       "Name: Actual_GDP, dtype: float64"
      ]
     },
     "execution_count": 786,
     "metadata": {},
     "output_type": "execute_result"
    }
   ],
   "source": [
    "lst =['Actual_GDP','Actual_CPI','Actual_PPI','Actual_unemployment rate','Actual_core_PCE','Actual_FOMC']\n",
    "for col in lst:\n",
    "    df[col] = df[col] *100\n",
    "\n",
    "df['Actual_GDP'].head(20)"
   ]
  },
  {
   "cell_type": "code",
   "execution_count": 519,
   "metadata": {},
   "outputs": [
    {
     "data": {
      "text/plain": [
       "9     19\n",
       "10    20\n",
       "11    23\n",
       "12    24\n",
       "13    25\n",
       "14    26\n",
       "15    27\n",
       "16    30\n",
       "17    31\n",
       "18     1\n",
       "Name: day, dtype: int32"
      ]
     },
     "execution_count": 519,
     "metadata": {},
     "output_type": "execute_result"
    }
   ],
   "source": [
    "df['day'].head(10)"
   ]
  },
  {
   "cell_type": "code",
   "execution_count": 787,
   "metadata": {},
   "outputs": [
    {
     "data": {
      "text/html": [
       "<div>\n",
       "<style scoped>\n",
       "    .dataframe tbody tr th:only-of-type {\n",
       "        vertical-align: middle;\n",
       "    }\n",
       "\n",
       "    .dataframe tbody tr th {\n",
       "        vertical-align: top;\n",
       "    }\n",
       "\n",
       "    .dataframe thead th {\n",
       "        text-align: right;\n",
       "    }\n",
       "</style>\n",
       "<table border=\"1\" class=\"dataframe\">\n",
       "  <thead>\n",
       "    <tr style=\"text-align: right;\">\n",
       "      <th></th>\n",
       "      <th>ds</th>\n",
       "      <th>SPY_return</th>\n",
       "      <th>SPY_Volume</th>\n",
       "      <th>AAPL</th>\n",
       "      <th>MSFT</th>\n",
       "      <th>GOOG</th>\n",
       "      <th>GLD</th>\n",
       "      <th>SLV</th>\n",
       "      <th>^TNX</th>\n",
       "      <th>DX-Y.NYB</th>\n",
       "      <th>...</th>\n",
       "      <th>March</th>\n",
       "      <th>April</th>\n",
       "      <th>May</th>\n",
       "      <th>June</th>\n",
       "      <th>July</th>\n",
       "      <th>August</th>\n",
       "      <th>September</th>\n",
       "      <th>October</th>\n",
       "      <th>November</th>\n",
       "      <th>December</th>\n",
       "    </tr>\n",
       "  </thead>\n",
       "  <tbody>\n",
       "    <tr>\n",
       "      <th>0</th>\n",
       "      <td>2017-01-19</td>\n",
       "      <td>-0.370443</td>\n",
       "      <td>21.563768</td>\n",
       "      <td>-0.175019</td>\n",
       "      <td>-0.320008</td>\n",
       "      <td>-0.483210</td>\n",
       "      <td>-0.087060</td>\n",
       "      <td>-0.432364</td>\n",
       "      <td>2.930104</td>\n",
       "      <td>0.217974</td>\n",
       "      <td>...</td>\n",
       "      <td>0</td>\n",
       "      <td>0</td>\n",
       "      <td>0</td>\n",
       "      <td>0</td>\n",
       "      <td>0</td>\n",
       "      <td>0</td>\n",
       "      <td>0</td>\n",
       "      <td>0</td>\n",
       "      <td>0</td>\n",
       "      <td>0</td>\n",
       "    </tr>\n",
       "    <tr>\n",
       "      <th>1</th>\n",
       "      <td>2017-01-20</td>\n",
       "      <td>0.367412</td>\n",
       "      <td>93.921224</td>\n",
       "      <td>0.183699</td>\n",
       "      <td>0.706284</td>\n",
       "      <td>0.354649</td>\n",
       "      <td>0.243972</td>\n",
       "      <td>0.434241</td>\n",
       "      <td>0.325331</td>\n",
       "      <td>-0.405342</td>\n",
       "      <td>...</td>\n",
       "      <td>0</td>\n",
       "      <td>0</td>\n",
       "      <td>0</td>\n",
       "      <td>0</td>\n",
       "      <td>0</td>\n",
       "      <td>0</td>\n",
       "      <td>0</td>\n",
       "      <td>0</td>\n",
       "      <td>0</td>\n",
       "      <td>0</td>\n",
       "    </tr>\n",
       "    <tr>\n",
       "      <th>2</th>\n",
       "      <td>2017-01-23</td>\n",
       "      <td>-0.260222</td>\n",
       "      <td>-41.888663</td>\n",
       "      <td>0.066658</td>\n",
       "      <td>0.350635</td>\n",
       "      <td>1.775112</td>\n",
       "      <td>0.643197</td>\n",
       "      <td>0.617668</td>\n",
       "      <td>-2.594240</td>\n",
       "      <td>-0.575734</td>\n",
       "      <td>...</td>\n",
       "      <td>0</td>\n",
       "      <td>0</td>\n",
       "      <td>0</td>\n",
       "      <td>0</td>\n",
       "      <td>0</td>\n",
       "      <td>0</td>\n",
       "      <td>0</td>\n",
       "      <td>0</td>\n",
       "      <td>0</td>\n",
       "      <td>0</td>\n",
       "    </tr>\n",
       "    <tr>\n",
       "      <th>3</th>\n",
       "      <td>2017-01-24</td>\n",
       "      <td>0.641182</td>\n",
       "      <td>27.302509</td>\n",
       "      <td>-0.091620</td>\n",
       "      <td>0.889458</td>\n",
       "      <td>0.556575</td>\n",
       "      <td>-0.449093</td>\n",
       "      <td>-0.429721</td>\n",
       "      <td>2.829789</td>\n",
       "      <td>0.189691</td>\n",
       "      <td>...</td>\n",
       "      <td>0</td>\n",
       "      <td>0</td>\n",
       "      <td>0</td>\n",
       "      <td>0</td>\n",
       "      <td>0</td>\n",
       "      <td>0</td>\n",
       "      <td>0</td>\n",
       "      <td>0</td>\n",
       "      <td>0</td>\n",
       "      <td>0</td>\n",
       "    </tr>\n",
       "    <tr>\n",
       "      <th>4</th>\n",
       "      <td>2017-01-25</td>\n",
       "      <td>0.865543</td>\n",
       "      <td>-11.634729</td>\n",
       "      <td>1.592078</td>\n",
       "      <td>0.251904</td>\n",
       "      <td>1.432266</td>\n",
       "      <td>-0.824149</td>\n",
       "      <td>-0.739821</td>\n",
       "      <td>2.104413</td>\n",
       "      <td>-0.318884</td>\n",
       "      <td>...</td>\n",
       "      <td>0</td>\n",
       "      <td>0</td>\n",
       "      <td>0</td>\n",
       "      <td>0</td>\n",
       "      <td>0</td>\n",
       "      <td>0</td>\n",
       "      <td>0</td>\n",
       "      <td>0</td>\n",
       "      <td>0</td>\n",
       "      <td>0</td>\n",
       "    </tr>\n",
       "  </tbody>\n",
       "</table>\n",
       "<p>5 rows × 93 columns</p>\n",
       "</div>"
      ],
      "text/plain": [
       "          ds  SPY_return  SPY_Volume      AAPL      MSFT      GOOG       GLD  \\\n",
       "0 2017-01-19   -0.370443   21.563768 -0.175019 -0.320008 -0.483210 -0.087060   \n",
       "1 2017-01-20    0.367412   93.921224  0.183699  0.706284  0.354649  0.243972   \n",
       "2 2017-01-23   -0.260222  -41.888663  0.066658  0.350635  1.775112  0.643197   \n",
       "3 2017-01-24    0.641182   27.302509 -0.091620  0.889458  0.556575 -0.449093   \n",
       "4 2017-01-25    0.865543  -11.634729  1.592078  0.251904  1.432266 -0.824149   \n",
       "\n",
       "        SLV      ^TNX  DX-Y.NYB  ...  March  April  May  June  July  August  \\\n",
       "0 -0.432364  2.930104  0.217974  ...      0      0    0     0     0       0   \n",
       "1  0.434241  0.325331 -0.405342  ...      0      0    0     0     0       0   \n",
       "2  0.617668 -2.594240 -0.575734  ...      0      0    0     0     0       0   \n",
       "3 -0.429721  2.829789  0.189691  ...      0      0    0     0     0       0   \n",
       "4 -0.739821  2.104413 -0.318884  ...      0      0    0     0     0       0   \n",
       "\n",
       "   September  October  November  December  \n",
       "0          0        0         0         0  \n",
       "1          0        0         0         0  \n",
       "2          0        0         0         0  \n",
       "3          0        0         0         0  \n",
       "4          0        0         0         0  \n",
       "\n",
       "[5 rows x 93 columns]"
      ]
     },
     "execution_count": 787,
     "metadata": {},
     "output_type": "execute_result"
    }
   ],
   "source": [
    "df.reset_index(drop=True, inplace=True)\n",
    "df.head()"
   ]
  },
  {
   "cell_type": "markdown",
   "metadata": {},
   "source": [
    "## This df is to add feture to the model df"
   ]
  },
  {
   "cell_type": "code",
   "execution_count": 788,
   "metadata": {},
   "outputs": [
    {
     "name": "stdout",
     "output_type": "stream",
     "text": [
      "<class 'pandas.core.frame.DataFrame'>\n",
      "DatetimeIndex: 2084 entries, 2017-01-03 to 2025-04-16\n",
      "Data columns (total 38 columns):\n",
      " #   Column               Non-Null Count  Dtype  \n",
      "---  ------               --------------  -----  \n",
      " 0   SPY_Close            2084 non-null   float64\n",
      " 1   SPY_Volume           2084 non-null   int64  \n",
      " 2   AAPL                 2084 non-null   float64\n",
      " 3   MSFT                 2084 non-null   float64\n",
      " 4   GOOG                 2084 non-null   float64\n",
      " 5   GLD                  2084 non-null   float64\n",
      " 6   SLV                  2084 non-null   float64\n",
      " 7   ^TNX                 2084 non-null   float64\n",
      " 8   DX-Y.NYB             2084 non-null   float64\n",
      " 9   JPY=X                2084 non-null   float64\n",
      " 10  EUR=X                2084 non-null   float64\n",
      " 11  USO                  2084 non-null   float64\n",
      " 12  UNG                  2084 non-null   float64\n",
      " 13  BTC-USD              2084 non-null   float64\n",
      " 14  CPER                 2084 non-null   float64\n",
      " 15  ^VIX                 2084 non-null   float64\n",
      " 16  ^GDAXI               2084 non-null   float64\n",
      " 17  ^FTSE                2084 non-null   float64\n",
      " 18  IWM                  2084 non-null   float64\n",
      " 19  ^N225                2083 non-null   float64\n",
      " 20  IEI                  2084 non-null   float64\n",
      " 21  CNYUSD=X             2084 non-null   float64\n",
      " 22  2Y_Yield             2084 non-null   float64\n",
      " 23  yield_curve          2084 non-null   float64\n",
      " 24  market_closed_count  2084 non-null   int64  \n",
      " 25  yield_curve_term     2084 non-null   float64\n",
      " 26  high-low             2084 non-null   float64\n",
      " 27  before_high-low      2083 non-null   float64\n",
      " 28  SPY_RSI              2071 non-null   float64\n",
      " 29  RSI_rank             2071 non-null   float64\n",
      " 30  RSI_rank_2           2084 non-null   int64  \n",
      " 31  EMA_20               2084 non-null   float64\n",
      " 32  EMA_50               2084 non-null   float64\n",
      " 33  EMA_200              2084 non-null   float64\n",
      " 34  EMA_20_50            2084 non-null   int64  \n",
      " 35  EMA_50_200           2084 non-null   int64  \n",
      " 36  EMA_50_diff          2084 non-null   float64\n",
      " 37  EMA_200_diff         2084 non-null   float64\n",
      "dtypes: float64(33), int64(5)\n",
      "memory usage: 635.0 KB\n"
     ]
    }
   ],
   "source": [
    "df_add = pd.read_pickle('combined_cleaned_add.pkl')\n",
    "df_add.info()"
   ]
  },
  {
   "cell_type": "markdown",
   "metadata": {},
   "source": [
    "# Add some more fetures"
   ]
  },
  {
   "cell_type": "code",
   "execution_count": 789,
   "metadata": {},
   "outputs": [
    {
     "data": {
      "text/plain": [
       "Date\n",
       "2025-03-13    0\n",
       "2025-03-14    0\n",
       "2025-03-17    0\n",
       "2025-03-18    0\n",
       "2025-03-19    0\n",
       "2025-03-20    0\n",
       "2025-03-21    1\n",
       "2025-03-24    0\n",
       "2025-03-25    0\n",
       "2025-03-26    0\n",
       "2025-03-27    0\n",
       "2025-03-28    0\n",
       "2025-03-31    1\n",
       "2025-04-01    0\n",
       "2025-04-02    0\n",
       "2025-04-03    1\n",
       "2025-04-04    1\n",
       "2025-04-07    1\n",
       "2025-04-08    1\n",
       "2025-04-09    1\n",
       "2025-04-10    1\n",
       "2025-04-11    0\n",
       "2025-04-14    0\n",
       "2025-04-15    0\n",
       "2025-04-16    0\n",
       "Name: vol_above_mean, dtype: int64"
      ]
     },
     "execution_count": 789,
     "metadata": {},
     "output_type": "execute_result"
    }
   ],
   "source": [
    "#df_add['SPY_Volume'].head(10)\n",
    "df_add['vol_mean_30'] = df_add['SPY_Volume'].rolling(30).mean()\n",
    "#df_add['vol_mean_30'].tail(30) \n",
    "df_add['vol_above_mean'] = (df_add['SPY_Volume'] > df_add['vol_mean_30']).astype(int)\n",
    "df_add['vol_above_mean'].tail(25)"
   ]
  },
  {
   "cell_type": "markdown",
   "metadata": {},
   "source": [
    "## Add DXY absolute value:"
   ]
  },
  {
   "cell_type": "markdown",
   "metadata": {},
   "source": [
    "# Add volum above mean & absolute value of vix\n",
    "Helps the model "
   ]
  },
  {
   "cell_type": "code",
   "execution_count": 790,
   "metadata": {},
   "outputs": [],
   "source": [
    "to_add = df_add[['vol_above_mean','^VIX']].copy()\n",
    "#to_add = df_add[['vol_above_mean','^VIX','DX-Y.NYB']].copy()\n",
    "to_add.reset_index(inplace=True)\n",
    "to_add.rename(columns={'Date':'ds','^VIX': 'abs_vix'}, inplace=True)\n",
    "#to_add.rename(columns={'Date':'ds','^VIX': 'abs_vix','DX-Y.NYB': 'DXY'}, inplace=True)\n"
   ]
  },
  {
   "cell_type": "code",
   "execution_count": 791,
   "metadata": {},
   "outputs": [
    {
     "name": "stdout",
     "output_type": "stream",
     "text": [
      "<class 'pandas.core.frame.DataFrame'>\n",
      "RangeIndex: 2084 entries, 0 to 2083\n",
      "Data columns (total 3 columns):\n",
      " #   Column          Non-Null Count  Dtype         \n",
      "---  ------          --------------  -----         \n",
      " 0   ds              2084 non-null   datetime64[ns]\n",
      " 1   vol_above_mean  2084 non-null   int64         \n",
      " 2   abs_vix         2084 non-null   float64       \n",
      "dtypes: datetime64[ns](1), float64(1), int64(1)\n",
      "memory usage: 49.0 KB\n"
     ]
    }
   ],
   "source": [
    "to_add.info()"
   ]
  },
  {
   "cell_type": "code",
   "execution_count": 792,
   "metadata": {},
   "outputs": [
    {
     "name": "stdout",
     "output_type": "stream",
     "text": [
      "<class 'pandas.core.frame.DataFrame'>\n",
      "RangeIndex: 2075 entries, 0 to 2074\n",
      "Data columns (total 95 columns):\n",
      " #   Column                         Non-Null Count  Dtype         \n",
      "---  ------                         --------------  -----         \n",
      " 0   ds                             2075 non-null   datetime64[ns]\n",
      " 1   SPY_return                     2075 non-null   float64       \n",
      " 2   SPY_Volume                     2075 non-null   float64       \n",
      " 3   AAPL                           2075 non-null   float64       \n",
      " 4   MSFT                           2075 non-null   float64       \n",
      " 5   GOOG                           2075 non-null   float64       \n",
      " 6   GLD                            2075 non-null   float64       \n",
      " 7   SLV                            2075 non-null   float64       \n",
      " 8   ^TNX                           2075 non-null   float64       \n",
      " 9   DX-Y.NYB                       2075 non-null   float64       \n",
      " 10  JPY=X                          2075 non-null   float64       \n",
      " 11  EUR=X                          2075 non-null   float64       \n",
      " 12  USO                            2075 non-null   float64       \n",
      " 13  UNG                            2075 non-null   float64       \n",
      " 14  BTC-USD                        2075 non-null   float64       \n",
      " 15  CPER                           2075 non-null   float64       \n",
      " 16  ^VIX                           2075 non-null   float64       \n",
      " 17  ^GDAXI                         2075 non-null   float64       \n",
      " 18  ^FTSE                          2075 non-null   float64       \n",
      " 19  IWM                            2075 non-null   float64       \n",
      " 20  ^N225                          2075 non-null   float64       \n",
      " 21  IEI                            2075 non-null   float64       \n",
      " 22  CNYUSD=X                       2075 non-null   float64       \n",
      " 23  2Y_Yield                       2075 non-null   float64       \n",
      " 24  yield_curve                    2075 non-null   float64       \n",
      " 25  market_closed_count            2075 non-null   int64         \n",
      " 26  yield_curve_term               2075 non-null   float64       \n",
      " 27  high-low                       2075 non-null   float64       \n",
      " 28  before_high-low                2075 non-null   float64       \n",
      " 29  SPY_Streak                     2075 non-null   int64         \n",
      " 30  SPY_AbsChange                  2075 non-null   float64       \n",
      " 31  day                            2075 non-null   int32         \n",
      " 32  Actual_GDP                     2075 non-null   float64       \n",
      " 33  Actual_nonfarm                 2075 non-null   float64       \n",
      " 34  Actual_CPI                     2075 non-null   float64       \n",
      " 35  Actual_PPI                     2075 non-null   float64       \n",
      " 36  Actual_unemployment rate       2075 non-null   float64       \n",
      " 37  Actual_core_PCE                2075 non-null   float64       \n",
      " 38  Actual_FOMC                    2075 non-null   float64       \n",
      " 39  CPI_vs_forecast                2075 non-null   float64       \n",
      " 40  CPI_vs_previous                2075 non-null   float64       \n",
      " 41  GDP_vs_forecast                2075 non-null   float64       \n",
      " 42  GDP_vs_previous                2075 non-null   float64       \n",
      " 43  PPI_vs_forecast                2075 non-null   float64       \n",
      " 44  PPI_vs_previous                2075 non-null   float64       \n",
      " 45  nonfarm_vs_forecast            2075 non-null   float64       \n",
      " 46  nonfarm_vs_previous            2075 non-null   float64       \n",
      " 47  unemployment rate_vs_forecast  2075 non-null   float64       \n",
      " 48  unemployment rate_vs_previous  2075 non-null   float64       \n",
      " 49  core_PCE_vs_forecast           2075 non-null   float64       \n",
      " 50  core_PCE_vs_previous           2075 non-null   float64       \n",
      " 51  FOMC_vs_forecast               2075 non-null   float64       \n",
      " 52  FOMC_vs_previous               2075 non-null   float64       \n",
      " 53  is_event                       2075 non-null   int64         \n",
      " 54  days_since_fomc                2075 non-null   float64       \n",
      " 55  isr_holiday                    2075 non-null   int64         \n",
      " 56  event                          2075 non-null   int8          \n",
      " 57  EMA_20                         2075 non-null   float64       \n",
      " 58  EMA_50                         2075 non-null   float64       \n",
      " 59  EMA_200                        2075 non-null   float64       \n",
      " 60  EMA_20_50                      2075 non-null   int64         \n",
      " 61  EMA_50_200                     2075 non-null   int64         \n",
      " 62  EMA_50_diff                    2075 non-null   float64       \n",
      " 63  EMA_200_diff                   2075 non-null   float64       \n",
      " 64  std_price                      2075 non-null   float64       \n",
      " 65  ^VIX_dummy                     2075 non-null   int64         \n",
      " 66  ^VIX_rank                      2075 non-null   float64       \n",
      " 67  IWM_avg5d                      2075 non-null   float64       \n",
      " 68  IWM_std_5d                     2075 non-null   float64       \n",
      " 69  Yestrady                       2075 non-null   float64       \n",
      " 70  stdev                          2075 non-null   float64       \n",
      " 71  avgreturn5d                    2075 non-null   float64       \n",
      " 72  stdev_5                        2075 non-null   float64       \n",
      " 73  avgreturn10d                   2075 non-null   float64       \n",
      " 74  Monday                         2075 non-null   int64         \n",
      " 75  Tuesday                        2075 non-null   int64         \n",
      " 76  Wednesday                      2075 non-null   int64         \n",
      " 77  Thursday                       2075 non-null   int64         \n",
      " 78  Friday                         2075 non-null   int64         \n",
      " 79  Saturday                       2075 non-null   int64         \n",
      " 80  Sunday                         2075 non-null   int64         \n",
      " 81  January                        2075 non-null   int64         \n",
      " 82  February                       2075 non-null   int64         \n",
      " 83  March                          2075 non-null   int64         \n",
      " 84  April                          2075 non-null   int64         \n",
      " 85  May                            2075 non-null   int64         \n",
      " 86  June                           2075 non-null   int64         \n",
      " 87  July                           2075 non-null   int64         \n",
      " 88  August                         2075 non-null   int64         \n",
      " 89  September                      2075 non-null   int64         \n",
      " 90  October                        2075 non-null   int64         \n",
      " 91  November                       2075 non-null   int64         \n",
      " 92  December                       2075 non-null   int64         \n",
      " 93  vol_above_mean                 2075 non-null   int64         \n",
      " 94  abs_vix                        2075 non-null   float64       \n",
      "dtypes: datetime64[ns](1), float64(65), int32(1), int64(27), int8(1)\n",
      "memory usage: 1.5 MB\n"
     ]
    }
   ],
   "source": [
    "df = df.merge(to_add, on='ds', how='left')\n",
    "df.info()"
   ]
  },
  {
   "cell_type": "code",
   "execution_count": 793,
   "metadata": {},
   "outputs": [
    {
     "name": "stdout",
     "output_type": "stream",
     "text": [
      "<class 'pandas.core.frame.DataFrame'>\n",
      "RangeIndex: 2075 entries, 0 to 2074\n",
      "Data columns (total 92 columns):\n",
      " #   Column                         Non-Null Count  Dtype  \n",
      "---  ------                         --------------  -----  \n",
      " 0   SPY_Volume                     2075 non-null   float64\n",
      " 1   AAPL                           2075 non-null   float64\n",
      " 2   MSFT                           2075 non-null   float64\n",
      " 3   GOOG                           2075 non-null   float64\n",
      " 4   GLD                            2075 non-null   float64\n",
      " 5   SLV                            2075 non-null   float64\n",
      " 6   ^TNX                           2075 non-null   float64\n",
      " 7   DX-Y.NYB                       2075 non-null   float64\n",
      " 8   JPY=X                          2075 non-null   float64\n",
      " 9   EUR=X                          2075 non-null   float64\n",
      " 10  USO                            2075 non-null   float64\n",
      " 11  UNG                            2075 non-null   float64\n",
      " 12  BTC-USD                        2075 non-null   float64\n",
      " 13  CPER                           2075 non-null   float64\n",
      " 14  ^VIX                           2075 non-null   float64\n",
      " 15  ^GDAXI                         2075 non-null   float64\n",
      " 16  ^FTSE                          2075 non-null   float64\n",
      " 17  IWM                            2075 non-null   float64\n",
      " 18  ^N225                          2075 non-null   float64\n",
      " 19  IEI                            2075 non-null   float64\n",
      " 20  CNYUSD=X                       2075 non-null   float64\n",
      " 21  2Y_Yield                       2075 non-null   float64\n",
      " 22  yield_curve                    2075 non-null   float64\n",
      " 23  market_closed_count            2075 non-null   int64  \n",
      " 24  yield_curve_term               2075 non-null   float64\n",
      " 25  high-low                       2075 non-null   float64\n",
      " 26  before_high-low                2075 non-null   float64\n",
      " 27  SPY_Streak                     2075 non-null   int64  \n",
      " 28  SPY_AbsChange                  2075 non-null   float64\n",
      " 29  day                            2075 non-null   int32  \n",
      " 30  Actual_GDP                     2075 non-null   float64\n",
      " 31  Actual_nonfarm                 2075 non-null   float64\n",
      " 32  Actual_CPI                     2075 non-null   float64\n",
      " 33  Actual_PPI                     2075 non-null   float64\n",
      " 34  Actual_unemployment rate       2075 non-null   float64\n",
      " 35  Actual_core_PCE                2075 non-null   float64\n",
      " 36  Actual_FOMC                    2075 non-null   float64\n",
      " 37  CPI_vs_forecast                2075 non-null   float64\n",
      " 38  CPI_vs_previous                2075 non-null   float64\n",
      " 39  GDP_vs_forecast                2075 non-null   float64\n",
      " 40  GDP_vs_previous                2075 non-null   float64\n",
      " 41  PPI_vs_forecast                2075 non-null   float64\n",
      " 42  PPI_vs_previous                2075 non-null   float64\n",
      " 43  nonfarm_vs_forecast            2075 non-null   float64\n",
      " 44  nonfarm_vs_previous            2075 non-null   float64\n",
      " 45  unemployment rate_vs_forecast  2075 non-null   float64\n",
      " 46  unemployment rate_vs_previous  2075 non-null   float64\n",
      " 47  core_PCE_vs_forecast           2075 non-null   float64\n",
      " 48  core_PCE_vs_previous           2075 non-null   float64\n",
      " 49  FOMC_vs_forecast               2075 non-null   float64\n",
      " 50  FOMC_vs_previous               2075 non-null   float64\n",
      " 51  is_event                       2075 non-null   int64  \n",
      " 52  days_since_fomc                2075 non-null   float64\n",
      " 53  isr_holiday                    2075 non-null   int64  \n",
      " 54  event                          2075 non-null   int8   \n",
      " 55  EMA_20                         2075 non-null   float64\n",
      " 56  EMA_50                         2075 non-null   float64\n",
      " 57  EMA_200                        2075 non-null   float64\n",
      " 58  EMA_20_50                      2075 non-null   int64  \n",
      " 59  EMA_50_200                     2075 non-null   int64  \n",
      " 60  EMA_50_diff                    2075 non-null   float64\n",
      " 61  EMA_200_diff                   2075 non-null   float64\n",
      " 62  std_price                      2075 non-null   float64\n",
      " 63  ^VIX_dummy                     2075 non-null   int64  \n",
      " 64  IWM_avg5d                      2075 non-null   float64\n",
      " 65  IWM_std_5d                     2075 non-null   float64\n",
      " 66  Yestrady                       2075 non-null   float64\n",
      " 67  stdev                          2075 non-null   float64\n",
      " 68  avgreturn5d                    2075 non-null   float64\n",
      " 69  stdev_5                        2075 non-null   float64\n",
      " 70  avgreturn10d                   2075 non-null   float64\n",
      " 71  Monday                         2075 non-null   int64  \n",
      " 72  Tuesday                        2075 non-null   int64  \n",
      " 73  Wednesday                      2075 non-null   int64  \n",
      " 74  Thursday                       2075 non-null   int64  \n",
      " 75  Friday                         2075 non-null   int64  \n",
      " 76  Saturday                       2075 non-null   int64  \n",
      " 77  Sunday                         2075 non-null   int64  \n",
      " 78  January                        2075 non-null   int64  \n",
      " 79  February                       2075 non-null   int64  \n",
      " 80  March                          2075 non-null   int64  \n",
      " 81  April                          2075 non-null   int64  \n",
      " 82  May                            2075 non-null   int64  \n",
      " 83  June                           2075 non-null   int64  \n",
      " 84  July                           2075 non-null   int64  \n",
      " 85  August                         2075 non-null   int64  \n",
      " 86  September                      2075 non-null   int64  \n",
      " 87  October                        2075 non-null   int64  \n",
      " 88  November                       2075 non-null   int64  \n",
      " 89  December                       2075 non-null   int64  \n",
      " 90  vol_above_mean                 2075 non-null   int64  \n",
      " 91  abs_vix                        2075 non-null   float64\n",
      "dtypes: float64(63), int32(1), int64(27), int8(1)\n",
      "memory usage: 1.4 MB\n"
     ]
    }
   ],
   "source": [
    "y = df['SPY_return']\n",
    "x = df.drop(['SPY_return', 'ds','^VIX_rank'], axis=1)\n",
    "#'^VIX_rank'\n",
    "x.info()"
   ]
  },
  {
   "cell_type": "code",
   "execution_count": 794,
   "metadata": {},
   "outputs": [],
   "source": [
    "split = int(len(y)*0.9)\n",
    "x_train = x.iloc[:split]\n",
    "x_test = x.iloc[split:]\n",
    "y_train = y.iloc[:split]\n",
    "y_test = y.iloc[split:]"
   ]
  },
  {
   "cell_type": "code",
   "execution_count": null,
   "metadata": {},
   "outputs": [
    {
     "name": "stderr",
     "output_type": "stream",
     "text": [
      "c:\\Users\\OMER\\PycharmProjects\\Project\\.venv\\lib\\site-packages\\xgboost\\training.py:183: UserWarning: [18:45:47] WARNING: C:\\actions-runner\\_work\\xgboost\\xgboost\\src\\learner.cc:738: \n",
      "Parameters: { \"cv\", \"verbose\" } are not used.\n",
      "\n",
      "  bst.update(dtrain, iteration=i, fobj=obj)\n"
     ]
    },
    {
     "name": "stdout",
     "output_type": "stream",
     "text": [
      "w=1.0, MAE=0.2694\n"
     ]
    },
    {
     "name": "stderr",
     "output_type": "stream",
     "text": [
      "c:\\Users\\OMER\\PycharmProjects\\Project\\.venv\\lib\\site-packages\\xgboost\\training.py:183: UserWarning: [18:45:47] WARNING: C:\\actions-runner\\_work\\xgboost\\xgboost\\src\\learner.cc:738: \n",
      "Parameters: { \"cv\", \"verbose\" } are not used.\n",
      "\n",
      "  bst.update(dtrain, iteration=i, fobj=obj)\n"
     ]
    },
    {
     "name": "stdout",
     "output_type": "stream",
     "text": [
      "w=1.1, MAE=0.2687\n"
     ]
    },
    {
     "name": "stderr",
     "output_type": "stream",
     "text": [
      "c:\\Users\\OMER\\PycharmProjects\\Project\\.venv\\lib\\site-packages\\xgboost\\training.py:183: UserWarning: [18:45:48] WARNING: C:\\actions-runner\\_work\\xgboost\\xgboost\\src\\learner.cc:738: \n",
      "Parameters: { \"cv\", \"verbose\" } are not used.\n",
      "\n",
      "  bst.update(dtrain, iteration=i, fobj=obj)\n"
     ]
    },
    {
     "name": "stdout",
     "output_type": "stream",
     "text": [
      "w=1.2, MAE=0.2691\n"
     ]
    },
    {
     "name": "stderr",
     "output_type": "stream",
     "text": [
      "c:\\Users\\OMER\\PycharmProjects\\Project\\.venv\\lib\\site-packages\\xgboost\\training.py:183: UserWarning: [18:45:48] WARNING: C:\\actions-runner\\_work\\xgboost\\xgboost\\src\\learner.cc:738: \n",
      "Parameters: { \"cv\", \"verbose\" } are not used.\n",
      "\n",
      "  bst.update(dtrain, iteration=i, fobj=obj)\n"
     ]
    },
    {
     "name": "stdout",
     "output_type": "stream",
     "text": [
      "w=1.3, MAE=0.2667\n"
     ]
    },
    {
     "name": "stderr",
     "output_type": "stream",
     "text": [
      "c:\\Users\\OMER\\PycharmProjects\\Project\\.venv\\lib\\site-packages\\xgboost\\training.py:183: UserWarning: [18:45:49] WARNING: C:\\actions-runner\\_work\\xgboost\\xgboost\\src\\learner.cc:738: \n",
      "Parameters: { \"cv\", \"verbose\" } are not used.\n",
      "\n",
      "  bst.update(dtrain, iteration=i, fobj=obj)\n"
     ]
    },
    {
     "name": "stdout",
     "output_type": "stream",
     "text": [
      "w=1.4, MAE=0.2636\n"
     ]
    },
    {
     "name": "stderr",
     "output_type": "stream",
     "text": [
      "c:\\Users\\OMER\\PycharmProjects\\Project\\.venv\\lib\\site-packages\\xgboost\\training.py:183: UserWarning: [18:45:49] WARNING: C:\\actions-runner\\_work\\xgboost\\xgboost\\src\\learner.cc:738: \n",
      "Parameters: { \"cv\", \"verbose\" } are not used.\n",
      "\n",
      "  bst.update(dtrain, iteration=i, fobj=obj)\n"
     ]
    },
    {
     "name": "stdout",
     "output_type": "stream",
     "text": [
      "w=1.5, MAE=0.2670\n"
     ]
    },
    {
     "name": "stderr",
     "output_type": "stream",
     "text": [
      "c:\\Users\\OMER\\PycharmProjects\\Project\\.venv\\lib\\site-packages\\xgboost\\training.py:183: UserWarning: [18:45:49] WARNING: C:\\actions-runner\\_work\\xgboost\\xgboost\\src\\learner.cc:738: \n",
      "Parameters: { \"cv\", \"verbose\" } are not used.\n",
      "\n",
      "  bst.update(dtrain, iteration=i, fobj=obj)\n"
     ]
    },
    {
     "name": "stdout",
     "output_type": "stream",
     "text": [
      "w=1.6, MAE=0.2673\n"
     ]
    },
    {
     "name": "stderr",
     "output_type": "stream",
     "text": [
      "c:\\Users\\OMER\\PycharmProjects\\Project\\.venv\\lib\\site-packages\\xgboost\\training.py:183: UserWarning: [18:45:50] WARNING: C:\\actions-runner\\_work\\xgboost\\xgboost\\src\\learner.cc:738: \n",
      "Parameters: { \"cv\", \"verbose\" } are not used.\n",
      "\n",
      "  bst.update(dtrain, iteration=i, fobj=obj)\n"
     ]
    },
    {
     "name": "stdout",
     "output_type": "stream",
     "text": [
      "w=1.7, MAE=0.2713\n"
     ]
    },
    {
     "name": "stderr",
     "output_type": "stream",
     "text": [
      "c:\\Users\\OMER\\PycharmProjects\\Project\\.venv\\lib\\site-packages\\xgboost\\training.py:183: UserWarning: [18:45:50] WARNING: C:\\actions-runner\\_work\\xgboost\\xgboost\\src\\learner.cc:738: \n",
      "Parameters: { \"cv\", \"verbose\" } are not used.\n",
      "\n",
      "  bst.update(dtrain, iteration=i, fobj=obj)\n"
     ]
    },
    {
     "name": "stdout",
     "output_type": "stream",
     "text": [
      "w=1.8, MAE=0.2635\n"
     ]
    },
    {
     "name": "stderr",
     "output_type": "stream",
     "text": [
      "c:\\Users\\OMER\\PycharmProjects\\Project\\.venv\\lib\\site-packages\\xgboost\\training.py:183: UserWarning: [18:45:51] WARNING: C:\\actions-runner\\_work\\xgboost\\xgboost\\src\\learner.cc:738: \n",
      "Parameters: { \"cv\", \"verbose\" } are not used.\n",
      "\n",
      "  bst.update(dtrain, iteration=i, fobj=obj)\n"
     ]
    },
    {
     "name": "stdout",
     "output_type": "stream",
     "text": [
      "w=1.9, MAE=0.2678\n"
     ]
    },
    {
     "name": "stderr",
     "output_type": "stream",
     "text": [
      "c:\\Users\\OMER\\PycharmProjects\\Project\\.venv\\lib\\site-packages\\xgboost\\training.py:183: UserWarning: [18:45:51] WARNING: C:\\actions-runner\\_work\\xgboost\\xgboost\\src\\learner.cc:738: \n",
      "Parameters: { \"cv\", \"verbose\" } are not used.\n",
      "\n",
      "  bst.update(dtrain, iteration=i, fobj=obj)\n"
     ]
    },
    {
     "name": "stdout",
     "output_type": "stream",
     "text": [
      "w=2.0, MAE=0.2654\n"
     ]
    },
    {
     "name": "stderr",
     "output_type": "stream",
     "text": [
      "c:\\Users\\OMER\\PycharmProjects\\Project\\.venv\\lib\\site-packages\\xgboost\\training.py:183: UserWarning: [18:45:52] WARNING: C:\\actions-runner\\_work\\xgboost\\xgboost\\src\\learner.cc:738: \n",
      "Parameters: { \"cv\", \"verbose\" } are not used.\n",
      "\n",
      "  bst.update(dtrain, iteration=i, fobj=obj)\n"
     ]
    },
    {
     "name": "stdout",
     "output_type": "stream",
     "text": [
      "w=2.1, MAE=0.2703\n"
     ]
    },
    {
     "name": "stderr",
     "output_type": "stream",
     "text": [
      "c:\\Users\\OMER\\PycharmProjects\\Project\\.venv\\lib\\site-packages\\xgboost\\training.py:183: UserWarning: [18:45:52] WARNING: C:\\actions-runner\\_work\\xgboost\\xgboost\\src\\learner.cc:738: \n",
      "Parameters: { \"cv\", \"verbose\" } are not used.\n",
      "\n",
      "  bst.update(dtrain, iteration=i, fobj=obj)\n"
     ]
    },
    {
     "name": "stdout",
     "output_type": "stream",
     "text": [
      "w=2.2, MAE=0.2635\n"
     ]
    },
    {
     "name": "stderr",
     "output_type": "stream",
     "text": [
      "c:\\Users\\OMER\\PycharmProjects\\Project\\.venv\\lib\\site-packages\\xgboost\\training.py:183: UserWarning: [18:45:52] WARNING: C:\\actions-runner\\_work\\xgboost\\xgboost\\src\\learner.cc:738: \n",
      "Parameters: { \"cv\", \"verbose\" } are not used.\n",
      "\n",
      "  bst.update(dtrain, iteration=i, fobj=obj)\n"
     ]
    },
    {
     "name": "stdout",
     "output_type": "stream",
     "text": [
      "w=2.3, MAE=0.2655\n"
     ]
    },
    {
     "name": "stderr",
     "output_type": "stream",
     "text": [
      "c:\\Users\\OMER\\PycharmProjects\\Project\\.venv\\lib\\site-packages\\xgboost\\training.py:183: UserWarning: [18:45:53] WARNING: C:\\actions-runner\\_work\\xgboost\\xgboost\\src\\learner.cc:738: \n",
      "Parameters: { \"cv\", \"verbose\" } are not used.\n",
      "\n",
      "  bst.update(dtrain, iteration=i, fobj=obj)\n"
     ]
    },
    {
     "name": "stdout",
     "output_type": "stream",
     "text": [
      "w=2.4, MAE=0.2698\n"
     ]
    },
    {
     "name": "stderr",
     "output_type": "stream",
     "text": [
      "c:\\Users\\OMER\\PycharmProjects\\Project\\.venv\\lib\\site-packages\\xgboost\\training.py:183: UserWarning: [18:45:53] WARNING: C:\\actions-runner\\_work\\xgboost\\xgboost\\src\\learner.cc:738: \n",
      "Parameters: { \"cv\", \"verbose\" } are not used.\n",
      "\n",
      "  bst.update(dtrain, iteration=i, fobj=obj)\n"
     ]
    },
    {
     "name": "stdout",
     "output_type": "stream",
     "text": [
      "w=2.5, MAE=0.2729\n"
     ]
    },
    {
     "name": "stderr",
     "output_type": "stream",
     "text": [
      "c:\\Users\\OMER\\PycharmProjects\\Project\\.venv\\lib\\site-packages\\xgboost\\training.py:183: UserWarning: [18:45:54] WARNING: C:\\actions-runner\\_work\\xgboost\\xgboost\\src\\learner.cc:738: \n",
      "Parameters: { \"cv\", \"verbose\" } are not used.\n",
      "\n",
      "  bst.update(dtrain, iteration=i, fobj=obj)\n"
     ]
    },
    {
     "name": "stdout",
     "output_type": "stream",
     "text": [
      "w=2.6, MAE=0.2678\n"
     ]
    },
    {
     "name": "stderr",
     "output_type": "stream",
     "text": [
      "c:\\Users\\OMER\\PycharmProjects\\Project\\.venv\\lib\\site-packages\\xgboost\\training.py:183: UserWarning: [18:45:54] WARNING: C:\\actions-runner\\_work\\xgboost\\xgboost\\src\\learner.cc:738: \n",
      "Parameters: { \"cv\", \"verbose\" } are not used.\n",
      "\n",
      "  bst.update(dtrain, iteration=i, fobj=obj)\n"
     ]
    },
    {
     "name": "stdout",
     "output_type": "stream",
     "text": [
      "w=2.7, MAE=0.2716\n"
     ]
    },
    {
     "name": "stderr",
     "output_type": "stream",
     "text": [
      "c:\\Users\\OMER\\PycharmProjects\\Project\\.venv\\lib\\site-packages\\xgboost\\training.py:183: UserWarning: [18:45:55] WARNING: C:\\actions-runner\\_work\\xgboost\\xgboost\\src\\learner.cc:738: \n",
      "Parameters: { \"cv\", \"verbose\" } are not used.\n",
      "\n",
      "  bst.update(dtrain, iteration=i, fobj=obj)\n"
     ]
    },
    {
     "name": "stdout",
     "output_type": "stream",
     "text": [
      "w=2.8, MAE=0.2730\n"
     ]
    },
    {
     "name": "stderr",
     "output_type": "stream",
     "text": [
      "c:\\Users\\OMER\\PycharmProjects\\Project\\.venv\\lib\\site-packages\\xgboost\\training.py:183: UserWarning: [18:45:55] WARNING: C:\\actions-runner\\_work\\xgboost\\xgboost\\src\\learner.cc:738: \n",
      "Parameters: { \"cv\", \"verbose\" } are not used.\n",
      "\n",
      "  bst.update(dtrain, iteration=i, fobj=obj)\n"
     ]
    },
    {
     "name": "stdout",
     "output_type": "stream",
     "text": [
      "w=2.9, MAE=0.2742\n"
     ]
    },
    {
     "name": "stderr",
     "output_type": "stream",
     "text": [
      "c:\\Users\\OMER\\PycharmProjects\\Project\\.venv\\lib\\site-packages\\xgboost\\training.py:183: UserWarning: [18:45:56] WARNING: C:\\actions-runner\\_work\\xgboost\\xgboost\\src\\learner.cc:738: \n",
      "Parameters: { \"cv\", \"verbose\" } are not used.\n",
      "\n",
      "  bst.update(dtrain, iteration=i, fobj=obj)\n"
     ]
    },
    {
     "name": "stdout",
     "output_type": "stream",
     "text": [
      "w=3.0, MAE=0.2761\n",
      "\n",
      "✅ Best weight with added slope w=1.80 with MAE=0.2635\n"
     ]
    }
   ],
   "source": [
    "from sklearn.metrics import mean_absolute_error, make_scorer\n",
    "from sklearn.model_selection import TimeSeriesSplit\n",
    "\n",
    "# Parameters\n",
    "best_w = None\n",
    "best_mae = float('inf')\n",
    "\n",
    "num_samples = len(y_train)\n",
    "results = []\n",
    "\n",
    "\n",
    "tscv = TimeSeriesSplit(n_splits=5)\n",
    "\n",
    "# Test weight range from 1.0 to 3.0 in 0.1 steps\n",
    "for w in np.arange(1.0, 3.1, 0.1):\n",
    "    # Create sample weights linearly increasing from 1 to w\n",
    "    weights = np.linspace(1, w, num_samples)\n",
    "    weights = weights / np.mean(weights)  # Normalize to mean=1\n",
    "\n",
    "    # Fit XGBoost with weights\n",
    "    model = xgb.XGBRegressor(**{'gamma': 0.1, 'learning_rate': 0.05, 'max_depth': 9, 'n_estimators': 200, 'reg_alpha': 0, 'subsample': 0.6, 'n_jobs': -1})\n",
    "    model.fit(x_train, y_train, sample_weight=weights)\n",
    "\n",
    "    # Predict and evaluate on test set\n",
    "    predictions = model.predict(x_test)\n",
    "    mae = mean_absolute_error(y_test, predictions)\n",
    "\n",
    "    results.append((w, mae))\n",
    "    print(f\"w={w:.1f}, MAE={mae:.4f}\")\n",
    "\n",
    "    # Track best\n",
    "    if mae < best_mae:\n",
    "        best_mae = mae\n",
    "        best_w = w\n",
    "\n",
    "print(f\"\\n✅ Best weight with added slope w={best_w:.2f} with MAE={best_mae:.4f}\")\n"
   ]
  },
  {
   "cell_type": "code",
   "execution_count": 730,
   "metadata": {},
   "outputs": [
    {
     "data": {
      "text/plain": [
       "{'MSE': 0.18639398567859058,\n",
       " 'RMSE': np.float64(0.4317336976407917),\n",
       " 'MAE': 0.26345546164690903,\n",
       " 'R2': 0.8939526288502173,\n",
       " 'RMSLE': 'Not applicable (values ≤ -1)'}"
      ]
     },
     "execution_count": 730,
     "metadata": {},
     "output_type": "execute_result"
    }
   ],
   "source": [
    "# Recreate sample weights using best_w = 3\n",
    "num_samples = len(y_train)\n",
    "weights = np.linspace(1, 1.8, num_samples)\n",
    "weights = weights / np.mean(weights)  # Normalize to mean=1\n",
    "\n",
    "\n",
    "xg_ind = xgb.XGBRegressor(**{'gamma': 0.1, 'learning_rate': 0.05, 'max_depth': 9, 'n_estimators': 200, 'reg_alpha': 0, 'subsample': 0.6, 'n_jobs': -1})\n",
    "xg_ind.fit(x_train, y_train,sample_weight=weights)\n",
    "predicted_xg_ind2 = xg_ind.predict(x_test)\n",
    "regressionMetrics(y_test,predicted_xg_ind2)"
   ]
  },
  {
   "cell_type": "code",
   "execution_count": 732,
   "metadata": {},
   "outputs": [
    {
     "data": {
      "text/plain": [
       "Text(0, 0.5, 'Predictions')"
      ]
     },
     "execution_count": 732,
     "metadata": {},
     "output_type": "execute_result"
    },
    {
     "data": {
      "image/png": "[encoded data removed]",
      "text/plain": [
       "<Figure size 640x480 with 1 Axes>"
      ]
     },
     "metadata": {},
     "output_type": "display_data"
    }
   ],
   "source": [
    "sns.scatterplot(x=y_test, y=predicted_xg_ind2, alpha=0.5)\n",
    "sns.lineplot(x=y_test, y=predicted_xg_ind2, alpha=0.5)\n",
    "plt.xlabel('True Values')\n",
    "plt.ylabel('Predictions')"
   ]
  },
  {
   "cell_type": "markdown",
   "metadata": {},
   "source": [
    "## Best resaults so far\n",
    "\n",
    "{'MSE': 0.1739106651896815,\n",
    " 'RMSE': np.float64(0.41702597663656576),\n",
    " 'MAE': 0.25650022213579016,\n",
    " 'R2': 0.9010549166823064,\n",
    " 'RMSLE': 'Not applicable (values ≤ -1)'}"
   ]
  },
  {
   "cell_type": "markdown",
   "metadata": {},
   "source": [
    "# Feture selection"
   ]
  },
  {
   "cell_type": "code",
   "execution_count": 733,
   "metadata": {},
   "outputs": [],
   "source": [
    "model = xgb.XGBRegressor(n_estimators=200, random_state=42)\n",
    "model.fit(x, y)\n",
    "\n",
    "# Create DataFrame of importance\n",
    "feature_importance = pd.DataFrame({\n",
    "    'feature': x.columns,\n",
    "    'importance': model.feature_importances_\n",
    "}).sort_values(by='importance', ascending=False)\n",
    "\n",
    "# Select top N\n",
    "selected_features = feature_importance[feature_importance['importance'] > 0.00]['feature'].tolist()"
   ]
  },
  {
   "cell_type": "code",
   "execution_count": 262,
   "metadata": {},
   "outputs": [
    {
     "data": {
      "text/html": [
       "<div>\n",
       "<style scoped>\n",
       "    .dataframe tbody tr th:only-of-type {\n",
       "        vertical-align: middle;\n",
       "    }\n",
       "\n",
       "    .dataframe tbody tr th {\n",
       "        vertical-align: top;\n",
       "    }\n",
       "\n",
       "    .dataframe thead th {\n",
       "        text-align: right;\n",
       "    }\n",
       "</style>\n",
       "<table border=\"1\" class=\"dataframe\">\n",
       "  <thead>\n",
       "    <tr style=\"text-align: right;\">\n",
       "      <th></th>\n",
       "      <th>feature</th>\n",
       "      <th>importance</th>\n",
       "    </tr>\n",
       "  </thead>\n",
       "  <tbody>\n",
       "    <tr>\n",
       "      <th>17</th>\n",
       "      <td>IWM</td>\n",
       "      <td>0.565797</td>\n",
       "    </tr>\n",
       "    <tr>\n",
       "      <th>2</th>\n",
       "      <td>MSFT</td>\n",
       "      <td>0.183204</td>\n",
       "    </tr>\n",
       "    <tr>\n",
       "      <th>64</th>\n",
       "      <td>stdev</td>\n",
       "      <td>0.026197</td>\n",
       "    </tr>\n",
       "    <tr>\n",
       "      <th>14</th>\n",
       "      <td>^VIX</td>\n",
       "      <td>0.025132</td>\n",
       "    </tr>\n",
       "    <tr>\n",
       "      <th>15</th>\n",
       "      <td>^GDAXI</td>\n",
       "      <td>0.024030</td>\n",
       "    </tr>\n",
       "    <tr>\n",
       "      <th>3</th>\n",
       "      <td>GOOG</td>\n",
       "      <td>0.020973</td>\n",
       "    </tr>\n",
       "    <tr>\n",
       "      <th>1</th>\n",
       "      <td>AAPL</td>\n",
       "      <td>0.018254</td>\n",
       "    </tr>\n",
       "    <tr>\n",
       "      <th>54</th>\n",
       "      <td>EMA_20</td>\n",
       "      <td>0.016512</td>\n",
       "    </tr>\n",
       "    <tr>\n",
       "      <th>35</th>\n",
       "      <td>Actual_FOMC</td>\n",
       "      <td>0.009062</td>\n",
       "    </tr>\n",
       "    <tr>\n",
       "      <th>24</th>\n",
       "      <td>high-low</td>\n",
       "      <td>0.007858</td>\n",
       "    </tr>\n",
       "    <tr>\n",
       "      <th>74</th>\n",
       "      <td>February</td>\n",
       "      <td>0.006736</td>\n",
       "    </tr>\n",
       "    <tr>\n",
       "      <th>86</th>\n",
       "      <td>abs_vix</td>\n",
       "      <td>0.006604</td>\n",
       "    </tr>\n",
       "    <tr>\n",
       "      <th>87</th>\n",
       "      <td>spy_abs_vol</td>\n",
       "      <td>0.004764</td>\n",
       "    </tr>\n",
       "    <tr>\n",
       "      <th>30</th>\n",
       "      <td>Actual_nonfarm</td>\n",
       "      <td>0.004636</td>\n",
       "    </tr>\n",
       "    <tr>\n",
       "      <th>26</th>\n",
       "      <td>SPY_Streak</td>\n",
       "      <td>0.004414</td>\n",
       "    </tr>\n",
       "    <tr>\n",
       "      <th>29</th>\n",
       "      <td>Actual_GDP</td>\n",
       "      <td>0.004052</td>\n",
       "    </tr>\n",
       "    <tr>\n",
       "      <th>78</th>\n",
       "      <td>June</td>\n",
       "      <td>0.003850</td>\n",
       "    </tr>\n",
       "    <tr>\n",
       "      <th>55</th>\n",
       "      <td>EMA_50</td>\n",
       "      <td>0.003559</td>\n",
       "    </tr>\n",
       "    <tr>\n",
       "      <th>65</th>\n",
       "      <td>avgreturn5d</td>\n",
       "      <td>0.003217</td>\n",
       "    </tr>\n",
       "    <tr>\n",
       "      <th>61</th>\n",
       "      <td>std_price</td>\n",
       "      <td>0.002898</td>\n",
       "    </tr>\n",
       "  </tbody>\n",
       "</table>\n",
       "</div>"
      ],
      "text/plain": [
       "           feature  importance\n",
       "17             IWM    0.565797\n",
       "2             MSFT    0.183204\n",
       "64           stdev    0.026197\n",
       "14            ^VIX    0.025132\n",
       "15          ^GDAXI    0.024030\n",
       "3             GOOG    0.020973\n",
       "1             AAPL    0.018254\n",
       "54          EMA_20    0.016512\n",
       "35     Actual_FOMC    0.009062\n",
       "24        high-low    0.007858\n",
       "74        February    0.006736\n",
       "86         abs_vix    0.006604\n",
       "87     spy_abs_vol    0.004764\n",
       "30  Actual_nonfarm    0.004636\n",
       "26      SPY_Streak    0.004414\n",
       "29      Actual_GDP    0.004052\n",
       "78            June    0.003850\n",
       "55          EMA_50    0.003559\n",
       "65     avgreturn5d    0.003217\n",
       "61       std_price    0.002898"
      ]
     },
     "execution_count": 262,
     "metadata": {},
     "output_type": "execute_result"
    }
   ],
   "source": [
    "feature_importance.head(20)"
   ]
  },
  {
   "cell_type": "code",
   "execution_count": 21,
   "metadata": {},
   "outputs": [],
   "source": [
    "import seaborn as sns\n",
    "#import matplotlib.pyplot as plt\n"
   ]
  },
  {
   "cell_type": "code",
   "execution_count": 719,
   "metadata": {},
   "outputs": [
    {
     "data": {
      "text/plain": [
       "Text(0.5, 0, 'Importance')"
      ]
     },
     "execution_count": 719,
     "metadata": {},
     "output_type": "execute_result"
    },
    {
     "data": {
      "image/png": "[encoded data removed]",
      "text/plain": [
       "<Figure size 2400x1800 with 1 Axes>"
      ]
     },
     "metadata": {},
     "output_type": "display_data"
    }
   ],
   "source": [
    "import seaborn as sns\n",
    "import matplotlib.pyplot as plt\n",
    "plt.figure(figsize=(24, 18))\n",
    "sns.barplot(data=feature_importance, x='importance', y='feature')\n",
    "plt.title('Feature Importance')\n",
    "plt.xlabel('Importance')"
   ]
  },
  {
   "cell_type": "code",
   "execution_count": 373,
   "metadata": {},
   "outputs": [
    {
     "name": "stdout",
     "output_type": "stream",
     "text": [
      "81\n"
     ]
    }
   ],
   "source": [
    "print(len(selected_features))"
   ]
  },
  {
   "cell_type": "code",
   "execution_count": 734,
   "metadata": {},
   "outputs": [
    {
     "name": "stdout",
     "output_type": "stream",
     "text": [
      "Index(['IWM', 'MSFT', '^VIX', 'AAPL', 'GOOG', 'stdev_5', 'EMA_20', 'abs_vix',\n",
      "       'avgreturn5d', 'high-low', '^GDAXI', '^FTSE', 'stdev', 'std_price',\n",
      "       'IWM_avg5d', 'IWM_std_5d', 'SPY_Volume', 'SLV', '^N225', 'EMA_200',\n",
      "       'USO', 'DX-Y.NYB', 'CPER', 'before_high-low', 'SPY_Streak',\n",
      "       'avgreturn10d', 'EMA_50', 'CNYUSD=X', 'GLD', 'EUR=X', '^TNX',\n",
      "       'Yestrady', 'yield_curve', 'day', 'JPY=X', 'SPY_AbsChange', 'BTC-USD',\n",
      "       'UNG'],\n",
      "      dtype='object')\n"
     ]
    }
   ],
   "source": [
    "from sklearn.inspection import permutation_importance\n",
    "\n",
    "result = permutation_importance(model, x, y, n_repeats=10, random_state=42)\n",
    "sorted_idx = result.importances_mean.argsort()[::-1]\n",
    "important_features = x.columns[sorted_idx[:38]] # 38 is the number that yields the best resaults \n",
    "print(important_features)"
   ]
  },
  {
   "cell_type": "code",
   "execution_count": 776,
   "metadata": {},
   "outputs": [
    {
     "name": "stdout",
     "output_type": "stream",
     "text": [
      "Index(['IWM', 'MSFT', '^VIX', 'AAPL', 'GOOG', 'stdev_5', 'EMA_20', 'abs_vix',\n",
      "       'avgreturn5d', 'high-low', '^GDAXI', '^FTSE', 'stdev', 'std_price',\n",
      "       'IWM_avg5d', 'IWM_std_5d', 'SPY_Volume', 'SLV', '^N225', 'EMA_200',\n",
      "       'USO', 'DX-Y.NYB', 'CPER', 'before_high-low', 'SPY_Streak',\n",
      "       'avgreturn10d', 'EMA_50', 'CNYUSD=X', 'GLD', 'EUR=X', '^TNX',\n",
      "       'Yestrady', 'yield_curve', 'day', 'JPY=X', 'SPY_AbsChange', 'BTC-USD',\n",
      "       'UNG', '2Y_Yield', 'days_since_fomc', 'IEI', 'Monday', 'Thursday',\n",
      "       'yield_curve_term', 'Actual_FOMC', 'February', 'Wednesday', 'July',\n",
      "       'Tuesday', 'vol_above_mean', 'market_closed_count', 'EMA_50_200',\n",
      "       'Actual_GDP', 'Friday', 'November'],\n",
      "      dtype='object')\n"
     ]
    }
   ],
   "source": [
    "important_features = x.columns[sorted_idx[:55]] # 38 is the number that yields the best resaults \n",
    "print(important_features)"
   ]
  },
  {
   "cell_type": "code",
   "execution_count": 777,
   "metadata": {},
   "outputs": [
    {
     "name": "stdout",
     "output_type": "stream",
     "text": [
      "<class 'pandas.core.frame.DataFrame'>\n",
      "RangeIndex: 2075 entries, 0 to 2074\n",
      "Data columns (total 55 columns):\n",
      " #   Column               Non-Null Count  Dtype  \n",
      "---  ------               --------------  -----  \n",
      " 0   IWM                  2075 non-null   float64\n",
      " 1   MSFT                 2075 non-null   float64\n",
      " 2   ^VIX                 2075 non-null   float64\n",
      " 3   AAPL                 2075 non-null   float64\n",
      " 4   GOOG                 2075 non-null   float64\n",
      " 5   stdev_5              2075 non-null   float64\n",
      " 6   EMA_20               2075 non-null   float64\n",
      " 7   abs_vix              2075 non-null   float64\n",
      " 8   avgreturn5d          2075 non-null   float64\n",
      " 9   high-low             2075 non-null   float64\n",
      " 10  ^GDAXI               2075 non-null   float64\n",
      " 11  ^FTSE                2075 non-null   float64\n",
      " 12  stdev                2075 non-null   float64\n",
      " 13  std_price            2075 non-null   float64\n",
      " 14  IWM_avg5d            2075 non-null   float64\n",
      " 15  IWM_std_5d           2075 non-null   float64\n",
      " 16  SPY_Volume           2075 non-null   float64\n",
      " 17  SLV                  2075 non-null   float64\n",
      " 18  ^N225                2075 non-null   float64\n",
      " 19  EMA_200              2075 non-null   float64\n",
      " 20  USO                  2075 non-null   float64\n",
      " 21  DX-Y.NYB             2075 non-null   float64\n",
      " 22  CPER                 2075 non-null   float64\n",
      " 23  before_high-low      2075 non-null   float64\n",
      " 24  SPY_Streak           2075 non-null   int64  \n",
      " 25  avgreturn10d         2075 non-null   float64\n",
      " 26  EMA_50               2075 non-null   float64\n",
      " 27  CNYUSD=X             2075 non-null   float64\n",
      " 28  GLD                  2075 non-null   float64\n",
      " 29  EUR=X                2075 non-null   float64\n",
      " 30  ^TNX                 2075 non-null   float64\n",
      " 31  Yestrady             2075 non-null   float64\n",
      " 32  yield_curve          2075 non-null   float64\n",
      " 33  day                  2075 non-null   int32  \n",
      " 34  JPY=X                2075 non-null   float64\n",
      " 35  SPY_AbsChange        2075 non-null   float64\n",
      " 36  BTC-USD              2075 non-null   float64\n",
      " 37  UNG                  2075 non-null   float64\n",
      " 38  2Y_Yield             2075 non-null   float64\n",
      " 39  days_since_fomc      2075 non-null   float64\n",
      " 40  IEI                  2075 non-null   float64\n",
      " 41  Monday               2075 non-null   int64  \n",
      " 42  Thursday             2075 non-null   int64  \n",
      " 43  yield_curve_term     2075 non-null   float64\n",
      " 44  Actual_FOMC          2075 non-null   float64\n",
      " 45  February             2075 non-null   int64  \n",
      " 46  Wednesday            2075 non-null   int64  \n",
      " 47  July                 2075 non-null   int64  \n",
      " 48  Tuesday              2075 non-null   int64  \n",
      " 49  vol_above_mean       2075 non-null   int64  \n",
      " 50  market_closed_count  2075 non-null   int64  \n",
      " 51  EMA_50_200           2075 non-null   int64  \n",
      " 52  Actual_GDP           2075 non-null   float64\n",
      " 53  Friday               2075 non-null   int64  \n",
      " 54  November             2075 non-null   int64  \n",
      "dtypes: float64(42), int32(1), int64(12)\n",
      "memory usage: 883.6 KB\n"
     ]
    }
   ],
   "source": [
    "y_s = df['SPY_return']\n",
    "x_s = df[important_features]\n",
    "x_s.info()"
   ]
  },
  {
   "cell_type": "code",
   "execution_count": 778,
   "metadata": {},
   "outputs": [],
   "source": [
    "split = int(len(y)*0.9)\n",
    "x_train = x_s.iloc[:split]\n",
    "x_test = x_s.iloc[split:]\n",
    "y_train = y_s.iloc[:split]\n",
    "y_test = y_s.iloc[split:]"
   ]
  },
  {
   "cell_type": "code",
   "execution_count": 781,
   "metadata": {},
   "outputs": [
    {
     "data": {
      "text/plain": [
       "{'MSE': 0.16287839115441097,\n",
       " 'RMSE': np.float64(0.40358195097701155),\n",
       " 'MAE': 0.26141002884289716,\n",
       " 'R2': 0.9073316387535391,\n",
       " 'RMSLE': 'Not applicable (values ≤ -1)'}"
      ]
     },
     "execution_count": 781,
     "metadata": {},
     "output_type": "execute_result"
    }
   ],
   "source": [
    "# Recreate sample weights using best_w = 3\n",
    "num_samples = len(y_train)\n",
    "weights = np.linspace(1, 2.1, num_samples)\n",
    "weights = weights / np.mean(weights)  # Normalize to mean=1\n",
    "\n",
    "\n",
    "xg_ind = xgb.XGBRegressor(**{'gamma': 0.1, 'learning_rate': 0.05, 'max_depth': 9, 'n_estimators': 200, 'reg_alpha': 0, 'subsample': 0.6, 'n_jobs': -1})\n",
    "xg_ind.fit(x_train, y_train,sample_weight=weights)\n",
    "predicted_xg_ind2 = xg_ind.predict(x_test)\n",
    "regressionMetrics(y_test,predicted_xg_ind2)"
   ]
  },
  {
   "cell_type": "markdown",
   "metadata": {},
   "source": [
    "# Best resaults from permutation_importance using 38 top fetures\n",
    "{'MSE': 0.16332414855521937,\n",
    " 'RMSE': np.float64(0.40413382505702167),\n",
    " 'MAE': 0.2547603217483426,\n",
    " 'R2': 0.9070780307293864,\n",
    " 'RMSLE': 'Not applicable (values ≤ -1)'}\n",
    "\n",
    " ## Added iwm avg & std using top 45 :\n",
    "{'MSE': 0.15929380586598665,\n",
    " 'RMSE': np.float64(0.39911628113368997),\n",
    " 'MAE': 0.2546392991474355,\n",
    " 'R2': 0.9102085438157346,\n",
    " 'RMSLE': 'Not applicable (values ≤ -1)'}\n",
    "\n",
    "## Added iwm avg & std using top 60 ( with longer df):\n",
    " {'MSE': 0.16119299764366776,\n",
    " 'RMSE': np.float64(0.4014884775976364),\n",
    " 'MAE': 0.2582829648071678,\n",
    " 'R2': 0.9082905320114445,\n",
    " 'RMSLE': 'Not applicable (values ≤ -1)'}\n",
    "\n",
    " ## Added cny/usd using top 55\n",
    " {'MSE': 0.15946313641758256,\n",
    " 'RMSE': np.float64(0.39932835664097605),\n",
    " 'MAE': 0.2541777543995169,\n",
    " 'R2': 0.9092747206900562,\n",
    " 'RMSLE': 'Not applicable (values ≤ -1)'}"
   ]
  },
  {
   "cell_type": "code",
   "execution_count": 780,
   "metadata": {},
   "outputs": [
    {
     "name": "stdout",
     "output_type": "stream",
     "text": [
      "w=1.0, MAE=0.2677\n",
      "w=1.1, MAE=0.2686\n",
      "w=1.2, MAE=0.2701\n",
      "w=1.3, MAE=0.2679\n",
      "w=1.4, MAE=0.2636\n",
      "w=1.5, MAE=0.2630\n",
      "w=1.6, MAE=0.2639\n",
      "w=1.7, MAE=0.2654\n",
      "w=1.8, MAE=0.2718\n",
      "w=1.9, MAE=0.2670\n",
      "w=2.0, MAE=0.2683\n",
      "w=2.1, MAE=0.2614\n",
      "w=2.2, MAE=0.2654\n",
      "w=2.3, MAE=0.2626\n",
      "w=2.4, MAE=0.2679\n",
      "w=2.5, MAE=0.2682\n",
      "w=2.6, MAE=0.2621\n",
      "w=2.7, MAE=0.2670\n",
      "w=2.8, MAE=0.2649\n",
      "w=2.9, MAE=0.2682\n",
      "w=3.0, MAE=0.2708\n",
      "\n",
      "✅ Best weight with added slope w=2.10 with MAE=0.2614\n"
     ]
    }
   ],
   "source": [
    "from sklearn.metrics import mean_absolute_error, make_scorer\n",
    "\n",
    "# Parameters\n",
    "best_w = None\n",
    "best_mae = float('inf')\n",
    "\n",
    "num_samples = len(y_train)\n",
    "results = []\n",
    "\n",
    "# Test weight range from 1.0 to 3.0 in 0.1 steps\n",
    "for w in np.arange(1.0, 3.1, 0.1):\n",
    "    # Create sample weights linearly increasing from 1 to w\n",
    "    weights = np.linspace(1, w, num_samples)\n",
    "    weights = weights / np.mean(weights)  # Normalize to mean=1\n",
    "\n",
    "    # Fit XGBoost with weights\n",
    "    model = xgb.XGBRegressor(**{'gamma': 0.1, 'learning_rate': 0.05, 'max_depth': 9, 'n_estimators': 200, 'reg_alpha': 0, 'subsample': 0.6, 'n_jobs': -1})\n",
    "    model.fit(x_train, y_train, sample_weight=weights)\n",
    "\n",
    "    # Predict and evaluate on test set\n",
    "    predictions = model.predict(x_test)\n",
    "    mae = mean_absolute_error(y_test, predictions)\n",
    "\n",
    "    results.append((w, mae))\n",
    "    print(f\"w={w:.1f}, MAE={mae:.4f}\")\n",
    "\n",
    "    # Track best\n",
    "    if mae < best_mae:\n",
    "        best_mae = mae\n",
    "        best_w = w\n",
    "\n",
    "print(f\"\\n✅ Best weight with added slope w={best_w:.2f} with MAE={best_mae:.4f}\")\n"
   ]
  },
  {
   "cell_type": "code",
   "execution_count": 782,
   "metadata": {},
   "outputs": [
    {
     "data": {
      "text/html": [
       "<div>\n",
       "<style scoped>\n",
       "    .dataframe tbody tr th:only-of-type {\n",
       "        vertical-align: middle;\n",
       "    }\n",
       "\n",
       "    .dataframe tbody tr th {\n",
       "        vertical-align: top;\n",
       "    }\n",
       "\n",
       "    .dataframe thead th {\n",
       "        text-align: right;\n",
       "    }\n",
       "</style>\n",
       "<table border=\"1\" class=\"dataframe\">\n",
       "  <thead>\n",
       "    <tr style=\"text-align: right;\">\n",
       "      <th></th>\n",
       "      <th>Actual</th>\n",
       "      <th>Predicted</th>\n",
       "    </tr>\n",
       "  </thead>\n",
       "  <tbody>\n",
       "    <tr>\n",
       "      <th>2055</th>\n",
       "      <td>-0.289173</td>\n",
       "      <td>-0.526969</td>\n",
       "    </tr>\n",
       "    <tr>\n",
       "      <th>2056</th>\n",
       "      <td>0.032986</td>\n",
       "      <td>0.071711</td>\n",
       "    </tr>\n",
       "    <tr>\n",
       "      <th>2057</th>\n",
       "      <td>1.790850</td>\n",
       "      <td>1.430297</td>\n",
       "    </tr>\n",
       "    <tr>\n",
       "      <th>2058</th>\n",
       "      <td>0.240385</td>\n",
       "      <td>0.419508</td>\n",
       "    </tr>\n",
       "    <tr>\n",
       "      <th>2059</th>\n",
       "      <td>-1.193827</td>\n",
       "      <td>-1.228583</td>\n",
       "    </tr>\n",
       "    <tr>\n",
       "      <th>2060</th>\n",
       "      <td>-0.265571</td>\n",
       "      <td>-0.265155</td>\n",
       "    </tr>\n",
       "    <tr>\n",
       "      <th>2061</th>\n",
       "      <td>-2.013833</td>\n",
       "      <td>-1.933583</td>\n",
       "    </tr>\n",
       "    <tr>\n",
       "      <th>2062</th>\n",
       "      <td>0.671281</td>\n",
       "      <td>-0.567900</td>\n",
       "    </tr>\n",
       "    <tr>\n",
       "      <th>2063</th>\n",
       "      <td>0.282443</td>\n",
       "      <td>0.479379</td>\n",
       "    </tr>\n",
       "    <tr>\n",
       "      <th>2064</th>\n",
       "      <td>0.632841</td>\n",
       "      <td>0.523001</td>\n",
       "    </tr>\n",
       "    <tr>\n",
       "      <th>2065</th>\n",
       "      <td>-4.928082</td>\n",
       "      <td>-4.049267</td>\n",
       "    </tr>\n",
       "    <tr>\n",
       "      <th>2066</th>\n",
       "      <td>-5.854297</td>\n",
       "      <td>-5.383370</td>\n",
       "    </tr>\n",
       "    <tr>\n",
       "      <th>2067</th>\n",
       "      <td>-0.178118</td>\n",
       "      <td>-1.137694</td>\n",
       "    </tr>\n",
       "    <tr>\n",
       "      <th>2068</th>\n",
       "      <td>-1.566278</td>\n",
       "      <td>-1.873105</td>\n",
       "    </tr>\n",
       "    <tr>\n",
       "      <th>2069</th>\n",
       "      <td>10.501930</td>\n",
       "      <td>7.666088</td>\n",
       "    </tr>\n",
       "    <tr>\n",
       "      <th>2070</th>\n",
       "      <td>-4.381900</td>\n",
       "      <td>-2.563375</td>\n",
       "    </tr>\n",
       "    <tr>\n",
       "      <th>2071</th>\n",
       "      <td>1.784282</td>\n",
       "      <td>2.499506</td>\n",
       "    </tr>\n",
       "    <tr>\n",
       "      <th>2072</th>\n",
       "      <td>0.970145</td>\n",
       "      <td>1.845859</td>\n",
       "    </tr>\n",
       "    <tr>\n",
       "      <th>2073</th>\n",
       "      <td>-0.280088</td>\n",
       "      <td>-0.135069</td>\n",
       "    </tr>\n",
       "    <tr>\n",
       "      <th>2074</th>\n",
       "      <td>-2.222803</td>\n",
       "      <td>-1.950869</td>\n",
       "    </tr>\n",
       "  </tbody>\n",
       "</table>\n",
       "</div>"
      ],
      "text/plain": [
       "         Actual  Predicted\n",
       "2055  -0.289173  -0.526969\n",
       "2056   0.032986   0.071711\n",
       "2057   1.790850   1.430297\n",
       "2058   0.240385   0.419508\n",
       "2059  -1.193827  -1.228583\n",
       "2060  -0.265571  -0.265155\n",
       "2061  -2.013833  -1.933583\n",
       "2062   0.671281  -0.567900\n",
       "2063   0.282443   0.479379\n",
       "2064   0.632841   0.523001\n",
       "2065  -4.928082  -4.049267\n",
       "2066  -5.854297  -5.383370\n",
       "2067  -0.178118  -1.137694\n",
       "2068  -1.566278  -1.873105\n",
       "2069  10.501930   7.666088\n",
       "2070  -4.381900  -2.563375\n",
       "2071   1.784282   2.499506\n",
       "2072   0.970145   1.845859\n",
       "2073  -0.280088  -0.135069\n",
       "2074  -2.222803  -1.950869"
      ]
     },
     "execution_count": 782,
     "metadata": {},
     "output_type": "execute_result"
    }
   ],
   "source": [
    "check_df = pd.concat([y_test, pd.Series(predicted_xg_ind2, index=y_test.index)], axis=1)\n",
    "check_df.columns = ['Actual', 'Predicted']  # Optional: name the columns\n",
    "check_df.tail(20)"
   ]
  },
  {
   "cell_type": "code",
   "execution_count": 640,
   "metadata": {},
   "outputs": [
    {
     "name": "stdout",
     "output_type": "stream",
     "text": [
      "208\n"
     ]
    }
   ],
   "source": [
    "print(len(y_test))"
   ]
  },
  {
   "cell_type": "code",
   "execution_count": 783,
   "metadata": {},
   "outputs": [],
   "source": [
    "check_df['price_actual'] = 300 * (1 + check_df['Actual'] / 100).cumprod()\n",
    "check_df['price_predicted'] = 300 * (1 + check_df['Predicted'] / 100).cumprod()"
   ]
  },
  {
   "cell_type": "code",
   "execution_count": 784,
   "metadata": {},
   "outputs": [
    {
     "data": {
      "image/png": "[encoded data removed]",
      "text/plain": [
       "<Figure size 1000x500 with 1 Axes>"
      ]
     },
     "metadata": {},
     "output_type": "display_data"
    }
   ],
   "source": [
    "plt.figure(figsize=(10, 5))\n",
    "plt.plot(check_df['price_actual'], label='Actual Price')\n",
    "plt.plot(check_df['price_predicted'], label='Predicted Price')\n",
    "plt.xlabel('Time')\n",
    "plt.ylabel('Price')\n",
    "plt.show()"
   ]
  },
  {
   "cell_type": "markdown",
   "metadata": {},
   "source": [
    "# Grid search"
   ]
  },
  {
   "cell_type": "code",
   "execution_count": null,
   "metadata": {},
   "outputs": [],
   "source": [
    "xgb_param_grid = {\n",
    "    'n_estimators': [200,300],\n",
    "    'max_depth': [3,5,7,9],\n",
    "    'learning_rate': [0.01, 0.05],\n",
    "    'subsample': [0.6,0.8,1],\n",
    "    'gamma':[0, 0.1],\n",
    "    'reg_alpha':[0, 0.1],\n",
    "    'colsample_bytree': [0.6, 0.8, 1.0]\n",
    "}"
   ]
  },
  {
   "cell_type": "code",
   "execution_count": null,
   "metadata": {},
   "outputs": [],
   "source": [
    "from sklearn.model_selection import GridSearchCV, TimeSeriesSplit\n",
    "from sklearn.metrics import mean_absolute_error\n",
    "\n",
    "# Define candidate weight scalings to search over\n",
    "w_candidates = np.arange(1.0, 3.1, 0.2)  # Try from 1.0 to 3.0 in steps of 0.2\n",
    "\n",
    "best_mae = float('inf')\n",
    "best_xgb_model = None\n",
    "best_w = None\n",
    "best_params = None\n",
    "\n",
    "# Time series cross-validation\n",
    "tscv = TimeSeriesSplit(n_splits=5)\n",
    "\n",
    "for w in w_candidates:\n",
    "    print(f\"\\n🔍 Testing weight slope: {w:.2f}\")\n",
    "    \n",
    "    # Create weights linearly increasing from 1 to w\n",
    "    num_samples = len(y_train_ind2)\n",
    "    weights = np.linspace(1, w, num_samples)\n",
    "    weights = weights / np.mean(weights)  # Normalize to mean=1\n",
    "\n",
    "    # Grid search\n",
    "    xgb_grid = GridSearchCV(\n",
    "        XGBRegressor(n_jobs=-1, random_state=42, verbosity=0),\n",
    "        param_grid=xgb_param_grid,\n",
    "        cv=tscv,\n",
    "        scoring=mae_scorer,\n",
    "        verbose=0\n",
    "    )\n",
    "\n",
    "    xgb_grid.fit(x_train_ind2, y_train_ind2, sample_weight=weights)\n",
    "    model = xgb_grid.best_estimator_\n",
    "\n",
    "    # Evaluate on test set\n",
    "    preds = model.predict(x_test_ind2)\n",
    "    mae = mean_absolute_error(y_test_ind2, preds)\n",
    "    print(f\"→ MAE: {mae:.4f} | Best Params: {xgb_grid.best_params_}\")\n",
    "\n",
    "    if mae < best_mae:\n",
    "        best_mae = mae\n",
    "        best_xgb_model = model\n",
    "        best_w = w\n",
    "        best_params = xgb_grid.best_params_\n",
    "\n",
    "# 🎉 Final result\n",
    "print(f\"\\n✅ Best XGBoost Model\")\n",
    "print(f\"MAE: {best_mae:.4f}\")\n",
    "print(f\"Weight slope (w): {best_w}\")\n",
    "print(f\"Hyperparameters: {best_params}\")\n"
   ]
  }
 ],
 "metadata": {
  "kernelspec": {
   "display_name": ".venv",
   "language": "python",
   "name": "python3"
  },
  "language_info": {
   "codemirror_mode": {
    "name": "ipython",
    "version": 3
   },
   "file_extension": ".py",
   "mimetype": "text/x-python",
   "name": "python",
   "nbconvert_exporter": "python",
   "pygments_lexer": "ipython3",
   "version": "3.10.2"
  }
 },
 "nbformat": 4,
 "nbformat_minor": 2
}
