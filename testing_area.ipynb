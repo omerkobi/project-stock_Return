{
 "cells": [
  {
   "cell_type": "code",
   "execution_count": 2,
   "metadata": {},
   "outputs": [],
   "source": [
    "from sklearn.ensemble import GradientBoostingRegressor,RandomForestRegressor\n",
    "from sklearn.linear_model import Lasso,Ridge,LinearRegression\n",
    "from sklearn.model_selection import train_test_split\n",
    "from sklearn.model_selection import GridSearchCV\n",
    "import pandas as pd\n",
    "import numpy as np\n",
    "import xgboost as xgb\n",
    "import sklearn.metrics as metrics\n",
    "from sklearn.model_selection import cross_val_predict"
   ]
  },
  {
   "cell_type": "code",
   "execution_count": 19,
   "metadata": {},
   "outputs": [],
   "source": [
    "def regressionMetrics(y, yhat):\n",
    "    res = {\n",
    "        'MSE': metrics.mean_squared_error(y, yhat),\n",
    "        'RMSE': np.sqrt(metrics.mean_squared_error(y, yhat)),\n",
    "        'MAE': metrics.mean_absolute_error(y, yhat),\n",
    "        'R2': metrics.r2_score(y, yhat)\n",
    "    }\n",
    "\n",
    "    # Check if all values are > -1 to safely apply log\n",
    "    if np.all(y > -1) and np.all(yhat > -1):\n",
    "        rmsle = np.sqrt(metrics.mean_squared_log_error(y, yhat))\n",
    "        res['RMSLE'] = rmsle\n",
    "    else:\n",
    "        res['RMSLE'] = 'Not applicable (values ≤ -1)'\n",
    "\n",
    "    return res"
   ]
  },
  {
   "cell_type": "code",
   "execution_count": 70,
   "metadata": {},
   "outputs": [
    {
     "name": "stdout",
     "output_type": "stream",
     "text": [
      "<class 'pandas.core.frame.DataFrame'>\n",
      "Index: 2075 entries, 9 to 2083\n",
      "Data columns (total 88 columns):\n",
      " #   Column                         Non-Null Count  Dtype         \n",
      "---  ------                         --------------  -----         \n",
      " 0   ds                             2075 non-null   datetime64[ns]\n",
      " 1   SPY_return                     2075 non-null   float64       \n",
      " 2   SPY_Volume                     2075 non-null   float64       \n",
      " 3   AAPL                           2075 non-null   float64       \n",
      " 4   MSFT                           2075 non-null   float64       \n",
      " 5   GOOG                           2075 non-null   float64       \n",
      " 6   GLD                            2075 non-null   float64       \n",
      " 7   SLV                            2075 non-null   float64       \n",
      " 8   ^TNX                           2075 non-null   float64       \n",
      " 9   DX-Y.NYB                       2075 non-null   float64       \n",
      " 10  JPY=X                          2075 non-null   float64       \n",
      " 11  EUR=X                          2075 non-null   float64       \n",
      " 12  USO                            2075 non-null   float64       \n",
      " 13  UNG                            2075 non-null   float64       \n",
      " 14  BTC-USD                        2075 non-null   float64       \n",
      " 15  CPER                           2075 non-null   float64       \n",
      " 16  ^VIX                           2075 non-null   float64       \n",
      " 17  ^GDAXI                         2075 non-null   float64       \n",
      " 18  ^FTSE                          2075 non-null   float64       \n",
      " 19  IWM                            2075 non-null   float64       \n",
      " 20  ^N225                          2075 non-null   float64       \n",
      " 21  IEI                            2075 non-null   float64       \n",
      " 22  2Y_Yield                       2075 non-null   float64       \n",
      " 23  yield_curve                    2075 non-null   float64       \n",
      " 24  market_closed_count            2075 non-null   int64         \n",
      " 25  yield_curve_term               2075 non-null   float64       \n",
      " 26  high-low                       2075 non-null   float64       \n",
      " 27  before_high-low                2075 non-null   float64       \n",
      " 28  SPY_Streak                     2075 non-null   int64         \n",
      " 29  SPY_AbsChange                  2075 non-null   float64       \n",
      " 30  day                            2075 non-null   int32         \n",
      " 31  Actual_GDP                     2075 non-null   float64       \n",
      " 32  Actual_nonfarm                 2075 non-null   float64       \n",
      " 33  Actual_CPI                     2075 non-null   float64       \n",
      " 34  Actual_PPI                     2075 non-null   float64       \n",
      " 35  Actual_unemployment rate       2075 non-null   float64       \n",
      " 36  Actual_core_PCE                2075 non-null   float64       \n",
      " 37  Actual_FOMC                    2075 non-null   float64       \n",
      " 38  CPI_vs_forecast                2075 non-null   float64       \n",
      " 39  CPI_vs_previous                2075 non-null   float64       \n",
      " 40  GDP_vs_forecast                2075 non-null   float64       \n",
      " 41  GDP_vs_previous                2075 non-null   float64       \n",
      " 42  PPI_vs_forecast                2075 non-null   float64       \n",
      " 43  PPI_vs_previous                2075 non-null   float64       \n",
      " 44  nonfarm_vs_forecast            2075 non-null   float64       \n",
      " 45  nonfarm_vs_previous            2075 non-null   float64       \n",
      " 46  unemployment rate_vs_forecast  2075 non-null   float64       \n",
      " 47  unemployment rate_vs_previous  2075 non-null   float64       \n",
      " 48  core_PCE_vs_forecast           2075 non-null   float64       \n",
      " 49  core_PCE_vs_previous           2075 non-null   float64       \n",
      " 50  FOMC_vs_forecast               2075 non-null   float64       \n",
      " 51  FOMC_vs_previous               2075 non-null   float64       \n",
      " 52  is_event                       2075 non-null   int64         \n",
      " 53  days_since_fomc                2075 non-null   float64       \n",
      " 54  isr_holiday                    2075 non-null   int64         \n",
      " 55  event                          2075 non-null   int8          \n",
      " 56  EMA_20                         2075 non-null   float64       \n",
      " 57  EMA_50                         2075 non-null   float64       \n",
      " 58  EMA_200                        2075 non-null   float64       \n",
      " 59  EMA_20_50                      2075 non-null   int64         \n",
      " 60  EMA_50_200                     2075 non-null   int64         \n",
      " 61  EMA_50_diff                    2075 non-null   float64       \n",
      " 62  EMA_200_diff                   2075 non-null   float64       \n",
      " 63  std_price                      2075 non-null   float64       \n",
      " 64  ^VIX_dummy                     2075 non-null   int64         \n",
      " 65  ^VIX_rank                      2075 non-null   float64       \n",
      " 66  Yestrady                       2075 non-null   float64       \n",
      " 67  stdev                          2075 non-null   float64       \n",
      " 68  avgreturn5d                    2075 non-null   float64       \n",
      " 69  Monday                         2075 non-null   int64         \n",
      " 70  Tuesday                        2075 non-null   int64         \n",
      " 71  Wednesday                      2075 non-null   int64         \n",
      " 72  Thursday                       2075 non-null   int64         \n",
      " 73  Friday                         2075 non-null   int64         \n",
      " 74  Saturday                       2075 non-null   int64         \n",
      " 75  Sunday                         2075 non-null   int64         \n",
      " 76  January                        2075 non-null   int64         \n",
      " 77  February                       2075 non-null   int64         \n",
      " 78  March                          2075 non-null   int64         \n",
      " 79  April                          2075 non-null   int64         \n",
      " 80  May                            2075 non-null   int64         \n",
      " 81  June                           2075 non-null   int64         \n",
      " 82  July                           2075 non-null   int64         \n",
      " 83  August                         2075 non-null   int64         \n",
      " 84  September                      2075 non-null   int64         \n",
      " 85  October                        2075 non-null   int64         \n",
      " 86  November                       2075 non-null   int64         \n",
      " 87  December                       2075 non-null   int64         \n",
      "dtypes: datetime64[ns](1), float64(59), int32(1), int64(26), int8(1)\n",
      "memory usage: 1.4 MB\n"
     ]
    }
   ],
   "source": [
    "df = pd.read_pickle('df_with_ev_ind.pkl')\n",
    "df.info()"
   ]
  },
  {
   "cell_type": "code",
   "execution_count": 26,
   "metadata": {},
   "outputs": [
    {
     "name": "stdout",
     "output_type": "stream",
     "text": [
      "<class 'pandas.core.frame.DataFrame'>\n",
      "DatetimeIndex: 2084 entries, 2017-01-03 to 2025-04-16\n",
      "Data columns (total 37 columns):\n",
      " #   Column               Non-Null Count  Dtype  \n",
      "---  ------               --------------  -----  \n",
      " 0   SPY_Close            2084 non-null   float64\n",
      " 1   SPY_Volume           2084 non-null   int64  \n",
      " 2   AAPL                 2084 non-null   float64\n",
      " 3   MSFT                 2084 non-null   float64\n",
      " 4   GOOG                 2084 non-null   float64\n",
      " 5   GLD                  2084 non-null   float64\n",
      " 6   SLV                  2084 non-null   float64\n",
      " 7   ^TNX                 2084 non-null   float64\n",
      " 8   DX-Y.NYB             2084 non-null   float64\n",
      " 9   JPY=X                2084 non-null   float64\n",
      " 10  EUR=X                2084 non-null   float64\n",
      " 11  USO                  2084 non-null   float64\n",
      " 12  UNG                  2084 non-null   float64\n",
      " 13  BTC-USD              2084 non-null   float64\n",
      " 14  CPER                 2084 non-null   float64\n",
      " 15  ^VIX                 2084 non-null   float64\n",
      " 16  ^GDAXI               2084 non-null   float64\n",
      " 17  ^FTSE                2084 non-null   float64\n",
      " 18  IWM                  2084 non-null   float64\n",
      " 19  ^N225                2083 non-null   float64\n",
      " 20  IEI                  2084 non-null   float64\n",
      " 21  2Y_Yield             2084 non-null   float64\n",
      " 22  yield_curve          2084 non-null   float64\n",
      " 23  market_closed_count  2084 non-null   int64  \n",
      " 24  yield_curve_term     2084 non-null   float64\n",
      " 25  high-low             2084 non-null   float64\n",
      " 26  before_high-low      2083 non-null   float64\n",
      " 27  SPY_RSI              2071 non-null   float64\n",
      " 28  RSI_rank             2071 non-null   float64\n",
      " 29  RSI_rank_2           2084 non-null   int64  \n",
      " 30  EMA_20               2084 non-null   float64\n",
      " 31  EMA_50               2084 non-null   float64\n",
      " 32  EMA_200              2084 non-null   float64\n",
      " 33  EMA_20_50            2084 non-null   int64  \n",
      " 34  EMA_50_200           2084 non-null   int64  \n",
      " 35  EMA_50_diff          2084 non-null   float64\n",
      " 36  EMA_200_diff         2084 non-null   float64\n",
      "dtypes: float64(32), int64(5)\n",
      "memory usage: 618.7 KB\n"
     ]
    }
   ],
   "source": [
    "df_add = pd.read_pickle('combined_cleaned_add.pkl')\n",
    "df_add.info()"
   ]
  },
  {
   "cell_type": "code",
   "execution_count": 56,
   "metadata": {},
   "outputs": [
    {
     "name": "stdout",
     "output_type": "stream",
     "text": [
      "<class 'pandas.core.frame.DataFrame'>\n",
      "Index: 2075 entries, 9 to 2083\n",
      "Data columns (total 85 columns):\n",
      " #   Column                         Non-Null Count  Dtype  \n",
      "---  ------                         --------------  -----  \n",
      " 0   SPY_Volume                     2075 non-null   float64\n",
      " 1   AAPL                           2075 non-null   float64\n",
      " 2   MSFT                           2075 non-null   float64\n",
      " 3   GOOG                           2075 non-null   float64\n",
      " 4   GLD                            2075 non-null   float64\n",
      " 5   SLV                            2075 non-null   float64\n",
      " 6   ^TNX                           2075 non-null   float64\n",
      " 7   DX-Y.NYB                       2075 non-null   float64\n",
      " 8   JPY=X                          2075 non-null   float64\n",
      " 9   EUR=X                          2075 non-null   float64\n",
      " 10  USO                            2075 non-null   float64\n",
      " 11  UNG                            2075 non-null   float64\n",
      " 12  BTC-USD                        2075 non-null   float64\n",
      " 13  CPER                           2075 non-null   float64\n",
      " 14  ^VIX                           2075 non-null   float64\n",
      " 15  ^GDAXI                         2075 non-null   float64\n",
      " 16  ^FTSE                          2075 non-null   float64\n",
      " 17  IWM                            2075 non-null   float64\n",
      " 18  ^N225                          2075 non-null   float64\n",
      " 19  IEI                            2075 non-null   float64\n",
      " 20  2Y_Yield                       2075 non-null   float64\n",
      " 21  yield_curve                    2075 non-null   float64\n",
      " 22  market_closed_count            2075 non-null   int64  \n",
      " 23  yield_curve_term               2075 non-null   float64\n",
      " 24  high-low                       2075 non-null   float64\n",
      " 25  before_high-low                2075 non-null   float64\n",
      " 26  SPY_Streak                     2075 non-null   int64  \n",
      " 27  SPY_AbsChange                  2075 non-null   float64\n",
      " 28  day                            2075 non-null   int32  \n",
      " 29  Actual_GDP                     2075 non-null   float64\n",
      " 30  Actual_nonfarm                 2075 non-null   float64\n",
      " 31  Actual_CPI                     2075 non-null   float64\n",
      " 32  Actual_PPI                     2075 non-null   float64\n",
      " 33  Actual_unemployment rate       2075 non-null   float64\n",
      " 34  Actual_core_PCE                2075 non-null   float64\n",
      " 35  Actual_FOMC                    2075 non-null   float64\n",
      " 36  CPI_vs_forecast                2075 non-null   float64\n",
      " 37  CPI_vs_previous                2075 non-null   float64\n",
      " 38  GDP_vs_forecast                2075 non-null   float64\n",
      " 39  GDP_vs_previous                2075 non-null   float64\n",
      " 40  PPI_vs_forecast                2075 non-null   float64\n",
      " 41  PPI_vs_previous                2075 non-null   float64\n",
      " 42  nonfarm_vs_forecast            2075 non-null   float64\n",
      " 43  nonfarm_vs_previous            2075 non-null   float64\n",
      " 44  unemployment rate_vs_forecast  2075 non-null   float64\n",
      " 45  unemployment rate_vs_previous  2075 non-null   float64\n",
      " 46  core_PCE_vs_forecast           2075 non-null   float64\n",
      " 47  core_PCE_vs_previous           2075 non-null   float64\n",
      " 48  FOMC_vs_forecast               2075 non-null   float64\n",
      " 49  FOMC_vs_previous               2075 non-null   float64\n",
      " 50  is_event                       2075 non-null   int64  \n",
      " 51  days_since_fomc                2075 non-null   float64\n",
      " 52  isr_holiday                    2075 non-null   int64  \n",
      " 53  event                          2075 non-null   int8   \n",
      " 54  EMA_20                         2075 non-null   float64\n",
      " 55  EMA_50                         2075 non-null   float64\n",
      " 56  EMA_200                        2075 non-null   float64\n",
      " 57  EMA_20_50                      2075 non-null   int64  \n",
      " 58  EMA_50_200                     2075 non-null   int64  \n",
      " 59  EMA_50_diff                    2075 non-null   float64\n",
      " 60  EMA_200_diff                   2075 non-null   float64\n",
      " 61  std_price                      2075 non-null   float64\n",
      " 62  ^VIX_dummy                     2075 non-null   int64  \n",
      " 63  Yestrady                       2075 non-null   float64\n",
      " 64  stdev                          2075 non-null   float64\n",
      " 65  avgreturn5d                    2075 non-null   float64\n",
      " 66  Monday                         2075 non-null   int64  \n",
      " 67  Tuesday                        2075 non-null   int64  \n",
      " 68  Wednesday                      2075 non-null   int64  \n",
      " 69  Thursday                       2075 non-null   int64  \n",
      " 70  Friday                         2075 non-null   int64  \n",
      " 71  Saturday                       2075 non-null   int64  \n",
      " 72  Sunday                         2075 non-null   int64  \n",
      " 73  January                        2075 non-null   int64  \n",
      " 74  February                       2075 non-null   int64  \n",
      " 75  March                          2075 non-null   int64  \n",
      " 76  April                          2075 non-null   int64  \n",
      " 77  May                            2075 non-null   int64  \n",
      " 78  June                           2075 non-null   int64  \n",
      " 79  July                           2075 non-null   int64  \n",
      " 80  August                         2075 non-null   int64  \n",
      " 81  September                      2075 non-null   int64  \n",
      " 82  October                        2075 non-null   int64  \n",
      " 83  November                       2075 non-null   int64  \n",
      " 84  December                       2075 non-null   int64  \n",
      "dtypes: float64(57), int32(1), int64(26), int8(1)\n",
      "memory usage: 1.3 MB\n"
     ]
    }
   ],
   "source": [
    "y = df['SPY_return']\n",
    "x = df.drop(['SPY_return', 'ds','^VIX_rank'], axis=1)\n",
    "x.info()"
   ]
  },
  {
   "cell_type": "code",
   "execution_count": 31,
   "metadata": {},
   "outputs": [],
   "source": [
    "split = int(len(y)*0.9)\n",
    "x_train = x.iloc[:split]\n",
    "x_test = x.iloc[split:]\n",
    "y_train = y.iloc[:split]\n",
    "y_test = y.iloc[split:]"
   ]
  },
  {
   "cell_type": "code",
   "execution_count": 53,
   "metadata": {},
   "outputs": [
    {
     "name": "stdout",
     "output_type": "stream",
     "text": [
      "w=1.0, MAE=0.2711\n",
      "w=1.1, MAE=0.2798\n",
      "w=1.2, MAE=0.2728\n",
      "w=1.3, MAE=0.2723\n",
      "w=1.4, MAE=0.2696\n",
      "w=1.5, MAE=0.2609\n",
      "w=1.6, MAE=0.2601\n",
      "w=1.7, MAE=0.2640\n",
      "w=1.8, MAE=0.2687\n",
      "w=1.9, MAE=0.2638\n",
      "w=2.0, MAE=0.2725\n",
      "w=2.1, MAE=0.2696\n",
      "w=2.2, MAE=0.2711\n",
      "w=2.3, MAE=0.2761\n",
      "w=2.4, MAE=0.2700\n",
      "w=2.5, MAE=0.2662\n",
      "w=2.6, MAE=0.2674\n",
      "w=2.7, MAE=0.2659\n",
      "w=2.8, MAE=0.2735\n",
      "w=2.9, MAE=0.2692\n",
      "w=3.0, MAE=0.2720\n",
      "\n",
      "✅ Best weight with added slope w=1.60 with MAE=0.2601\n"
     ]
    }
   ],
   "source": [
    "from sklearn.metrics import mean_absolute_error, make_scorer\n",
    "\n",
    "# Parameters\n",
    "best_w = None\n",
    "best_mae = float('inf')\n",
    "\n",
    "num_samples = len(y_train)\n",
    "results = []\n",
    "\n",
    "# Test weight range from 1.0 to 3.0 in 0.1 steps\n",
    "for w in np.arange(1.0, 3.1, 0.1):\n",
    "    # Create sample weights linearly increasing from 1 to w\n",
    "    weights = np.linspace(1, w, num_samples)\n",
    "    weights = weights / np.mean(weights)  # Normalize to mean=1\n",
    "\n",
    "    # Fit XGBoost with weights\n",
    "    model = xgb.XGBRegressor(**{'gamma': 0.1, 'learning_rate': 0.05, 'max_depth': 9, 'n_estimators': 200, 'reg_alpha': 0, 'subsample': 0.6, 'n_jobs': -1})\n",
    "    model.fit(x_train, y_train, sample_weight=weights)\n",
    "\n",
    "    # Predict and evaluate on test set\n",
    "    predictions = model.predict(x_test)\n",
    "    mae = mean_absolute_error(y_test, predictions)\n",
    "\n",
    "    results.append((w, mae))\n",
    "    print(f\"w={w:.1f}, MAE={mae:.4f}\")\n",
    "\n",
    "    # Track best\n",
    "    if mae < best_mae:\n",
    "        best_mae = mae\n",
    "        best_w = w\n",
    "\n",
    "print(f\"\\n✅ Best weight with added slope w={best_w:.2f} with MAE={best_mae:.4f}\")\n"
   ]
  },
  {
   "cell_type": "code",
   "execution_count": 32,
   "metadata": {},
   "outputs": [
    {
     "data": {
      "text/plain": [
       "{'MSE': 0.18803462398801446,\n",
       " 'RMSE': np.float64(0.4336295930722608),\n",
       " 'MAE': 0.26035164470630606,\n",
       " 'R2': 0.8930192031822027,\n",
       " 'RMSLE': 'Not applicable (values ≤ -1)'}"
      ]
     },
     "execution_count": 32,
     "metadata": {},
     "output_type": "execute_result"
    }
   ],
   "source": [
    "# Recreate sample weights using best_w = 3\n",
    "num_samples = len(y_train)\n",
    "weights = np.linspace(1, 2.2, num_samples)\n",
    "weights = weights / np.mean(weights)  # Normalize to mean=1\n",
    "\n",
    "\n",
    "xg_ind = xgb.XGBRegressor(**{'gamma': 0.1, 'learning_rate': 0.05, 'max_depth': 9, 'n_estimators': 200, 'reg_alpha': 0, 'subsample': 0.6, 'n_jobs': -1})\n",
    "xg_ind.fit(x_train, y_train,sample_weight=weights)\n",
    "predicted_xg_ind2 = xg_ind.predict(x_test)\n",
    "regressionMetrics(y_test,predicted_xg_ind2)"
   ]
  },
  {
   "cell_type": "markdown",
   "metadata": {},
   "source": [
    "# Feture selection"
   ]
  },
  {
   "cell_type": "code",
   "execution_count": 57,
   "metadata": {},
   "outputs": [],
   "source": [
    "model = xgb.XGBRegressor(n_estimators=200, random_state=42)\n",
    "model.fit(x, y)\n",
    "\n",
    "# Create DataFrame of importance\n",
    "feature_importance = pd.DataFrame({\n",
    "    'feature': x.columns,\n",
    "    'importance': model.feature_importances_\n",
    "}).sort_values(by='importance', ascending=False)\n",
    "\n",
    "# Select top N\n",
    "selected_features = feature_importance[feature_importance['importance'] > 0.005]['feature'].tolist()"
   ]
  },
  {
   "cell_type": "code",
   "execution_count": 65,
   "metadata": {},
   "outputs": [
    {
     "name": "stdout",
     "output_type": "stream",
     "text": [
      "Collecting matplotlib==3.8.4\n",
      "  Downloading matplotlib-3.8.4-cp310-cp310-win_amd64.whl.metadata (5.9 kB)\n",
      "Downloading matplotlib-3.8.4-cp310-cp310-win_amd64.whl (7.7 MB)\n",
      "   ---------------------------------------- 0.0/7.7 MB ? eta -:--:--\n",
      "   ---------------------------------------- 0.0/7.7 MB ? eta -:--:--\n",
      "   --------- ------------------------------ 1.8/7.7 MB 7.7 MB/s eta 0:00:01\n",
      "   ---------------------------------------- 7.7/7.7 MB 19.7 MB/s eta 0:00:00\n",
      "Installing collected packages: matplotlib\n",
      "  Attempting uninstall: matplotlib\n",
      "    Found existing installation: matplotlib 3.10.1\n"
     ]
    },
    {
     "name": "stderr",
     "output_type": "stream",
     "text": [
      "WARNING: Ignoring invalid distribution -atplotlib (c:\\users\\omer\\pycharmprojects\\project\\.venv\\lib\\site-packages)\n",
      "WARNING: Ignoring invalid distribution -umpy (c:\\users\\omer\\pycharmprojects\\project\\.venv\\lib\\site-packages)\n",
      "\n",
      "[notice] A new release of pip is available: 24.3.1 -> 25.0.1\n",
      "[notice] To update, run: python.exe -m pip install --upgrade pip\n",
      "error: uninstall-no-record-file\n",
      "\n",
      "× Cannot uninstall matplotlib 3.10.1\n",
      "╰─> The package's contents are unknown: no RECORD file was found for matplotlib.\n",
      "\n",
      "hint: You might be able to recover from this via: pip install --force-reinstall --no-deps matplotlib==3.10.1\n"
     ]
    },
    {
     "name": "stdout",
     "output_type": "stream",
     "text": [
      "Collecting numpy==1.26.4\n",
      "  Using cached numpy-1.26.4-cp310-cp310-win_amd64.whl.metadata (61 kB)\n",
      "Using cached numpy-1.26.4-cp310-cp310-win_amd64.whl (15.8 MB)\n",
      "Installing collected packages: numpy\n"
     ]
    },
    {
     "name": "stderr",
     "output_type": "stream",
     "text": [
      "WARNING: Ignoring invalid distribution -atplotlib (c:\\users\\omer\\pycharmprojects\\project\\.venv\\lib\\site-packages)\n",
      "WARNING: Ignoring invalid distribution -umpy (c:\\users\\omer\\pycharmprojects\\project\\.venv\\lib\\site-packages)\n",
      "WARNING: Ignoring invalid distribution -atplotlib (c:\\users\\omer\\pycharmprojects\\project\\.venv\\lib\\site-packages)\n",
      "WARNING: Ignoring invalid distribution -umpy (c:\\users\\omer\\pycharmprojects\\project\\.venv\\lib\\site-packages)\n",
      "ERROR: Could not install packages due to an OSError: [WinError 5] Access is denied: 'C:\\\\Users\\\\OMER\\\\PycharmProjects\\\\Project\\\\.venv\\\\Lib\\\\site-packages\\\\numpy\\\\linalg\\\\_umath_linalg.cp310-win_amd64.pyd'\n",
      "Check the permissions.\n",
      "\n",
      "\n",
      "[notice] A new release of pip is available: 24.3.1 -> 25.0.1\n",
      "[notice] To update, run: python.exe -m pip install --upgrade pip\n"
     ]
    }
   ],
   "source": [
    "!pip install --force-reinstall --no-deps matplotlib==3.8.4\n",
    "!pip install --force-reinstall numpy==1.26.4\n",
    "\n"
   ]
  },
  {
   "cell_type": "code",
   "execution_count": 66,
   "metadata": {},
   "outputs": [
    {
     "name": "stdout",
     "output_type": "stream",
     "text": [
      "Requirement already satisfied: seaborn in c:\\users\\omer\\pycharmprojects\\project\\.venv\\lib\\site-packages (0.13.2)\n",
      "Collecting numpy!=1.24.0,>=1.20 (from seaborn)\n",
      "  Using cached numpy-2.2.5-cp310-cp310-win_amd64.whl.metadata (60 kB)\n",
      "Requirement already satisfied: pandas>=1.2 in c:\\users\\omer\\pycharmprojects\\project\\.venv\\lib\\site-packages (from seaborn) (2.2.3)\n",
      "Requirement already satisfied: matplotlib!=3.6.1,>=3.4 in c:\\users\\omer\\pycharmprojects\\project\\.venv\\lib\\site-packages (from seaborn) (3.10.1)\n",
      "Requirement already satisfied: contourpy>=1.0.1 in c:\\users\\omer\\pycharmprojects\\project\\.venv\\lib\\site-packages (from matplotlib!=3.6.1,>=3.4->seaborn) (1.3.1)\n",
      "Requirement already satisfied: cycler>=0.10 in c:\\users\\omer\\pycharmprojects\\project\\.venv\\lib\\site-packages (from matplotlib!=3.6.1,>=3.4->seaborn) (0.12.1)\n",
      "Requirement already satisfied: fonttools>=4.22.0 in c:\\users\\omer\\pycharmprojects\\project\\.venv\\lib\\site-packages (from matplotlib!=3.6.1,>=3.4->seaborn) (4.56.0)\n",
      "Requirement already satisfied: kiwisolver>=1.3.1 in c:\\users\\omer\\pycharmprojects\\project\\.venv\\lib\\site-packages (from matplotlib!=3.6.1,>=3.4->seaborn) (1.4.8)\n",
      "Requirement already satisfied: packaging>=20.0 in c:\\users\\omer\\pycharmprojects\\project\\.venv\\lib\\site-packages (from matplotlib!=3.6.1,>=3.4->seaborn) (25.0)\n",
      "Requirement already satisfied: pillow>=8 in c:\\users\\omer\\pycharmprojects\\project\\.venv\\lib\\site-packages (from matplotlib!=3.6.1,>=3.4->seaborn) (11.2.1)\n",
      "Requirement already satisfied: pyparsing>=2.3.1 in c:\\users\\omer\\pycharmprojects\\project\\.venv\\lib\\site-packages (from matplotlib!=3.6.1,>=3.4->seaborn) (3.2.3)\n",
      "Requirement already satisfied: python-dateutil>=2.7 in c:\\users\\omer\\pycharmprojects\\project\\.venv\\lib\\site-packages (from matplotlib!=3.6.1,>=3.4->seaborn) (2.9.0.post0)\n",
      "Requirement already satisfied: pytz>=2020.1 in c:\\users\\omer\\pycharmprojects\\project\\.venv\\lib\\site-packages (from pandas>=1.2->seaborn) (2025.2)\n",
      "Requirement already satisfied: tzdata>=2022.7 in c:\\users\\omer\\pycharmprojects\\project\\.venv\\lib\\site-packages (from pandas>=1.2->seaborn) (2025.2)\n",
      "Requirement already satisfied: six>=1.5 in c:\\users\\omer\\pycharmprojects\\project\\.venv\\lib\\site-packages (from python-dateutil>=2.7->matplotlib!=3.6.1,>=3.4->seaborn) (1.17.0)\n",
      "Using cached numpy-2.2.5-cp310-cp310-win_amd64.whl (12.9 MB)\n",
      "Installing collected packages: numpy\n"
     ]
    },
    {
     "name": "stderr",
     "output_type": "stream",
     "text": [
      "WARNING: Ignoring invalid distribution -atplotlib (c:\\users\\omer\\pycharmprojects\\project\\.venv\\lib\\site-packages)\n",
      "WARNING: Ignoring invalid distribution -umpy (c:\\users\\omer\\pycharmprojects\\project\\.venv\\lib\\site-packages)\n",
      "WARNING: Ignoring invalid distribution -atplotlib (c:\\users\\omer\\pycharmprojects\\project\\.venv\\lib\\site-packages)\n",
      "WARNING: Ignoring invalid distribution -umpy (c:\\users\\omer\\pycharmprojects\\project\\.venv\\lib\\site-packages)\n",
      "ERROR: Could not install packages due to an OSError: [WinError 5] Access is denied: 'C:\\\\Users\\\\OMER\\\\PycharmProjects\\\\Project\\\\.venv\\\\Lib\\\\site-packages\\\\numpy\\\\fft\\\\_pocketfft_umath.cp310-win_amd64.pyd'\n",
      "Check the permissions.\n",
      "\n",
      "\n",
      "[notice] A new release of pip is available: 24.3.1 -> 25.0.1\n",
      "[notice] To update, run: python.exe -m pip install --upgrade pip\n"
     ]
    }
   ],
   "source": [
    "!pip install seaborn --upgrade\n"
   ]
  },
  {
   "cell_type": "code",
   "execution_count": 1,
   "metadata": {},
   "outputs": [
    {
     "ename": "ModuleNotFoundError",
     "evalue": "No module named 'matplotlib.backends.registry'",
     "output_type": "error",
     "traceback": [
      "\u001b[1;31m---------------------------------------------------------------------------\u001b[0m",
      "\u001b[1;31mModuleNotFoundError\u001b[0m                       Traceback (most recent call last)",
      "Cell \u001b[1;32mIn[1], line 1\u001b[0m\n\u001b[1;32m----> 1\u001b[0m \u001b[38;5;28;01mimport\u001b[39;00m\u001b[38;5;250m \u001b[39m\u001b[38;5;21;01mseaborn\u001b[39;00m\u001b[38;5;250m \u001b[39m\u001b[38;5;28;01mas\u001b[39;00m\u001b[38;5;250m \u001b[39m\u001b[38;5;21;01msns\u001b[39;00m\n\u001b[0;32m      2\u001b[0m \u001b[38;5;28;01mimport\u001b[39;00m\u001b[38;5;250m \u001b[39m\u001b[38;5;21;01mmatplotlib\u001b[39;00m\u001b[38;5;21;01m.\u001b[39;00m\u001b[38;5;21;01mpyplot\u001b[39;00m\u001b[38;5;250m \u001b[39m\u001b[38;5;28;01mas\u001b[39;00m\u001b[38;5;250m \u001b[39m\u001b[38;5;21;01mplt\u001b[39;00m\n",
      "File \u001b[1;32mc:\\Users\\OMER\\PycharmProjects\\Project\\.venv\\lib\\site-packages\\seaborn\\__init__.py:2\u001b[0m\n\u001b[0;32m      1\u001b[0m \u001b[38;5;66;03m# Import seaborn objects\u001b[39;00m\n\u001b[1;32m----> 2\u001b[0m \u001b[38;5;28;01mfrom\u001b[39;00m\u001b[38;5;250m \u001b[39m\u001b[38;5;21;01m.\u001b[39;00m\u001b[38;5;21;01mrcmod\u001b[39;00m\u001b[38;5;250m \u001b[39m\u001b[38;5;28;01mimport\u001b[39;00m \u001b[38;5;241m*\u001b[39m  \u001b[38;5;66;03m# noqa: F401,F403\u001b[39;00m\n\u001b[0;32m      3\u001b[0m \u001b[38;5;28;01mfrom\u001b[39;00m\u001b[38;5;250m \u001b[39m\u001b[38;5;21;01m.\u001b[39;00m\u001b[38;5;21;01mutils\u001b[39;00m\u001b[38;5;250m \u001b[39m\u001b[38;5;28;01mimport\u001b[39;00m \u001b[38;5;241m*\u001b[39m  \u001b[38;5;66;03m# noqa: F401,F403\u001b[39;00m\n\u001b[0;32m      4\u001b[0m \u001b[38;5;28;01mfrom\u001b[39;00m\u001b[38;5;250m \u001b[39m\u001b[38;5;21;01m.\u001b[39;00m\u001b[38;5;21;01mpalettes\u001b[39;00m\u001b[38;5;250m \u001b[39m\u001b[38;5;28;01mimport\u001b[39;00m \u001b[38;5;241m*\u001b[39m  \u001b[38;5;66;03m# noqa: F401,F403\u001b[39;00m\n",
      "File \u001b[1;32mc:\\Users\\OMER\\PycharmProjects\\Project\\.venv\\lib\\site-packages\\seaborn\\rcmod.py:3\u001b[0m\n\u001b[0;32m      1\u001b[0m \u001b[38;5;124;03m\"\"\"Control plot style and scaling using the matplotlib rcParams interface.\"\"\"\u001b[39;00m\n\u001b[0;32m      2\u001b[0m \u001b[38;5;28;01mimport\u001b[39;00m\u001b[38;5;250m \u001b[39m\u001b[38;5;21;01mfunctools\u001b[39;00m\n\u001b[1;32m----> 3\u001b[0m \u001b[38;5;28;01mimport\u001b[39;00m\u001b[38;5;250m \u001b[39m\u001b[38;5;21;01mmatplotlib\u001b[39;00m\u001b[38;5;250m \u001b[39m\u001b[38;5;28;01mas\u001b[39;00m\u001b[38;5;250m \u001b[39m\u001b[38;5;21;01mmpl\u001b[39;00m\n\u001b[0;32m      4\u001b[0m \u001b[38;5;28;01mfrom\u001b[39;00m\u001b[38;5;250m \u001b[39m\u001b[38;5;21;01mcycler\u001b[39;00m\u001b[38;5;250m \u001b[39m\u001b[38;5;28;01mimport\u001b[39;00m cycler\n\u001b[0;32m      5\u001b[0m \u001b[38;5;28;01mfrom\u001b[39;00m\u001b[38;5;250m \u001b[39m\u001b[38;5;21;01m.\u001b[39;00m\u001b[38;5;250m \u001b[39m\u001b[38;5;28;01mimport\u001b[39;00m palettes\n",
      "File \u001b[1;32mc:\\Users\\OMER\\PycharmProjects\\Project\\.venv\\lib\\site-packages\\matplotlib\\__init__.py:161\u001b[0m\n\u001b[0;32m    157\u001b[0m \u001b[38;5;28;01mfrom\u001b[39;00m\u001b[38;5;250m \u001b[39m\u001b[38;5;21;01mpackaging\u001b[39;00m\u001b[38;5;21;01m.\u001b[39;00m\u001b[38;5;21;01mversion\u001b[39;00m\u001b[38;5;250m \u001b[39m\u001b[38;5;28;01mimport\u001b[39;00m parse \u001b[38;5;28;01mas\u001b[39;00m parse_version\n\u001b[0;32m    159\u001b[0m \u001b[38;5;66;03m# cbook must import matplotlib only within function\u001b[39;00m\n\u001b[0;32m    160\u001b[0m \u001b[38;5;66;03m# definitions, so it is safe to import from it here.\u001b[39;00m\n\u001b[1;32m--> 161\u001b[0m \u001b[38;5;28;01mfrom\u001b[39;00m\u001b[38;5;250m \u001b[39m\u001b[38;5;21;01m.\u001b[39;00m\u001b[38;5;250m \u001b[39m\u001b[38;5;28;01mimport\u001b[39;00m _api, _version, cbook, _docstring, rcsetup\n\u001b[0;32m    162\u001b[0m \u001b[38;5;28;01mfrom\u001b[39;00m\u001b[38;5;250m \u001b[39m\u001b[38;5;21;01mmatplotlib\u001b[39;00m\u001b[38;5;21;01m.\u001b[39;00m\u001b[38;5;21;01m_api\u001b[39;00m\u001b[38;5;250m \u001b[39m\u001b[38;5;28;01mimport\u001b[39;00m MatplotlibDeprecationWarning\n\u001b[0;32m    163\u001b[0m \u001b[38;5;28;01mfrom\u001b[39;00m\u001b[38;5;250m \u001b[39m\u001b[38;5;21;01mmatplotlib\u001b[39;00m\u001b[38;5;21;01m.\u001b[39;00m\u001b[38;5;21;01mrcsetup\u001b[39;00m\u001b[38;5;250m \u001b[39m\u001b[38;5;28;01mimport\u001b[39;00m cycler  \u001b[38;5;66;03m# noqa: F401\u001b[39;00m\n",
      "File \u001b[1;32mc:\\Users\\OMER\\PycharmProjects\\Project\\.venv\\lib\\site-packages\\matplotlib\\rcsetup.py:26\u001b[0m\n\u001b[0;32m     23\u001b[0m \u001b[38;5;28;01mimport\u001b[39;00m\u001b[38;5;250m \u001b[39m\u001b[38;5;21;01mnumpy\u001b[39;00m\u001b[38;5;250m \u001b[39m\u001b[38;5;28;01mas\u001b[39;00m\u001b[38;5;250m \u001b[39m\u001b[38;5;21;01mnp\u001b[39;00m\n\u001b[0;32m     25\u001b[0m \u001b[38;5;28;01mfrom\u001b[39;00m\u001b[38;5;250m \u001b[39m\u001b[38;5;21;01mmatplotlib\u001b[39;00m\u001b[38;5;250m \u001b[39m\u001b[38;5;28;01mimport\u001b[39;00m _api, cbook\n\u001b[1;32m---> 26\u001b[0m \u001b[38;5;28;01mfrom\u001b[39;00m\u001b[38;5;250m \u001b[39m\u001b[38;5;21;01mmatplotlib\u001b[39;00m\u001b[38;5;21;01m.\u001b[39;00m\u001b[38;5;21;01mbackends\u001b[39;00m\u001b[38;5;250m \u001b[39m\u001b[38;5;28;01mimport\u001b[39;00m BackendFilter, backend_registry\n\u001b[0;32m     27\u001b[0m \u001b[38;5;28;01mfrom\u001b[39;00m\u001b[38;5;250m \u001b[39m\u001b[38;5;21;01mmatplotlib\u001b[39;00m\u001b[38;5;21;01m.\u001b[39;00m\u001b[38;5;21;01mcbook\u001b[39;00m\u001b[38;5;250m \u001b[39m\u001b[38;5;28;01mimport\u001b[39;00m ls_mapper\n\u001b[0;32m     28\u001b[0m \u001b[38;5;28;01mfrom\u001b[39;00m\u001b[38;5;250m \u001b[39m\u001b[38;5;21;01mmatplotlib\u001b[39;00m\u001b[38;5;21;01m.\u001b[39;00m\u001b[38;5;21;01mcolors\u001b[39;00m\u001b[38;5;250m \u001b[39m\u001b[38;5;28;01mimport\u001b[39;00m Colormap, is_color_like\n",
      "File \u001b[1;32mc:\\Users\\OMER\\PycharmProjects\\Project\\.venv\\lib\\site-packages\\matplotlib\\backends\\__init__.py:1\u001b[0m\n\u001b[1;32m----> 1\u001b[0m \u001b[38;5;28;01mfrom\u001b[39;00m\u001b[38;5;250m \u001b[39m\u001b[38;5;21;01m.\u001b[39;00m\u001b[38;5;21;01mregistry\u001b[39;00m\u001b[38;5;250m \u001b[39m\u001b[38;5;28;01mimport\u001b[39;00m BackendFilter, backend_registry  \u001b[38;5;66;03m# noqa: F401\u001b[39;00m\n\u001b[0;32m      3\u001b[0m \u001b[38;5;66;03m# NOTE: plt.switch_backend() (called at import time) will add a \"backend\"\u001b[39;00m\n\u001b[0;32m      4\u001b[0m \u001b[38;5;66;03m# attribute here for backcompat.\u001b[39;00m\n\u001b[0;32m      5\u001b[0m _QT_FORCE_QT5_BINDING \u001b[38;5;241m=\u001b[39m \u001b[38;5;28;01mFalse\u001b[39;00m\n",
      "\u001b[1;31mModuleNotFoundError\u001b[0m: No module named 'matplotlib.backends.registry'"
     ]
    }
   ],
   "source": [
    "import seaborn as sns\n",
    "import matplotlib.pyplot as plt\n"
   ]
  },
  {
   "cell_type": "code",
   "execution_count": 60,
   "metadata": {},
   "outputs": [
    {
     "ename": "ModuleNotFoundError",
     "evalue": "No module named 'matplotlib.backends.registry'",
     "output_type": "error",
     "traceback": [
      "\u001b[1;31m---------------------------------------------------------------------------\u001b[0m",
      "\u001b[1;31mModuleNotFoundError\u001b[0m                       Traceback (most recent call last)",
      "Cell \u001b[1;32mIn[60], line 1\u001b[0m\n\u001b[1;32m----> 1\u001b[0m \u001b[38;5;28;01mimport\u001b[39;00m\u001b[38;5;250m \u001b[39m\u001b[38;5;21;01mseaborn\u001b[39;00m\u001b[38;5;250m \u001b[39m\u001b[38;5;28;01mas\u001b[39;00m\u001b[38;5;250m \u001b[39m\u001b[38;5;21;01msns\u001b[39;00m\n\u001b[0;32m      2\u001b[0m \u001b[38;5;28;01mimport\u001b[39;00m\u001b[38;5;250m \u001b[39m\u001b[38;5;21;01mmatplotlib\u001b[39;00m\u001b[38;5;21;01m.\u001b[39;00m\u001b[38;5;21;01mpyplot\u001b[39;00m\u001b[38;5;250m \u001b[39m\u001b[38;5;28;01mas\u001b[39;00m\u001b[38;5;250m \u001b[39m\u001b[38;5;21;01mplt\u001b[39;00m\n\u001b[0;32m      3\u001b[0m sns\u001b[38;5;241m.\u001b[39mbarplot(data\u001b[38;5;241m=\u001b[39mfeature_importance, x\u001b[38;5;241m=\u001b[39m\u001b[38;5;124m'\u001b[39m\u001b[38;5;124mimportance\u001b[39m\u001b[38;5;124m'\u001b[39m, y\u001b[38;5;241m=\u001b[39m\u001b[38;5;124m'\u001b[39m\u001b[38;5;124mfeature\u001b[39m\u001b[38;5;124m'\u001b[39m)\n",
      "File \u001b[1;32mc:\\Users\\OMER\\PycharmProjects\\Project\\.venv\\lib\\site-packages\\seaborn\\__init__.py:2\u001b[0m\n\u001b[0;32m      1\u001b[0m \u001b[38;5;66;03m# Import seaborn objects\u001b[39;00m\n\u001b[1;32m----> 2\u001b[0m \u001b[38;5;28;01mfrom\u001b[39;00m\u001b[38;5;250m \u001b[39m\u001b[38;5;21;01m.\u001b[39;00m\u001b[38;5;21;01mrcmod\u001b[39;00m\u001b[38;5;250m \u001b[39m\u001b[38;5;28;01mimport\u001b[39;00m \u001b[38;5;241m*\u001b[39m  \u001b[38;5;66;03m# noqa: F401,F403\u001b[39;00m\n\u001b[0;32m      3\u001b[0m \u001b[38;5;28;01mfrom\u001b[39;00m\u001b[38;5;250m \u001b[39m\u001b[38;5;21;01m.\u001b[39;00m\u001b[38;5;21;01mutils\u001b[39;00m\u001b[38;5;250m \u001b[39m\u001b[38;5;28;01mimport\u001b[39;00m \u001b[38;5;241m*\u001b[39m  \u001b[38;5;66;03m# noqa: F401,F403\u001b[39;00m\n\u001b[0;32m      4\u001b[0m \u001b[38;5;28;01mfrom\u001b[39;00m\u001b[38;5;250m \u001b[39m\u001b[38;5;21;01m.\u001b[39;00m\u001b[38;5;21;01mpalettes\u001b[39;00m\u001b[38;5;250m \u001b[39m\u001b[38;5;28;01mimport\u001b[39;00m \u001b[38;5;241m*\u001b[39m  \u001b[38;5;66;03m# noqa: F401,F403\u001b[39;00m\n",
      "File \u001b[1;32mc:\\Users\\OMER\\PycharmProjects\\Project\\.venv\\lib\\site-packages\\seaborn\\rcmod.py:3\u001b[0m\n\u001b[0;32m      1\u001b[0m \u001b[38;5;124;03m\"\"\"Control plot style and scaling using the matplotlib rcParams interface.\"\"\"\u001b[39;00m\n\u001b[0;32m      2\u001b[0m \u001b[38;5;28;01mimport\u001b[39;00m\u001b[38;5;250m \u001b[39m\u001b[38;5;21;01mfunctools\u001b[39;00m\n\u001b[1;32m----> 3\u001b[0m \u001b[38;5;28;01mimport\u001b[39;00m\u001b[38;5;250m \u001b[39m\u001b[38;5;21;01mmatplotlib\u001b[39;00m\u001b[38;5;250m \u001b[39m\u001b[38;5;28;01mas\u001b[39;00m\u001b[38;5;250m \u001b[39m\u001b[38;5;21;01mmpl\u001b[39;00m\n\u001b[0;32m      4\u001b[0m \u001b[38;5;28;01mfrom\u001b[39;00m\u001b[38;5;250m \u001b[39m\u001b[38;5;21;01mcycler\u001b[39;00m\u001b[38;5;250m \u001b[39m\u001b[38;5;28;01mimport\u001b[39;00m cycler\n\u001b[0;32m      5\u001b[0m \u001b[38;5;28;01mfrom\u001b[39;00m\u001b[38;5;250m \u001b[39m\u001b[38;5;21;01m.\u001b[39;00m\u001b[38;5;250m \u001b[39m\u001b[38;5;28;01mimport\u001b[39;00m palettes\n",
      "File \u001b[1;32mc:\\Users\\OMER\\PycharmProjects\\Project\\.venv\\lib\\site-packages\\matplotlib\\__init__.py:161\u001b[0m\n\u001b[0;32m    157\u001b[0m \u001b[38;5;28;01mfrom\u001b[39;00m\u001b[38;5;250m \u001b[39m\u001b[38;5;21;01mpackaging\u001b[39;00m\u001b[38;5;21;01m.\u001b[39;00m\u001b[38;5;21;01mversion\u001b[39;00m\u001b[38;5;250m \u001b[39m\u001b[38;5;28;01mimport\u001b[39;00m parse \u001b[38;5;28;01mas\u001b[39;00m parse_version\n\u001b[0;32m    159\u001b[0m \u001b[38;5;66;03m# cbook must import matplotlib only within function\u001b[39;00m\n\u001b[0;32m    160\u001b[0m \u001b[38;5;66;03m# definitions, so it is safe to import from it here.\u001b[39;00m\n\u001b[1;32m--> 161\u001b[0m \u001b[38;5;28;01mfrom\u001b[39;00m\u001b[38;5;250m \u001b[39m\u001b[38;5;21;01m.\u001b[39;00m\u001b[38;5;250m \u001b[39m\u001b[38;5;28;01mimport\u001b[39;00m _api, _version, cbook, _docstring, rcsetup\n\u001b[0;32m    162\u001b[0m \u001b[38;5;28;01mfrom\u001b[39;00m\u001b[38;5;250m \u001b[39m\u001b[38;5;21;01mmatplotlib\u001b[39;00m\u001b[38;5;21;01m.\u001b[39;00m\u001b[38;5;21;01m_api\u001b[39;00m\u001b[38;5;250m \u001b[39m\u001b[38;5;28;01mimport\u001b[39;00m MatplotlibDeprecationWarning\n\u001b[0;32m    163\u001b[0m \u001b[38;5;28;01mfrom\u001b[39;00m\u001b[38;5;250m \u001b[39m\u001b[38;5;21;01mmatplotlib\u001b[39;00m\u001b[38;5;21;01m.\u001b[39;00m\u001b[38;5;21;01mrcsetup\u001b[39;00m\u001b[38;5;250m \u001b[39m\u001b[38;5;28;01mimport\u001b[39;00m cycler  \u001b[38;5;66;03m# noqa: F401\u001b[39;00m\n",
      "File \u001b[1;32mc:\\Users\\OMER\\PycharmProjects\\Project\\.venv\\lib\\site-packages\\matplotlib\\rcsetup.py:26\u001b[0m\n\u001b[0;32m     23\u001b[0m \u001b[38;5;28;01mimport\u001b[39;00m\u001b[38;5;250m \u001b[39m\u001b[38;5;21;01mnumpy\u001b[39;00m\u001b[38;5;250m \u001b[39m\u001b[38;5;28;01mas\u001b[39;00m\u001b[38;5;250m \u001b[39m\u001b[38;5;21;01mnp\u001b[39;00m\n\u001b[0;32m     25\u001b[0m \u001b[38;5;28;01mfrom\u001b[39;00m\u001b[38;5;250m \u001b[39m\u001b[38;5;21;01mmatplotlib\u001b[39;00m\u001b[38;5;250m \u001b[39m\u001b[38;5;28;01mimport\u001b[39;00m _api, cbook\n\u001b[1;32m---> 26\u001b[0m \u001b[38;5;28;01mfrom\u001b[39;00m\u001b[38;5;250m \u001b[39m\u001b[38;5;21;01mmatplotlib\u001b[39;00m\u001b[38;5;21;01m.\u001b[39;00m\u001b[38;5;21;01mbackends\u001b[39;00m\u001b[38;5;250m \u001b[39m\u001b[38;5;28;01mimport\u001b[39;00m BackendFilter, backend_registry\n\u001b[0;32m     27\u001b[0m \u001b[38;5;28;01mfrom\u001b[39;00m\u001b[38;5;250m \u001b[39m\u001b[38;5;21;01mmatplotlib\u001b[39;00m\u001b[38;5;21;01m.\u001b[39;00m\u001b[38;5;21;01mcbook\u001b[39;00m\u001b[38;5;250m \u001b[39m\u001b[38;5;28;01mimport\u001b[39;00m ls_mapper\n\u001b[0;32m     28\u001b[0m \u001b[38;5;28;01mfrom\u001b[39;00m\u001b[38;5;250m \u001b[39m\u001b[38;5;21;01mmatplotlib\u001b[39;00m\u001b[38;5;21;01m.\u001b[39;00m\u001b[38;5;21;01mcolors\u001b[39;00m\u001b[38;5;250m \u001b[39m\u001b[38;5;28;01mimport\u001b[39;00m Colormap, is_color_like\n",
      "File \u001b[1;32mc:\\Users\\OMER\\PycharmProjects\\Project\\.venv\\lib\\site-packages\\matplotlib\\backends\\__init__.py:1\u001b[0m\n\u001b[1;32m----> 1\u001b[0m \u001b[38;5;28;01mfrom\u001b[39;00m\u001b[38;5;250m \u001b[39m\u001b[38;5;21;01m.\u001b[39;00m\u001b[38;5;21;01mregistry\u001b[39;00m\u001b[38;5;250m \u001b[39m\u001b[38;5;28;01mimport\u001b[39;00m BackendFilter, backend_registry  \u001b[38;5;66;03m# noqa: F401\u001b[39;00m\n\u001b[0;32m      3\u001b[0m \u001b[38;5;66;03m# NOTE: plt.switch_backend() (called at import time) will add a \"backend\"\u001b[39;00m\n\u001b[0;32m      4\u001b[0m \u001b[38;5;66;03m# attribute here for backcompat.\u001b[39;00m\n\u001b[0;32m      5\u001b[0m _QT_FORCE_QT5_BINDING \u001b[38;5;241m=\u001b[39m \u001b[38;5;28;01mFalse\u001b[39;00m\n",
      "\u001b[1;31mModuleNotFoundError\u001b[0m: No module named 'matplotlib.backends.registry'"
     ]
    }
   ],
   "source": [
    "import seaborn as sns\n",
    "import matplotlib.pyplot as plt\n",
    "sns.barplot(data=feature_importance, x='importance', y='feature')\n",
    "plt.title('Feature Importance')\n",
    "plt.xlabel('Importance')"
   ]
  },
  {
   "cell_type": "code",
   "execution_count": 58,
   "metadata": {},
   "outputs": [
    {
     "name": "stdout",
     "output_type": "stream",
     "text": [
      "15\n"
     ]
    }
   ],
   "source": [
    "print(len(selected_features))"
   ]
  },
  {
   "cell_type": "code",
   "execution_count": 59,
   "metadata": {},
   "outputs": [
    {
     "name": "stdout",
     "output_type": "stream",
     "text": [
      "Index(['IWM', 'MSFT', 'AAPL', '^VIX', 'GOOG', 'stdev', 'EMA_20', 'high-low',\n",
      "       '^GDAXI', 'EMA_50', '^VIX_dummy', 'avgreturn5d', 'std_price', '^N225',\n",
      "       'USO', '^FTSE', 'SPY_Volume', 'CPER', 'SLV', 'BTC-USD', 'EMA_200',\n",
      "       'before_high-low', 'JPY=X', 'UNG', '^TNX', 'EUR=X', 'GLD',\n",
      "       'days_since_fomc', 'yield_curve', 'SPY_Streak'],\n",
      "      dtype='object')\n"
     ]
    }
   ],
   "source": [
    "from sklearn.inspection import permutation_importance\n",
    "\n",
    "result = permutation_importance(model, x, y, n_repeats=10, random_state=42)\n",
    "sorted_idx = result.importances_mean.argsort()[::-1]\n",
    "important_features = x.columns[sorted_idx[:30]]\n",
    "print(important_features)"
   ]
  },
  {
   "cell_type": "code",
   "execution_count": 50,
   "metadata": {},
   "outputs": [
    {
     "name": "stdout",
     "output_type": "stream",
     "text": [
      "<class 'pandas.core.frame.DataFrame'>\n",
      "Index: 2075 entries, 9 to 2083\n",
      "Data columns (total 15 columns):\n",
      " #   Column           Non-Null Count  Dtype  \n",
      "---  ------           --------------  -----  \n",
      " 0   IWM              2075 non-null   float64\n",
      " 1   MSFT             2075 non-null   float64\n",
      " 2   stdev            2075 non-null   float64\n",
      " 3   ^VIX             2075 non-null   float64\n",
      " 4   ^GDAXI           2075 non-null   float64\n",
      " 5   AAPL             2075 non-null   float64\n",
      " 6   GOOG             2075 non-null   float64\n",
      " 7   GDP_vs_forecast  2075 non-null   float64\n",
      " 8   EMA_20           2075 non-null   float64\n",
      " 9   EMA_50           2075 non-null   float64\n",
      " 10  EMA_50_200       2075 non-null   int64  \n",
      " 11  high-low         2075 non-null   float64\n",
      " 12  ^VIX_dummy       2075 non-null   int64  \n",
      " 13  Actual_FOMC      2075 non-null   float64\n",
      " 14  SPY_Streak       2075 non-null   int64  \n",
      "dtypes: float64(12), int64(3)\n",
      "memory usage: 259.4 KB\n"
     ]
    }
   ],
   "source": [
    "y_s = df['SPY_return']\n",
    "x_s = df[selected_features]\n",
    "x_s.info()"
   ]
  },
  {
   "cell_type": "code",
   "execution_count": 51,
   "metadata": {},
   "outputs": [],
   "source": [
    "split = int(len(y)*0.9)\n",
    "x_train = x_s.iloc[:split]\n",
    "x_test = x_s.iloc[split:]\n",
    "y_train = y_s.iloc[:split]\n",
    "y_test = y_s.iloc[split:]"
   ]
  },
  {
   "cell_type": "code",
   "execution_count": 54,
   "metadata": {},
   "outputs": [
    {
     "data": {
      "text/plain": [
       "{'MSE': 0.17655572132912936,\n",
       " 'RMSE': np.float64(0.4201853416400069),\n",
       " 'MAE': 0.26008966302007364,\n",
       " 'R2': 0.8995500331272225,\n",
       " 'RMSLE': 'Not applicable (values ≤ -1)'}"
      ]
     },
     "execution_count": 54,
     "metadata": {},
     "output_type": "execute_result"
    }
   ],
   "source": [
    "# Recreate sample weights using best_w = 3\n",
    "num_samples = len(y_train)\n",
    "weights = np.linspace(1, 1.6, num_samples)\n",
    "weights = weights / np.mean(weights)  # Normalize to mean=1\n",
    "\n",
    "\n",
    "xg_ind = xgb.XGBRegressor(**{'gamma': 0.1, 'learning_rate': 0.05, 'max_depth': 9, 'n_estimators': 200, 'reg_alpha': 0, 'subsample': 0.6, 'n_jobs': -1})\n",
    "xg_ind.fit(x_train, y_train,sample_weight=weights)\n",
    "predicted_xg_ind2 = xg_ind.predict(x_test)\n",
    "regressionMetrics(y_test,predicted_xg_ind2)"
   ]
  }
 ],
 "metadata": {
  "kernelspec": {
   "display_name": ".venv",
   "language": "python",
   "name": "python3"
  },
  "language_info": {
   "codemirror_mode": {
    "name": "ipython",
    "version": 3
   },
   "file_extension": ".py",
   "mimetype": "text/x-python",
   "name": "python",
   "nbconvert_exporter": "python",
   "pygments_lexer": "ipython3",
   "version": "3.10.2"
  }
 },
 "nbformat": 4,
 "nbformat_minor": 2
}
