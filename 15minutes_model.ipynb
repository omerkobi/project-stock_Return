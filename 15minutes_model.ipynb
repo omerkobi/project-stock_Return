{
 "cells": [
  {
   "cell_type": "code",
   "execution_count": 1,
   "id": "0e412208",
   "metadata": {},
   "outputs": [
    {
     "name": "stdout",
     "output_type": "stream",
     "text": [
      "hello\n"
     ]
    }
   ],
   "source": [
    "print('hello')"
   ]
  },
  {
   "cell_type": "code",
   "execution_count": null,
   "id": "4ac5dd26",
   "metadata": {},
   "outputs": [],
   "source": [
    "# code to extract 15 minute data from Yahoo Finance\n",
    "import yfinance as yf\n",
    "import pandas as pd\n",
    "from datetime import datetime, timedelta\n",
    "\n",
    "def download_intraday_data(ticker, start_date, end_date, interval=\"15m\", chunk_days=30):\n",
    "    start = pd.to_datetime(start_date)\n",
    "    end = pd.to_datetime(end_date)\n",
    "    df_all = []\n",
    "\n",
    "    while start < end:\n",
    "        chunk_end = min(start + timedelta(days=chunk_days), end)\n",
    "        print(f\"Fetching: {start.date()} to {chunk_end.date()}\")\n",
    "\n",
    "        df = yf.download(\n",
    "            ticker,\n",
    "            start=start.strftime('%Y-%m-%d'),\n",
    "            end=chunk_end.strftime('%Y-%m-%d'),\n",
    "            interval=interval,\n",
    "            progress=False\n",
    "        )\n",
    "        \n",
    "        if not df.empty:\n",
    "            df_all.append(df)\n",
    "\n",
    "        # Add a buffer of 1 minute to avoid overlapping rows\n",
    "        start = chunk_end + timedelta(minutes=1)\n",
    "\n",
    "    # Combine all chunks\n",
    "    if df_all:\n",
    "        final_df = pd.concat(df_all)\n",
    "        final_df = final_df[~final_df.index.duplicated(keep='first')]  # Remove any duplicate rows\n",
    "        return final_df\n",
    "    else:\n",
    "        print(\"No data returned.\")\n",
    "        return pd.DataFrame()\n",
    "\n",
    "# Example usage:\n",
    "df_spy_15m = download_intraday_data(\"SPY\", start_date=\"2023-12-01\", end_date=\"2024-04-01\", interval=\"15m\")\n",
    "print(df_spy_15m.head())"
   ]
  }
 ],
 "metadata": {
  "kernelspec": {
   "display_name": "project-py3.10",
   "language": "python",
   "name": "python3"
  },
  "language_info": {
   "codemirror_mode": {
    "name": "ipython",
    "version": 3
   },
   "file_extension": ".py",
   "mimetype": "text/x-python",
   "name": "python",
   "nbconvert_exporter": "python",
   "pygments_lexer": "ipython3",
   "version": "3.10.2"
  }
 },
 "nbformat": 4,
 "nbformat_minor": 5
}
